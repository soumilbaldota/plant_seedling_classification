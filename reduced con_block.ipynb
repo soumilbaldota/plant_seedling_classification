{
 "cells": [
  {
   "cell_type": "code",
   "execution_count": 1,
   "metadata": {
    "_cell_guid": "79c7e3d0-c299-4dcb-8224-4455121ee9b0",
    "_uuid": "d629ff2d2480ee46fbb7e2d37f6b5fab8052498a",
    "execution": {
     "iopub.execute_input": "2022-07-06T06:27:51.269243Z",
     "iopub.status.busy": "2022-07-06T06:27:51.268573Z",
     "iopub.status.idle": "2022-07-06T06:27:52.418426Z",
     "shell.execute_reply": "2022-07-06T06:27:52.417346Z",
     "shell.execute_reply.started": "2022-07-06T05:37:48.699342Z"
    },
    "papermill": {
     "duration": 1.197144,
     "end_time": "2022-07-06T06:27:52.418572",
     "exception": false,
     "start_time": "2022-07-06T06:27:51.221428",
     "status": "completed"
    },
    "tags": []
   },
   "outputs": [],
   "source": [
    "import pandas as pd\n",
    "import numpy as np\n",
    "import os,cv2\n",
    "import matplotlib.pyplot as plt\n",
    "import seaborn as sns\n",
    "import scipy\n",
    "import tensorflow as tf\n",
    "from tensorflow import keras\n",
    "from IPython.display import SVG\n",
    "import pydot\n",
    "from tensorflow.keras.utils import model_to_dot\n",
    "from tensorflow.keras.utils import plot_model\n",
    "from sklearn.metrics import confusion_matrix\n",
    "from sklearn.model_selection import train_test_split\n",
    "from tensorflow.keras.utils import to_categorical\n",
    "\n",
    "from keras.preprocessing.image import ImageDataGenerator\n",
    "from tensorflow.keras.optimizers import Adam,SGD\n",
    "from keras.callbacks import ModelCheckpoint, EarlyStopping\n",
    "from keras.layers import Input, Add, Dense, Activation, ZeroPadding2D, BatchNormalization, Flatten, Conv2D, AveragePooling2D, MaxPooling2D, GlobalMaxPooling2D, Dropout\n",
    "from keras.models import Sequential, Model\n",
    "from keras.initializers import *"
   ]
  },
  {
   "cell_type": "code",
   "execution_count": 2,
   "metadata": {
    "execution": {
     "iopub.execute_input": "2022-07-06T06:27:52.570063Z",
     "iopub.status.busy": "2022-07-06T06:27:52.568268Z",
     "iopub.status.idle": "2022-07-06T06:27:52.574182Z",
     "shell.execute_reply": "2022-07-06T06:27:52.573630Z",
     "shell.execute_reply.started": "2022-07-06T05:37:49.776156Z"
    },
    "papermill": {
     "duration": 0.052526,
     "end_time": "2022-07-06T06:27:52.574315",
     "exception": false,
     "start_time": "2022-07-06T06:27:52.521789",
     "status": "completed"
    },
    "tags": []
   },
   "outputs": [
    {
     "data": {
      "text/plain": [
       "{'Black-grass': 0,\n",
       " 'Charlock': 1,\n",
       " 'Cleavers': 2,\n",
       " 'Common Chickweed': 3,\n",
       " 'Common wheat': 4,\n",
       " 'Fat Hen': 5,\n",
       " 'Loose Silky-bent': 6,\n",
       " 'Maize': 7,\n",
       " 'Scentless Mayweed': 8,\n",
       " 'Shepherds Purse': 9,\n",
       " 'Small-flowered Cranesbill': 10,\n",
       " 'Sugar beet': 11}"
      ]
     },
     "execution_count": 2,
     "metadata": {},
     "output_type": "execute_result"
    }
   ],
   "source": [
    "datasets = [\"./data/plant-seedlings-classification/train\"]\n",
    "\n",
    "class_names = [\"Black-grass\",\"Charlock\",\"Cleavers\",\"Common Chickweed\",\"Common wheat\",\"Fat Hen\",\"Loose Silky-bent\",\"Maize\",\"Scentless Mayweed\",\"Shepherds Purse\",\"Small-flowered Cranesbill\",\"Sugar beet\"]\n",
    "\n",
    "class_name_labels = {class_name:i for i,class_name in enumerate(class_names)}\n",
    "\n",
    "nb_classes = len(class_names)\n",
    "class_name_labels"
   ]
  },
  {
   "cell_type": "markdown",
   "metadata": {
    "papermill": {
     "duration": 0.034808,
     "end_time": "2022-07-06T06:27:52.644672",
     "exception": false,
     "start_time": "2022-07-06T06:27:52.609864",
     "status": "completed"
    },
    "tags": []
   },
   "source": [
    "Loading the train data into 2 lists *images* and *labels*, each storing the image and its corresponding labels. The labels in this case are the type of seedlings as recorded in the dataset."
   ]
  },
  {
   "cell_type": "code",
   "execution_count": 3,
   "metadata": {
    "execution": {
     "iopub.execute_input": "2022-07-06T06:27:52.727700Z",
     "iopub.status.busy": "2022-07-06T06:27:52.726649Z",
     "iopub.status.idle": "2022-07-06T06:27:52.730214Z",
     "shell.execute_reply": "2022-07-06T06:27:52.729684Z",
     "shell.execute_reply.started": "2022-07-06T05:37:49.797181Z"
    },
    "papermill": {
     "duration": 0.049944,
     "end_time": "2022-07-06T06:27:52.730372",
     "exception": false,
     "start_time": "2022-07-06T06:27:52.680428",
     "status": "completed"
    },
    "tags": []
   },
   "outputs": [],
   "source": [
    "from tqdm import tqdm\n",
    "\n",
    "def load_data():\n",
    "    images,labels = [],[]\n",
    "    for dataset in datasets:\n",
    "\n",
    "        for folder in os.listdir(dataset):\n",
    "            label = class_name_labels[folder]\n",
    "            \n",
    "            for file in tqdm(os.listdir(os.path.join(dataset,folder))):\n",
    "                \n",
    "                img_path = os.path.join(os.path.join(dataset,folder),file)\n",
    "                img = cv2.imread(img_path)\n",
    "                img = cv2.cvtColor(img,cv2.COLOR_BGR2RGB)\n",
    "                img = cv2.resize(img,(150,150))\n",
    "                \n",
    "                images.append(img)\n",
    "                labels.append(label)\n",
    "                pass\n",
    "            pass\n",
    "        \n",
    "        images = np.array(images,dtype=np.float32)\n",
    "        labels = np.array(labels,dtype=np.float32)\n",
    "        \n",
    "        pass\n",
    "    \n",
    "    return images,labels\n",
    "    pass"
   ]
  },
  {
   "cell_type": "code",
   "execution_count": 4,
   "metadata": {
    "execution": {
     "iopub.execute_input": "2022-07-06T06:27:52.806095Z",
     "iopub.status.busy": "2022-07-06T06:27:52.805419Z",
     "iopub.status.idle": "2022-07-06T06:29:30.378503Z",
     "shell.execute_reply": "2022-07-06T06:29:30.377795Z",
     "shell.execute_reply.started": "2022-07-06T05:37:49.817986Z"
    },
    "papermill": {
     "duration": 97.612622,
     "end_time": "2022-07-06T06:29:30.378642",
     "exception": false,
     "start_time": "2022-07-06T06:27:52.766020",
     "status": "completed"
    },
    "tags": []
   },
   "outputs": [
    {
     "name": "stderr",
     "output_type": "stream",
     "text": [
      "100%|████████████████████████████████████████████████████████████████████████████████| 263/263 [00:04<00:00, 61.50it/s]\n",
      "100%|███████████████████████████████████████████████████████████████████████████████| 390/390 [00:02<00:00, 140.49it/s]\n",
      "100%|███████████████████████████████████████████████████████████████████████████████| 287/287 [00:01<00:00, 260.16it/s]\n",
      "100%|███████████████████████████████████████████████████████████████████████████████| 611/611 [00:01<00:00, 312.46it/s]\n",
      "100%|███████████████████████████████████████████████████████████████████████████████| 221/221 [00:01<00:00, 133.37it/s]\n",
      "100%|███████████████████████████████████████████████████████████████████████████████| 475/475 [00:01<00:00, 248.11it/s]\n",
      "100%|███████████████████████████████████████████████████████████████████████████████| 654/654 [00:05<00:00, 119.48it/s]\n",
      "100%|███████████████████████████████████████████████████████████████████████████████| 221/221 [00:02<00:00, 101.48it/s]\n",
      "100%|███████████████████████████████████████████████████████████████████████████████| 516/516 [00:01<00:00, 294.34it/s]\n",
      "100%|███████████████████████████████████████████████████████████████████████████████| 231/231 [00:01<00:00, 217.16it/s]\n",
      "100%|███████████████████████████████████████████████████████████████████████████████| 496/496 [00:02<00:00, 209.03it/s]\n",
      "100%|████████████████████████████████████████████████████████████████████████████████| 385/385 [00:04<00:00, 85.33it/s]\n"
     ]
    }
   ],
   "source": [
    "(train_images),(train_labels) = load_data()"
   ]
  },
  {
   "cell_type": "markdown",
   "metadata": {
    "papermill": {
     "duration": 0.286336,
     "end_time": "2022-07-06T06:29:30.954874",
     "exception": false,
     "start_time": "2022-07-06T06:29:30.668538",
     "status": "completed"
    },
    "tags": []
   },
   "source": [
    "Counting the number of images associated with each label."
   ]
  },
  {
   "cell_type": "code",
   "execution_count": 5,
   "metadata": {
    "execution": {
     "iopub.execute_input": "2022-07-06T06:29:31.552382Z",
     "iopub.status.busy": "2022-07-06T06:29:31.551441Z",
     "iopub.status.idle": "2022-07-06T06:29:31.565685Z",
     "shell.execute_reply": "2022-07-06T06:29:31.565047Z",
     "shell.execute_reply.started": "2022-07-06T05:39:18.543916Z"
    },
    "papermill": {
     "duration": 0.322775,
     "end_time": "2022-07-06T06:29:31.565838",
     "exception": false,
     "start_time": "2022-07-06T06:29:31.243063",
     "status": "completed"
    },
    "tags": []
   },
   "outputs": [
    {
     "data": {
      "text/html": [
       "<div>\n",
       "<style scoped>\n",
       "    .dataframe tbody tr th:only-of-type {\n",
       "        vertical-align: middle;\n",
       "    }\n",
       "\n",
       "    .dataframe tbody tr th {\n",
       "        vertical-align: top;\n",
       "    }\n",
       "\n",
       "    .dataframe thead th {\n",
       "        text-align: right;\n",
       "    }\n",
       "</style>\n",
       "<table border=\"1\" class=\"dataframe\">\n",
       "  <thead>\n",
       "    <tr style=\"text-align: right;\">\n",
       "      <th></th>\n",
       "      <th>Train</th>\n",
       "      <th>Name</th>\n",
       "    </tr>\n",
       "  </thead>\n",
       "  <tbody>\n",
       "    <tr>\n",
       "      <th>0</th>\n",
       "      <td>263</td>\n",
       "      <td>Black-grass</td>\n",
       "    </tr>\n",
       "    <tr>\n",
       "      <th>1</th>\n",
       "      <td>390</td>\n",
       "      <td>Charlock</td>\n",
       "    </tr>\n",
       "    <tr>\n",
       "      <th>2</th>\n",
       "      <td>287</td>\n",
       "      <td>Cleavers</td>\n",
       "    </tr>\n",
       "    <tr>\n",
       "      <th>3</th>\n",
       "      <td>611</td>\n",
       "      <td>Common Chickweed</td>\n",
       "    </tr>\n",
       "    <tr>\n",
       "      <th>4</th>\n",
       "      <td>221</td>\n",
       "      <td>Common wheat</td>\n",
       "    </tr>\n",
       "    <tr>\n",
       "      <th>5</th>\n",
       "      <td>475</td>\n",
       "      <td>Fat Hen</td>\n",
       "    </tr>\n",
       "    <tr>\n",
       "      <th>6</th>\n",
       "      <td>654</td>\n",
       "      <td>Loose Silky-bent</td>\n",
       "    </tr>\n",
       "    <tr>\n",
       "      <th>7</th>\n",
       "      <td>221</td>\n",
       "      <td>Maize</td>\n",
       "    </tr>\n",
       "    <tr>\n",
       "      <th>8</th>\n",
       "      <td>516</td>\n",
       "      <td>Scentless Mayweed</td>\n",
       "    </tr>\n",
       "    <tr>\n",
       "      <th>9</th>\n",
       "      <td>231</td>\n",
       "      <td>Shepherds Purse</td>\n",
       "    </tr>\n",
       "    <tr>\n",
       "      <th>10</th>\n",
       "      <td>496</td>\n",
       "      <td>Small-flowered Cranesbill</td>\n",
       "    </tr>\n",
       "    <tr>\n",
       "      <th>11</th>\n",
       "      <td>385</td>\n",
       "      <td>Sugar beet</td>\n",
       "    </tr>\n",
       "  </tbody>\n",
       "</table>\n",
       "</div>"
      ],
      "text/plain": [
       "    Train                       Name\n",
       "0     263                Black-grass\n",
       "1     390                   Charlock\n",
       "2     287                   Cleavers\n",
       "3     611           Common Chickweed\n",
       "4     221               Common wheat\n",
       "5     475                    Fat Hen\n",
       "6     654           Loose Silky-bent\n",
       "7     221                      Maize\n",
       "8     516          Scentless Mayweed\n",
       "9     231            Shepherds Purse\n",
       "10    496  Small-flowered Cranesbill\n",
       "11    385                 Sugar beet"
      ]
     },
     "execution_count": 5,
     "metadata": {},
     "output_type": "execute_result"
    }
   ],
   "source": [
    "n_train = train_labels.shape[0]\n",
    "\n",
    "_, train_count = np.unique(train_labels,return_counts=True)\n",
    "\n",
    "df = pd.DataFrame(data = train_count)\n",
    "# df = df.T\n",
    "df['Index'] = class_names\n",
    "df.columns = ['Train','Name']\n",
    "df"
   ]
  },
  {
   "cell_type": "code",
   "execution_count": 6,
   "metadata": {
    "execution": {
     "iopub.execute_input": "2022-07-06T06:29:36.127102Z",
     "iopub.status.busy": "2022-07-06T06:29:36.126109Z",
     "iopub.status.idle": "2022-07-06T06:29:36.129061Z",
     "shell.execute_reply": "2022-07-06T06:29:36.129750Z",
     "shell.execute_reply.started": "2022-07-06T05:39:18.903508Z"
    },
    "papermill": {
     "duration": 0.303841,
     "end_time": "2022-07-06T06:29:36.129900",
     "exception": false,
     "start_time": "2022-07-06T06:29:35.826059",
     "status": "completed"
    },
    "tags": []
   },
   "outputs": [],
   "source": [
    "def show_final_history(history):\n",
    "    fig, ax = plt.subplots(1,2,figsize=(15,5))\n",
    "    ax[0].set_title(\"Loss\")\n",
    "    ax[1].set_title(\"Accuracy\")\n",
    "    ax[0].plot(history.history[\"loss\"],label=\"Loss\")\n",
    "    ax[0].plot(history.history[\"val_loss\"],label=\"Test Loss\")\n",
    "    ax[1].plot(history.history[\"accuracy\"],label=\"Accuracy\")\n",
    "    ax[1].plot(history.history[\"val_accuracy\"],label=\"Test Accuracy\")\n",
    "    \n",
    "    ax[0].legend(loc=\"upper right\")\n",
    "    ax[1].legend(loc=\"lower right\")"
   ]
  },
  {
   "cell_type": "code",
   "execution_count": 7,
   "metadata": {
    "execution": {
     "iopub.execute_input": "2022-07-06T06:29:37.375321Z",
     "iopub.status.busy": "2022-07-06T06:29:37.374203Z",
     "iopub.status.idle": "2022-07-06T06:29:37.378695Z",
     "shell.execute_reply": "2022-07-06T06:29:37.379431Z",
     "shell.execute_reply.started": "2022-07-06T05:39:18.915625Z"
    },
    "papermill": {
     "duration": 0.328132,
     "end_time": "2022-07-06T06:29:37.379574",
     "exception": false,
     "start_time": "2022-07-06T06:29:37.051442",
     "status": "completed"
    },
    "tags": []
   },
   "outputs": [
    {
     "data": {
      "text/plain": [
       "array([ 0.,  0.,  0., ..., 11., 11., 11.], dtype=float32)"
      ]
     },
     "execution_count": 7,
     "metadata": {},
     "output_type": "execute_result"
    }
   ],
   "source": [
    "train_labels"
   ]
  },
  {
   "cell_type": "code",
   "execution_count": 8,
   "metadata": {
    "execution": {
     "iopub.execute_input": "2022-07-06T06:29:37.974050Z",
     "iopub.status.busy": "2022-07-06T06:29:37.973209Z",
     "iopub.status.idle": "2022-07-06T06:29:37.977329Z",
     "shell.execute_reply": "2022-07-06T06:29:37.976719Z",
     "shell.execute_reply.started": "2022-07-06T05:39:18.926677Z"
    },
    "papermill": {
     "duration": 0.304103,
     "end_time": "2022-07-06T06:29:37.977453",
     "exception": false,
     "start_time": "2022-07-06T06:29:37.673350",
     "status": "completed"
    },
    "tags": []
   },
   "outputs": [],
   "source": [
    "train_labels = to_categorical(train_labels,num_classes=nb_classes)"
   ]
  },
  {
   "cell_type": "code",
   "execution_count": 9,
   "metadata": {
    "execution": {
     "iopub.execute_input": "2022-07-06T06:29:38.569009Z",
     "iopub.status.busy": "2022-07-06T06:29:38.568001Z",
     "iopub.status.idle": "2022-07-06T06:29:38.574640Z",
     "shell.execute_reply": "2022-07-06T06:29:38.574056Z",
     "shell.execute_reply.started": "2022-07-06T05:39:18.935341Z"
    },
    "papermill": {
     "duration": 0.303655,
     "end_time": "2022-07-06T06:29:38.574791",
     "exception": false,
     "start_time": "2022-07-06T06:29:38.271136",
     "status": "completed"
    },
    "tags": []
   },
   "outputs": [
    {
     "data": {
      "text/plain": [
       "(4750, 12)"
      ]
     },
     "execution_count": 9,
     "metadata": {},
     "output_type": "execute_result"
    }
   ],
   "source": [
    "train_labels.shape"
   ]
  },
  {
   "cell_type": "code",
   "execution_count": 10,
   "metadata": {
    "execution": {
     "iopub.execute_input": "2022-07-06T06:29:39.427702Z",
     "iopub.status.busy": "2022-07-06T06:29:39.426689Z",
     "iopub.status.idle": "2022-07-06T06:29:39.921918Z",
     "shell.execute_reply": "2022-07-06T06:29:39.921202Z",
     "shell.execute_reply.started": "2022-07-06T05:39:18.944808Z"
    },
    "papermill": {
     "duration": 1.054217,
     "end_time": "2022-07-06T06:29:39.922076",
     "exception": false,
     "start_time": "2022-07-06T06:29:38.867859",
     "status": "completed"
    },
    "tags": []
   },
   "outputs": [],
   "source": [
    "X_train,X_val,y_train,y_val = train_test_split(train_images,train_labels,test_size=0.3)"
   ]
  },
  {
   "cell_type": "code",
   "execution_count": 11,
   "metadata": {
    "execution": {
     "iopub.execute_input": "2022-07-06T06:29:40.523524Z",
     "iopub.status.busy": "2022-07-06T06:29:40.522484Z",
     "iopub.status.idle": "2022-07-06T06:29:40.525408Z",
     "shell.execute_reply": "2022-07-06T06:29:40.525897Z",
     "shell.execute_reply.started": "2022-07-06T05:39:19.315287Z"
    },
    "papermill": {
     "duration": 0.309842,
     "end_time": "2022-07-06T06:29:40.526049",
     "exception": false,
     "start_time": "2022-07-06T06:29:40.216207",
     "status": "completed"
    },
    "tags": []
   },
   "outputs": [],
   "source": [
    "train_dir = \"./data/plant-seedlings-classification/train\"\n",
    "\n",
    "batch_size = 16\n",
    "\n",
    "IGD = ImageDataGenerator(rescale=1./255,\n",
    "                        horizontal_flip=True,\n",
    "                        vertical_flip=True,\n",
    "                        rotation_range=20)\n",
    "#                         validation_split=0.3)\n",
    "\n",
    "train_generator = IGD.flow(x=X_train,\n",
    "                          y=y_train,\n",
    "                          batch_size=batch_size,\n",
    "                          shuffle=True,\n",
    "                          seed=42)\n",
    "#                           subset=\"training\")\n",
    "\n",
    "validation_generator = IGD.flow(x=X_val,\n",
    "                               y=y_val,\n",
    "                               batch_size=batch_size,\n",
    "                               shuffle=True,\n",
    "                               seed=42)\n",
    "#                                subset=\"validation\")"
   ]
  },
  {
   "cell_type": "code",
   "execution_count": 12,
   "metadata": {
    "execution": {
     "iopub.execute_input": "2022-07-06T06:29:41.715539Z",
     "iopub.status.busy": "2022-07-06T06:29:41.714551Z",
     "iopub.status.idle": "2022-07-06T06:29:41.718428Z",
     "shell.execute_reply": "2022-07-06T06:29:41.717765Z",
     "shell.execute_reply.started": "2022-07-06T05:39:19.328196Z"
    },
    "papermill": {
     "duration": 0.305641,
     "end_time": "2022-07-06T06:29:41.718540",
     "exception": false,
     "start_time": "2022-07-06T06:29:41.412899",
     "status": "completed"
    },
    "tags": []
   },
   "outputs": [],
   "source": [
    "def conv_block(X,k,filters,stage,block,s=2):\n",
    "    \n",
    "    conv_base_name = 'res_' + str(stage) + block + '_branch'\n",
    "    bn_base_name = 'bn_' + str(stage) + block + \"_branch\"\n",
    "    \n",
    "    F1 = filters\n",
    "    \n",
    "    X = Conv2D(filters=F1,kernel_size=(k,k),strides=(s,s),\n",
    "              padding='same',name=conv_base_name,\n",
    "              kernel_initializer=glorot_uniform(seed=0))(X)\n",
    "    X = BatchNormalization(name=bn_base_name)(X)\n",
    "#     X = MaxPooling2D((3,3))(X)\n",
    "    X = Activation('relu')(X)\n",
    "    \n",
    "    return X\n",
    "    pass"
   ]
  },
  {
   "cell_type": "code",
   "execution_count": 13,
   "metadata": {
    "execution": {
     "iopub.execute_input": "2022-07-06T06:29:42.897334Z",
     "iopub.status.busy": "2022-07-06T06:29:42.892647Z",
     "iopub.status.idle": "2022-07-06T06:29:42.901173Z",
     "shell.execute_reply": "2022-07-06T06:29:42.900683Z",
     "shell.execute_reply.started": "2022-07-06T05:39:19.339302Z"
    },
    "papermill": {
     "duration": 0.306908,
     "end_time": "2022-07-06T06:29:42.901310",
     "exception": false,
     "start_time": "2022-07-06T06:29:42.594402",
     "status": "completed"
    },
    "tags": []
   },
   "outputs": [],
   "source": [
    "def conv_model(input_shape,classes):\n",
    "    \n",
    "    X_input = Input(input_shape)\n",
    "    \n",
    "    # Stage 1\n",
    "    X = Conv2D(64,(5,5),strides=(2,2),name='conv1')(X_input)\n",
    "    X = BatchNormalization(name='bn_conv1')(X)\n",
    "#     X = MaxPooling2D((3,3))(X)\n",
    "#     X = Activation('relu')(X)\n",
    "#     X = Dropout(0.1)(X)\n",
    "    \n",
    "    # Stage 2\n",
    "    X = conv_block(X,5,64,2,block='A',s=1)\n",
    "    X = MaxPooling2D((2,2))(X)\n",
    "    X = Dropout(0.1)(X)\n",
    "    \n",
    "    # Stage 3 \n",
    "    X = conv_block(X,3,128,3,block='A',s=1)\n",
    "    X = MaxPooling2D((3,3))(X)\n",
    "    X = Dropout(0.1)(X)\n",
    "    \n",
    "    # Stage 4\n",
    "    X = conv_block(X,5,256,4,block='A',s=1)\n",
    "    X = Dropout(0.1)(X)\n",
    "    \n",
    "    # Output Layer\n",
    "    X = Flatten()(X)\n",
    "    X = Dense(256)(X)\n",
    "    X = Dense(256)(X)\n",
    "    X = Activation('relu')(X)\n",
    "    X = Dense(classes,activation='softmax',name='fc'+str(classes))(X)\n",
    "    \n",
    "    model = Model(inputs=X_input,outputs=X,name='CNN')\n",
    "    \n",
    "    return model\n",
    "    pass"
   ]
  },
  {
   "cell_type": "code",
   "execution_count": 14,
   "metadata": {
    "execution": {
     "iopub.execute_input": "2022-07-06T06:29:43.487527Z",
     "iopub.status.busy": "2022-07-06T06:29:43.486791Z",
     "iopub.status.idle": "2022-07-06T06:29:46.588605Z",
     "shell.execute_reply": "2022-07-06T06:29:46.587928Z",
     "shell.execute_reply.started": "2022-07-06T05:39:19.357009Z"
    },
    "papermill": {
     "duration": 3.396648,
     "end_time": "2022-07-06T06:29:46.588739",
     "exception": false,
     "start_time": "2022-07-06T06:29:43.192091",
     "status": "completed"
    },
    "tags": []
   },
   "outputs": [],
   "source": [
    "model = conv_model(input_shape=(150,150,3),classes=nb_classes)"
   ]
  },
  {
   "cell_type": "markdown",
   "metadata": {
    "papermill": {
     "duration": 0.30982,
     "end_time": "2022-07-06T06:29:47.192407",
     "exception": false,
     "start_time": "2022-07-06T06:29:46.882587",
     "status": "completed"
    },
    "tags": []
   },
   "source": [
    "Saving the model architecture as a flowchart for better understanding to *`conv_model.png`*"
   ]
  },
  {
   "cell_type": "code",
   "execution_count": 15,
   "metadata": {},
   "outputs": [],
   "source": [
    "import pydot"
   ]
  },
  {
   "cell_type": "code",
   "execution_count": 16,
   "metadata": {
    "execution": {
     "iopub.execute_input": "2022-07-06T06:29:47.790634Z",
     "iopub.status.busy": "2022-07-06T06:29:47.789577Z",
     "iopub.status.idle": "2022-07-06T06:29:48.644103Z",
     "shell.execute_reply": "2022-07-06T06:29:48.643155Z",
     "shell.execute_reply.started": "2022-07-06T05:39:22.089834Z"
    },
    "papermill": {
     "duration": 1.156688,
     "end_time": "2022-07-06T06:29:48.644322",
     "exception": false,
     "start_time": "2022-07-06T06:29:47.487634",
     "status": "completed"
    },
    "tags": []
   },
   "outputs": [
    {
     "name": "stdout",
     "output_type": "stream",
     "text": [
      "Model: \"CNN\"\n",
      "_________________________________________________________________\n",
      " Layer (type)                Output Shape              Param #   \n",
      "=================================================================\n",
      " input_1 (InputLayer)        [(None, 150, 150, 3)]     0         \n",
      "                                                                 \n",
      " conv1 (Conv2D)              (None, 73, 73, 64)        4864      \n",
      "                                                                 \n",
      " bn_conv1 (BatchNormalizatio  (None, 73, 73, 64)       256       \n",
      " n)                                                              \n",
      "                                                                 \n",
      " res_2A_branch (Conv2D)      (None, 73, 73, 64)        102464    \n",
      "                                                                 \n",
      " bn_2A_branch (BatchNormaliz  (None, 73, 73, 64)       256       \n",
      " ation)                                                          \n",
      "                                                                 \n",
      " activation (Activation)     (None, 73, 73, 64)        0         \n",
      "                                                                 \n",
      " max_pooling2d (MaxPooling2D  (None, 36, 36, 64)       0         \n",
      " )                                                               \n",
      "                                                                 \n",
      " dropout (Dropout)           (None, 36, 36, 64)        0         \n",
      "                                                                 \n",
      " res_3A_branch (Conv2D)      (None, 36, 36, 128)       73856     \n",
      "                                                                 \n",
      " bn_3A_branch (BatchNormaliz  (None, 36, 36, 128)      512       \n",
      " ation)                                                          \n",
      "                                                                 \n",
      " activation_1 (Activation)   (None, 36, 36, 128)       0         \n",
      "                                                                 \n",
      " max_pooling2d_1 (MaxPooling  (None, 12, 12, 128)      0         \n",
      " 2D)                                                             \n",
      "                                                                 \n",
      " dropout_1 (Dropout)         (None, 12, 12, 128)       0         \n",
      "                                                                 \n",
      " res_4A_branch (Conv2D)      (None, 12, 12, 256)       819456    \n",
      "                                                                 \n",
      " bn_4A_branch (BatchNormaliz  (None, 12, 12, 256)      1024      \n",
      " ation)                                                          \n",
      "                                                                 \n",
      " activation_2 (Activation)   (None, 12, 12, 256)       0         \n",
      "                                                                 \n",
      " dropout_2 (Dropout)         (None, 12, 12, 256)       0         \n",
      "                                                                 \n",
      " flatten (Flatten)           (None, 36864)             0         \n",
      "                                                                 \n",
      " dense (Dense)               (None, 256)               9437440   \n",
      "                                                                 \n",
      " dense_1 (Dense)             (None, 256)               65792     \n",
      "                                                                 \n",
      " activation_3 (Activation)   (None, 256)               0         \n",
      "                                                                 \n",
      " fc12 (Dense)                (None, 12)                3084      \n",
      "                                                                 \n",
      "=================================================================\n",
      "Total params: 10,509,004\n",
      "Trainable params: 10,507,980\n",
      "Non-trainable params: 1,024\n",
      "_________________________________________________________________\n"
     ]
    }
   ],
   "source": [
    "plot_model(model,to_file='conv_model.png')\n",
    "SVG(model_to_dot(model).create(prog='dot',format='svg'))\n",
    "\n",
    "model.summary()"
   ]
  },
  {
   "cell_type": "markdown",
   "metadata": {
    "papermill": {
     "duration": 0.294808,
     "end_time": "2022-07-06T06:29:49.246307",
     "exception": false,
     "start_time": "2022-07-06T06:29:48.951499",
     "status": "completed"
    },
    "tags": []
   },
   "source": [
    "Using the Adam optimiser with learning rate set at 0.001 as this is currently giving the most optimal model."
   ]
  },
  {
   "cell_type": "code",
   "execution_count": 17,
   "metadata": {
    "execution": {
     "iopub.execute_input": "2022-07-06T06:29:49.848266Z",
     "iopub.status.busy": "2022-07-06T06:29:49.847158Z",
     "iopub.status.idle": "2022-07-06T06:29:49.854866Z",
     "shell.execute_reply": "2022-07-06T06:29:49.854095Z",
     "shell.execute_reply.started": "2022-07-06T05:39:22.696890Z"
    },
    "papermill": {
     "duration": 0.317022,
     "end_time": "2022-07-06T06:29:49.854990",
     "exception": false,
     "start_time": "2022-07-06T06:29:49.537968",
     "status": "completed"
    },
    "tags": []
   },
   "outputs": [
    {
     "name": "stderr",
     "output_type": "stream",
     "text": [
      "C:\\Users\\soumi\\.conda\\envs\\tf\\lib\\site-packages\\keras\\optimizers\\optimizer_v2\\adam.py:114: UserWarning: The `lr` argument is deprecated, use `learning_rate` instead.\n",
      "  super().__init__(name, **kwargs)\n"
     ]
    }
   ],
   "source": [
    "opt = Adam(lr=0.0001)\n",
    "model.compile(optimizer=opt,loss='categorical_crossentropy',metrics=['accuracy'])"
   ]
  },
  {
   "cell_type": "markdown",
   "metadata": {
    "papermill": {
     "duration": 0.360745,
     "end_time": "2022-07-06T06:29:50.745075",
     "exception": false,
     "start_time": "2022-07-06T06:29:50.384330",
     "status": "completed"
    },
    "tags": []
   },
   "source": [
    "Storing the model's weights to *`model_weights.h5`*. This stores the best weights possible."
   ]
  },
  {
   "cell_type": "code",
   "execution_count": 18,
   "metadata": {
    "execution": {
     "iopub.execute_input": "2022-07-06T06:29:51.336009Z",
     "iopub.status.busy": "2022-07-06T06:29:51.334949Z",
     "iopub.status.idle": "2022-07-06T06:29:51.337308Z",
     "shell.execute_reply": "2022-07-06T06:29:51.337952Z",
     "shell.execute_reply.started": "2022-07-06T05:39:22.720634Z"
    },
    "papermill": {
     "duration": 0.300072,
     "end_time": "2022-07-06T06:29:51.338106",
     "exception": false,
     "start_time": "2022-07-06T06:29:51.038034",
     "status": "completed"
    },
    "tags": []
   },
   "outputs": [],
   "source": [
    "checkpoint = ModelCheckpoint(\"model_weights.h5\",monitor='val_accuracy',verbose=1,\n",
    "                             save_best_only=True,mode=\"max\")\n",
    "callbacks_list = [checkpoint]"
   ]
  },
  {
   "cell_type": "markdown",
   "metadata": {
    "papermill": {
     "duration": 0.287572,
     "end_time": "2022-07-06T06:29:51.915258",
     "exception": false,
     "start_time": "2022-07-06T06:29:51.627686",
     "status": "completed"
    },
    "tags": []
   },
   "source": [
    "Running the model for 50 epochs"
   ]
  },
  {
   "cell_type": "code",
   "execution_count": 19,
   "metadata": {},
   "outputs": [],
   "source": [
    "import scipy"
   ]
  },
  {
   "cell_type": "code",
   "execution_count": 20,
   "metadata": {
    "execution": {
     "iopub.execute_input": "2022-07-06T06:29:52.519829Z",
     "iopub.status.busy": "2022-07-06T06:29:52.518511Z",
     "iopub.status.idle": "2022-07-06T07:25:50.689930Z",
     "shell.execute_reply": "2022-07-06T07:25:50.688265Z",
     "shell.execute_reply.started": "2022-07-06T05:39:22.730514Z"
    },
    "papermill": {
     "duration": 3358.477908,
     "end_time": "2022-07-06T07:25:50.690099",
     "exception": false,
     "start_time": "2022-07-06T06:29:52.212191",
     "status": "completed"
    },
    "tags": []
   },
   "outputs": [
    {
     "name": "stdout",
     "output_type": "stream",
     "text": [
      "Epoch 1/500\n",
      "207/207 [==============================] - ETA: 0s - loss: 1.8813 - accuracy: 0.4170\n",
      "Epoch 1: val_accuracy improved from -inf to 0.13272, saving model to model_weights.h5\n",
      "207/207 [==============================] - 29s 98ms/step - loss: 1.8813 - accuracy: 0.4170 - val_loss: 8.8851 - val_accuracy: 0.1327\n",
      "Epoch 2/500\n",
      "207/207 [==============================] - ETA: 0s - loss: 1.1724 - accuracy: 0.6150\n",
      "Epoch 2: val_accuracy improved from 0.13272 to 0.13343, saving model to model_weights.h5\n",
      "207/207 [==============================] - 20s 94ms/step - loss: 1.1724 - accuracy: 0.6150 - val_loss: 8.1862 - val_accuracy: 0.1334\n",
      "Epoch 3/500\n",
      "207/207 [==============================] - ETA: 0s - loss: 0.9259 - accuracy: 0.7084\n",
      "Epoch 3: val_accuracy improved from 0.13343 to 0.54705, saving model to model_weights.h5\n",
      "207/207 [==============================] - 20s 98ms/step - loss: 0.9259 - accuracy: 0.7084 - val_loss: 1.3829 - val_accuracy: 0.5471\n",
      "Epoch 4/500\n",
      "207/207 [==============================] - ETA: 0s - loss: 0.8199 - accuracy: 0.7404\n",
      "Epoch 4: val_accuracy improved from 0.54705 to 0.72472, saving model to model_weights.h5\n",
      "207/207 [==============================] - 20s 98ms/step - loss: 0.8199 - accuracy: 0.7404 - val_loss: 0.8026 - val_accuracy: 0.7247\n",
      "Epoch 5/500\n",
      "207/207 [==============================] - ETA: 0s - loss: 0.7634 - accuracy: 0.7555\n",
      "Epoch 5: val_accuracy did not improve from 0.72472\n",
      "207/207 [==============================] - 21s 99ms/step - loss: 0.7634 - accuracy: 0.7555 - val_loss: 0.9842 - val_accuracy: 0.6721\n",
      "Epoch 6/500\n",
      "207/207 [==============================] - ETA: 0s - loss: 0.6152 - accuracy: 0.7960\n",
      "Epoch 6: val_accuracy improved from 0.72472 to 0.80618, saving model to model_weights.h5\n",
      "207/207 [==============================] - 21s 103ms/step - loss: 0.6152 - accuracy: 0.7960 - val_loss: 0.6950 - val_accuracy: 0.8062\n",
      "Epoch 7/500\n",
      "207/207 [==============================] - ETA: 0s - loss: 0.6249 - accuracy: 0.8008\n",
      "Epoch 7: val_accuracy did not improve from 0.80618\n",
      "207/207 [==============================] - 22s 106ms/step - loss: 0.6249 - accuracy: 0.8008 - val_loss: 0.7783 - val_accuracy: 0.7346\n",
      "Epoch 8/500\n",
      "207/207 [==============================] - ETA: 0s - loss: 0.5592 - accuracy: 0.8144\n",
      "Epoch 8: val_accuracy did not improve from 0.80618\n",
      "207/207 [==============================] - 22s 106ms/step - loss: 0.5592 - accuracy: 0.8144 - val_loss: 0.7322 - val_accuracy: 0.7718\n",
      "Epoch 9/500\n",
      "207/207 [==============================] - ETA: 0s - loss: 0.5160 - accuracy: 0.8286\n",
      "Epoch 9: val_accuracy did not improve from 0.80618\n",
      "207/207 [==============================] - 22s 108ms/step - loss: 0.5160 - accuracy: 0.8286 - val_loss: 0.9137 - val_accuracy: 0.6994\n",
      "Epoch 10/500\n",
      "207/207 [==============================] - ETA: 0s - loss: 0.4426 - accuracy: 0.8429\n",
      "Epoch 10: val_accuracy improved from 0.80618 to 0.85183, saving model to model_weights.h5\n",
      "207/207 [==============================] - 23s 110ms/step - loss: 0.4426 - accuracy: 0.8429 - val_loss: 0.4565 - val_accuracy: 0.8518\n",
      "Epoch 11/500\n",
      "207/207 [==============================] - ETA: 0s - loss: 0.4461 - accuracy: 0.8483\n",
      "Epoch 11: val_accuracy did not improve from 0.85183\n",
      "207/207 [==============================] - 23s 108ms/step - loss: 0.4461 - accuracy: 0.8483 - val_loss: 0.5266 - val_accuracy: 0.8483\n",
      "Epoch 12/500\n",
      "207/207 [==============================] - ETA: 0s - loss: 0.4482 - accuracy: 0.8498\n",
      "Epoch 12: val_accuracy did not improve from 0.85183\n",
      "207/207 [==============================] - 23s 109ms/step - loss: 0.4482 - accuracy: 0.8498 - val_loss: 0.6989 - val_accuracy: 0.7907\n",
      "Epoch 13/500\n",
      "207/207 [==============================] - ETA: 0s - loss: 0.4220 - accuracy: 0.8568\n",
      "Epoch 13: val_accuracy did not improve from 0.85183\n",
      "207/207 [==============================] - 23s 110ms/step - loss: 0.4220 - accuracy: 0.8568 - val_loss: 0.7477 - val_accuracy: 0.7577\n",
      "Epoch 14/500\n",
      "207/207 [==============================] - ETA: 0s - loss: 0.3550 - accuracy: 0.8843\n",
      "Epoch 14: val_accuracy did not improve from 0.85183\n",
      "207/207 [==============================] - 23s 111ms/step - loss: 0.3550 - accuracy: 0.8843 - val_loss: 0.7151 - val_accuracy: 0.7739\n",
      "Epoch 15/500\n",
      "207/207 [==============================] - ETA: 0s - loss: 0.3533 - accuracy: 0.8770\n",
      "Epoch 15: val_accuracy did not improve from 0.85183\n",
      "207/207 [==============================] - 23s 113ms/step - loss: 0.3533 - accuracy: 0.8770 - val_loss: 0.8150 - val_accuracy: 0.7640\n",
      "Epoch 16/500\n",
      "207/207 [==============================] - ETA: 0s - loss: 0.3975 - accuracy: 0.8652\n",
      "Epoch 16: val_accuracy did not improve from 0.85183\n",
      "207/207 [==============================] - 23s 112ms/step - loss: 0.3975 - accuracy: 0.8652 - val_loss: 0.6594 - val_accuracy: 0.8287\n",
      "Epoch 17/500\n",
      "207/207 [==============================] - ETA: 0s - loss: 0.3512 - accuracy: 0.8779\n",
      "Epoch 17: val_accuracy did not improve from 0.85183\n",
      "207/207 [==============================] - 24s 115ms/step - loss: 0.3512 - accuracy: 0.8779 - val_loss: 0.7408 - val_accuracy: 0.7823\n",
      "Epoch 18/500\n",
      "207/207 [==============================] - ETA: 0s - loss: 0.3636 - accuracy: 0.8800\n",
      "Epoch 18: val_accuracy did not improve from 0.85183\n",
      "207/207 [==============================] - 23s 113ms/step - loss: 0.3636 - accuracy: 0.8800 - val_loss: 0.5560 - val_accuracy: 0.8336\n",
      "Epoch 19/500\n",
      "207/207 [==============================] - ETA: 0s - loss: 0.3348 - accuracy: 0.8815\n",
      "Epoch 19: val_accuracy did not improve from 0.85183\n",
      "207/207 [==============================] - 24s 114ms/step - loss: 0.3348 - accuracy: 0.8815 - val_loss: 1.0252 - val_accuracy: 0.7233\n",
      "Epoch 20/500\n",
      "207/207 [==============================] - ETA: 0s - loss: 0.3447 - accuracy: 0.8827\n",
      "Epoch 20: val_accuracy did not improve from 0.85183\n",
      "207/207 [==============================] - 24s 114ms/step - loss: 0.3447 - accuracy: 0.8827 - val_loss: 0.9752 - val_accuracy: 0.7331\n",
      "Epoch 21/500\n",
      "207/207 [==============================] - ETA: 0s - loss: 0.3202 - accuracy: 0.8936\n",
      "Epoch 21: val_accuracy did not improve from 0.85183\n",
      "207/207 [==============================] - 24s 115ms/step - loss: 0.3202 - accuracy: 0.8936 - val_loss: 0.4706 - val_accuracy: 0.8469\n",
      "Epoch 22/500\n",
      "207/207 [==============================] - ETA: 0s - loss: 0.2823 - accuracy: 0.8985\n",
      "Epoch 22: val_accuracy did not improve from 0.85183\n",
      "207/207 [==============================] - 24s 115ms/step - loss: 0.2823 - accuracy: 0.8985 - val_loss: 0.8644 - val_accuracy: 0.7654\n",
      "Epoch 23/500\n",
      "207/207 [==============================] - ETA: 0s - loss: 0.2841 - accuracy: 0.9006\n",
      "Epoch 23: val_accuracy did not improve from 0.85183\n",
      "207/207 [==============================] - 24s 115ms/step - loss: 0.2841 - accuracy: 0.9006 - val_loss: 1.1021 - val_accuracy: 0.7423\n",
      "Epoch 24/500\n",
      "207/207 [==============================] - ETA: 0s - loss: 0.2789 - accuracy: 0.9015\n",
      "Epoch 24: val_accuracy did not improve from 0.85183\n",
      "207/207 [==============================] - 24s 115ms/step - loss: 0.2789 - accuracy: 0.9015 - val_loss: 0.5971 - val_accuracy: 0.8336\n",
      "Epoch 25/500\n",
      "207/207 [==============================] - ETA: 0s - loss: 0.2840 - accuracy: 0.8942\n",
      "Epoch 25: val_accuracy did not improve from 0.85183\n",
      "207/207 [==============================] - 24s 117ms/step - loss: 0.2840 - accuracy: 0.8942 - val_loss: 0.8509 - val_accuracy: 0.7767\n",
      "Epoch 26/500\n",
      "207/207 [==============================] - ETA: 0s - loss: 0.2789 - accuracy: 0.9054\n",
      "Epoch 26: val_accuracy improved from 0.85183 to 0.85744, saving model to model_weights.h5\n",
      "207/207 [==============================] - 24s 117ms/step - loss: 0.2789 - accuracy: 0.9054 - val_loss: 0.4782 - val_accuracy: 0.8574\n",
      "Epoch 27/500\n",
      "207/207 [==============================] - ETA: 0s - loss: 0.2733 - accuracy: 0.9072\n",
      "Epoch 27: val_accuracy did not improve from 0.85744\n",
      "207/207 [==============================] - 24s 115ms/step - loss: 0.2733 - accuracy: 0.9072 - val_loss: 0.8499 - val_accuracy: 0.7542\n",
      "Epoch 28/500\n",
      "207/207 [==============================] - ETA: 0s - loss: 0.2247 - accuracy: 0.9226\n",
      "Epoch 28: val_accuracy improved from 0.85744 to 0.88343, saving model to model_weights.h5\n",
      "207/207 [==============================] - 24s 116ms/step - loss: 0.2247 - accuracy: 0.9226 - val_loss: 0.3909 - val_accuracy: 0.8834\n"
     ]
    },
    {
     "name": "stdout",
     "output_type": "stream",
     "text": [
      "Epoch 29/500\n",
      "207/207 [==============================] - ETA: 0s - loss: 0.2442 - accuracy: 0.9096\n",
      "Epoch 29: val_accuracy did not improve from 0.88343\n",
      "207/207 [==============================] - 24s 115ms/step - loss: 0.2442 - accuracy: 0.9096 - val_loss: 0.9727 - val_accuracy: 0.7542\n",
      "Epoch 30/500\n",
      "207/207 [==============================] - ETA: 0s - loss: 0.2887 - accuracy: 0.9021\n",
      "Epoch 30: val_accuracy did not improve from 0.88343\n",
      "207/207 [==============================] - 24s 116ms/step - loss: 0.2887 - accuracy: 0.9021 - val_loss: 0.9156 - val_accuracy: 0.7816\n",
      "Epoch 31/500\n",
      "207/207 [==============================] - ETA: 0s - loss: 0.2344 - accuracy: 0.9211\n",
      "Epoch 31: val_accuracy did not improve from 0.88343\n",
      "207/207 [==============================] - 24s 116ms/step - loss: 0.2344 - accuracy: 0.9211 - val_loss: 0.5988 - val_accuracy: 0.8272\n",
      "Epoch 32/500\n",
      "207/207 [==============================] - ETA: 0s - loss: 0.2489 - accuracy: 0.9130\n",
      "Epoch 32: val_accuracy did not improve from 0.88343\n",
      "207/207 [==============================] - 24s 117ms/step - loss: 0.2489 - accuracy: 0.9130 - val_loss: 0.3939 - val_accuracy: 0.8771\n",
      "Epoch 33/500\n",
      "207/207 [==============================] - ETA: 0s - loss: 0.2244 - accuracy: 0.9248\n",
      "Epoch 33: val_accuracy did not improve from 0.88343\n",
      "207/207 [==============================] - 24s 116ms/step - loss: 0.2244 - accuracy: 0.9248 - val_loss: 0.6707 - val_accuracy: 0.8385\n",
      "Epoch 34/500\n",
      "207/207 [==============================] - ETA: 0s - loss: 0.2406 - accuracy: 0.9178\n",
      "Epoch 34: val_accuracy improved from 0.88343 to 0.88694, saving model to model_weights.h5\n",
      "207/207 [==============================] - 24s 118ms/step - loss: 0.2406 - accuracy: 0.9178 - val_loss: 0.4269 - val_accuracy: 0.8869\n",
      "Epoch 35/500\n",
      "207/207 [==============================] - ETA: 0s - loss: 0.2277 - accuracy: 0.9196\n",
      "Epoch 35: val_accuracy did not improve from 0.88694\n",
      "207/207 [==============================] - 24s 116ms/step - loss: 0.2277 - accuracy: 0.9196 - val_loss: 0.5717 - val_accuracy: 0.8574\n",
      "Epoch 36/500\n",
      "207/207 [==============================] - ETA: 0s - loss: 0.1982 - accuracy: 0.9281\n",
      "Epoch 36: val_accuracy did not improve from 0.88694\n",
      "207/207 [==============================] - 24s 117ms/step - loss: 0.1982 - accuracy: 0.9281 - val_loss: 0.4269 - val_accuracy: 0.8666\n",
      "Epoch 37/500\n",
      "207/207 [==============================] - ETA: 0s - loss: 0.1900 - accuracy: 0.9350\n",
      "Epoch 37: val_accuracy did not improve from 0.88694\n",
      "207/207 [==============================] - 24s 118ms/step - loss: 0.1900 - accuracy: 0.9350 - val_loss: 0.4263 - val_accuracy: 0.8701\n",
      "Epoch 38/500\n",
      "207/207 [==============================] - ETA: 0s - loss: 0.1964 - accuracy: 0.9299\n",
      "Epoch 38: val_accuracy improved from 0.88694 to 0.89677, saving model to model_weights.h5\n",
      "207/207 [==============================] - 24s 118ms/step - loss: 0.1964 - accuracy: 0.9299 - val_loss: 0.3875 - val_accuracy: 0.8968\n",
      "Epoch 39/500\n",
      "207/207 [==============================] - ETA: 0s - loss: 0.2066 - accuracy: 0.9320\n",
      "Epoch 39: val_accuracy did not improve from 0.89677\n",
      "207/207 [==============================] - 24s 116ms/step - loss: 0.2066 - accuracy: 0.9320 - val_loss: 0.4089 - val_accuracy: 0.8841\n",
      "Epoch 40/500\n",
      "207/207 [==============================] - ETA: 0s - loss: 0.1668 - accuracy: 0.9399\n",
      "Epoch 40: val_accuracy did not improve from 0.89677\n",
      "207/207 [==============================] - 24s 117ms/step - loss: 0.1668 - accuracy: 0.9399 - val_loss: 0.7004 - val_accuracy: 0.8315\n",
      "Epoch 41/500\n",
      "207/207 [==============================] - ETA: 0s - loss: 0.2091 - accuracy: 0.9278\n",
      "Epoch 41: val_accuracy did not improve from 0.89677\n",
      "207/207 [==============================] - 24s 117ms/step - loss: 0.2091 - accuracy: 0.9278 - val_loss: 0.9151 - val_accuracy: 0.7893\n",
      "Epoch 42/500\n",
      "207/207 [==============================] - ETA: 0s - loss: 0.1586 - accuracy: 0.9447\n",
      "Epoch 42: val_accuracy did not improve from 0.89677\n",
      "207/207 [==============================] - 24s 116ms/step - loss: 0.1586 - accuracy: 0.9447 - val_loss: 0.7848 - val_accuracy: 0.7963\n",
      "Epoch 43/500\n",
      "207/207 [==============================] - ETA: 0s - loss: 0.1686 - accuracy: 0.9399\n",
      "Epoch 43: val_accuracy did not improve from 0.89677\n",
      "207/207 [==============================] - 24s 116ms/step - loss: 0.1686 - accuracy: 0.9399 - val_loss: 2.2479 - val_accuracy: 0.6257\n",
      "Epoch 44/500\n",
      "207/207 [==============================] - ETA: 0s - loss: 0.1779 - accuracy: 0.9411\n",
      "Epoch 44: val_accuracy did not improve from 0.89677\n",
      "207/207 [==============================] - 24s 116ms/step - loss: 0.1779 - accuracy: 0.9411 - val_loss: 0.6666 - val_accuracy: 0.8209\n",
      "Epoch 45/500\n",
      "207/207 [==============================] - ETA: 0s - loss: 0.1703 - accuracy: 0.9393\n",
      "Epoch 45: val_accuracy did not improve from 0.89677\n",
      "207/207 [==============================] - 24s 118ms/step - loss: 0.1703 - accuracy: 0.9393 - val_loss: 0.6008 - val_accuracy: 0.8406\n",
      "Epoch 46/500\n",
      "207/207 [==============================] - ETA: 0s - loss: 0.1890 - accuracy: 0.9338\n",
      "Epoch 46: val_accuracy did not improve from 0.89677\n",
      "207/207 [==============================] - 24s 118ms/step - loss: 0.1890 - accuracy: 0.9338 - val_loss: 0.7615 - val_accuracy: 0.8034\n",
      "Epoch 47/500\n",
      "207/207 [==============================] - ETA: 0s - loss: 0.1967 - accuracy: 0.9329\n",
      "Epoch 47: val_accuracy did not improve from 0.89677\n",
      "207/207 [==============================] - 24s 117ms/step - loss: 0.1967 - accuracy: 0.9329 - val_loss: 0.6308 - val_accuracy: 0.8511\n",
      "Epoch 48/500\n",
      "207/207 [==============================] - ETA: 0s - loss: 0.2175 - accuracy: 0.9338\n",
      "Epoch 48: val_accuracy improved from 0.89677 to 0.90239, saving model to model_weights.h5\n",
      "207/207 [==============================] - 25s 119ms/step - loss: 0.2175 - accuracy: 0.9338 - val_loss: 0.3494 - val_accuracy: 0.9024\n",
      "Epoch 49/500\n",
      "207/207 [==============================] - ETA: 0s - loss: 0.1599 - accuracy: 0.9420\n",
      "Epoch 49: val_accuracy did not improve from 0.90239\n",
      "207/207 [==============================] - 25s 118ms/step - loss: 0.1599 - accuracy: 0.9420 - val_loss: 0.3697 - val_accuracy: 0.8897\n",
      "Epoch 50/500\n",
      "207/207 [==============================] - ETA: 0s - loss: 0.1342 - accuracy: 0.9544\n",
      "Epoch 50: val_accuracy did not improve from 0.90239\n",
      "207/207 [==============================] - 24s 117ms/step - loss: 0.1342 - accuracy: 0.9544 - val_loss: 0.4580 - val_accuracy: 0.8757\n",
      "Epoch 51/500\n",
      "207/207 [==============================] - ETA: 0s - loss: 0.1505 - accuracy: 0.9519\n",
      "Epoch 51: val_accuracy did not improve from 0.90239\n",
      "207/207 [==============================] - 24s 117ms/step - loss: 0.1505 - accuracy: 0.9519 - val_loss: 0.5508 - val_accuracy: 0.8511\n",
      "Epoch 52/500\n",
      "207/207 [==============================] - ETA: 0s - loss: 0.1809 - accuracy: 0.9396\n",
      "Epoch 52: val_accuracy did not improve from 0.90239\n",
      "207/207 [==============================] - 25s 118ms/step - loss: 0.1809 - accuracy: 0.9396 - val_loss: 0.4077 - val_accuracy: 0.8926\n",
      "Epoch 53/500\n",
      "207/207 [==============================] - ETA: 0s - loss: 0.1549 - accuracy: 0.9468\n",
      "Epoch 53: val_accuracy did not improve from 0.90239\n",
      "207/207 [==============================] - 24s 117ms/step - loss: 0.1549 - accuracy: 0.9468 - val_loss: 1.0584 - val_accuracy: 0.7858\n",
      "Epoch 54/500\n",
      "207/207 [==============================] - ETA: 0s - loss: 0.1496 - accuracy: 0.9459\n",
      "Epoch 54: val_accuracy did not improve from 0.90239\n",
      "207/207 [==============================] - 24s 117ms/step - loss: 0.1496 - accuracy: 0.9459 - val_loss: 0.6997 - val_accuracy: 0.8258\n",
      "Epoch 55/500\n",
      "207/207 [==============================] - ETA: 0s - loss: 0.1534 - accuracy: 0.9468\n",
      "Epoch 55: val_accuracy did not improve from 0.90239\n",
      "207/207 [==============================] - 25s 119ms/step - loss: 0.1534 - accuracy: 0.9468 - val_loss: 0.8787 - val_accuracy: 0.8146\n",
      "Epoch 56/500\n",
      "207/207 [==============================] - ETA: 0s - loss: 0.1732 - accuracy: 0.9423\n",
      "Epoch 56: val_accuracy did not improve from 0.90239\n",
      "207/207 [==============================] - 24s 117ms/step - loss: 0.1732 - accuracy: 0.9423 - val_loss: 0.4476 - val_accuracy: 0.8799\n",
      "Epoch 57/500\n",
      "207/207 [==============================] - ETA: 0s - loss: 0.1245 - accuracy: 0.9541\n",
      "Epoch 57: val_accuracy did not improve from 0.90239\n"
     ]
    },
    {
     "name": "stdout",
     "output_type": "stream",
     "text": [
      "207/207 [==============================] - 24s 118ms/step - loss: 0.1245 - accuracy: 0.9541 - val_loss: 0.7172 - val_accuracy: 0.8315\n",
      "Epoch 58/500\n",
      "207/207 [==============================] - ETA: 0s - loss: 0.1282 - accuracy: 0.9547\n",
      "Epoch 58: val_accuracy did not improve from 0.90239\n",
      "207/207 [==============================] - 24s 118ms/step - loss: 0.1282 - accuracy: 0.9547 - val_loss: 0.4979 - val_accuracy: 0.8834\n",
      "Epoch 59/500\n",
      "207/207 [==============================] - ETA: 0s - loss: 0.1406 - accuracy: 0.9529\n",
      "Epoch 59: val_accuracy did not improve from 0.90239\n",
      "207/207 [==============================] - 24s 118ms/step - loss: 0.1406 - accuracy: 0.9529 - val_loss: 1.4227 - val_accuracy: 0.7549\n",
      "Epoch 60/500\n",
      "207/207 [==============================] - ETA: 0s - loss: 0.1289 - accuracy: 0.9571\n",
      "Epoch 60: val_accuracy did not improve from 0.90239\n",
      "207/207 [==============================] - 24s 117ms/step - loss: 0.1289 - accuracy: 0.9571 - val_loss: 0.4988 - val_accuracy: 0.8926\n",
      "Epoch 61/500\n",
      "207/207 [==============================] - ETA: 0s - loss: 0.1160 - accuracy: 0.9607\n",
      "Epoch 61: val_accuracy did not improve from 0.90239\n",
      "207/207 [==============================] - 24s 118ms/step - loss: 0.1160 - accuracy: 0.9607 - val_loss: 0.5219 - val_accuracy: 0.8764\n",
      "Epoch 62/500\n",
      "207/207 [==============================] - ETA: 0s - loss: 0.1087 - accuracy: 0.9592\n",
      "Epoch 62: val_accuracy did not improve from 0.90239\n",
      "207/207 [==============================] - 24s 118ms/step - loss: 0.1087 - accuracy: 0.9592 - val_loss: 0.6926 - val_accuracy: 0.8343\n",
      "Epoch 63/500\n",
      "207/207 [==============================] - ETA: 0s - loss: 0.1233 - accuracy: 0.9601\n",
      "Epoch 63: val_accuracy did not improve from 0.90239\n",
      "207/207 [==============================] - 24s 117ms/step - loss: 0.1233 - accuracy: 0.9601 - val_loss: 0.5653 - val_accuracy: 0.8687\n",
      "Epoch 64/500\n",
      "207/207 [==============================] - ETA: 0s - loss: 0.1328 - accuracy: 0.9550\n",
      "Epoch 64: val_accuracy did not improve from 0.90239\n",
      "207/207 [==============================] - 25s 118ms/step - loss: 0.1328 - accuracy: 0.9550 - val_loss: 0.4394 - val_accuracy: 0.8862\n",
      "Epoch 65/500\n",
      "207/207 [==============================] - ETA: 0s - loss: 0.1322 - accuracy: 0.9529\n",
      "Epoch 65: val_accuracy did not improve from 0.90239\n",
      "207/207 [==============================] - 25s 119ms/step - loss: 0.1322 - accuracy: 0.9529 - val_loss: 0.8645 - val_accuracy: 0.8097\n",
      "Epoch 66/500\n",
      "207/207 [==============================] - ETA: 0s - loss: 0.1014 - accuracy: 0.9646\n",
      "Epoch 66: val_accuracy did not improve from 0.90239\n",
      "207/207 [==============================] - 24s 118ms/step - loss: 0.1014 - accuracy: 0.9646 - val_loss: 0.3860 - val_accuracy: 0.8982\n",
      "Epoch 67/500\n",
      "207/207 [==============================] - ETA: 0s - loss: 0.0969 - accuracy: 0.9643\n",
      "Epoch 67: val_accuracy did not improve from 0.90239\n",
      "207/207 [==============================] - 25s 118ms/step - loss: 0.0969 - accuracy: 0.9643 - val_loss: 1.7598 - val_accuracy: 0.6987\n",
      "Epoch 68/500\n",
      "207/207 [==============================] - ETA: 0s - loss: 0.1569 - accuracy: 0.9474\n",
      "Epoch 68: val_accuracy did not improve from 0.90239\n",
      "207/207 [==============================] - 25s 122ms/step - loss: 0.1569 - accuracy: 0.9474 - val_loss: 2.2003 - val_accuracy: 0.6692\n",
      "Epoch 69/500\n",
      "207/207 [==============================] - ETA: 0s - loss: 0.1251 - accuracy: 0.9580\n",
      "Epoch 69: val_accuracy improved from 0.90239 to 0.90379, saving model to model_weights.h5\n",
      "207/207 [==============================] - 25s 119ms/step - loss: 0.1251 - accuracy: 0.9580 - val_loss: 0.3935 - val_accuracy: 0.9038\n",
      "Epoch 70/500\n",
      "207/207 [==============================] - ETA: 0s - loss: 0.1103 - accuracy: 0.9622\n",
      "Epoch 70: val_accuracy did not improve from 0.90379\n",
      "207/207 [==============================] - 24s 118ms/step - loss: 0.1103 - accuracy: 0.9622 - val_loss: 0.6176 - val_accuracy: 0.8603\n",
      "Epoch 71/500\n",
      "207/207 [==============================] - ETA: 0s - loss: 0.1119 - accuracy: 0.9628\n",
      "Epoch 71: val_accuracy did not improve from 0.90379\n",
      "207/207 [==============================] - 24s 118ms/step - loss: 0.1119 - accuracy: 0.9628 - val_loss: 0.4284 - val_accuracy: 0.8940\n",
      "Epoch 72/500\n",
      "207/207 [==============================] - ETA: 0s - loss: 0.1332 - accuracy: 0.9610\n",
      "Epoch 72: val_accuracy did not improve from 0.90379\n",
      "207/207 [==============================] - 25s 119ms/step - loss: 0.1332 - accuracy: 0.9610 - val_loss: 0.8204 - val_accuracy: 0.8202\n",
      "Epoch 73/500\n",
      "207/207 [==============================] - ETA: 0s - loss: 0.1023 - accuracy: 0.9604\n",
      "Epoch 73: val_accuracy did not improve from 0.90379\n",
      "207/207 [==============================] - 25s 118ms/step - loss: 0.1023 - accuracy: 0.9604 - val_loss: 0.4441 - val_accuracy: 0.8785\n",
      "Epoch 74/500\n",
      "207/207 [==============================] - ETA: 0s - loss: 0.1092 - accuracy: 0.9616\n",
      "Epoch 74: val_accuracy did not improve from 0.90379\n",
      "207/207 [==============================] - 24s 118ms/step - loss: 0.1092 - accuracy: 0.9616 - val_loss: 0.4228 - val_accuracy: 0.8989\n",
      "Epoch 75/500\n",
      "207/207 [==============================] - ETA: 0s - loss: 0.0921 - accuracy: 0.9689\n",
      "Epoch 75: val_accuracy did not improve from 0.90379\n",
      "207/207 [==============================] - 25s 118ms/step - loss: 0.0921 - accuracy: 0.9689 - val_loss: 0.5690 - val_accuracy: 0.8638\n",
      "Epoch 76/500\n",
      "207/207 [==============================] - ETA: 0s - loss: 0.1020 - accuracy: 0.9652\n",
      "Epoch 76: val_accuracy did not improve from 0.90379\n",
      "207/207 [==============================] - 25s 118ms/step - loss: 0.1020 - accuracy: 0.9652 - val_loss: 0.6046 - val_accuracy: 0.8560\n",
      "Epoch 77/500\n",
      "207/207 [==============================] - ETA: 0s - loss: 0.0779 - accuracy: 0.9719\n",
      "Epoch 77: val_accuracy did not improve from 0.90379\n",
      "207/207 [==============================] - 25s 119ms/step - loss: 0.0779 - accuracy: 0.9719 - val_loss: 0.5003 - val_accuracy: 0.8855\n",
      "Epoch 78/500\n",
      "207/207 [==============================] - ETA: 0s - loss: 0.0833 - accuracy: 0.9710\n",
      "Epoch 78: val_accuracy did not improve from 0.90379\n",
      "207/207 [==============================] - 25s 118ms/step - loss: 0.0833 - accuracy: 0.9710 - val_loss: 2.1670 - val_accuracy: 0.6819\n",
      "Epoch 79/500\n",
      "207/207 [==============================] - ETA: 0s - loss: 0.1220 - accuracy: 0.9562\n",
      "Epoch 79: val_accuracy did not improve from 0.90379\n",
      "207/207 [==============================] - 24s 118ms/step - loss: 0.1220 - accuracy: 0.9562 - val_loss: 0.8160 - val_accuracy: 0.8230\n",
      "Epoch 80/500\n",
      "207/207 [==============================] - ETA: 0s - loss: 0.0955 - accuracy: 0.9683\n",
      "Epoch 80: val_accuracy did not improve from 0.90379\n",
      "207/207 [==============================] - 25s 119ms/step - loss: 0.0955 - accuracy: 0.9683 - val_loss: 0.5947 - val_accuracy: 0.8750\n",
      "Epoch 81/500\n",
      "207/207 [==============================] - ETA: 0s - loss: 0.1016 - accuracy: 0.9698\n",
      "Epoch 81: val_accuracy did not improve from 0.90379\n",
      "207/207 [==============================] - 25s 118ms/step - loss: 0.1016 - accuracy: 0.9698 - val_loss: 0.5528 - val_accuracy: 0.8897\n",
      "Epoch 82/500\n",
      "207/207 [==============================] - ETA: 0s - loss: 0.0909 - accuracy: 0.9689\n",
      "Epoch 82: val_accuracy did not improve from 0.90379\n",
      "207/207 [==============================] - 25s 119ms/step - loss: 0.0909 - accuracy: 0.9689 - val_loss: 1.4246 - val_accuracy: 0.7458\n",
      "Epoch 83/500\n",
      "207/207 [==============================] - ETA: 0s - loss: 0.0892 - accuracy: 0.9701\n",
      "Epoch 83: val_accuracy did not improve from 0.90379\n",
      "207/207 [==============================] - 24s 118ms/step - loss: 0.0892 - accuracy: 0.9701 - val_loss: 0.5064 - val_accuracy: 0.8996\n",
      "Epoch 84/500\n",
      "207/207 [==============================] - ETA: 0s - loss: 0.0907 - accuracy: 0.9713\n",
      "Epoch 84: val_accuracy did not improve from 0.90379\n",
      "207/207 [==============================] - 24s 118ms/step - loss: 0.0907 - accuracy: 0.9713 - val_loss: 0.5512 - val_accuracy: 0.8715\n",
      "Epoch 85/500\n",
      "207/207 [==============================] - ETA: 0s - loss: 0.1121 - accuracy: 0.9634\n",
      "Epoch 85: val_accuracy did not improve from 0.90379\n",
      "207/207 [==============================] - 25s 118ms/step - loss: 0.1121 - accuracy: 0.9634 - val_loss: 0.5696 - val_accuracy: 0.8701\n",
      "Epoch 86/500\n"
     ]
    },
    {
     "name": "stdout",
     "output_type": "stream",
     "text": [
      "207/207 [==============================] - ETA: 0s - loss: 0.1232 - accuracy: 0.9625\n",
      "Epoch 86: val_accuracy did not improve from 0.90379\n",
      "207/207 [==============================] - 24s 118ms/step - loss: 0.1232 - accuracy: 0.9625 - val_loss: 0.9505 - val_accuracy: 0.8265\n",
      "Epoch 87/500\n",
      "207/207 [==============================] - ETA: 0s - loss: 0.0882 - accuracy: 0.9689\n",
      "Epoch 87: val_accuracy did not improve from 0.90379\n",
      "207/207 [==============================] - 24s 118ms/step - loss: 0.0882 - accuracy: 0.9689 - val_loss: 0.6524 - val_accuracy: 0.8624\n",
      "Epoch 88/500\n",
      "207/207 [==============================] - ETA: 0s - loss: 0.0834 - accuracy: 0.9716\n",
      "Epoch 88: val_accuracy did not improve from 0.90379\n",
      "207/207 [==============================] - 24s 117ms/step - loss: 0.0834 - accuracy: 0.9716 - val_loss: 0.4455 - val_accuracy: 0.8968\n",
      "Epoch 89/500\n",
      "207/207 [==============================] - ETA: 0s - loss: 0.0874 - accuracy: 0.9743\n",
      "Epoch 89: val_accuracy improved from 0.90379 to 0.92205, saving model to model_weights.h5\n",
      "207/207 [==============================] - 25s 120ms/step - loss: 0.0874 - accuracy: 0.9743 - val_loss: 0.3685 - val_accuracy: 0.9221\n",
      "Epoch 90/500\n",
      "207/207 [==============================] - ETA: 0s - loss: 0.1064 - accuracy: 0.9652\n",
      "Epoch 90: val_accuracy did not improve from 0.92205\n",
      "207/207 [==============================] - 25s 119ms/step - loss: 0.1064 - accuracy: 0.9652 - val_loss: 0.6954 - val_accuracy: 0.8511\n",
      "Epoch 91/500\n",
      "207/207 [==============================] - ETA: 0s - loss: 0.0802 - accuracy: 0.9737\n",
      "Epoch 91: val_accuracy did not improve from 0.92205\n",
      "207/207 [==============================] - 25s 119ms/step - loss: 0.0802 - accuracy: 0.9737 - val_loss: 0.6648 - val_accuracy: 0.8603\n",
      "Epoch 92/500\n",
      "207/207 [==============================] - ETA: 0s - loss: 0.0841 - accuracy: 0.9707\n",
      "Epoch 92: val_accuracy did not improve from 0.92205\n",
      "207/207 [==============================] - 25s 118ms/step - loss: 0.0841 - accuracy: 0.9707 - val_loss: 0.3965 - val_accuracy: 0.9129\n",
      "Epoch 93/500\n",
      "207/207 [==============================] - ETA: 0s - loss: 0.0456 - accuracy: 0.9837\n",
      "Epoch 93: val_accuracy did not improve from 0.92205\n",
      "207/207 [==============================] - 24s 118ms/step - loss: 0.0456 - accuracy: 0.9837 - val_loss: 0.4862 - val_accuracy: 0.8954\n",
      "Epoch 94/500\n",
      "207/207 [==============================] - ETA: 0s - loss: 0.0845 - accuracy: 0.9746\n",
      "Epoch 94: val_accuracy did not improve from 0.92205\n",
      "207/207 [==============================] - 24s 118ms/step - loss: 0.0845 - accuracy: 0.9746 - val_loss: 1.3304 - val_accuracy: 0.7598\n",
      "Epoch 95/500\n",
      "207/207 [==============================] - ETA: 0s - loss: 0.1376 - accuracy: 0.9601\n",
      "Epoch 95: val_accuracy did not improve from 0.92205\n",
      "207/207 [==============================] - 25s 118ms/step - loss: 0.1376 - accuracy: 0.9601 - val_loss: 0.6744 - val_accuracy: 0.8757\n",
      "Epoch 96/500\n",
      "207/207 [==============================] - ETA: 0s - loss: 0.0807 - accuracy: 0.9743\n",
      "Epoch 96: val_accuracy did not improve from 0.92205\n",
      "207/207 [==============================] - 25s 119ms/step - loss: 0.0807 - accuracy: 0.9743 - val_loss: 0.4122 - val_accuracy: 0.9059\n",
      "Epoch 97/500\n",
      "207/207 [==============================] - ETA: 0s - loss: 0.0851 - accuracy: 0.9764\n",
      "Epoch 97: val_accuracy did not improve from 0.92205\n",
      "207/207 [==============================] - 24s 117ms/step - loss: 0.0851 - accuracy: 0.9764 - val_loss: 1.0407 - val_accuracy: 0.8125\n",
      "Epoch 98/500\n",
      "207/207 [==============================] - ETA: 0s - loss: 0.0748 - accuracy: 0.9740\n",
      "Epoch 98: val_accuracy did not improve from 0.92205\n",
      "207/207 [==============================] - 25s 119ms/step - loss: 0.0748 - accuracy: 0.9740 - val_loss: 0.4173 - val_accuracy: 0.9073\n",
      "Epoch 99/500\n",
      "207/207 [==============================] - ETA: 0s - loss: 0.1024 - accuracy: 0.9686\n",
      "Epoch 99: val_accuracy did not improve from 0.92205\n",
      "207/207 [==============================] - 25s 119ms/step - loss: 0.1024 - accuracy: 0.9686 - val_loss: 0.4910 - val_accuracy: 0.8869\n",
      "Epoch 100/500\n",
      "207/207 [==============================] - ETA: 0s - loss: 0.0782 - accuracy: 0.9692\n",
      "Epoch 100: val_accuracy did not improve from 0.92205\n",
      "207/207 [==============================] - 25s 118ms/step - loss: 0.0782 - accuracy: 0.9692 - val_loss: 0.5633 - val_accuracy: 0.8954\n",
      "Epoch 101/500\n",
      "207/207 [==============================] - ETA: 0s - loss: 0.0818 - accuracy: 0.9716\n",
      "Epoch 101: val_accuracy did not improve from 0.92205\n",
      "207/207 [==============================] - 24s 118ms/step - loss: 0.0818 - accuracy: 0.9716 - val_loss: 1.0086 - val_accuracy: 0.8048\n",
      "Epoch 102/500\n",
      "207/207 [==============================] - ETA: 0s - loss: 0.0831 - accuracy: 0.9761\n",
      "Epoch 102: val_accuracy did not improve from 0.92205\n",
      "207/207 [==============================] - 24s 117ms/step - loss: 0.0831 - accuracy: 0.9761 - val_loss: 0.5757 - val_accuracy: 0.8841\n",
      "Epoch 103/500\n",
      "207/207 [==============================] - ETA: 0s - loss: 0.0917 - accuracy: 0.9713\n",
      "Epoch 103: val_accuracy did not improve from 0.92205\n",
      "207/207 [==============================] - 25s 118ms/step - loss: 0.0917 - accuracy: 0.9713 - val_loss: 0.4078 - val_accuracy: 0.9115\n",
      "Epoch 104/500\n",
      "207/207 [==============================] - ETA: 0s - loss: 0.0644 - accuracy: 0.9791\n",
      "Epoch 104: val_accuracy did not improve from 0.92205\n",
      "207/207 [==============================] - 25s 119ms/step - loss: 0.0644 - accuracy: 0.9791 - val_loss: 0.4906 - val_accuracy: 0.9066\n",
      "Epoch 105/500\n",
      "207/207 [==============================] - ETA: 0s - loss: 0.0531 - accuracy: 0.9831\n",
      "Epoch 105: val_accuracy did not improve from 0.92205\n",
      "207/207 [==============================] - 25s 118ms/step - loss: 0.0531 - accuracy: 0.9831 - val_loss: 0.7655 - val_accuracy: 0.8701\n",
      "Epoch 106/500\n",
      "207/207 [==============================] - ETA: 0s - loss: 0.0459 - accuracy: 0.9840\n",
      "Epoch 106: val_accuracy did not improve from 0.92205\n",
      "207/207 [==============================] - 24s 118ms/step - loss: 0.0459 - accuracy: 0.9840 - val_loss: 0.3842 - val_accuracy: 0.9157\n",
      "Epoch 107/500\n",
      "207/207 [==============================] - ETA: 0s - loss: 0.0433 - accuracy: 0.9849\n",
      "Epoch 107: val_accuracy did not improve from 0.92205\n",
      "207/207 [==============================] - 24s 118ms/step - loss: 0.0433 - accuracy: 0.9849 - val_loss: 0.5202 - val_accuracy: 0.8933\n",
      "Epoch 108/500\n",
      "207/207 [==============================] - ETA: 0s - loss: 0.0467 - accuracy: 0.9828\n",
      "Epoch 108: val_accuracy did not improve from 0.92205\n",
      "207/207 [==============================] - 25s 119ms/step - loss: 0.0467 - accuracy: 0.9828 - val_loss: 0.7083 - val_accuracy: 0.8680\n",
      "Epoch 109/500\n",
      "207/207 [==============================] - ETA: 0s - loss: 0.0841 - accuracy: 0.9734\n",
      "Epoch 109: val_accuracy did not improve from 0.92205\n",
      "207/207 [==============================] - 25s 118ms/step - loss: 0.0841 - accuracy: 0.9734 - val_loss: 1.0351 - val_accuracy: 0.8202\n",
      "Epoch 110/500\n",
      "207/207 [==============================] - ETA: 0s - loss: 0.0646 - accuracy: 0.9776\n",
      "Epoch 110: val_accuracy did not improve from 0.92205\n",
      "207/207 [==============================] - 25s 120ms/step - loss: 0.0646 - accuracy: 0.9776 - val_loss: 0.4441 - val_accuracy: 0.9038\n",
      "Epoch 111/500\n",
      "207/207 [==============================] - ETA: 0s - loss: 0.0636 - accuracy: 0.9816\n",
      "Epoch 111: val_accuracy did not improve from 0.92205\n",
      "207/207 [==============================] - 24s 118ms/step - loss: 0.0636 - accuracy: 0.9816 - val_loss: 0.5464 - val_accuracy: 0.8961\n",
      "Epoch 112/500\n",
      "207/207 [==============================] - ETA: 0s - loss: 0.0707 - accuracy: 0.9785\n",
      "Epoch 112: val_accuracy did not improve from 0.92205\n",
      "207/207 [==============================] - 24s 118ms/step - loss: 0.0707 - accuracy: 0.9785 - val_loss: 0.4742 - val_accuracy: 0.9010\n",
      "Epoch 113/500\n",
      "207/207 [==============================] - ETA: 0s - loss: 0.0760 - accuracy: 0.9764\n",
      "Epoch 113: val_accuracy did not improve from 0.92205\n",
      "207/207 [==============================] - 25s 119ms/step - loss: 0.0760 - accuracy: 0.9764 - val_loss: 0.6745 - val_accuracy: 0.8820\n",
      "Epoch 114/500\n",
      "207/207 [==============================] - ETA: 0s - loss: 0.1022 - accuracy: 0.9677\n",
      "Epoch 114: val_accuracy did not improve from 0.92205\n",
      "207/207 [==============================] - 24s 118ms/step - loss: 0.1022 - accuracy: 0.9677 - val_loss: 0.6437 - val_accuracy: 0.8722\n"
     ]
    },
    {
     "name": "stdout",
     "output_type": "stream",
     "text": [
      "Epoch 115/500\n",
      "207/207 [==============================] - ETA: 0s - loss: 0.1070 - accuracy: 0.9716\n",
      "Epoch 115: val_accuracy did not improve from 0.92205\n",
      "207/207 [==============================] - 24s 117ms/step - loss: 0.1070 - accuracy: 0.9716 - val_loss: 1.0471 - val_accuracy: 0.7985\n",
      "Epoch 116/500\n",
      "207/207 [==============================] - ETA: 0s - loss: 0.0843 - accuracy: 0.9749\n",
      "Epoch 116: val_accuracy did not improve from 0.92205\n",
      "207/207 [==============================] - 25s 119ms/step - loss: 0.0843 - accuracy: 0.9749 - val_loss: 0.6364 - val_accuracy: 0.8743\n",
      "Epoch 117/500\n",
      "207/207 [==============================] - ETA: 0s - loss: 0.0852 - accuracy: 0.9740\n",
      "Epoch 117: val_accuracy did not improve from 0.92205\n",
      "207/207 [==============================] - 24s 118ms/step - loss: 0.0852 - accuracy: 0.9740 - val_loss: 1.0330 - val_accuracy: 0.8350\n",
      "Epoch 118/500\n",
      "207/207 [==============================] - ETA: 0s - loss: 0.0879 - accuracy: 0.9764\n",
      "Epoch 118: val_accuracy did not improve from 0.92205\n",
      "207/207 [==============================] - 24s 118ms/step - loss: 0.0879 - accuracy: 0.9764 - val_loss: 0.5558 - val_accuracy: 0.8961\n",
      "Epoch 119/500\n",
      "207/207 [==============================] - ETA: 0s - loss: 0.0713 - accuracy: 0.9798\n",
      "Epoch 119: val_accuracy did not improve from 0.92205\n",
      "207/207 [==============================] - 24s 118ms/step - loss: 0.0713 - accuracy: 0.9798 - val_loss: 0.5112 - val_accuracy: 0.9017\n",
      "Epoch 120/500\n",
      "207/207 [==============================] - ETA: 0s - loss: 0.0758 - accuracy: 0.9770\n",
      "Epoch 120: val_accuracy did not improve from 0.92205\n",
      "207/207 [==============================] - 24s 118ms/step - loss: 0.0758 - accuracy: 0.9770 - val_loss: 0.5041 - val_accuracy: 0.9136\n",
      "Epoch 121/500\n",
      "207/207 [==============================] - ETA: 0s - loss: 0.0405 - accuracy: 0.9849\n",
      "Epoch 121: val_accuracy did not improve from 0.92205\n",
      "207/207 [==============================] - 24s 117ms/step - loss: 0.0405 - accuracy: 0.9849 - val_loss: 0.5056 - val_accuracy: 0.9066\n",
      "Epoch 122/500\n",
      "207/207 [==============================] - ETA: 0s - loss: 0.0915 - accuracy: 0.9773\n",
      "Epoch 122: val_accuracy did not improve from 0.92205\n",
      "207/207 [==============================] - 24s 118ms/step - loss: 0.0915 - accuracy: 0.9773 - val_loss: 1.5744 - val_accuracy: 0.7985\n",
      "Epoch 123/500\n",
      "207/207 [==============================] - ETA: 0s - loss: 0.0520 - accuracy: 0.9822\n",
      "Epoch 123: val_accuracy did not improve from 0.92205\n",
      "207/207 [==============================] - 25s 119ms/step - loss: 0.0520 - accuracy: 0.9822 - val_loss: 0.4870 - val_accuracy: 0.9080\n",
      "Epoch 124/500\n",
      "207/207 [==============================] - ETA: 0s - loss: 0.0562 - accuracy: 0.9816\n",
      "Epoch 124: val_accuracy did not improve from 0.92205\n",
      "207/207 [==============================] - 25s 119ms/step - loss: 0.0562 - accuracy: 0.9816 - val_loss: 0.5145 - val_accuracy: 0.8940\n",
      "Epoch 125/500\n",
      "207/207 [==============================] - ETA: 0s - loss: 0.0481 - accuracy: 0.9849\n",
      "Epoch 125: val_accuracy did not improve from 0.92205\n",
      "207/207 [==============================] - 25s 119ms/step - loss: 0.0481 - accuracy: 0.9849 - val_loss: 1.0444 - val_accuracy: 0.8553\n",
      "Epoch 126/500\n",
      "207/207 [==============================] - ETA: 0s - loss: 0.0407 - accuracy: 0.9867\n",
      "Epoch 126: val_accuracy did not improve from 0.92205\n",
      "207/207 [==============================] - 25s 118ms/step - loss: 0.0407 - accuracy: 0.9867 - val_loss: 0.4694 - val_accuracy: 0.9080\n",
      "Epoch 127/500\n",
      "207/207 [==============================] - ETA: 0s - loss: 0.0500 - accuracy: 0.9831\n",
      "Epoch 127: val_accuracy did not improve from 0.92205\n",
      "207/207 [==============================] - 25s 119ms/step - loss: 0.0500 - accuracy: 0.9831 - val_loss: 0.4182 - val_accuracy: 0.9157\n",
      "Epoch 128/500\n",
      "207/207 [==============================] - ETA: 0s - loss: 0.0892 - accuracy: 0.9704\n",
      "Epoch 128: val_accuracy did not improve from 0.92205\n",
      "207/207 [==============================] - 25s 119ms/step - loss: 0.0892 - accuracy: 0.9704 - val_loss: 0.4684 - val_accuracy: 0.8912\n",
      "Epoch 129/500\n",
      "207/207 [==============================] - ETA: 0s - loss: 0.0362 - accuracy: 0.9870\n",
      "Epoch 129: val_accuracy did not improve from 0.92205\n",
      "207/207 [==============================] - 25s 119ms/step - loss: 0.0362 - accuracy: 0.9870 - val_loss: 0.5193 - val_accuracy: 0.8996\n",
      "Epoch 130/500\n",
      "207/207 [==============================] - ETA: 0s - loss: 0.0537 - accuracy: 0.9810\n",
      "Epoch 130: val_accuracy did not improve from 0.92205\n",
      "207/207 [==============================] - 25s 119ms/step - loss: 0.0537 - accuracy: 0.9810 - val_loss: 1.6519 - val_accuracy: 0.7598\n",
      "Epoch 131/500\n",
      "207/207 [==============================] - ETA: 0s - loss: 0.0791 - accuracy: 0.9728\n",
      "Epoch 131: val_accuracy did not improve from 0.92205\n",
      "207/207 [==============================] - 25s 120ms/step - loss: 0.0791 - accuracy: 0.9728 - val_loss: 0.6097 - val_accuracy: 0.8841\n",
      "Epoch 132/500\n",
      "207/207 [==============================] - ETA: 0s - loss: 0.0661 - accuracy: 0.9816\n",
      "Epoch 132: val_accuracy did not improve from 0.92205\n",
      "207/207 [==============================] - 25s 119ms/step - loss: 0.0661 - accuracy: 0.9816 - val_loss: 0.5344 - val_accuracy: 0.8904\n",
      "Epoch 133/500\n",
      "207/207 [==============================] - ETA: 0s - loss: 0.0603 - accuracy: 0.9810\n",
      "Epoch 133: val_accuracy did not improve from 0.92205\n",
      "207/207 [==============================] - 25s 118ms/step - loss: 0.0603 - accuracy: 0.9810 - val_loss: 0.4446 - val_accuracy: 0.9101\n",
      "Epoch 134/500\n",
      "207/207 [==============================] - ETA: 0s - loss: 0.0624 - accuracy: 0.9840\n",
      "Epoch 134: val_accuracy did not improve from 0.92205\n",
      "207/207 [==============================] - 25s 118ms/step - loss: 0.0624 - accuracy: 0.9840 - val_loss: 0.6940 - val_accuracy: 0.8603\n",
      "Epoch 135/500\n",
      "207/207 [==============================] - ETA: 0s - loss: 0.0645 - accuracy: 0.9773\n",
      "Epoch 135: val_accuracy did not improve from 0.92205\n",
      "207/207 [==============================] - 25s 119ms/step - loss: 0.0645 - accuracy: 0.9773 - val_loss: 0.4180 - val_accuracy: 0.9150\n",
      "Epoch 136/500\n",
      "207/207 [==============================] - ETA: 0s - loss: 0.0455 - accuracy: 0.9870\n",
      "Epoch 136: val_accuracy did not improve from 0.92205\n",
      "207/207 [==============================] - 24s 118ms/step - loss: 0.0455 - accuracy: 0.9870 - val_loss: 0.6860 - val_accuracy: 0.8715\n",
      "Epoch 137/500\n",
      "207/207 [==============================] - ETA: 0s - loss: 0.0436 - accuracy: 0.9873\n",
      "Epoch 137: val_accuracy did not improve from 0.92205\n",
      "207/207 [==============================] - 25s 118ms/step - loss: 0.0436 - accuracy: 0.9873 - val_loss: 0.5619 - val_accuracy: 0.8883\n",
      "Epoch 138/500\n",
      "207/207 [==============================] - ETA: 0s - loss: 0.0709 - accuracy: 0.9794\n",
      "Epoch 138: val_accuracy did not improve from 0.92205\n",
      "207/207 [==============================] - 24s 118ms/step - loss: 0.0709 - accuracy: 0.9794 - val_loss: 0.5099 - val_accuracy: 0.8968\n",
      "Epoch 139/500\n",
      "207/207 [==============================] - ETA: 0s - loss: 0.0594 - accuracy: 0.9831\n",
      "Epoch 139: val_accuracy did not improve from 0.92205\n",
      "207/207 [==============================] - 25s 118ms/step - loss: 0.0594 - accuracy: 0.9831 - val_loss: 0.6517 - val_accuracy: 0.8652\n",
      "Epoch 140/500\n",
      "207/207 [==============================] - ETA: 0s - loss: 0.0515 - accuracy: 0.9822\n",
      "Epoch 140: val_accuracy did not improve from 0.92205\n",
      "207/207 [==============================] - 25s 119ms/step - loss: 0.0515 - accuracy: 0.9822 - val_loss: 0.8101 - val_accuracy: 0.8645\n",
      "Epoch 141/500\n",
      "207/207 [==============================] - ETA: 0s - loss: 0.0352 - accuracy: 0.9870\n",
      "Epoch 141: val_accuracy did not improve from 0.92205\n",
      "207/207 [==============================] - 24s 118ms/step - loss: 0.0352 - accuracy: 0.9870 - val_loss: 0.4661 - val_accuracy: 0.9213\n",
      "Epoch 142/500\n",
      "207/207 [==============================] - ETA: 0s - loss: 0.0384 - accuracy: 0.9867\n",
      "Epoch 142: val_accuracy did not improve from 0.92205\n",
      "207/207 [==============================] - 25s 119ms/step - loss: 0.0384 - accuracy: 0.9867 - val_loss: 1.1345 - val_accuracy: 0.8181\n",
      "Epoch 143/500\n",
      "207/207 [==============================] - ETA: 0s - loss: 0.0415 - accuracy: 0.9861\n",
      "Epoch 143: val_accuracy did not improve from 0.92205\n",
      "207/207 [==============================] - 25s 119ms/step - loss: 0.0415 - accuracy: 0.9861 - val_loss: 0.7380 - val_accuracy: 0.8659\n"
     ]
    },
    {
     "name": "stdout",
     "output_type": "stream",
     "text": [
      "Epoch 144/500\n",
      "207/207 [==============================] - ETA: 0s - loss: 0.0519 - accuracy: 0.9834\n",
      "Epoch 144: val_accuracy did not improve from 0.92205\n",
      "207/207 [==============================] - 24s 117ms/step - loss: 0.0519 - accuracy: 0.9834 - val_loss: 0.4593 - val_accuracy: 0.9038\n",
      "Epoch 145/500\n",
      "207/207 [==============================] - ETA: 0s - loss: 0.0696 - accuracy: 0.9804\n",
      "Epoch 145: val_accuracy did not improve from 0.92205\n",
      "207/207 [==============================] - 24s 117ms/step - loss: 0.0696 - accuracy: 0.9804 - val_loss: 1.3133 - val_accuracy: 0.8090\n",
      "Epoch 146/500\n",
      "207/207 [==============================] - ETA: 0s - loss: 0.0611 - accuracy: 0.9834\n",
      "Epoch 146: val_accuracy did not improve from 0.92205\n",
      "207/207 [==============================] - 24s 117ms/step - loss: 0.0611 - accuracy: 0.9834 - val_loss: 0.6756 - val_accuracy: 0.8722\n",
      "Epoch 147/500\n",
      "207/207 [==============================] - ETA: 0s - loss: 0.0572 - accuracy: 0.9834\n",
      "Epoch 147: val_accuracy did not improve from 0.92205\n",
      "207/207 [==============================] - 24s 117ms/step - loss: 0.0572 - accuracy: 0.9834 - val_loss: 0.4449 - val_accuracy: 0.9094\n",
      "Epoch 148/500\n",
      "207/207 [==============================] - ETA: 0s - loss: 0.0629 - accuracy: 0.9843\n",
      "Epoch 148: val_accuracy did not improve from 0.92205\n",
      "207/207 [==============================] - 24s 118ms/step - loss: 0.0629 - accuracy: 0.9843 - val_loss: 1.4817 - val_accuracy: 0.7633\n",
      "Epoch 149/500\n",
      "207/207 [==============================] - ETA: 0s - loss: 0.0543 - accuracy: 0.9825\n",
      "Epoch 149: val_accuracy did not improve from 0.92205\n",
      "207/207 [==============================] - 25s 118ms/step - loss: 0.0543 - accuracy: 0.9825 - val_loss: 0.9439 - val_accuracy: 0.8490\n",
      "Epoch 150/500\n",
      "207/207 [==============================] - ETA: 0s - loss: 0.0424 - accuracy: 0.9873\n",
      "Epoch 150: val_accuracy did not improve from 0.92205\n",
      "207/207 [==============================] - 24s 118ms/step - loss: 0.0424 - accuracy: 0.9873 - val_loss: 0.4678 - val_accuracy: 0.9059\n",
      "Epoch 151/500\n",
      "207/207 [==============================] - ETA: 0s - loss: 0.0418 - accuracy: 0.9834\n",
      "Epoch 151: val_accuracy did not improve from 0.92205\n",
      "207/207 [==============================] - 24s 118ms/step - loss: 0.0418 - accuracy: 0.9834 - val_loss: 0.4873 - val_accuracy: 0.9143\n",
      "Epoch 152/500\n",
      "207/207 [==============================] - ETA: 0s - loss: 0.0735 - accuracy: 0.9813\n",
      "Epoch 152: val_accuracy did not improve from 0.92205\n",
      "207/207 [==============================] - 25s 118ms/step - loss: 0.0735 - accuracy: 0.9813 - val_loss: 0.6367 - val_accuracy: 0.8841\n",
      "Epoch 153/500\n",
      "207/207 [==============================] - ETA: 0s - loss: 0.0698 - accuracy: 0.9794\n",
      "Epoch 153: val_accuracy did not improve from 0.92205\n",
      "207/207 [==============================] - 25s 118ms/step - loss: 0.0698 - accuracy: 0.9794 - val_loss: 0.7724 - val_accuracy: 0.8708\n",
      "Epoch 154/500\n",
      "207/207 [==============================] - ETA: 0s - loss: 0.0319 - accuracy: 0.9906\n",
      "Epoch 154: val_accuracy did not improve from 0.92205\n",
      "207/207 [==============================] - 25s 118ms/step - loss: 0.0319 - accuracy: 0.9906 - val_loss: 0.4746 - val_accuracy: 0.9045\n",
      "Epoch 155/500\n",
      "207/207 [==============================] - ETA: 0s - loss: 0.0332 - accuracy: 0.9894\n",
      "Epoch 155: val_accuracy did not improve from 0.92205\n",
      "207/207 [==============================] - 25s 119ms/step - loss: 0.0332 - accuracy: 0.9894 - val_loss: 0.5409 - val_accuracy: 0.8982\n",
      "Epoch 156/500\n",
      "207/207 [==============================] - ETA: 0s - loss: 0.0664 - accuracy: 0.9837\n",
      "Epoch 156: val_accuracy did not improve from 0.92205\n",
      "207/207 [==============================] - 25s 119ms/step - loss: 0.0664 - accuracy: 0.9837 - val_loss: 1.6477 - val_accuracy: 0.7626\n",
      "Epoch 157/500\n",
      "207/207 [==============================] - ETA: 0s - loss: 0.0769 - accuracy: 0.9779\n",
      "Epoch 157: val_accuracy did not improve from 0.92205\n",
      "207/207 [==============================] - 24s 118ms/step - loss: 0.0769 - accuracy: 0.9779 - val_loss: 0.5951 - val_accuracy: 0.8933\n",
      "Epoch 158/500\n",
      "207/207 [==============================] - ETA: 0s - loss: 0.0521 - accuracy: 0.9846\n",
      "Epoch 158: val_accuracy did not improve from 0.92205\n",
      "207/207 [==============================] - 25s 118ms/step - loss: 0.0521 - accuracy: 0.9846 - val_loss: 0.4854 - val_accuracy: 0.9115\n",
      "Epoch 159/500\n",
      "207/207 [==============================] - ETA: 0s - loss: 0.0225 - accuracy: 0.9930\n",
      "Epoch 159: val_accuracy did not improve from 0.92205\n",
      "207/207 [==============================] - 24s 116ms/step - loss: 0.0225 - accuracy: 0.9930 - val_loss: 0.6186 - val_accuracy: 0.9017\n",
      "Epoch 160/500\n",
      "207/207 [==============================] - ETA: 0s - loss: 0.0403 - accuracy: 0.9870\n",
      "Epoch 160: val_accuracy did not improve from 0.92205\n",
      "207/207 [==============================] - 24s 118ms/step - loss: 0.0403 - accuracy: 0.9870 - val_loss: 0.5639 - val_accuracy: 0.9003\n",
      "Epoch 161/500\n",
      "207/207 [==============================] - ETA: 0s - loss: 0.0203 - accuracy: 0.9934\n",
      "Epoch 161: val_accuracy did not improve from 0.92205\n",
      "207/207 [==============================] - 25s 119ms/step - loss: 0.0203 - accuracy: 0.9934 - val_loss: 0.5244 - val_accuracy: 0.9087\n",
      "Epoch 162/500\n",
      "207/207 [==============================] - ETA: 0s - loss: 0.0252 - accuracy: 0.9900\n",
      "Epoch 162: val_accuracy did not improve from 0.92205\n",
      "207/207 [==============================] - 25s 118ms/step - loss: 0.0252 - accuracy: 0.9900 - val_loss: 0.5480 - val_accuracy: 0.9087\n",
      "Epoch 163/500\n",
      "207/207 [==============================] - ETA: 0s - loss: 0.0389 - accuracy: 0.9864\n",
      "Epoch 163: val_accuracy did not improve from 0.92205\n",
      "207/207 [==============================] - 24s 118ms/step - loss: 0.0389 - accuracy: 0.9864 - val_loss: 0.9446 - val_accuracy: 0.8553\n",
      "Epoch 164/500\n",
      "207/207 [==============================] - ETA: 0s - loss: 0.0863 - accuracy: 0.9791\n",
      "Epoch 164: val_accuracy did not improve from 0.92205\n",
      "207/207 [==============================] - 24s 118ms/step - loss: 0.0863 - accuracy: 0.9791 - val_loss: 1.1889 - val_accuracy: 0.8251\n",
      "Epoch 165/500\n",
      "207/207 [==============================] - ETA: 0s - loss: 0.0384 - accuracy: 0.9870\n",
      "Epoch 165: val_accuracy did not improve from 0.92205\n",
      "207/207 [==============================] - 25s 119ms/step - loss: 0.0384 - accuracy: 0.9870 - val_loss: 0.6647 - val_accuracy: 0.8841\n",
      "Epoch 166/500\n",
      "207/207 [==============================] - ETA: 0s - loss: 0.0760 - accuracy: 0.9794\n",
      "Epoch 166: val_accuracy did not improve from 0.92205\n",
      "207/207 [==============================] - 24s 118ms/step - loss: 0.0760 - accuracy: 0.9794 - val_loss: 0.5448 - val_accuracy: 0.8968\n",
      "Epoch 167/500\n",
      "207/207 [==============================] - ETA: 0s - loss: 0.0672 - accuracy: 0.9819\n",
      "Epoch 167: val_accuracy did not improve from 0.92205\n",
      "207/207 [==============================] - 24s 118ms/step - loss: 0.0672 - accuracy: 0.9819 - val_loss: 0.5673 - val_accuracy: 0.8989\n",
      "Epoch 168/500\n",
      "207/207 [==============================] - ETA: 0s - loss: 0.0432 - accuracy: 0.9858\n",
      "Epoch 168: val_accuracy did not improve from 0.92205\n",
      "207/207 [==============================] - 24s 118ms/step - loss: 0.0432 - accuracy: 0.9858 - val_loss: 0.5104 - val_accuracy: 0.9038\n",
      "Epoch 169/500\n",
      "207/207 [==============================] - ETA: 0s - loss: 0.0708 - accuracy: 0.9801\n",
      "Epoch 169: val_accuracy did not improve from 0.92205\n",
      "207/207 [==============================] - 25s 119ms/step - loss: 0.0708 - accuracy: 0.9801 - val_loss: 0.8577 - val_accuracy: 0.8645\n",
      "Epoch 170/500\n",
      "207/207 [==============================] - ETA: 0s - loss: 0.0552 - accuracy: 0.9816\n",
      "Epoch 170: val_accuracy did not improve from 0.92205\n",
      "207/207 [==============================] - 24s 117ms/step - loss: 0.0552 - accuracy: 0.9816 - val_loss: 0.6204 - val_accuracy: 0.8940\n",
      "Epoch 171/500\n",
      "207/207 [==============================] - ETA: 0s - loss: 0.0272 - accuracy: 0.9912\n",
      "Epoch 171: val_accuracy did not improve from 0.92205\n",
      "207/207 [==============================] - 24s 117ms/step - loss: 0.0272 - accuracy: 0.9912 - val_loss: 0.8049 - val_accuracy: 0.8806\n",
      "Epoch 172/500\n",
      "207/207 [==============================] - ETA: 0s - loss: 0.0376 - accuracy: 0.9876\n",
      "Epoch 172: val_accuracy did not improve from 0.92205\n",
      "207/207 [==============================] - 25s 118ms/step - loss: 0.0376 - accuracy: 0.9876 - val_loss: 0.3942 - val_accuracy: 0.9185\n"
     ]
    },
    {
     "name": "stdout",
     "output_type": "stream",
     "text": [
      "Epoch 173/500\n",
      "207/207 [==============================] - ETA: 0s - loss: 0.0229 - accuracy: 0.9894\n",
      "Epoch 173: val_accuracy did not improve from 0.92205\n",
      "207/207 [==============================] - 25s 118ms/step - loss: 0.0229 - accuracy: 0.9894 - val_loss: 0.4523 - val_accuracy: 0.9206\n",
      "Epoch 174/500\n",
      "207/207 [==============================] - ETA: 0s - loss: 0.0379 - accuracy: 0.9885\n",
      "Epoch 174: val_accuracy did not improve from 0.92205\n",
      "207/207 [==============================] - 24s 117ms/step - loss: 0.0379 - accuracy: 0.9885 - val_loss: 0.5084 - val_accuracy: 0.9073\n",
      "Epoch 175/500\n",
      "207/207 [==============================] - ETA: 0s - loss: 0.0555 - accuracy: 0.9807\n",
      "Epoch 175: val_accuracy did not improve from 0.92205\n",
      "207/207 [==============================] - 24s 117ms/step - loss: 0.0555 - accuracy: 0.9807 - val_loss: 0.6316 - val_accuracy: 0.8982\n",
      "Epoch 176/500\n",
      "207/207 [==============================] - ETA: 0s - loss: 0.0465 - accuracy: 0.9873\n",
      "Epoch 176: val_accuracy did not improve from 0.92205\n",
      "207/207 [==============================] - 24s 118ms/step - loss: 0.0465 - accuracy: 0.9873 - val_loss: 0.7152 - val_accuracy: 0.8947\n",
      "Epoch 177/500\n",
      "207/207 [==============================] - ETA: 0s - loss: 0.0409 - accuracy: 0.9873\n",
      "Epoch 177: val_accuracy did not improve from 0.92205\n",
      "207/207 [==============================] - 24s 117ms/step - loss: 0.0409 - accuracy: 0.9873 - val_loss: 1.2021 - val_accuracy: 0.8399\n",
      "Epoch 178/500\n",
      "207/207 [==============================] - ETA: 0s - loss: 0.0535 - accuracy: 0.9828\n",
      "Epoch 178: val_accuracy did not improve from 0.92205\n",
      "207/207 [==============================] - 24s 118ms/step - loss: 0.0535 - accuracy: 0.9828 - val_loss: 0.6768 - val_accuracy: 0.8869\n",
      "Epoch 179/500\n",
      "207/207 [==============================] - ETA: 0s - loss: 0.0568 - accuracy: 0.9816\n",
      "Epoch 179: val_accuracy did not improve from 0.92205\n",
      "207/207 [==============================] - 24s 117ms/step - loss: 0.0568 - accuracy: 0.9816 - val_loss: 0.6538 - val_accuracy: 0.8996\n",
      "Epoch 180/500\n",
      "207/207 [==============================] - ETA: 0s - loss: 0.0572 - accuracy: 0.9846\n",
      "Epoch 180: val_accuracy did not improve from 0.92205\n",
      "207/207 [==============================] - 25s 118ms/step - loss: 0.0572 - accuracy: 0.9846 - val_loss: 1.2972 - val_accuracy: 0.8223\n",
      "Epoch 181/500\n",
      "207/207 [==============================] - ETA: 0s - loss: 0.0603 - accuracy: 0.9837\n",
      "Epoch 181: val_accuracy did not improve from 0.92205\n",
      "207/207 [==============================] - 24s 117ms/step - loss: 0.0603 - accuracy: 0.9837 - val_loss: 0.7073 - val_accuracy: 0.8736\n",
      "Epoch 182/500\n",
      "207/207 [==============================] - ETA: 0s - loss: 0.0371 - accuracy: 0.9894\n",
      "Epoch 182: val_accuracy did not improve from 0.92205\n",
      "207/207 [==============================] - 24s 118ms/step - loss: 0.0371 - accuracy: 0.9894 - val_loss: 0.8001 - val_accuracy: 0.8792\n",
      "Epoch 183/500\n",
      "207/207 [==============================] - ETA: 0s - loss: 0.0311 - accuracy: 0.9897\n",
      "Epoch 183: val_accuracy did not improve from 0.92205\n",
      "207/207 [==============================] - 25s 119ms/step - loss: 0.0311 - accuracy: 0.9897 - val_loss: 0.4522 - val_accuracy: 0.9171\n",
      "Epoch 184/500\n",
      "207/207 [==============================] - ETA: 0s - loss: 0.0338 - accuracy: 0.9900\n",
      "Epoch 184: val_accuracy did not improve from 0.92205\n",
      "207/207 [==============================] - 25s 119ms/step - loss: 0.0338 - accuracy: 0.9900 - val_loss: 1.5799 - val_accuracy: 0.7921\n",
      "Epoch 185/500\n",
      "207/207 [==============================] - ETA: 0s - loss: 0.0524 - accuracy: 0.9840\n",
      "Epoch 185: val_accuracy did not improve from 0.92205\n",
      "207/207 [==============================] - 24s 118ms/step - loss: 0.0524 - accuracy: 0.9840 - val_loss: 0.6849 - val_accuracy: 0.9045\n",
      "Epoch 186/500\n",
      "207/207 [==============================] - ETA: 0s - loss: 0.0261 - accuracy: 0.9912\n",
      "Epoch 186: val_accuracy did not improve from 0.92205\n",
      "207/207 [==============================] - 25s 119ms/step - loss: 0.0261 - accuracy: 0.9912 - val_loss: 0.5482 - val_accuracy: 0.9157\n",
      "Epoch 187/500\n",
      "207/207 [==============================] - ETA: 0s - loss: 0.0252 - accuracy: 0.9924\n",
      "Epoch 187: val_accuracy did not improve from 0.92205\n",
      "207/207 [==============================] - 24s 118ms/step - loss: 0.0252 - accuracy: 0.9924 - val_loss: 0.5458 - val_accuracy: 0.8982\n",
      "Epoch 188/500\n",
      "207/207 [==============================] - ETA: 0s - loss: 0.0525 - accuracy: 0.9828\n",
      "Epoch 188: val_accuracy did not improve from 0.92205\n",
      "207/207 [==============================] - 25s 118ms/step - loss: 0.0525 - accuracy: 0.9828 - val_loss: 0.9686 - val_accuracy: 0.8490\n",
      "Epoch 189/500\n",
      "207/207 [==============================] - ETA: 0s - loss: 0.0574 - accuracy: 0.9849\n",
      "Epoch 189: val_accuracy did not improve from 0.92205\n",
      "207/207 [==============================] - 25s 119ms/step - loss: 0.0574 - accuracy: 0.9849 - val_loss: 0.5431 - val_accuracy: 0.9094\n",
      "Epoch 190/500\n",
      "207/207 [==============================] - ETA: 0s - loss: 0.0370 - accuracy: 0.9882\n",
      "Epoch 190: val_accuracy did not improve from 0.92205\n",
      "207/207 [==============================] - 24s 118ms/step - loss: 0.0370 - accuracy: 0.9882 - val_loss: 1.6049 - val_accuracy: 0.8013\n",
      "Epoch 191/500\n",
      "207/207 [==============================] - ETA: 0s - loss: 0.0124 - accuracy: 0.9961\n",
      "Epoch 191: val_accuracy did not improve from 0.92205\n",
      "207/207 [==============================] - 25s 119ms/step - loss: 0.0124 - accuracy: 0.9961 - val_loss: 0.4877 - val_accuracy: 0.9108\n",
      "Epoch 192/500\n",
      "207/207 [==============================] - ETA: 0s - loss: 0.0253 - accuracy: 0.9900\n",
      "Epoch 192: val_accuracy did not improve from 0.92205\n",
      "207/207 [==============================] - 24s 118ms/step - loss: 0.0253 - accuracy: 0.9900 - val_loss: 0.4504 - val_accuracy: 0.9171\n",
      "Epoch 193/500\n",
      "207/207 [==============================] - ETA: 0s - loss: 0.0308 - accuracy: 0.9894\n",
      "Epoch 193: val_accuracy did not improve from 0.92205\n",
      "207/207 [==============================] - 25s 119ms/step - loss: 0.0308 - accuracy: 0.9894 - val_loss: 0.7894 - val_accuracy: 0.8820\n",
      "Epoch 194/500\n",
      "207/207 [==============================] - ETA: 0s - loss: 0.0708 - accuracy: 0.9782\n",
      "Epoch 194: val_accuracy did not improve from 0.92205\n",
      "207/207 [==============================] - 25s 119ms/step - loss: 0.0708 - accuracy: 0.9782 - val_loss: 1.2613 - val_accuracy: 0.8490\n",
      "Epoch 195/500\n",
      "207/207 [==============================] - ETA: 0s - loss: 0.0678 - accuracy: 0.9831\n",
      "Epoch 195: val_accuracy did not improve from 0.92205\n",
      "207/207 [==============================] - 25s 119ms/step - loss: 0.0678 - accuracy: 0.9831 - val_loss: 0.5495 - val_accuracy: 0.9115\n",
      "Epoch 196/500\n",
      "207/207 [==============================] - ETA: 0s - loss: 0.0270 - accuracy: 0.9906\n",
      "Epoch 196: val_accuracy did not improve from 0.92205\n",
      "207/207 [==============================] - 24s 118ms/step - loss: 0.0270 - accuracy: 0.9906 - val_loss: 0.6052 - val_accuracy: 0.9080\n",
      "Epoch 197/500\n",
      "207/207 [==============================] - ETA: 0s - loss: 0.0388 - accuracy: 0.9894\n",
      "Epoch 197: val_accuracy did not improve from 0.92205\n",
      "207/207 [==============================] - 25s 119ms/step - loss: 0.0388 - accuracy: 0.9894 - val_loss: 0.4426 - val_accuracy: 0.9213\n",
      "Epoch 198/500\n",
      "207/207 [==============================] - ETA: 0s - loss: 0.0274 - accuracy: 0.9924\n",
      "Epoch 198: val_accuracy did not improve from 0.92205\n",
      "207/207 [==============================] - 25s 119ms/step - loss: 0.0274 - accuracy: 0.9924 - val_loss: 0.5973 - val_accuracy: 0.9066\n",
      "Epoch 199/500\n",
      "207/207 [==============================] - ETA: 0s - loss: 0.0276 - accuracy: 0.9900\n",
      "Epoch 199: val_accuracy did not improve from 0.92205\n",
      "207/207 [==============================] - 25s 119ms/step - loss: 0.0276 - accuracy: 0.9900 - val_loss: 0.6788 - val_accuracy: 0.8989\n",
      "Epoch 200/500\n",
      "207/207 [==============================] - ETA: 0s - loss: 0.0353 - accuracy: 0.9903\n",
      "Epoch 200: val_accuracy did not improve from 0.92205\n",
      "207/207 [==============================] - 25s 119ms/step - loss: 0.0353 - accuracy: 0.9903 - val_loss: 1.2341 - val_accuracy: 0.8596\n",
      "Epoch 201/500\n",
      "207/207 [==============================] - ETA: 0s - loss: 0.0216 - accuracy: 0.9921\n",
      "Epoch 201: val_accuracy did not improve from 0.92205\n",
      "207/207 [==============================] - 25s 118ms/step - loss: 0.0216 - accuracy: 0.9921 - val_loss: 0.6947 - val_accuracy: 0.8954\n"
     ]
    },
    {
     "name": "stdout",
     "output_type": "stream",
     "text": [
      "Epoch 202/500\n",
      "207/207 [==============================] - ETA: 0s - loss: 0.0382 - accuracy: 0.9888\n",
      "Epoch 202: val_accuracy did not improve from 0.92205\n",
      "207/207 [==============================] - 25s 118ms/step - loss: 0.0382 - accuracy: 0.9888 - val_loss: 5.8406 - val_accuracy: 0.5723\n",
      "Epoch 203/500\n",
      "207/207 [==============================] - ETA: 0s - loss: 0.0827 - accuracy: 0.9785\n",
      "Epoch 203: val_accuracy did not improve from 0.92205\n",
      "207/207 [==============================] - 25s 118ms/step - loss: 0.0827 - accuracy: 0.9785 - val_loss: 3.7944 - val_accuracy: 0.6103\n",
      "Epoch 204/500\n",
      "207/207 [==============================] - ETA: 0s - loss: 0.0582 - accuracy: 0.9837\n",
      "Epoch 204: val_accuracy did not improve from 0.92205\n",
      "207/207 [==============================] - 25s 119ms/step - loss: 0.0582 - accuracy: 0.9837 - val_loss: 0.5165 - val_accuracy: 0.9122\n",
      "Epoch 205/500\n",
      "207/207 [==============================] - ETA: 0s - loss: 0.0353 - accuracy: 0.9903\n",
      "Epoch 205: val_accuracy did not improve from 0.92205\n",
      "207/207 [==============================] - 25s 118ms/step - loss: 0.0353 - accuracy: 0.9903 - val_loss: 0.6825 - val_accuracy: 0.8862\n",
      "Epoch 206/500\n",
      "207/207 [==============================] - ETA: 0s - loss: 0.0295 - accuracy: 0.9915\n",
      "Epoch 206: val_accuracy did not improve from 0.92205\n",
      "207/207 [==============================] - 25s 119ms/step - loss: 0.0295 - accuracy: 0.9915 - val_loss: 0.5334 - val_accuracy: 0.9129\n",
      "Epoch 207/500\n",
      "207/207 [==============================] - ETA: 0s - loss: 0.0245 - accuracy: 0.9915\n",
      "Epoch 207: val_accuracy did not improve from 0.92205\n",
      "207/207 [==============================] - 24s 118ms/step - loss: 0.0245 - accuracy: 0.9915 - val_loss: 0.6065 - val_accuracy: 0.8989\n",
      "Epoch 208/500\n",
      "207/207 [==============================] - ETA: 0s - loss: 0.0396 - accuracy: 0.9867\n",
      "Epoch 208: val_accuracy did not improve from 0.92205\n",
      "207/207 [==============================] - 24s 118ms/step - loss: 0.0396 - accuracy: 0.9867 - val_loss: 0.5643 - val_accuracy: 0.9080\n",
      "Epoch 209/500\n",
      "207/207 [==============================] - ETA: 0s - loss: 0.0257 - accuracy: 0.9921\n",
      "Epoch 209: val_accuracy did not improve from 0.92205\n",
      "207/207 [==============================] - 25s 118ms/step - loss: 0.0257 - accuracy: 0.9921 - val_loss: 0.4901 - val_accuracy: 0.9101\n",
      "Epoch 210/500\n",
      "207/207 [==============================] - ETA: 0s - loss: 0.0359 - accuracy: 0.9900\n",
      "Epoch 210: val_accuracy did not improve from 0.92205\n",
      "207/207 [==============================] - 24s 118ms/step - loss: 0.0359 - accuracy: 0.9900 - val_loss: 1.8565 - val_accuracy: 0.7690\n",
      "Epoch 211/500\n",
      "207/207 [==============================] - ETA: 0s - loss: 0.0339 - accuracy: 0.9873\n",
      "Epoch 211: val_accuracy did not improve from 0.92205\n",
      "207/207 [==============================] - 24s 118ms/step - loss: 0.0339 - accuracy: 0.9873 - val_loss: 0.5579 - val_accuracy: 0.9080\n",
      "Epoch 212/500\n",
      "207/207 [==============================] - ETA: 0s - loss: 0.0292 - accuracy: 0.9912\n",
      "Epoch 212: val_accuracy improved from 0.92205 to 0.92346, saving model to model_weights.h5\n",
      "207/207 [==============================] - 25s 119ms/step - loss: 0.0292 - accuracy: 0.9912 - val_loss: 0.4701 - val_accuracy: 0.9235\n",
      "Epoch 213/500\n",
      "207/207 [==============================] - ETA: 0s - loss: 0.0256 - accuracy: 0.9918\n",
      "Epoch 213: val_accuracy did not improve from 0.92346\n",
      "207/207 [==============================] - 25s 118ms/step - loss: 0.0256 - accuracy: 0.9918 - val_loss: 0.5387 - val_accuracy: 0.9157\n",
      "Epoch 214/500\n",
      "207/207 [==============================] - ETA: 0s - loss: 0.0187 - accuracy: 0.9927\n",
      "Epoch 214: val_accuracy did not improve from 0.92346\n",
      "207/207 [==============================] - 25s 119ms/step - loss: 0.0187 - accuracy: 0.9927 - val_loss: 0.8654 - val_accuracy: 0.8659\n",
      "Epoch 215/500\n",
      "207/207 [==============================] - ETA: 0s - loss: 0.0297 - accuracy: 0.9912\n",
      "Epoch 215: val_accuracy did not improve from 0.92346\n",
      "207/207 [==============================] - 25s 119ms/step - loss: 0.0297 - accuracy: 0.9912 - val_loss: 1.2388 - val_accuracy: 0.8308\n",
      "Epoch 216/500\n",
      "207/207 [==============================] - ETA: 0s - loss: 0.0385 - accuracy: 0.9879\n",
      "Epoch 216: val_accuracy did not improve from 0.92346\n",
      "207/207 [==============================] - 24s 118ms/step - loss: 0.0385 - accuracy: 0.9879 - val_loss: 0.8907 - val_accuracy: 0.8624\n",
      "Epoch 217/500\n",
      "207/207 [==============================] - ETA: 0s - loss: 0.0402 - accuracy: 0.9888\n",
      "Epoch 217: val_accuracy did not improve from 0.92346\n",
      "207/207 [==============================] - 25s 119ms/step - loss: 0.0402 - accuracy: 0.9888 - val_loss: 2.0931 - val_accuracy: 0.7654\n",
      "Epoch 218/500\n",
      "207/207 [==============================] - ETA: 0s - loss: 0.0368 - accuracy: 0.9888\n",
      "Epoch 218: val_accuracy did not improve from 0.92346\n",
      "207/207 [==============================] - 24s 118ms/step - loss: 0.0368 - accuracy: 0.9888 - val_loss: 0.6328 - val_accuracy: 0.9052\n",
      "Epoch 219/500\n",
      "207/207 [==============================] - ETA: 0s - loss: 0.0205 - accuracy: 0.9930\n",
      "Epoch 219: val_accuracy did not improve from 0.92346\n",
      "207/207 [==============================] - 24s 117ms/step - loss: 0.0205 - accuracy: 0.9930 - val_loss: 0.5021 - val_accuracy: 0.9087\n",
      "Epoch 220/500\n",
      "207/207 [==============================] - ETA: 0s - loss: 0.0461 - accuracy: 0.9870\n",
      "Epoch 220: val_accuracy did not improve from 0.92346\n",
      "207/207 [==============================] - 25s 119ms/step - loss: 0.0461 - accuracy: 0.9870 - val_loss: 0.6947 - val_accuracy: 0.8897\n",
      "Epoch 221/500\n",
      "207/207 [==============================] - ETA: 0s - loss: 0.0708 - accuracy: 0.9813\n",
      "Epoch 221: val_accuracy did not improve from 0.92346\n",
      "207/207 [==============================] - 24s 118ms/step - loss: 0.0708 - accuracy: 0.9813 - val_loss: 0.5923 - val_accuracy: 0.9157\n",
      "Epoch 222/500\n",
      "207/207 [==============================] - ETA: 0s - loss: 0.0531 - accuracy: 0.9831\n",
      "Epoch 222: val_accuracy did not improve from 0.92346\n",
      "207/207 [==============================] - 24s 118ms/step - loss: 0.0531 - accuracy: 0.9831 - val_loss: 1.3269 - val_accuracy: 0.8322\n",
      "Epoch 223/500\n",
      "207/207 [==============================] - ETA: 0s - loss: 0.0290 - accuracy: 0.9927\n",
      "Epoch 223: val_accuracy did not improve from 0.92346\n",
      "207/207 [==============================] - 25s 120ms/step - loss: 0.0290 - accuracy: 0.9927 - val_loss: 0.4537 - val_accuracy: 0.9213\n",
      "Epoch 224/500\n",
      "207/207 [==============================] - ETA: 0s - loss: 0.0286 - accuracy: 0.9921\n",
      "Epoch 224: val_accuracy did not improve from 0.92346\n",
      "207/207 [==============================] - 25s 118ms/step - loss: 0.0286 - accuracy: 0.9921 - val_loss: 0.6024 - val_accuracy: 0.9052\n",
      "Epoch 225/500\n",
      "207/207 [==============================] - ETA: 0s - loss: 0.0441 - accuracy: 0.9870\n",
      "Epoch 225: val_accuracy did not improve from 0.92346\n",
      "207/207 [==============================] - 24s 117ms/step - loss: 0.0441 - accuracy: 0.9870 - val_loss: 1.0310 - val_accuracy: 0.8287\n",
      "Epoch 226/500\n",
      "207/207 [==============================] - ETA: 0s - loss: 0.0229 - accuracy: 0.9937\n",
      "Epoch 226: val_accuracy did not improve from 0.92346\n",
      "207/207 [==============================] - 25s 119ms/step - loss: 0.0229 - accuracy: 0.9937 - val_loss: 0.6334 - val_accuracy: 0.9108\n",
      "Epoch 227/500\n",
      "207/207 [==============================] - ETA: 0s - loss: 0.0497 - accuracy: 0.9855\n",
      "Epoch 227: val_accuracy did not improve from 0.92346\n",
      "207/207 [==============================] - 25s 119ms/step - loss: 0.0497 - accuracy: 0.9855 - val_loss: 1.0031 - val_accuracy: 0.8462\n",
      "Epoch 228/500\n",
      "207/207 [==============================] - ETA: 0s - loss: 0.0501 - accuracy: 0.9855\n",
      "Epoch 228: val_accuracy did not improve from 0.92346\n",
      "207/207 [==============================] - 25s 118ms/step - loss: 0.0501 - accuracy: 0.9855 - val_loss: 0.5951 - val_accuracy: 0.9052\n",
      "Epoch 229/500\n",
      "207/207 [==============================] - ETA: 0s - loss: 0.0408 - accuracy: 0.9891\n",
      "Epoch 229: val_accuracy did not improve from 0.92346\n",
      "207/207 [==============================] - 25s 120ms/step - loss: 0.0408 - accuracy: 0.9891 - val_loss: 1.1508 - val_accuracy: 0.8230\n",
      "Epoch 230/500\n",
      "207/207 [==============================] - ETA: 0s - loss: 0.0302 - accuracy: 0.9897\n",
      "Epoch 230: val_accuracy did not improve from 0.92346\n"
     ]
    },
    {
     "name": "stdout",
     "output_type": "stream",
     "text": [
      "207/207 [==============================] - 24s 117ms/step - loss: 0.0302 - accuracy: 0.9897 - val_loss: 0.7710 - val_accuracy: 0.8897\n",
      "Epoch 231/500\n",
      "207/207 [==============================] - ETA: 0s - loss: 0.0170 - accuracy: 0.9958\n",
      "Epoch 231: val_accuracy improved from 0.92346 to 0.92556, saving model to model_weights.h5\n",
      "207/207 [==============================] - 25s 119ms/step - loss: 0.0170 - accuracy: 0.9958 - val_loss: 0.4487 - val_accuracy: 0.9256\n",
      "Epoch 232/500\n",
      "207/207 [==============================] - ETA: 0s - loss: 0.0152 - accuracy: 0.9958\n",
      "Epoch 232: val_accuracy did not improve from 0.92556\n",
      "207/207 [==============================] - 25s 118ms/step - loss: 0.0152 - accuracy: 0.9958 - val_loss: 0.5212 - val_accuracy: 0.9213\n",
      "Epoch 233/500\n",
      "207/207 [==============================] - ETA: 0s - loss: 0.0150 - accuracy: 0.9958\n",
      "Epoch 233: val_accuracy did not improve from 0.92556\n",
      "207/207 [==============================] - 25s 118ms/step - loss: 0.0150 - accuracy: 0.9958 - val_loss: 0.5153 - val_accuracy: 0.9178\n",
      "Epoch 234/500\n",
      "207/207 [==============================] - ETA: 0s - loss: 0.0190 - accuracy: 0.9940\n",
      "Epoch 234: val_accuracy did not improve from 0.92556\n",
      "207/207 [==============================] - 24s 116ms/step - loss: 0.0190 - accuracy: 0.9940 - val_loss: 0.5190 - val_accuracy: 0.9185\n",
      "Epoch 235/500\n",
      "207/207 [==============================] - ETA: 0s - loss: 0.0199 - accuracy: 0.9930\n",
      "Epoch 235: val_accuracy did not improve from 0.92556\n",
      "207/207 [==============================] - 25s 119ms/step - loss: 0.0199 - accuracy: 0.9930 - val_loss: 0.6631 - val_accuracy: 0.8989\n",
      "Epoch 236/500\n",
      "207/207 [==============================] - ETA: 0s - loss: 0.0321 - accuracy: 0.9909\n",
      "Epoch 236: val_accuracy did not improve from 0.92556\n",
      "207/207 [==============================] - 24s 117ms/step - loss: 0.0321 - accuracy: 0.9909 - val_loss: 0.7393 - val_accuracy: 0.8954\n",
      "Epoch 237/500\n",
      "207/207 [==============================] - ETA: 0s - loss: 0.0377 - accuracy: 0.9855\n",
      "Epoch 237: val_accuracy did not improve from 0.92556\n",
      "207/207 [==============================] - 25s 119ms/step - loss: 0.0377 - accuracy: 0.9855 - val_loss: 0.7363 - val_accuracy: 0.9080\n",
      "Epoch 238/500\n",
      "207/207 [==============================] - ETA: 0s - loss: 0.0664 - accuracy: 0.9831\n",
      "Epoch 238: val_accuracy did not improve from 0.92556\n",
      "207/207 [==============================] - 24s 118ms/step - loss: 0.0664 - accuracy: 0.9831 - val_loss: 0.5723 - val_accuracy: 0.9066\n",
      "Epoch 239/500\n",
      "207/207 [==============================] - ETA: 0s - loss: 0.0176 - accuracy: 0.9955\n",
      "Epoch 239: val_accuracy did not improve from 0.92556\n",
      "207/207 [==============================] - 24s 116ms/step - loss: 0.0176 - accuracy: 0.9955 - val_loss: 0.4962 - val_accuracy: 0.9242\n",
      "Epoch 240/500\n",
      "207/207 [==============================] - ETA: 0s - loss: 0.0290 - accuracy: 0.9924\n",
      "Epoch 240: val_accuracy did not improve from 0.92556\n",
      "207/207 [==============================] - 25s 118ms/step - loss: 0.0290 - accuracy: 0.9924 - val_loss: 1.3847 - val_accuracy: 0.8301\n",
      "Epoch 241/500\n",
      "207/207 [==============================] - ETA: 0s - loss: 0.0408 - accuracy: 0.9888\n",
      "Epoch 241: val_accuracy did not improve from 0.92556\n",
      "207/207 [==============================] - 25s 118ms/step - loss: 0.0408 - accuracy: 0.9888 - val_loss: 0.5150 - val_accuracy: 0.9122\n",
      "Epoch 242/500\n",
      "207/207 [==============================] - ETA: 0s - loss: 0.0360 - accuracy: 0.9909\n",
      "Epoch 242: val_accuracy did not improve from 0.92556\n",
      "207/207 [==============================] - 24s 117ms/step - loss: 0.0360 - accuracy: 0.9909 - val_loss: 0.8426 - val_accuracy: 0.8876\n",
      "Epoch 243/500\n",
      "207/207 [==============================] - ETA: 0s - loss: 0.0216 - accuracy: 0.9909\n",
      "Epoch 243: val_accuracy did not improve from 0.92556\n",
      "207/207 [==============================] - 25s 118ms/step - loss: 0.0216 - accuracy: 0.9909 - val_loss: 0.5691 - val_accuracy: 0.9108\n",
      "Epoch 244/500\n",
      "207/207 [==============================] - ETA: 0s - loss: 0.0362 - accuracy: 0.9909\n",
      "Epoch 244: val_accuracy did not improve from 0.92556\n",
      "207/207 [==============================] - 25s 119ms/step - loss: 0.0362 - accuracy: 0.9909 - val_loss: 0.5184 - val_accuracy: 0.9171\n",
      "Epoch 245/500\n",
      "207/207 [==============================] - ETA: 0s - loss: 0.0381 - accuracy: 0.9879\n",
      "Epoch 245: val_accuracy did not improve from 0.92556\n",
      "207/207 [==============================] - 24s 118ms/step - loss: 0.0381 - accuracy: 0.9879 - val_loss: 0.8030 - val_accuracy: 0.8820\n",
      "Epoch 246/500\n",
      "207/207 [==============================] - ETA: 0s - loss: 0.0457 - accuracy: 0.9873\n",
      "Epoch 246: val_accuracy did not improve from 0.92556\n",
      "207/207 [==============================] - 24s 118ms/step - loss: 0.0457 - accuracy: 0.9873 - val_loss: 0.6498 - val_accuracy: 0.8975\n",
      "Epoch 247/500\n",
      "207/207 [==============================] - ETA: 0s - loss: 0.0266 - accuracy: 0.9927\n",
      "Epoch 247: val_accuracy did not improve from 0.92556\n",
      "207/207 [==============================] - 25s 118ms/step - loss: 0.0266 - accuracy: 0.9927 - val_loss: 0.6134 - val_accuracy: 0.9024\n",
      "Epoch 248/500\n",
      "207/207 [==============================] - ETA: 0s - loss: 0.0180 - accuracy: 0.9927\n",
      "Epoch 248: val_accuracy did not improve from 0.92556\n",
      "207/207 [==============================] - 24s 118ms/step - loss: 0.0180 - accuracy: 0.9927 - val_loss: 0.6849 - val_accuracy: 0.9031\n",
      "Epoch 249/500\n",
      "207/207 [==============================] - ETA: 0s - loss: 0.0238 - accuracy: 0.9912\n",
      "Epoch 249: val_accuracy did not improve from 0.92556\n",
      "207/207 [==============================] - 25s 118ms/step - loss: 0.0238 - accuracy: 0.9912 - val_loss: 0.5181 - val_accuracy: 0.9164\n",
      "Epoch 250/500\n",
      "207/207 [==============================] - ETA: 0s - loss: 0.0246 - accuracy: 0.9937\n",
      "Epoch 250: val_accuracy did not improve from 0.92556\n",
      "207/207 [==============================] - 24s 118ms/step - loss: 0.0246 - accuracy: 0.9937 - val_loss: 0.7765 - val_accuracy: 0.8940\n",
      "Epoch 251/500\n",
      "207/207 [==============================] - ETA: 0s - loss: 0.0258 - accuracy: 0.9915\n",
      "Epoch 251: val_accuracy did not improve from 0.92556\n",
      "207/207 [==============================] - 25s 120ms/step - loss: 0.0258 - accuracy: 0.9915 - val_loss: 0.6114 - val_accuracy: 0.9003\n",
      "Epoch 252/500\n",
      "207/207 [==============================] - ETA: 0s - loss: 0.0264 - accuracy: 0.9930\n",
      "Epoch 252: val_accuracy did not improve from 0.92556\n",
      "207/207 [==============================] - 25s 119ms/step - loss: 0.0264 - accuracy: 0.9930 - val_loss: 1.4716 - val_accuracy: 0.8104\n",
      "Epoch 253/500\n",
      "207/207 [==============================] - ETA: 0s - loss: 0.0309 - accuracy: 0.9897\n",
      "Epoch 253: val_accuracy did not improve from 0.92556\n",
      "207/207 [==============================] - 24s 118ms/step - loss: 0.0309 - accuracy: 0.9897 - val_loss: 0.6842 - val_accuracy: 0.9010\n",
      "Epoch 254/500\n",
      "207/207 [==============================] - ETA: 0s - loss: 0.0269 - accuracy: 0.9918\n",
      "Epoch 254: val_accuracy did not improve from 0.92556\n",
      "207/207 [==============================] - 24s 117ms/step - loss: 0.0269 - accuracy: 0.9918 - val_loss: 2.7869 - val_accuracy: 0.7430\n",
      "Epoch 255/500\n",
      "207/207 [==============================] - ETA: 0s - loss: 0.0287 - accuracy: 0.9921\n",
      "Epoch 255: val_accuracy did not improve from 0.92556\n",
      "207/207 [==============================] - 24s 118ms/step - loss: 0.0287 - accuracy: 0.9921 - val_loss: 0.5536 - val_accuracy: 0.9143\n",
      "Epoch 256/500\n",
      "207/207 [==============================] - ETA: 0s - loss: 0.0273 - accuracy: 0.9915\n",
      "Epoch 256: val_accuracy did not improve from 0.92556\n",
      "207/207 [==============================] - 24s 118ms/step - loss: 0.0273 - accuracy: 0.9915 - val_loss: 0.7497 - val_accuracy: 0.8883\n",
      "Epoch 257/500\n",
      "207/207 [==============================] - ETA: 0s - loss: 0.0246 - accuracy: 0.9909\n",
      "Epoch 257: val_accuracy did not improve from 0.92556\n",
      "207/207 [==============================] - 24s 118ms/step - loss: 0.0246 - accuracy: 0.9909 - val_loss: 0.9960 - val_accuracy: 0.8869\n",
      "Epoch 258/500\n",
      "207/207 [==============================] - ETA: 0s - loss: 0.0379 - accuracy: 0.9918\n",
      "Epoch 258: val_accuracy did not improve from 0.92556\n",
      "207/207 [==============================] - 24s 118ms/step - loss: 0.0379 - accuracy: 0.9918 - val_loss: 0.6331 - val_accuracy: 0.9115\n",
      "Epoch 259/500\n"
     ]
    },
    {
     "name": "stdout",
     "output_type": "stream",
     "text": [
      "207/207 [==============================] - ETA: 0s - loss: 0.0475 - accuracy: 0.9879\n",
      "Epoch 259: val_accuracy did not improve from 0.92556\n",
      "207/207 [==============================] - 24s 117ms/step - loss: 0.0475 - accuracy: 0.9879 - val_loss: 0.6380 - val_accuracy: 0.9031\n",
      "Epoch 260/500\n",
      "207/207 [==============================] - ETA: 0s - loss: 0.0305 - accuracy: 0.9918\n",
      "Epoch 260: val_accuracy did not improve from 0.92556\n",
      "207/207 [==============================] - 24s 118ms/step - loss: 0.0305 - accuracy: 0.9918 - val_loss: 0.5421 - val_accuracy: 0.9150\n",
      "Epoch 261/500\n",
      "207/207 [==============================] - ETA: 0s - loss: 0.0252 - accuracy: 0.9930\n",
      "Epoch 261: val_accuracy did not improve from 0.92556\n",
      "207/207 [==============================] - 24s 118ms/step - loss: 0.0252 - accuracy: 0.9930 - val_loss: 0.4987 - val_accuracy: 0.9228\n",
      "Epoch 262/500\n",
      "207/207 [==============================] - ETA: 0s - loss: 0.0150 - accuracy: 0.9952\n",
      "Epoch 262: val_accuracy did not improve from 0.92556\n",
      "207/207 [==============================] - 25s 119ms/step - loss: 0.0150 - accuracy: 0.9952 - val_loss: 0.6034 - val_accuracy: 0.9206\n",
      "Epoch 263/500\n",
      "207/207 [==============================] - ETA: 0s - loss: 0.0110 - accuracy: 0.9970\n",
      "Epoch 263: val_accuracy did not improve from 0.92556\n",
      "207/207 [==============================] - 24s 118ms/step - loss: 0.0110 - accuracy: 0.9970 - val_loss: 0.6267 - val_accuracy: 0.9108\n",
      "Epoch 264/500\n",
      "207/207 [==============================] - ETA: 0s - loss: 0.0102 - accuracy: 0.9964\n",
      "Epoch 264: val_accuracy did not improve from 0.92556\n",
      "207/207 [==============================] - 24s 117ms/step - loss: 0.0102 - accuracy: 0.9964 - val_loss: 0.6149 - val_accuracy: 0.9213\n",
      "Epoch 265/500\n",
      "207/207 [==============================] - ETA: 0s - loss: 0.0258 - accuracy: 0.9927\n",
      "Epoch 265: val_accuracy did not improve from 0.92556\n",
      "207/207 [==============================] - 25s 118ms/step - loss: 0.0258 - accuracy: 0.9927 - val_loss: 0.6392 - val_accuracy: 0.9115\n",
      "Epoch 266/500\n",
      "207/207 [==============================] - ETA: 0s - loss: 0.0360 - accuracy: 0.9888\n",
      "Epoch 266: val_accuracy did not improve from 0.92556\n",
      "207/207 [==============================] - 25s 118ms/step - loss: 0.0360 - accuracy: 0.9888 - val_loss: 0.6691 - val_accuracy: 0.9010\n",
      "Epoch 267/500\n",
      "207/207 [==============================] - ETA: 0s - loss: 0.0547 - accuracy: 0.9879\n",
      "Epoch 267: val_accuracy did not improve from 0.92556\n",
      "207/207 [==============================] - 24s 118ms/step - loss: 0.0547 - accuracy: 0.9879 - val_loss: 0.6066 - val_accuracy: 0.9136\n",
      "Epoch 268/500\n",
      "207/207 [==============================] - ETA: 0s - loss: 0.0381 - accuracy: 0.9879\n",
      "Epoch 268: val_accuracy did not improve from 0.92556\n",
      "207/207 [==============================] - 24s 118ms/step - loss: 0.0381 - accuracy: 0.9879 - val_loss: 0.6575 - val_accuracy: 0.9164\n",
      "Epoch 269/500\n",
      "207/207 [==============================] - ETA: 0s - loss: 0.0403 - accuracy: 0.9894\n",
      "Epoch 269: val_accuracy did not improve from 0.92556\n",
      "207/207 [==============================] - 24s 117ms/step - loss: 0.0403 - accuracy: 0.9894 - val_loss: 1.0934 - val_accuracy: 0.8476\n",
      "Epoch 270/500\n",
      "207/207 [==============================] - ETA: 0s - loss: 0.0111 - accuracy: 0.9949\n",
      "Epoch 270: val_accuracy improved from 0.92556 to 0.93118, saving model to model_weights.h5\n",
      "207/207 [==============================] - 25s 119ms/step - loss: 0.0111 - accuracy: 0.9949 - val_loss: 0.4676 - val_accuracy: 0.9312\n",
      "Epoch 271/500\n",
      "207/207 [==============================] - ETA: 0s - loss: 0.0292 - accuracy: 0.9937\n",
      "Epoch 271: val_accuracy did not improve from 0.93118\n",
      "207/207 [==============================] - 24s 118ms/step - loss: 0.0292 - accuracy: 0.9937 - val_loss: 0.8151 - val_accuracy: 0.8841\n",
      "Epoch 272/500\n",
      "207/207 [==============================] - ETA: 0s - loss: 0.0327 - accuracy: 0.9906\n",
      "Epoch 272: val_accuracy did not improve from 0.93118\n",
      "207/207 [==============================] - 24s 117ms/step - loss: 0.0327 - accuracy: 0.9906 - val_loss: 1.1516 - val_accuracy: 0.8392\n",
      "Epoch 273/500\n",
      "207/207 [==============================] - ETA: 0s - loss: 0.0425 - accuracy: 0.9885\n",
      "Epoch 273: val_accuracy did not improve from 0.93118\n",
      "207/207 [==============================] - 24s 118ms/step - loss: 0.0425 - accuracy: 0.9885 - val_loss: 1.1590 - val_accuracy: 0.8350\n",
      "Epoch 274/500\n",
      "207/207 [==============================] - ETA: 0s - loss: 0.0305 - accuracy: 0.9909\n",
      "Epoch 274: val_accuracy did not improve from 0.93118\n",
      "207/207 [==============================] - 24s 118ms/step - loss: 0.0305 - accuracy: 0.9909 - val_loss: 0.7749 - val_accuracy: 0.9010\n",
      "Epoch 275/500\n",
      "207/207 [==============================] - ETA: 0s - loss: 0.0198 - accuracy: 0.9949\n",
      "Epoch 275: val_accuracy did not improve from 0.93118\n",
      "207/207 [==============================] - 25s 118ms/step - loss: 0.0198 - accuracy: 0.9949 - val_loss: 0.5533 - val_accuracy: 0.9101\n",
      "Epoch 276/500\n",
      "207/207 [==============================] - ETA: 0s - loss: 0.0226 - accuracy: 0.9927\n",
      "Epoch 276: val_accuracy did not improve from 0.93118\n",
      "207/207 [==============================] - 25s 118ms/step - loss: 0.0226 - accuracy: 0.9927 - val_loss: 0.8568 - val_accuracy: 0.8904\n",
      "Epoch 277/500\n",
      "207/207 [==============================] - ETA: 0s - loss: 0.0344 - accuracy: 0.9900\n",
      "Epoch 277: val_accuracy did not improve from 0.93118\n",
      "207/207 [==============================] - 24s 117ms/step - loss: 0.0344 - accuracy: 0.9900 - val_loss: 0.6187 - val_accuracy: 0.9052\n",
      "Epoch 278/500\n",
      "207/207 [==============================] - ETA: 0s - loss: 0.0134 - accuracy: 0.9952\n",
      "Epoch 278: val_accuracy did not improve from 0.93118\n",
      "207/207 [==============================] - 24s 118ms/step - loss: 0.0134 - accuracy: 0.9952 - val_loss: 0.6875 - val_accuracy: 0.8996\n",
      "Epoch 279/500\n",
      "207/207 [==============================] - ETA: 0s - loss: 0.0266 - accuracy: 0.9952\n",
      "Epoch 279: val_accuracy did not improve from 0.93118\n",
      "207/207 [==============================] - 24s 118ms/step - loss: 0.0266 - accuracy: 0.9952 - val_loss: 0.7706 - val_accuracy: 0.8862\n",
      "Epoch 280/500\n",
      "207/207 [==============================] - ETA: 0s - loss: 0.0272 - accuracy: 0.9912\n",
      "Epoch 280: val_accuracy did not improve from 0.93118\n",
      "207/207 [==============================] - 25s 119ms/step - loss: 0.0272 - accuracy: 0.9912 - val_loss: 1.1260 - val_accuracy: 0.8560\n",
      "Epoch 281/500\n",
      "207/207 [==============================] - ETA: 0s - loss: 0.0207 - accuracy: 0.9940\n",
      "Epoch 281: val_accuracy did not improve from 0.93118\n",
      "207/207 [==============================] - 25s 119ms/step - loss: 0.0207 - accuracy: 0.9940 - val_loss: 0.6195 - val_accuracy: 0.9171\n",
      "Epoch 282/500\n",
      "207/207 [==============================] - ETA: 0s - loss: 0.0267 - accuracy: 0.9918\n",
      "Epoch 282: val_accuracy did not improve from 0.93118\n",
      "207/207 [==============================] - 25s 119ms/step - loss: 0.0267 - accuracy: 0.9918 - val_loss: 1.3439 - val_accuracy: 0.8673\n",
      "Epoch 283/500\n",
      "207/207 [==============================] - ETA: 0s - loss: 0.0078 - accuracy: 0.9976\n",
      "Epoch 283: val_accuracy did not improve from 0.93118\n",
      "207/207 [==============================] - 25s 119ms/step - loss: 0.0078 - accuracy: 0.9976 - val_loss: 0.6381 - val_accuracy: 0.9213\n",
      "Epoch 284/500\n",
      "207/207 [==============================] - ETA: 0s - loss: 0.0080 - accuracy: 0.9961\n",
      "Epoch 284: val_accuracy did not improve from 0.93118\n",
      "207/207 [==============================] - 25s 119ms/step - loss: 0.0080 - accuracy: 0.9961 - val_loss: 0.7210 - val_accuracy: 0.8897\n",
      "Epoch 285/500\n",
      "207/207 [==============================] - ETA: 0s - loss: 0.0307 - accuracy: 0.9930\n",
      "Epoch 285: val_accuracy did not improve from 0.93118\n",
      "207/207 [==============================] - 25s 120ms/step - loss: 0.0307 - accuracy: 0.9930 - val_loss: 0.9353 - val_accuracy: 0.8708\n",
      "Epoch 286/500\n",
      "207/207 [==============================] - ETA: 0s - loss: 0.0562 - accuracy: 0.9897\n",
      "Epoch 286: val_accuracy did not improve from 0.93118\n",
      "207/207 [==============================] - 25s 119ms/step - loss: 0.0562 - accuracy: 0.9897 - val_loss: 0.7118 - val_accuracy: 0.9094\n",
      "Epoch 287/500\n",
      "207/207 [==============================] - ETA: 0s - loss: 0.0338 - accuracy: 0.9940\n",
      "Epoch 287: val_accuracy did not improve from 0.93118\n",
      "207/207 [==============================] - 25s 120ms/step - loss: 0.0338 - accuracy: 0.9940 - val_loss: 0.7246 - val_accuracy: 0.8961\n"
     ]
    },
    {
     "name": "stdout",
     "output_type": "stream",
     "text": [
      "Epoch 288/500\n",
      "207/207 [==============================] - ETA: 0s - loss: 0.0227 - accuracy: 0.9927\n",
      "Epoch 288: val_accuracy did not improve from 0.93118\n",
      "207/207 [==============================] - 25s 118ms/step - loss: 0.0227 - accuracy: 0.9927 - val_loss: 0.7124 - val_accuracy: 0.9108\n",
      "Epoch 289/500\n",
      "207/207 [==============================] - ETA: 0s - loss: 0.0400 - accuracy: 0.9885\n",
      "Epoch 289: val_accuracy did not improve from 0.93118\n",
      "207/207 [==============================] - 25s 119ms/step - loss: 0.0400 - accuracy: 0.9885 - val_loss: 0.6764 - val_accuracy: 0.9038\n",
      "Epoch 290/500\n",
      "207/207 [==============================] - ETA: 0s - loss: 0.0666 - accuracy: 0.9807\n",
      "Epoch 290: val_accuracy did not improve from 0.93118\n",
      "207/207 [==============================] - 25s 118ms/step - loss: 0.0666 - accuracy: 0.9807 - val_loss: 1.9857 - val_accuracy: 0.7971\n",
      "Epoch 291/500\n",
      "207/207 [==============================] - ETA: 0s - loss: 0.0288 - accuracy: 0.9934\n",
      "Epoch 291: val_accuracy did not improve from 0.93118\n",
      "207/207 [==============================] - 24s 118ms/step - loss: 0.0288 - accuracy: 0.9934 - val_loss: 0.6575 - val_accuracy: 0.9150\n",
      "Epoch 292/500\n",
      "207/207 [==============================] - ETA: 0s - loss: 0.0257 - accuracy: 0.9934\n",
      "Epoch 292: val_accuracy did not improve from 0.93118\n",
      "207/207 [==============================] - 25s 119ms/step - loss: 0.0257 - accuracy: 0.9934 - val_loss: 0.5846 - val_accuracy: 0.9263\n",
      "Epoch 293/500\n",
      "207/207 [==============================] - ETA: 0s - loss: 0.0310 - accuracy: 0.9918\n",
      "Epoch 293: val_accuracy did not improve from 0.93118\n",
      "207/207 [==============================] - 24s 117ms/step - loss: 0.0310 - accuracy: 0.9918 - val_loss: 1.1544 - val_accuracy: 0.8588\n",
      "Epoch 294/500\n",
      "207/207 [==============================] - ETA: 0s - loss: 0.0289 - accuracy: 0.9930\n",
      "Epoch 294: val_accuracy did not improve from 0.93118\n",
      "207/207 [==============================] - 24s 117ms/step - loss: 0.0289 - accuracy: 0.9930 - val_loss: 0.8840 - val_accuracy: 0.8904\n",
      "Epoch 295/500\n",
      "207/207 [==============================] - ETA: 0s - loss: 0.0314 - accuracy: 0.9927\n",
      "Epoch 295: val_accuracy did not improve from 0.93118\n",
      "207/207 [==============================] - 24s 117ms/step - loss: 0.0314 - accuracy: 0.9927 - val_loss: 1.1892 - val_accuracy: 0.8645\n",
      "Epoch 296/500\n",
      "207/207 [==============================] - ETA: 0s - loss: 0.0278 - accuracy: 0.9912\n",
      "Epoch 296: val_accuracy did not improve from 0.93118\n",
      "207/207 [==============================] - 25s 118ms/step - loss: 0.0278 - accuracy: 0.9912 - val_loss: 0.6579 - val_accuracy: 0.9066\n",
      "Epoch 297/500\n",
      "207/207 [==============================] - ETA: 0s - loss: 0.0156 - accuracy: 0.9940\n",
      "Epoch 297: val_accuracy did not improve from 0.93118\n",
      "207/207 [==============================] - 25s 119ms/step - loss: 0.0156 - accuracy: 0.9940 - val_loss: 1.1505 - val_accuracy: 0.8743\n",
      "Epoch 298/500\n",
      "207/207 [==============================] - ETA: 0s - loss: 0.0308 - accuracy: 0.9912\n",
      "Epoch 298: val_accuracy did not improve from 0.93118\n",
      "207/207 [==============================] - 24s 118ms/step - loss: 0.0308 - accuracy: 0.9912 - val_loss: 0.9381 - val_accuracy: 0.8722\n",
      "Epoch 299/500\n",
      "207/207 [==============================] - ETA: 0s - loss: 0.0277 - accuracy: 0.9927\n",
      "Epoch 299: val_accuracy did not improve from 0.93118\n",
      "207/207 [==============================] - 25s 119ms/step - loss: 0.0277 - accuracy: 0.9927 - val_loss: 0.5435 - val_accuracy: 0.9199\n",
      "Epoch 300/500\n",
      "207/207 [==============================] - ETA: 0s - loss: 0.0128 - accuracy: 0.9961\n",
      "Epoch 300: val_accuracy did not improve from 0.93118\n",
      "207/207 [==============================] - 24s 117ms/step - loss: 0.0128 - accuracy: 0.9961 - val_loss: 0.8499 - val_accuracy: 0.8799\n",
      "Epoch 301/500\n",
      "207/207 [==============================] - ETA: 0s - loss: 0.0357 - accuracy: 0.9924\n",
      "Epoch 301: val_accuracy did not improve from 0.93118\n",
      "207/207 [==============================] - 27s 129ms/step - loss: 0.0357 - accuracy: 0.9924 - val_loss: 0.5137 - val_accuracy: 0.9150\n",
      "Epoch 302/500\n",
      "207/207 [==============================] - ETA: 0s - loss: 0.0179 - accuracy: 0.9943\n",
      "Epoch 302: val_accuracy did not improve from 0.93118\n",
      "207/207 [==============================] - 25s 123ms/step - loss: 0.0179 - accuracy: 0.9943 - val_loss: 0.5086 - val_accuracy: 0.9171\n",
      "Epoch 303/500\n",
      "207/207 [==============================] - ETA: 0s - loss: 0.0248 - accuracy: 0.9949\n",
      "Epoch 303: val_accuracy did not improve from 0.93118\n",
      "207/207 [==============================] - 25s 120ms/step - loss: 0.0248 - accuracy: 0.9949 - val_loss: 1.3491 - val_accuracy: 0.8181\n",
      "Epoch 304/500\n",
      "207/207 [==============================] - ETA: 0s - loss: 0.0142 - accuracy: 0.9952\n",
      "Epoch 304: val_accuracy did not improve from 0.93118\n",
      "207/207 [==============================] - 25s 119ms/step - loss: 0.0142 - accuracy: 0.9952 - val_loss: 1.3129 - val_accuracy: 0.8448\n",
      "Epoch 305/500\n",
      "207/207 [==============================] - ETA: 0s - loss: 0.0352 - accuracy: 0.9900\n",
      "Epoch 305: val_accuracy did not improve from 0.93118\n",
      "207/207 [==============================] - 25s 118ms/step - loss: 0.0352 - accuracy: 0.9900 - val_loss: 0.5605 - val_accuracy: 0.9157\n",
      "Epoch 306/500\n",
      "207/207 [==============================] - ETA: 0s - loss: 0.0126 - accuracy: 0.9955\n",
      "Epoch 306: val_accuracy did not improve from 0.93118\n",
      "207/207 [==============================] - 25s 118ms/step - loss: 0.0126 - accuracy: 0.9955 - val_loss: 0.5641 - val_accuracy: 0.9122\n",
      "Epoch 307/500\n",
      "207/207 [==============================] - ETA: 0s - loss: 0.0211 - accuracy: 0.9940\n",
      "Epoch 307: val_accuracy did not improve from 0.93118\n",
      "207/207 [==============================] - 25s 118ms/step - loss: 0.0211 - accuracy: 0.9940 - val_loss: 0.6913 - val_accuracy: 0.9143\n",
      "Epoch 308/500\n",
      "207/207 [==============================] - ETA: 0s - loss: 0.0185 - accuracy: 0.9934\n",
      "Epoch 308: val_accuracy did not improve from 0.93118\n",
      "207/207 [==============================] - 25s 119ms/step - loss: 0.0185 - accuracy: 0.9934 - val_loss: 0.6349 - val_accuracy: 0.9094\n",
      "Epoch 309/500\n",
      "207/207 [==============================] - ETA: 0s - loss: 0.0323 - accuracy: 0.9915\n",
      "Epoch 309: val_accuracy did not improve from 0.93118\n",
      "207/207 [==============================] - 25s 119ms/step - loss: 0.0323 - accuracy: 0.9915 - val_loss: 0.8098 - val_accuracy: 0.9010\n",
      "Epoch 310/500\n",
      "207/207 [==============================] - ETA: 0s - loss: 0.0176 - accuracy: 0.9934\n",
      "Epoch 310: val_accuracy did not improve from 0.93118\n",
      "207/207 [==============================] - 25s 120ms/step - loss: 0.0176 - accuracy: 0.9934 - val_loss: 0.8395 - val_accuracy: 0.9003\n",
      "Epoch 311/500\n",
      "207/207 [==============================] - ETA: 0s - loss: 0.0273 - accuracy: 0.9897\n",
      "Epoch 311: val_accuracy did not improve from 0.93118\n",
      "207/207 [==============================] - 25s 119ms/step - loss: 0.0273 - accuracy: 0.9897 - val_loss: 0.6188 - val_accuracy: 0.9087\n",
      "Epoch 312/500\n",
      "207/207 [==============================] - ETA: 0s - loss: 0.0321 - accuracy: 0.9912\n",
      "Epoch 312: val_accuracy did not improve from 0.93118\n",
      "207/207 [==============================] - 25s 118ms/step - loss: 0.0321 - accuracy: 0.9912 - val_loss: 0.7180 - val_accuracy: 0.8982\n",
      "Epoch 313/500\n",
      "207/207 [==============================] - ETA: 0s - loss: 0.0067 - accuracy: 0.9970\n",
      "Epoch 313: val_accuracy did not improve from 0.93118\n",
      "207/207 [==============================] - 24s 118ms/step - loss: 0.0067 - accuracy: 0.9970 - val_loss: 0.5644 - val_accuracy: 0.9171\n",
      "Epoch 314/500\n",
      "207/207 [==============================] - ETA: 0s - loss: 0.0263 - accuracy: 0.9927\n",
      "Epoch 314: val_accuracy did not improve from 0.93118\n",
      "207/207 [==============================] - 25s 119ms/step - loss: 0.0263 - accuracy: 0.9927 - val_loss: 0.6143 - val_accuracy: 0.9115\n",
      "Epoch 315/500\n",
      "207/207 [==============================] - ETA: 0s - loss: 0.0114 - accuracy: 0.9964\n",
      "Epoch 315: val_accuracy did not improve from 0.93118\n",
      "207/207 [==============================] - 25s 119ms/step - loss: 0.0114 - accuracy: 0.9964 - val_loss: 1.3488 - val_accuracy: 0.8469\n",
      "Epoch 316/500\n",
      "207/207 [==============================] - ETA: 0s - loss: 0.0326 - accuracy: 0.9918\n",
      "Epoch 316: val_accuracy did not improve from 0.93118\n",
      "207/207 [==============================] - 25s 119ms/step - loss: 0.0326 - accuracy: 0.9918 - val_loss: 0.5876 - val_accuracy: 0.9199\n"
     ]
    },
    {
     "name": "stdout",
     "output_type": "stream",
     "text": [
      "Epoch 317/500\n",
      "207/207 [==============================] - ETA: 0s - loss: 0.0452 - accuracy: 0.9918\n",
      "Epoch 317: val_accuracy did not improve from 0.93118\n",
      "207/207 [==============================] - 25s 118ms/step - loss: 0.0452 - accuracy: 0.9918 - val_loss: 0.6222 - val_accuracy: 0.9150\n",
      "Epoch 318/500\n",
      "207/207 [==============================] - ETA: 0s - loss: 0.0288 - accuracy: 0.9930\n",
      "Epoch 318: val_accuracy did not improve from 0.93118\n",
      "207/207 [==============================] - 25s 119ms/step - loss: 0.0288 - accuracy: 0.9930 - val_loss: 0.6226 - val_accuracy: 0.9066\n",
      "Epoch 319/500\n",
      "207/207 [==============================] - ETA: 0s - loss: 0.0325 - accuracy: 0.9924\n",
      "Epoch 319: val_accuracy did not improve from 0.93118\n",
      "207/207 [==============================] - 25s 118ms/step - loss: 0.0325 - accuracy: 0.9924 - val_loss: 0.6125 - val_accuracy: 0.9038\n",
      "Epoch 320/500\n",
      "207/207 [==============================] - ETA: 0s - loss: 0.0272 - accuracy: 0.9918\n",
      "Epoch 320: val_accuracy did not improve from 0.93118\n",
      "207/207 [==============================] - 25s 118ms/step - loss: 0.0272 - accuracy: 0.9918 - val_loss: 0.6501 - val_accuracy: 0.9101\n",
      "Epoch 321/500\n",
      "207/207 [==============================] - ETA: 0s - loss: 0.0205 - accuracy: 0.9952\n",
      "Epoch 321: val_accuracy did not improve from 0.93118\n",
      "207/207 [==============================] - 25s 118ms/step - loss: 0.0205 - accuracy: 0.9952 - val_loss: 2.2587 - val_accuracy: 0.8048\n",
      "Epoch 322/500\n",
      "207/207 [==============================] - ETA: 0s - loss: 0.0209 - accuracy: 0.9937\n",
      "Epoch 322: val_accuracy did not improve from 0.93118\n",
      "207/207 [==============================] - 25s 119ms/step - loss: 0.0209 - accuracy: 0.9937 - val_loss: 0.5370 - val_accuracy: 0.9143\n",
      "Epoch 323/500\n",
      "207/207 [==============================] - ETA: 0s - loss: 0.0163 - accuracy: 0.9952\n",
      "Epoch 323: val_accuracy did not improve from 0.93118\n",
      "207/207 [==============================] - 25s 118ms/step - loss: 0.0163 - accuracy: 0.9952 - val_loss: 0.5687 - val_accuracy: 0.9101\n",
      "Epoch 324/500\n",
      "207/207 [==============================] - ETA: 0s - loss: 0.0173 - accuracy: 0.9958\n",
      "Epoch 324: val_accuracy did not improve from 0.93118\n",
      "207/207 [==============================] - 25s 118ms/step - loss: 0.0173 - accuracy: 0.9958 - val_loss: 0.5654 - val_accuracy: 0.9249\n",
      "Epoch 325/500\n",
      "207/207 [==============================] - ETA: 0s - loss: 0.0168 - accuracy: 0.9952\n",
      "Epoch 325: val_accuracy did not improve from 0.93118\n",
      "207/207 [==============================] - 24s 118ms/step - loss: 0.0168 - accuracy: 0.9952 - val_loss: 1.3005 - val_accuracy: 0.8385\n",
      "Epoch 326/500\n",
      "207/207 [==============================] - ETA: 0s - loss: 0.0404 - accuracy: 0.9885\n",
      "Epoch 326: val_accuracy did not improve from 0.93118\n",
      "207/207 [==============================] - 24s 118ms/step - loss: 0.0404 - accuracy: 0.9885 - val_loss: 0.6705 - val_accuracy: 0.9108\n",
      "Epoch 327/500\n",
      "207/207 [==============================] - ETA: 0s - loss: 0.0185 - accuracy: 0.9964\n",
      "Epoch 327: val_accuracy did not improve from 0.93118\n",
      "207/207 [==============================] - 24s 118ms/step - loss: 0.0185 - accuracy: 0.9964 - val_loss: 0.6392 - val_accuracy: 0.9150\n",
      "Epoch 328/500\n",
      "207/207 [==============================] - ETA: 0s - loss: 0.0110 - accuracy: 0.9955\n",
      "Epoch 328: val_accuracy did not improve from 0.93118\n",
      "207/207 [==============================] - 25s 119ms/step - loss: 0.0110 - accuracy: 0.9955 - val_loss: 0.5406 - val_accuracy: 0.9228\n",
      "Epoch 329/500\n",
      "207/207 [==============================] - ETA: 0s - loss: 0.0134 - accuracy: 0.9946\n",
      "Epoch 329: val_accuracy did not improve from 0.93118\n",
      "207/207 [==============================] - 25s 120ms/step - loss: 0.0134 - accuracy: 0.9946 - val_loss: 0.5472 - val_accuracy: 0.9221\n",
      "Epoch 330/500\n",
      "207/207 [==============================] - ETA: 0s - loss: 0.0183 - accuracy: 0.9937\n",
      "Epoch 330: val_accuracy did not improve from 0.93118\n",
      "207/207 [==============================] - 25s 120ms/step - loss: 0.0183 - accuracy: 0.9937 - val_loss: 0.5318 - val_accuracy: 0.9256\n",
      "Epoch 331/500\n",
      "207/207 [==============================] - ETA: 0s - loss: 0.0332 - accuracy: 0.9921\n",
      "Epoch 331: val_accuracy did not improve from 0.93118\n",
      "207/207 [==============================] - 25s 119ms/step - loss: 0.0332 - accuracy: 0.9921 - val_loss: 0.7038 - val_accuracy: 0.9052\n",
      "Epoch 332/500\n",
      "207/207 [==============================] - ETA: 0s - loss: 0.0237 - accuracy: 0.9924\n",
      "Epoch 332: val_accuracy did not improve from 0.93118\n",
      "207/207 [==============================] - 25s 119ms/step - loss: 0.0237 - accuracy: 0.9924 - val_loss: 0.7132 - val_accuracy: 0.9066\n",
      "Epoch 333/500\n",
      "207/207 [==============================] - ETA: 0s - loss: 0.0417 - accuracy: 0.9909\n",
      "Epoch 333: val_accuracy did not improve from 0.93118\n",
      "207/207 [==============================] - 25s 118ms/step - loss: 0.0417 - accuracy: 0.9909 - val_loss: 0.7454 - val_accuracy: 0.9059\n",
      "Epoch 334/500\n",
      "207/207 [==============================] - ETA: 0s - loss: 0.0103 - accuracy: 0.9955\n",
      "Epoch 334: val_accuracy did not improve from 0.93118\n",
      "207/207 [==============================] - 24s 118ms/step - loss: 0.0103 - accuracy: 0.9955 - val_loss: 0.5134 - val_accuracy: 0.9199\n",
      "Epoch 335/500\n",
      "207/207 [==============================] - ETA: 0s - loss: 0.0216 - accuracy: 0.9934\n",
      "Epoch 335: val_accuracy did not improve from 0.93118\n",
      "207/207 [==============================] - 25s 120ms/step - loss: 0.0216 - accuracy: 0.9934 - val_loss: 1.3506 - val_accuracy: 0.8694\n",
      "Epoch 336/500\n",
      "207/207 [==============================] - ETA: 0s - loss: 0.0325 - accuracy: 0.9924\n",
      "Epoch 336: val_accuracy did not improve from 0.93118\n",
      "207/207 [==============================] - 25s 118ms/step - loss: 0.0325 - accuracy: 0.9924 - val_loss: 0.8932 - val_accuracy: 0.8919\n",
      "Epoch 337/500\n",
      "207/207 [==============================] - ETA: 0s - loss: 0.0320 - accuracy: 0.9943\n",
      "Epoch 337: val_accuracy did not improve from 0.93118\n",
      "207/207 [==============================] - 25s 118ms/step - loss: 0.0320 - accuracy: 0.9943 - val_loss: 0.5600 - val_accuracy: 0.9228\n",
      "Epoch 338/500\n",
      "207/207 [==============================] - ETA: 0s - loss: 0.0331 - accuracy: 0.9924\n",
      "Epoch 338: val_accuracy did not improve from 0.93118\n",
      "207/207 [==============================] - 24s 118ms/step - loss: 0.0331 - accuracy: 0.9924 - val_loss: 1.1875 - val_accuracy: 0.8574\n",
      "Epoch 339/500\n",
      "207/207 [==============================] - ETA: 0s - loss: 0.0621 - accuracy: 0.9891\n",
      "Epoch 339: val_accuracy did not improve from 0.93118\n",
      "207/207 [==============================] - 25s 119ms/step - loss: 0.0621 - accuracy: 0.9891 - val_loss: 3.8687 - val_accuracy: 0.6671\n",
      "Epoch 340/500\n",
      "207/207 [==============================] - ETA: 0s - loss: 0.0131 - accuracy: 0.9949\n",
      "Epoch 340: val_accuracy did not improve from 0.93118\n",
      "207/207 [==============================] - 25s 118ms/step - loss: 0.0131 - accuracy: 0.9949 - val_loss: 0.6068 - val_accuracy: 0.9178\n",
      "Epoch 341/500\n",
      "207/207 [==============================] - ETA: 0s - loss: 0.0193 - accuracy: 0.9937\n",
      "Epoch 341: val_accuracy did not improve from 0.93118\n",
      "207/207 [==============================] - 24s 117ms/step - loss: 0.0193 - accuracy: 0.9937 - val_loss: 0.5254 - val_accuracy: 0.9256\n",
      "Epoch 342/500\n",
      "207/207 [==============================] - ETA: 0s - loss: 0.0181 - accuracy: 0.9946\n",
      "Epoch 342: val_accuracy did not improve from 0.93118\n",
      "207/207 [==============================] - 25s 119ms/step - loss: 0.0181 - accuracy: 0.9946 - val_loss: 1.3103 - val_accuracy: 0.8497\n",
      "Epoch 343/500\n",
      "207/207 [==============================] - ETA: 0s - loss: 0.0328 - accuracy: 0.9937\n",
      "Epoch 343: val_accuracy did not improve from 0.93118\n",
      "207/207 [==============================] - 25s 119ms/step - loss: 0.0328 - accuracy: 0.9937 - val_loss: 0.6737 - val_accuracy: 0.9115\n",
      "Epoch 344/500\n",
      "207/207 [==============================] - ETA: 0s - loss: 0.0325 - accuracy: 0.9924\n",
      "Epoch 344: val_accuracy did not improve from 0.93118\n",
      "207/207 [==============================] - 25s 119ms/step - loss: 0.0325 - accuracy: 0.9924 - val_loss: 0.5916 - val_accuracy: 0.9164\n",
      "Epoch 345/500\n",
      "207/207 [==============================] - ETA: 0s - loss: 0.0186 - accuracy: 0.9940\n",
      "Epoch 345: val_accuracy did not improve from 0.93118\n",
      "207/207 [==============================] - 25s 119ms/step - loss: 0.0186 - accuracy: 0.9940 - val_loss: 1.4685 - val_accuracy: 0.8301\n"
     ]
    },
    {
     "name": "stdout",
     "output_type": "stream",
     "text": [
      "Epoch 346/500\n",
      "207/207 [==============================] - ETA: 0s - loss: 0.0159 - accuracy: 0.9976\n",
      "Epoch 346: val_accuracy did not improve from 0.93118\n",
      "207/207 [==============================] - 24s 117ms/step - loss: 0.0159 - accuracy: 0.9976 - val_loss: 0.6666 - val_accuracy: 0.9094\n",
      "Epoch 347/500\n",
      "207/207 [==============================] - ETA: 0s - loss: 0.0144 - accuracy: 0.9967\n",
      "Epoch 347: val_accuracy did not improve from 0.93118\n",
      "207/207 [==============================] - 25s 118ms/step - loss: 0.0144 - accuracy: 0.9967 - val_loss: 0.5234 - val_accuracy: 0.9249\n",
      "Epoch 348/500\n",
      "207/207 [==============================] - ETA: 0s - loss: 0.0082 - accuracy: 0.9970\n",
      "Epoch 348: val_accuracy did not improve from 0.93118\n",
      "207/207 [==============================] - 24s 118ms/step - loss: 0.0082 - accuracy: 0.9970 - val_loss: 0.8256 - val_accuracy: 0.9059\n",
      "Epoch 349/500\n",
      "207/207 [==============================] - ETA: 0s - loss: 0.0292 - accuracy: 0.9915\n",
      "Epoch 349: val_accuracy did not improve from 0.93118\n",
      "207/207 [==============================] - 25s 119ms/step - loss: 0.0292 - accuracy: 0.9915 - val_loss: 0.6878 - val_accuracy: 0.9038\n",
      "Epoch 350/500\n",
      "207/207 [==============================] - ETA: 0s - loss: 0.0064 - accuracy: 0.9976\n",
      "Epoch 350: val_accuracy improved from 0.93118 to 0.93188, saving model to model_weights.h5\n",
      "207/207 [==============================] - 25s 120ms/step - loss: 0.0064 - accuracy: 0.9976 - val_loss: 0.5372 - val_accuracy: 0.9319\n",
      "Epoch 351/500\n",
      "207/207 [==============================] - ETA: 0s - loss: 0.0043 - accuracy: 0.9979\n",
      "Epoch 351: val_accuracy did not improve from 0.93188\n",
      "207/207 [==============================] - 25s 118ms/step - loss: 0.0043 - accuracy: 0.9979 - val_loss: 0.5551 - val_accuracy: 0.9192\n",
      "Epoch 352/500\n",
      "207/207 [==============================] - ETA: 0s - loss: 0.0108 - accuracy: 0.9979\n",
      "Epoch 352: val_accuracy did not improve from 0.93188\n",
      "207/207 [==============================] - 25s 118ms/step - loss: 0.0108 - accuracy: 0.9979 - val_loss: 0.6750 - val_accuracy: 0.9080\n",
      "Epoch 353/500\n",
      "207/207 [==============================] - ETA: 0s - loss: 0.0321 - accuracy: 0.9882\n",
      "Epoch 353: val_accuracy did not improve from 0.93188\n",
      "207/207 [==============================] - 25s 119ms/step - loss: 0.0321 - accuracy: 0.9882 - val_loss: 0.7566 - val_accuracy: 0.9094\n",
      "Epoch 354/500\n",
      "207/207 [==============================] - ETA: 0s - loss: 0.0449 - accuracy: 0.9888\n",
      "Epoch 354: val_accuracy did not improve from 0.93188\n",
      "207/207 [==============================] - 25s 118ms/step - loss: 0.0449 - accuracy: 0.9888 - val_loss: 0.5733 - val_accuracy: 0.9164\n",
      "Epoch 355/500\n",
      "207/207 [==============================] - ETA: 0s - loss: 0.0455 - accuracy: 0.9888\n",
      "Epoch 355: val_accuracy did not improve from 0.93188\n",
      "207/207 [==============================] - 25s 119ms/step - loss: 0.0455 - accuracy: 0.9888 - val_loss: 0.6832 - val_accuracy: 0.9073\n",
      "Epoch 356/500\n",
      "207/207 [==============================] - ETA: 0s - loss: 0.0088 - accuracy: 0.9970\n",
      "Epoch 356: val_accuracy did not improve from 0.93188\n",
      "207/207 [==============================] - 24s 118ms/step - loss: 0.0088 - accuracy: 0.9970 - val_loss: 0.5472 - val_accuracy: 0.9263\n",
      "Epoch 357/500\n",
      "207/207 [==============================] - ETA: 0s - loss: 0.0265 - accuracy: 0.9940\n",
      "Epoch 357: val_accuracy did not improve from 0.93188\n",
      "207/207 [==============================] - 25s 118ms/step - loss: 0.0265 - accuracy: 0.9940 - val_loss: 0.7383 - val_accuracy: 0.8954\n",
      "Epoch 358/500\n",
      "207/207 [==============================] - ETA: 0s - loss: 0.0169 - accuracy: 0.9952\n",
      "Epoch 358: val_accuracy did not improve from 0.93188\n",
      "207/207 [==============================] - 24s 118ms/step - loss: 0.0169 - accuracy: 0.9952 - val_loss: 0.6159 - val_accuracy: 0.9164\n",
      "Epoch 359/500\n",
      "207/207 [==============================] - ETA: 0s - loss: 0.0147 - accuracy: 0.9958\n",
      "Epoch 359: val_accuracy did not improve from 0.93188\n",
      "207/207 [==============================] - 25s 119ms/step - loss: 0.0147 - accuracy: 0.9958 - val_loss: 0.6169 - val_accuracy: 0.9157\n",
      "Epoch 360/500\n",
      "207/207 [==============================] - ETA: 0s - loss: 0.0149 - accuracy: 0.9952\n",
      "Epoch 360: val_accuracy did not improve from 0.93188\n",
      "207/207 [==============================] - 25s 119ms/step - loss: 0.0149 - accuracy: 0.9952 - val_loss: 0.8212 - val_accuracy: 0.9094\n",
      "Epoch 361/500\n",
      "207/207 [==============================] - ETA: 0s - loss: 0.0254 - accuracy: 0.9940\n",
      "Epoch 361: val_accuracy did not improve from 0.93188\n",
      "207/207 [==============================] - 25s 120ms/step - loss: 0.0254 - accuracy: 0.9940 - val_loss: 0.5268 - val_accuracy: 0.9284\n",
      "Epoch 362/500\n",
      "207/207 [==============================] - ETA: 0s - loss: 0.0167 - accuracy: 0.9949\n",
      "Epoch 362: val_accuracy did not improve from 0.93188\n",
      "207/207 [==============================] - 25s 118ms/step - loss: 0.0167 - accuracy: 0.9949 - val_loss: 2.2357 - val_accuracy: 0.7851\n",
      "Epoch 363/500\n",
      "207/207 [==============================] - ETA: 0s - loss: 0.0173 - accuracy: 0.9952\n",
      "Epoch 363: val_accuracy did not improve from 0.93188\n",
      "207/207 [==============================] - 24s 118ms/step - loss: 0.0173 - accuracy: 0.9952 - val_loss: 0.6345 - val_accuracy: 0.9199\n",
      "Epoch 364/500\n",
      "207/207 [==============================] - ETA: 0s - loss: 0.0310 - accuracy: 0.9906\n",
      "Epoch 364: val_accuracy did not improve from 0.93188\n",
      "207/207 [==============================] - 25s 119ms/step - loss: 0.0310 - accuracy: 0.9906 - val_loss: 1.6072 - val_accuracy: 0.8083\n",
      "Epoch 365/500\n",
      "207/207 [==============================] - ETA: 0s - loss: 0.0330 - accuracy: 0.9900\n",
      "Epoch 365: val_accuracy did not improve from 0.93188\n",
      "207/207 [==============================] - 24s 118ms/step - loss: 0.0330 - accuracy: 0.9900 - val_loss: 0.9569 - val_accuracy: 0.8813\n",
      "Epoch 366/500\n",
      "207/207 [==============================] - ETA: 0s - loss: 0.0361 - accuracy: 0.9894\n",
      "Epoch 366: val_accuracy did not improve from 0.93188\n",
      "207/207 [==============================] - 25s 119ms/step - loss: 0.0361 - accuracy: 0.9894 - val_loss: 0.6633 - val_accuracy: 0.8968\n",
      "Epoch 367/500\n",
      "207/207 [==============================] - ETA: 0s - loss: 0.0302 - accuracy: 0.9912\n",
      "Epoch 367: val_accuracy did not improve from 0.93188\n",
      "207/207 [==============================] - 25s 120ms/step - loss: 0.0302 - accuracy: 0.9912 - val_loss: 0.4867 - val_accuracy: 0.9143\n",
      "Epoch 368/500\n",
      "207/207 [==============================] - ETA: 0s - loss: 0.0283 - accuracy: 0.9924\n",
      "Epoch 368: val_accuracy did not improve from 0.93188\n",
      "207/207 [==============================] - 25s 118ms/step - loss: 0.0283 - accuracy: 0.9924 - val_loss: 0.5040 - val_accuracy: 0.9185\n",
      "Epoch 369/500\n",
      "207/207 [==============================] - ETA: 0s - loss: 0.0130 - accuracy: 0.9961\n",
      "Epoch 369: val_accuracy did not improve from 0.93188\n",
      "207/207 [==============================] - 25s 119ms/step - loss: 0.0130 - accuracy: 0.9961 - val_loss: 0.5907 - val_accuracy: 0.9221\n",
      "Epoch 370/500\n",
      "207/207 [==============================] - ETA: 0s - loss: 0.0047 - accuracy: 0.9982\n",
      "Epoch 370: val_accuracy did not improve from 0.93188\n",
      "207/207 [==============================] - 24s 117ms/step - loss: 0.0047 - accuracy: 0.9982 - val_loss: 0.5758 - val_accuracy: 0.9185\n",
      "Epoch 371/500\n",
      "207/207 [==============================] - ETA: 0s - loss: 0.0135 - accuracy: 0.9964\n",
      "Epoch 371: val_accuracy did not improve from 0.93188\n",
      "207/207 [==============================] - 24s 118ms/step - loss: 0.0135 - accuracy: 0.9964 - val_loss: 0.5394 - val_accuracy: 0.9213\n",
      "Epoch 372/500\n",
      "207/207 [==============================] - ETA: 0s - loss: 0.0086 - accuracy: 0.9958\n",
      "Epoch 372: val_accuracy did not improve from 0.93188\n",
      "207/207 [==============================] - 25s 119ms/step - loss: 0.0086 - accuracy: 0.9958 - val_loss: 0.7375 - val_accuracy: 0.9059\n",
      "Epoch 373/500\n",
      "207/207 [==============================] - ETA: 0s - loss: 0.0219 - accuracy: 0.9934\n",
      "Epoch 373: val_accuracy did not improve from 0.93188\n",
      "207/207 [==============================] - 25s 119ms/step - loss: 0.0219 - accuracy: 0.9934 - val_loss: 1.1067 - val_accuracy: 0.8855\n",
      "Epoch 374/500\n",
      "207/207 [==============================] - ETA: 0s - loss: 0.0217 - accuracy: 0.9937\n",
      "Epoch 374: val_accuracy did not improve from 0.93188\n"
     ]
    },
    {
     "name": "stdout",
     "output_type": "stream",
     "text": [
      "207/207 [==============================] - 25s 118ms/step - loss: 0.0217 - accuracy: 0.9937 - val_loss: 0.6340 - val_accuracy: 0.9164\n",
      "Epoch 375/500\n",
      "207/207 [==============================] - ETA: 0s - loss: 0.0184 - accuracy: 0.9952\n",
      "Epoch 375: val_accuracy did not improve from 0.93188\n",
      "207/207 [==============================] - 24s 118ms/step - loss: 0.0184 - accuracy: 0.9952 - val_loss: 0.6813 - val_accuracy: 0.9157\n",
      "Epoch 376/500\n",
      "207/207 [==============================] - ETA: 0s - loss: 0.0280 - accuracy: 0.9937\n",
      "Epoch 376: val_accuracy did not improve from 0.93188\n",
      "207/207 [==============================] - 24s 118ms/step - loss: 0.0280 - accuracy: 0.9937 - val_loss: 2.4983 - val_accuracy: 0.7837\n",
      "Epoch 377/500\n",
      "207/207 [==============================] - ETA: 0s - loss: 0.0184 - accuracy: 0.9940\n",
      "Epoch 377: val_accuracy did not improve from 0.93188\n",
      "207/207 [==============================] - 24s 118ms/step - loss: 0.0184 - accuracy: 0.9940 - val_loss: 0.7593 - val_accuracy: 0.8912\n",
      "Epoch 378/500\n",
      "207/207 [==============================] - ETA: 0s - loss: 0.0313 - accuracy: 0.9924\n",
      "Epoch 378: val_accuracy did not improve from 0.93188\n",
      "207/207 [==============================] - 25s 118ms/step - loss: 0.0313 - accuracy: 0.9924 - val_loss: 0.9447 - val_accuracy: 0.8897\n",
      "Epoch 379/500\n",
      "207/207 [==============================] - ETA: 0s - loss: 0.0301 - accuracy: 0.9906\n",
      "Epoch 379: val_accuracy did not improve from 0.93188\n",
      "207/207 [==============================] - 24s 117ms/step - loss: 0.0301 - accuracy: 0.9906 - val_loss: 0.6361 - val_accuracy: 0.9136\n",
      "Epoch 380/500\n",
      "207/207 [==============================] - ETA: 0s - loss: 0.0173 - accuracy: 0.9955\n",
      "Epoch 380: val_accuracy did not improve from 0.93188\n",
      "207/207 [==============================] - 24s 118ms/step - loss: 0.0173 - accuracy: 0.9955 - val_loss: 0.7277 - val_accuracy: 0.9122\n",
      "Epoch 381/500\n",
      "207/207 [==============================] - ETA: 0s - loss: 0.0203 - accuracy: 0.9958\n",
      "Epoch 381: val_accuracy did not improve from 0.93188\n",
      "207/207 [==============================] - 24s 117ms/step - loss: 0.0203 - accuracy: 0.9958 - val_loss: 0.6171 - val_accuracy: 0.9143\n",
      "Epoch 382/500\n",
      "207/207 [==============================] - ETA: 0s - loss: 0.0264 - accuracy: 0.9921\n",
      "Epoch 382: val_accuracy did not improve from 0.93188\n",
      "207/207 [==============================] - 25s 119ms/step - loss: 0.0264 - accuracy: 0.9921 - val_loss: 0.7470 - val_accuracy: 0.8982\n",
      "Epoch 383/500\n",
      "207/207 [==============================] - ETA: 0s - loss: 0.0254 - accuracy: 0.9909\n",
      "Epoch 383: val_accuracy did not improve from 0.93188\n",
      "207/207 [==============================] - 25s 119ms/step - loss: 0.0254 - accuracy: 0.9909 - val_loss: 0.5925 - val_accuracy: 0.9136\n",
      "Epoch 384/500\n",
      "207/207 [==============================] - ETA: 0s - loss: 0.0117 - accuracy: 0.9964\n",
      "Epoch 384: val_accuracy did not improve from 0.93188\n",
      "207/207 [==============================] - 24s 118ms/step - loss: 0.0117 - accuracy: 0.9964 - val_loss: 0.7132 - val_accuracy: 0.9143\n",
      "Epoch 385/500\n",
      "207/207 [==============================] - ETA: 0s - loss: 0.0079 - accuracy: 0.9961\n",
      "Epoch 385: val_accuracy did not improve from 0.93188\n",
      "207/207 [==============================] - 24s 118ms/step - loss: 0.0079 - accuracy: 0.9961 - val_loss: 0.7845 - val_accuracy: 0.9101\n",
      "Epoch 386/500\n",
      "207/207 [==============================] - ETA: 0s - loss: 0.0159 - accuracy: 0.9952\n",
      "Epoch 386: val_accuracy did not improve from 0.93188\n",
      "207/207 [==============================] - 25s 119ms/step - loss: 0.0159 - accuracy: 0.9952 - val_loss: 0.6978 - val_accuracy: 0.9122\n",
      "Epoch 387/500\n",
      "207/207 [==============================] - ETA: 0s - loss: 0.0089 - accuracy: 0.9970\n",
      "Epoch 387: val_accuracy did not improve from 0.93188\n",
      "207/207 [==============================] - 25s 118ms/step - loss: 0.0089 - accuracy: 0.9970 - val_loss: 0.6274 - val_accuracy: 0.9164\n",
      "Epoch 388/500\n",
      "207/207 [==============================] - ETA: 0s - loss: 0.0201 - accuracy: 0.9940\n",
      "Epoch 388: val_accuracy did not improve from 0.93188\n",
      "207/207 [==============================] - 25s 118ms/step - loss: 0.0201 - accuracy: 0.9940 - val_loss: 0.4833 - val_accuracy: 0.9284\n",
      "Epoch 389/500\n",
      "207/207 [==============================] - ETA: 0s - loss: 0.0243 - accuracy: 0.9934\n",
      "Epoch 389: val_accuracy did not improve from 0.93188\n",
      "207/207 [==============================] - 25s 118ms/step - loss: 0.0243 - accuracy: 0.9934 - val_loss: 0.6640 - val_accuracy: 0.9122\n",
      "Epoch 390/500\n",
      "207/207 [==============================] - ETA: 0s - loss: 0.0305 - accuracy: 0.9918\n",
      "Epoch 390: val_accuracy did not improve from 0.93188\n",
      "207/207 [==============================] - 25s 120ms/step - loss: 0.0305 - accuracy: 0.9918 - val_loss: 0.7970 - val_accuracy: 0.9017\n",
      "Epoch 391/500\n",
      "207/207 [==============================] - ETA: 0s - loss: 0.0245 - accuracy: 0.9940\n",
      "Epoch 391: val_accuracy did not improve from 0.93188\n",
      "207/207 [==============================] - 25s 118ms/step - loss: 0.0245 - accuracy: 0.9940 - val_loss: 0.7683 - val_accuracy: 0.9143\n",
      "Epoch 392/500\n",
      "207/207 [==============================] - ETA: 0s - loss: 0.0141 - accuracy: 0.9955\n",
      "Epoch 392: val_accuracy did not improve from 0.93188\n",
      "207/207 [==============================] - 25s 119ms/step - loss: 0.0141 - accuracy: 0.9955 - val_loss: 0.6604 - val_accuracy: 0.9235\n",
      "Epoch 393/500\n",
      "207/207 [==============================] - ETA: 0s - loss: 0.0317 - accuracy: 0.9924\n",
      "Epoch 393: val_accuracy did not improve from 0.93188\n",
      "207/207 [==============================] - 24s 117ms/step - loss: 0.0317 - accuracy: 0.9924 - val_loss: 0.7317 - val_accuracy: 0.8869\n",
      "Epoch 394/500\n",
      "207/207 [==============================] - ETA: 0s - loss: 0.0313 - accuracy: 0.9906\n",
      "Epoch 394: val_accuracy did not improve from 0.93188\n",
      "207/207 [==============================] - 25s 118ms/step - loss: 0.0313 - accuracy: 0.9906 - val_loss: 0.8188 - val_accuracy: 0.8933\n",
      "Epoch 395/500\n",
      "207/207 [==============================] - ETA: 0s - loss: 0.0178 - accuracy: 0.9940\n",
      "Epoch 395: val_accuracy did not improve from 0.93188\n",
      "207/207 [==============================] - 24s 117ms/step - loss: 0.0178 - accuracy: 0.9940 - val_loss: 0.6218 - val_accuracy: 0.9136\n",
      "Epoch 396/500\n",
      "207/207 [==============================] - ETA: 0s - loss: 0.0082 - accuracy: 0.9976\n",
      "Epoch 396: val_accuracy did not improve from 0.93188\n",
      "207/207 [==============================] - 25s 120ms/step - loss: 0.0082 - accuracy: 0.9976 - val_loss: 0.6548 - val_accuracy: 0.9122\n",
      "Epoch 397/500\n",
      "207/207 [==============================] - ETA: 0s - loss: 0.0217 - accuracy: 0.9937\n",
      "Epoch 397: val_accuracy did not improve from 0.93188\n",
      "207/207 [==============================] - 25s 118ms/step - loss: 0.0217 - accuracy: 0.9937 - val_loss: 0.7393 - val_accuracy: 0.9101\n",
      "Epoch 398/500\n",
      "207/207 [==============================] - ETA: 0s - loss: 0.0208 - accuracy: 0.9943\n",
      "Epoch 398: val_accuracy did not improve from 0.93188\n",
      "207/207 [==============================] - 25s 118ms/step - loss: 0.0208 - accuracy: 0.9943 - val_loss: 0.7055 - val_accuracy: 0.9080\n",
      "Epoch 399/500\n",
      "207/207 [==============================] - ETA: 0s - loss: 0.0107 - accuracy: 0.9973\n",
      "Epoch 399: val_accuracy did not improve from 0.93188\n",
      "207/207 [==============================] - 25s 119ms/step - loss: 0.0107 - accuracy: 0.9973 - val_loss: 0.7345 - val_accuracy: 0.9136\n",
      "Epoch 400/500\n",
      "207/207 [==============================] - ETA: 0s - loss: 0.0144 - accuracy: 0.9952\n",
      "Epoch 400: val_accuracy did not improve from 0.93188\n",
      "207/207 [==============================] - 24s 118ms/step - loss: 0.0144 - accuracy: 0.9952 - val_loss: 0.8928 - val_accuracy: 0.8841\n",
      "Epoch 401/500\n",
      "207/207 [==============================] - ETA: 0s - loss: 0.0226 - accuracy: 0.9943\n",
      "Epoch 401: val_accuracy did not improve from 0.93188\n",
      "207/207 [==============================] - 25s 118ms/step - loss: 0.0226 - accuracy: 0.9943 - val_loss: 0.5889 - val_accuracy: 0.9263\n",
      "Epoch 402/500\n",
      "207/207 [==============================] - ETA: 0s - loss: 0.0140 - accuracy: 0.9946\n",
      "Epoch 402: val_accuracy did not improve from 0.93188\n",
      "207/207 [==============================] - 25s 119ms/step - loss: 0.0140 - accuracy: 0.9946 - val_loss: 0.6826 - val_accuracy: 0.9129\n",
      "Epoch 403/500\n"
     ]
    },
    {
     "name": "stdout",
     "output_type": "stream",
     "text": [
      "207/207 [==============================] - ETA: 0s - loss: 0.0245 - accuracy: 0.9940\n",
      "Epoch 403: val_accuracy did not improve from 0.93188\n",
      "207/207 [==============================] - 24s 117ms/step - loss: 0.0245 - accuracy: 0.9940 - val_loss: 0.7459 - val_accuracy: 0.9143\n",
      "Epoch 404/500\n",
      "207/207 [==============================] - ETA: 0s - loss: 0.0090 - accuracy: 0.9973\n",
      "Epoch 404: val_accuracy did not improve from 0.93188\n",
      "207/207 [==============================] - 24s 118ms/step - loss: 0.0090 - accuracy: 0.9973 - val_loss: 0.6687 - val_accuracy: 0.9157\n",
      "Epoch 405/500\n",
      "207/207 [==============================] - ETA: 0s - loss: 0.0088 - accuracy: 0.9964\n",
      "Epoch 405: val_accuracy did not improve from 0.93188\n",
      "207/207 [==============================] - 24s 118ms/step - loss: 0.0088 - accuracy: 0.9964 - val_loss: 0.7910 - val_accuracy: 0.8954\n",
      "Epoch 406/500\n",
      "207/207 [==============================] - ETA: 0s - loss: 0.0367 - accuracy: 0.9934\n",
      "Epoch 406: val_accuracy did not improve from 0.93188\n",
      "207/207 [==============================] - 24s 118ms/step - loss: 0.0367 - accuracy: 0.9934 - val_loss: 0.5254 - val_accuracy: 0.9199\n",
      "Epoch 407/500\n",
      "207/207 [==============================] - ETA: 0s - loss: 0.0181 - accuracy: 0.9934\n",
      "Epoch 407: val_accuracy did not improve from 0.93188\n",
      "207/207 [==============================] - 24s 117ms/step - loss: 0.0181 - accuracy: 0.9934 - val_loss: 0.6454 - val_accuracy: 0.9094\n",
      "Epoch 408/500\n",
      "207/207 [==============================] - ETA: 0s - loss: 0.0128 - accuracy: 0.9967\n",
      "Epoch 408: val_accuracy did not improve from 0.93188\n",
      "207/207 [==============================] - 24s 117ms/step - loss: 0.0128 - accuracy: 0.9967 - val_loss: 0.8211 - val_accuracy: 0.9038\n",
      "Epoch 409/500\n",
      "207/207 [==============================] - ETA: 0s - loss: 0.0308 - accuracy: 0.9918\n",
      "Epoch 409: val_accuracy did not improve from 0.93188\n",
      "207/207 [==============================] - 25s 119ms/step - loss: 0.0308 - accuracy: 0.9918 - val_loss: 0.6608 - val_accuracy: 0.9284\n",
      "Epoch 410/500\n",
      "207/207 [==============================] - ETA: 0s - loss: 0.0104 - accuracy: 0.9970\n",
      "Epoch 410: val_accuracy did not improve from 0.93188\n",
      "207/207 [==============================] - 24s 117ms/step - loss: 0.0104 - accuracy: 0.9970 - val_loss: 0.6916 - val_accuracy: 0.9157\n",
      "Epoch 411/500\n",
      "207/207 [==============================] - ETA: 0s - loss: 0.0387 - accuracy: 0.9940\n",
      "Epoch 411: val_accuracy did not improve from 0.93188\n",
      "207/207 [==============================] - 25s 118ms/step - loss: 0.0387 - accuracy: 0.9940 - val_loss: 1.0116 - val_accuracy: 0.8890\n",
      "Epoch 412/500\n",
      "207/207 [==============================] - ETA: 0s - loss: 0.0139 - accuracy: 0.9958\n",
      "Epoch 412: val_accuracy did not improve from 0.93188\n",
      "207/207 [==============================] - 24s 118ms/step - loss: 0.0139 - accuracy: 0.9958 - val_loss: 1.3906 - val_accuracy: 0.8624\n",
      "Epoch 413/500\n",
      "207/207 [==============================] - ETA: 0s - loss: 0.0061 - accuracy: 0.9973\n",
      "Epoch 413: val_accuracy did not improve from 0.93188\n",
      "207/207 [==============================] - 24s 117ms/step - loss: 0.0061 - accuracy: 0.9973 - val_loss: 0.6148 - val_accuracy: 0.9249\n",
      "Epoch 414/500\n",
      "207/207 [==============================] - ETA: 0s - loss: 0.0308 - accuracy: 0.9943\n",
      "Epoch 414: val_accuracy did not improve from 0.93188\n",
      "207/207 [==============================] - 25s 120ms/step - loss: 0.0308 - accuracy: 0.9943 - val_loss: 1.4526 - val_accuracy: 0.8631\n",
      "Epoch 415/500\n",
      "207/207 [==============================] - ETA: 0s - loss: 0.0119 - accuracy: 0.9955\n",
      "Epoch 415: val_accuracy did not improve from 0.93188\n",
      "207/207 [==============================] - 24s 118ms/step - loss: 0.0119 - accuracy: 0.9955 - val_loss: 0.6685 - val_accuracy: 0.9171\n",
      "Epoch 416/500\n",
      "207/207 [==============================] - ETA: 0s - loss: 0.0160 - accuracy: 0.9961\n",
      "Epoch 416: val_accuracy did not improve from 0.93188\n",
      "207/207 [==============================] - 25s 118ms/step - loss: 0.0160 - accuracy: 0.9961 - val_loss: 0.6843 - val_accuracy: 0.9129\n",
      "Epoch 417/500\n",
      "207/207 [==============================] - ETA: 0s - loss: 0.0073 - accuracy: 0.9979\n",
      "Epoch 417: val_accuracy did not improve from 0.93188\n",
      "207/207 [==============================] - 25s 119ms/step - loss: 0.0073 - accuracy: 0.9979 - val_loss: 0.6382 - val_accuracy: 0.9199\n",
      "Epoch 418/500\n",
      "207/207 [==============================] - ETA: 0s - loss: 0.0179 - accuracy: 0.9949\n",
      "Epoch 418: val_accuracy did not improve from 0.93188\n",
      "207/207 [==============================] - 24s 118ms/step - loss: 0.0179 - accuracy: 0.9949 - val_loss: 0.6340 - val_accuracy: 0.9242\n",
      "Epoch 419/500\n",
      "207/207 [==============================] - ETA: 0s - loss: 0.0089 - accuracy: 0.9964\n",
      "Epoch 419: val_accuracy did not improve from 0.93188\n",
      "207/207 [==============================] - 25s 118ms/step - loss: 0.0089 - accuracy: 0.9964 - val_loss: 0.5978 - val_accuracy: 0.9206\n",
      "Epoch 420/500\n",
      "207/207 [==============================] - ETA: 0s - loss: 0.0283 - accuracy: 0.9943\n",
      "Epoch 420: val_accuracy did not improve from 0.93188\n",
      "207/207 [==============================] - 25s 118ms/step - loss: 0.0283 - accuracy: 0.9943 - val_loss: 0.8507 - val_accuracy: 0.9066\n",
      "Epoch 421/500\n",
      "207/207 [==============================] - ETA: 0s - loss: 0.0062 - accuracy: 0.9973\n",
      "Epoch 421: val_accuracy did not improve from 0.93188\n",
      "207/207 [==============================] - 25s 119ms/step - loss: 0.0062 - accuracy: 0.9973 - val_loss: 0.5759 - val_accuracy: 0.9270\n",
      "Epoch 422/500\n",
      "207/207 [==============================] - ETA: 0s - loss: 0.0173 - accuracy: 0.9955\n",
      "Epoch 422: val_accuracy did not improve from 0.93188\n",
      "207/207 [==============================] - 25s 119ms/step - loss: 0.0173 - accuracy: 0.9955 - val_loss: 0.5769 - val_accuracy: 0.9228\n",
      "Epoch 423/500\n",
      "207/207 [==============================] - ETA: 0s - loss: 0.0195 - accuracy: 0.9937\n",
      "Epoch 423: val_accuracy did not improve from 0.93188\n",
      "207/207 [==============================] - 25s 118ms/step - loss: 0.0195 - accuracy: 0.9937 - val_loss: 1.1232 - val_accuracy: 0.8666\n",
      "Epoch 424/500\n",
      "207/207 [==============================] - ETA: 0s - loss: 0.0200 - accuracy: 0.9955\n",
      "Epoch 424: val_accuracy did not improve from 0.93188\n",
      "207/207 [==============================] - 25s 119ms/step - loss: 0.0200 - accuracy: 0.9955 - val_loss: 0.9322 - val_accuracy: 0.8926\n",
      "Epoch 425/500\n",
      "207/207 [==============================] - ETA: 0s - loss: 0.0257 - accuracy: 0.9940\n",
      "Epoch 425: val_accuracy did not improve from 0.93188\n",
      "207/207 [==============================] - 25s 118ms/step - loss: 0.0257 - accuracy: 0.9940 - val_loss: 1.6634 - val_accuracy: 0.8139\n",
      "Epoch 426/500\n",
      "207/207 [==============================] - ETA: 0s - loss: 0.0156 - accuracy: 0.9949\n",
      "Epoch 426: val_accuracy did not improve from 0.93188\n",
      "207/207 [==============================] - 25s 120ms/step - loss: 0.0156 - accuracy: 0.9949 - val_loss: 2.4213 - val_accuracy: 0.8104\n",
      "Epoch 427/500\n",
      "207/207 [==============================] - ETA: 0s - loss: 0.0310 - accuracy: 0.9921\n",
      "Epoch 427: val_accuracy did not improve from 0.93188\n",
      "207/207 [==============================] - 25s 119ms/step - loss: 0.0310 - accuracy: 0.9921 - val_loss: 1.0219 - val_accuracy: 0.8785\n",
      "Epoch 428/500\n",
      "207/207 [==============================] - ETA: 0s - loss: 0.0387 - accuracy: 0.9912\n",
      "Epoch 428: val_accuracy did not improve from 0.93188\n",
      "207/207 [==============================] - 25s 119ms/step - loss: 0.0387 - accuracy: 0.9912 - val_loss: 0.7822 - val_accuracy: 0.9136\n",
      "Epoch 429/500\n",
      "207/207 [==============================] - ETA: 0s - loss: 0.0202 - accuracy: 0.9949\n",
      "Epoch 429: val_accuracy did not improve from 0.93188\n",
      "207/207 [==============================] - 25s 119ms/step - loss: 0.0202 - accuracy: 0.9949 - val_loss: 0.6034 - val_accuracy: 0.9249\n",
      "Epoch 430/500\n",
      "207/207 [==============================] - ETA: 0s - loss: 0.0094 - accuracy: 0.9973\n",
      "Epoch 430: val_accuracy did not improve from 0.93188\n",
      "207/207 [==============================] - 24s 118ms/step - loss: 0.0094 - accuracy: 0.9973 - val_loss: 0.6156 - val_accuracy: 0.9185\n",
      "Epoch 431/500\n",
      "207/207 [==============================] - ETA: 0s - loss: 0.0164 - accuracy: 0.9949\n",
      "Epoch 431: val_accuracy did not improve from 0.93188\n",
      "207/207 [==============================] - 25s 119ms/step - loss: 0.0164 - accuracy: 0.9949 - val_loss: 0.9323 - val_accuracy: 0.8940\n"
     ]
    },
    {
     "name": "stdout",
     "output_type": "stream",
     "text": [
      "Epoch 432/500\n",
      "207/207 [==============================] - ETA: 0s - loss: 0.0178 - accuracy: 0.9967\n",
      "Epoch 432: val_accuracy did not improve from 0.93188\n",
      "207/207 [==============================] - 24s 118ms/step - loss: 0.0178 - accuracy: 0.9967 - val_loss: 0.7694 - val_accuracy: 0.9003\n",
      "Epoch 433/500\n",
      "207/207 [==============================] - ETA: 0s - loss: 0.0171 - accuracy: 0.9952\n",
      "Epoch 433: val_accuracy did not improve from 0.93188\n",
      "207/207 [==============================] - 24s 117ms/step - loss: 0.0171 - accuracy: 0.9952 - val_loss: 0.7816 - val_accuracy: 0.9059\n",
      "Epoch 434/500\n",
      "207/207 [==============================] - ETA: 0s - loss: 0.0148 - accuracy: 0.9952\n",
      "Epoch 434: val_accuracy did not improve from 0.93188\n",
      "207/207 [==============================] - 24s 118ms/step - loss: 0.0148 - accuracy: 0.9952 - val_loss: 0.6471 - val_accuracy: 0.9213\n",
      "Epoch 435/500\n",
      "207/207 [==============================] - ETA: 0s - loss: 0.0199 - accuracy: 0.9937\n",
      "Epoch 435: val_accuracy did not improve from 0.93188\n",
      "207/207 [==============================] - 24s 118ms/step - loss: 0.0199 - accuracy: 0.9937 - val_loss: 0.7770 - val_accuracy: 0.9115\n",
      "Epoch 436/500\n",
      "207/207 [==============================] - ETA: 0s - loss: 0.0308 - accuracy: 0.9943\n",
      "Epoch 436: val_accuracy did not improve from 0.93188\n",
      "207/207 [==============================] - 24s 118ms/step - loss: 0.0308 - accuracy: 0.9943 - val_loss: 0.8437 - val_accuracy: 0.9094\n",
      "Epoch 437/500\n",
      "207/207 [==============================] - ETA: 0s - loss: 0.0360 - accuracy: 0.9924\n",
      "Epoch 437: val_accuracy did not improve from 0.93188\n",
      "207/207 [==============================] - 25s 119ms/step - loss: 0.0360 - accuracy: 0.9924 - val_loss: 0.5619 - val_accuracy: 0.9242\n",
      "Epoch 438/500\n",
      "207/207 [==============================] - ETA: 0s - loss: 0.0089 - accuracy: 0.9979\n",
      "Epoch 438: val_accuracy did not improve from 0.93188\n",
      "207/207 [==============================] - 25s 118ms/step - loss: 0.0089 - accuracy: 0.9979 - val_loss: 0.5443 - val_accuracy: 0.9312\n",
      "Epoch 439/500\n",
      "207/207 [==============================] - ETA: 0s - loss: 0.0119 - accuracy: 0.9976\n",
      "Epoch 439: val_accuracy did not improve from 0.93188\n",
      "207/207 [==============================] - 25s 119ms/step - loss: 0.0119 - accuracy: 0.9976 - val_loss: 0.6553 - val_accuracy: 0.9150\n",
      "Epoch 440/500\n",
      "207/207 [==============================] - ETA: 0s - loss: 0.0033 - accuracy: 0.9991\n",
      "Epoch 440: val_accuracy improved from 0.93188 to 0.93539, saving model to model_weights.h5\n",
      "207/207 [==============================] - 25s 120ms/step - loss: 0.0033 - accuracy: 0.9991 - val_loss: 0.5368 - val_accuracy: 0.9354\n",
      "Epoch 441/500\n",
      "207/207 [==============================] - ETA: 0s - loss: 0.0083 - accuracy: 0.9979\n",
      "Epoch 441: val_accuracy did not improve from 0.93539\n",
      "207/207 [==============================] - 24s 118ms/step - loss: 0.0083 - accuracy: 0.9979 - val_loss: 1.3862 - val_accuracy: 0.8841\n",
      "Epoch 442/500\n",
      "207/207 [==============================] - ETA: 0s - loss: 0.0315 - accuracy: 0.9955\n",
      "Epoch 442: val_accuracy did not improve from 0.93539\n",
      "207/207 [==============================] - 25s 118ms/step - loss: 0.0315 - accuracy: 0.9955 - val_loss: 0.9898 - val_accuracy: 0.8813\n",
      "Epoch 443/500\n",
      "207/207 [==============================] - ETA: 0s - loss: 0.0387 - accuracy: 0.9927\n",
      "Epoch 443: val_accuracy did not improve from 0.93539\n",
      "207/207 [==============================] - 25s 119ms/step - loss: 0.0387 - accuracy: 0.9927 - val_loss: 0.7812 - val_accuracy: 0.9157\n",
      "Epoch 444/500\n",
      "207/207 [==============================] - ETA: 0s - loss: 0.0270 - accuracy: 0.9943\n",
      "Epoch 444: val_accuracy did not improve from 0.93539\n",
      "207/207 [==============================] - 25s 118ms/step - loss: 0.0270 - accuracy: 0.9943 - val_loss: 0.7074 - val_accuracy: 0.9101\n",
      "Epoch 445/500\n",
      "207/207 [==============================] - ETA: 0s - loss: 0.0257 - accuracy: 0.9927\n",
      "Epoch 445: val_accuracy did not improve from 0.93539\n",
      "207/207 [==============================] - 25s 118ms/step - loss: 0.0257 - accuracy: 0.9927 - val_loss: 0.6663 - val_accuracy: 0.9115\n",
      "Epoch 446/500\n",
      "207/207 [==============================] - ETA: 0s - loss: 0.0241 - accuracy: 0.9937\n",
      "Epoch 446: val_accuracy did not improve from 0.93539\n",
      "207/207 [==============================] - 25s 119ms/step - loss: 0.0241 - accuracy: 0.9937 - val_loss: 0.7156 - val_accuracy: 0.9094\n",
      "Epoch 447/500\n",
      "207/207 [==============================] - ETA: 0s - loss: 0.0128 - accuracy: 0.9976\n",
      "Epoch 447: val_accuracy did not improve from 0.93539\n",
      "207/207 [==============================] - 25s 118ms/step - loss: 0.0128 - accuracy: 0.9976 - val_loss: 0.6711 - val_accuracy: 0.9164\n",
      "Epoch 448/500\n",
      "207/207 [==============================] - ETA: 0s - loss: 0.0087 - accuracy: 0.9967\n",
      "Epoch 448: val_accuracy did not improve from 0.93539\n",
      "207/207 [==============================] - 25s 118ms/step - loss: 0.0087 - accuracy: 0.9967 - val_loss: 0.7481 - val_accuracy: 0.9178\n",
      "Epoch 449/500\n",
      "207/207 [==============================] - ETA: 0s - loss: 0.0203 - accuracy: 0.9946\n",
      "Epoch 449: val_accuracy did not improve from 0.93539\n",
      "207/207 [==============================] - 26s 124ms/step - loss: 0.0203 - accuracy: 0.9946 - val_loss: 1.0103 - val_accuracy: 0.8757\n",
      "Epoch 450/500\n",
      "207/207 [==============================] - ETA: 0s - loss: 0.0266 - accuracy: 0.9927\n",
      "Epoch 450: val_accuracy did not improve from 0.93539\n",
      "207/207 [==============================] - 24s 118ms/step - loss: 0.0266 - accuracy: 0.9927 - val_loss: 0.7347 - val_accuracy: 0.9157\n",
      "Epoch 451/500\n",
      "207/207 [==============================] - ETA: 0s - loss: 0.0250 - accuracy: 0.9952\n",
      "Epoch 451: val_accuracy did not improve from 0.93539\n",
      "207/207 [==============================] - 25s 118ms/step - loss: 0.0250 - accuracy: 0.9952 - val_loss: 0.6522 - val_accuracy: 0.9122\n",
      "Epoch 452/500\n",
      "207/207 [==============================] - ETA: 0s - loss: 0.0067 - accuracy: 0.9973\n",
      "Epoch 452: val_accuracy did not improve from 0.93539\n",
      "207/207 [==============================] - 24s 118ms/step - loss: 0.0067 - accuracy: 0.9973 - val_loss: 0.6962 - val_accuracy: 0.9094\n",
      "Epoch 453/500\n",
      "207/207 [==============================] - ETA: 0s - loss: 0.0206 - accuracy: 0.9940\n",
      "Epoch 453: val_accuracy did not improve from 0.93539\n",
      "207/207 [==============================] - 24s 118ms/step - loss: 0.0206 - accuracy: 0.9940 - val_loss: 1.0096 - val_accuracy: 0.8813\n",
      "Epoch 454/500\n",
      "207/207 [==============================] - ETA: 0s - loss: 0.0452 - accuracy: 0.9927\n",
      "Epoch 454: val_accuracy did not improve from 0.93539\n",
      "207/207 [==============================] - 25s 119ms/step - loss: 0.0452 - accuracy: 0.9927 - val_loss: 0.6802 - val_accuracy: 0.9199\n",
      "Epoch 455/500\n",
      "207/207 [==============================] - ETA: 0s - loss: 0.0161 - accuracy: 0.9943\n",
      "Epoch 455: val_accuracy did not improve from 0.93539\n",
      "207/207 [==============================] - 24s 118ms/step - loss: 0.0161 - accuracy: 0.9943 - val_loss: 0.6433 - val_accuracy: 0.9249\n",
      "Epoch 456/500\n",
      "207/207 [==============================] - ETA: 0s - loss: 0.0228 - accuracy: 0.9937\n",
      "Epoch 456: val_accuracy did not improve from 0.93539\n",
      "207/207 [==============================] - 25s 119ms/step - loss: 0.0228 - accuracy: 0.9937 - val_loss: 0.6457 - val_accuracy: 0.9206\n",
      "Epoch 457/500\n",
      "207/207 [==============================] - ETA: 0s - loss: 0.0150 - accuracy: 0.9958\n",
      "Epoch 457: val_accuracy did not improve from 0.93539\n",
      "207/207 [==============================] - 24s 118ms/step - loss: 0.0150 - accuracy: 0.9958 - val_loss: 1.4040 - val_accuracy: 0.8666\n",
      "Epoch 458/500\n",
      "207/207 [==============================] - ETA: 0s - loss: 0.0220 - accuracy: 0.9952\n",
      "Epoch 458: val_accuracy did not improve from 0.93539\n",
      "207/207 [==============================] - 25s 121ms/step - loss: 0.0220 - accuracy: 0.9952 - val_loss: 0.5349 - val_accuracy: 0.9347\n",
      "Epoch 459/500\n",
      "207/207 [==============================] - ETA: 0s - loss: 0.0096 - accuracy: 0.9958\n",
      "Epoch 459: val_accuracy did not improve from 0.93539\n",
      "207/207 [==============================] - 24s 118ms/step - loss: 0.0096 - accuracy: 0.9958 - val_loss: 0.5585 - val_accuracy: 0.9277\n",
      "Epoch 460/500\n",
      "207/207 [==============================] - ETA: 0s - loss: 0.0263 - accuracy: 0.9930\n",
      "Epoch 460: val_accuracy did not improve from 0.93539\n"
     ]
    },
    {
     "name": "stdout",
     "output_type": "stream",
     "text": [
      "207/207 [==============================] - 25s 120ms/step - loss: 0.0263 - accuracy: 0.9930 - val_loss: 1.5207 - val_accuracy: 0.8427\n",
      "Epoch 461/500\n",
      "207/207 [==============================] - ETA: 0s - loss: 0.0231 - accuracy: 0.9934\n",
      "Epoch 461: val_accuracy did not improve from 0.93539\n",
      "207/207 [==============================] - 24s 116ms/step - loss: 0.0231 - accuracy: 0.9934 - val_loss: 0.7509 - val_accuracy: 0.9101\n",
      "Epoch 462/500\n",
      "207/207 [==============================] - ETA: 0s - loss: 0.0278 - accuracy: 0.9924\n",
      "Epoch 462: val_accuracy did not improve from 0.93539\n",
      "207/207 [==============================] - 24s 118ms/step - loss: 0.0278 - accuracy: 0.9924 - val_loss: 0.9896 - val_accuracy: 0.8806\n",
      "Epoch 463/500\n",
      "207/207 [==============================] - ETA: 0s - loss: 0.0099 - accuracy: 0.9967\n",
      "Epoch 463: val_accuracy did not improve from 0.93539\n",
      "207/207 [==============================] - 25s 119ms/step - loss: 0.0099 - accuracy: 0.9967 - val_loss: 0.8519 - val_accuracy: 0.9045\n",
      "Epoch 464/500\n",
      "207/207 [==============================] - ETA: 0s - loss: 0.0068 - accuracy: 0.9964\n",
      "Epoch 464: val_accuracy did not improve from 0.93539\n",
      "207/207 [==============================] - 25s 119ms/step - loss: 0.0068 - accuracy: 0.9964 - val_loss: 1.0739 - val_accuracy: 0.8834\n",
      "Epoch 465/500\n",
      "207/207 [==============================] - ETA: 0s - loss: 0.0180 - accuracy: 0.9952\n",
      "Epoch 465: val_accuracy did not improve from 0.93539\n",
      "207/207 [==============================] - 25s 119ms/step - loss: 0.0180 - accuracy: 0.9952 - val_loss: 0.6194 - val_accuracy: 0.9157\n",
      "Epoch 466/500\n",
      "207/207 [==============================] - ETA: 0s - loss: 0.0174 - accuracy: 0.9940\n",
      "Epoch 466: val_accuracy did not improve from 0.93539\n",
      "207/207 [==============================] - 25s 119ms/step - loss: 0.0174 - accuracy: 0.9940 - val_loss: 0.7742 - val_accuracy: 0.9115\n",
      "Epoch 467/500\n",
      "207/207 [==============================] - ETA: 0s - loss: 0.0198 - accuracy: 0.9952\n",
      "Epoch 467: val_accuracy did not improve from 0.93539\n",
      "207/207 [==============================] - 24s 118ms/step - loss: 0.0198 - accuracy: 0.9952 - val_loss: 0.6904 - val_accuracy: 0.9066\n",
      "Epoch 468/500\n",
      "207/207 [==============================] - ETA: 0s - loss: 0.0152 - accuracy: 0.9955\n",
      "Epoch 468: val_accuracy did not improve from 0.93539\n",
      "207/207 [==============================] - 24s 117ms/step - loss: 0.0152 - accuracy: 0.9955 - val_loss: 0.6661 - val_accuracy: 0.9192\n",
      "Epoch 469/500\n",
      "207/207 [==============================] - ETA: 0s - loss: 0.0095 - accuracy: 0.9979\n",
      "Epoch 469: val_accuracy did not improve from 0.93539\n",
      "207/207 [==============================] - 25s 119ms/step - loss: 0.0095 - accuracy: 0.9979 - val_loss: 0.6733 - val_accuracy: 0.9150\n",
      "Epoch 470/500\n",
      "207/207 [==============================] - ETA: 0s - loss: 0.0152 - accuracy: 0.9964\n",
      "Epoch 470: val_accuracy did not improve from 0.93539\n",
      "207/207 [==============================] - 24s 118ms/step - loss: 0.0152 - accuracy: 0.9964 - val_loss: 0.7478 - val_accuracy: 0.9157\n",
      "Epoch 471/500\n",
      "207/207 [==============================] - ETA: 0s - loss: 0.0261 - accuracy: 0.9946\n",
      "Epoch 471: val_accuracy did not improve from 0.93539\n",
      "207/207 [==============================] - 25s 119ms/step - loss: 0.0261 - accuracy: 0.9946 - val_loss: 0.6519 - val_accuracy: 0.9185\n",
      "Epoch 472/500\n",
      "207/207 [==============================] - ETA: 0s - loss: 0.0284 - accuracy: 0.9937\n",
      "Epoch 472: val_accuracy did not improve from 0.93539\n",
      "207/207 [==============================] - 25s 118ms/step - loss: 0.0284 - accuracy: 0.9937 - val_loss: 2.5795 - val_accuracy: 0.7711\n",
      "Epoch 473/500\n",
      "207/207 [==============================] - ETA: 0s - loss: 0.0165 - accuracy: 0.9943\n",
      "Epoch 473: val_accuracy did not improve from 0.93539\n",
      "207/207 [==============================] - 24s 117ms/step - loss: 0.0165 - accuracy: 0.9943 - val_loss: 1.0388 - val_accuracy: 0.8694\n",
      "Epoch 474/500\n",
      "207/207 [==============================] - ETA: 0s - loss: 0.0031 - accuracy: 0.9982\n",
      "Epoch 474: val_accuracy did not improve from 0.93539\n",
      "207/207 [==============================] - 25s 119ms/step - loss: 0.0031 - accuracy: 0.9982 - val_loss: 0.7410 - val_accuracy: 0.9038\n",
      "Epoch 475/500\n",
      "207/207 [==============================] - ETA: 0s - loss: 0.0313 - accuracy: 0.9934\n",
      "Epoch 475: val_accuracy did not improve from 0.93539\n",
      "207/207 [==============================] - 24s 118ms/step - loss: 0.0313 - accuracy: 0.9934 - val_loss: 0.9328 - val_accuracy: 0.8954\n",
      "Epoch 476/500\n",
      "207/207 [==============================] - ETA: 0s - loss: 0.0112 - accuracy: 0.9946\n",
      "Epoch 476: val_accuracy did not improve from 0.93539\n",
      "207/207 [==============================] - 25s 119ms/step - loss: 0.0112 - accuracy: 0.9946 - val_loss: 4.4739 - val_accuracy: 0.6791\n",
      "Epoch 477/500\n",
      "207/207 [==============================] - ETA: 0s - loss: 0.0156 - accuracy: 0.9952\n",
      "Epoch 477: val_accuracy did not improve from 0.93539\n",
      "207/207 [==============================] - 25s 118ms/step - loss: 0.0156 - accuracy: 0.9952 - val_loss: 0.9454 - val_accuracy: 0.8897\n",
      "Epoch 478/500\n",
      "207/207 [==============================] - ETA: 0s - loss: 0.0071 - accuracy: 0.9979\n",
      "Epoch 478: val_accuracy did not improve from 0.93539\n",
      "207/207 [==============================] - 24s 118ms/step - loss: 0.0071 - accuracy: 0.9979 - val_loss: 0.6667 - val_accuracy: 0.9291\n",
      "Epoch 479/500\n",
      "207/207 [==============================] - ETA: 0s - loss: 0.0133 - accuracy: 0.9949\n",
      "Epoch 479: val_accuracy did not improve from 0.93539\n",
      "207/207 [==============================] - 24s 118ms/step - loss: 0.0133 - accuracy: 0.9949 - val_loss: 0.6602 - val_accuracy: 0.9178\n",
      "Epoch 480/500\n",
      "207/207 [==============================] - ETA: 0s - loss: 0.0105 - accuracy: 0.9964\n",
      "Epoch 480: val_accuracy did not improve from 0.93539\n",
      "207/207 [==============================] - 25s 119ms/step - loss: 0.0105 - accuracy: 0.9964 - val_loss: 0.7357 - val_accuracy: 0.9235\n",
      "Epoch 481/500\n",
      "207/207 [==============================] - ETA: 0s - loss: 0.0132 - accuracy: 0.9973\n",
      "Epoch 481: val_accuracy did not improve from 0.93539\n",
      "207/207 [==============================] - 25s 119ms/step - loss: 0.0132 - accuracy: 0.9973 - val_loss: 0.7389 - val_accuracy: 0.9235\n",
      "Epoch 482/500\n",
      "207/207 [==============================] - ETA: 0s - loss: 0.0100 - accuracy: 0.9976\n",
      "Epoch 482: val_accuracy did not improve from 0.93539\n",
      "207/207 [==============================] - 25s 120ms/step - loss: 0.0100 - accuracy: 0.9976 - val_loss: 1.0357 - val_accuracy: 0.8982\n",
      "Epoch 483/500\n",
      "207/207 [==============================] - ETA: 0s - loss: 0.0202 - accuracy: 0.9949\n",
      "Epoch 483: val_accuracy did not improve from 0.93539\n",
      "207/207 [==============================] - 24s 118ms/step - loss: 0.0202 - accuracy: 0.9949 - val_loss: 0.6091 - val_accuracy: 0.9192\n",
      "Epoch 484/500\n",
      "207/207 [==============================] - ETA: 0s - loss: 0.0037 - accuracy: 0.9988\n",
      "Epoch 484: val_accuracy did not improve from 0.93539\n",
      "207/207 [==============================] - 25s 118ms/step - loss: 0.0037 - accuracy: 0.9988 - val_loss: 0.6746 - val_accuracy: 0.9228\n",
      "Epoch 485/500\n",
      "207/207 [==============================] - ETA: 0s - loss: 0.0023 - accuracy: 0.9994\n",
      "Epoch 485: val_accuracy did not improve from 0.93539\n",
      "207/207 [==============================] - 25s 119ms/step - loss: 0.0023 - accuracy: 0.9994 - val_loss: 0.6069 - val_accuracy: 0.9298\n",
      "Epoch 486/500\n",
      "207/207 [==============================] - ETA: 0s - loss: 0.0070 - accuracy: 0.9967\n",
      "Epoch 486: val_accuracy did not improve from 0.93539\n",
      "207/207 [==============================] - 24s 117ms/step - loss: 0.0070 - accuracy: 0.9967 - val_loss: 0.8230 - val_accuracy: 0.8919\n",
      "Epoch 487/500\n",
      "207/207 [==============================] - ETA: 0s - loss: 0.0212 - accuracy: 0.9940\n",
      "Epoch 487: val_accuracy did not improve from 0.93539\n",
      "207/207 [==============================] - 25s 119ms/step - loss: 0.0212 - accuracy: 0.9940 - val_loss: 9.4745 - val_accuracy: 0.5267\n",
      "Epoch 488/500\n",
      "207/207 [==============================] - ETA: 0s - loss: 0.0368 - accuracy: 0.9921\n",
      "Epoch 488: val_accuracy did not improve from 0.93539\n",
      "207/207 [==============================] - 24s 118ms/step - loss: 0.0368 - accuracy: 0.9921 - val_loss: 0.7620 - val_accuracy: 0.9115\n",
      "Epoch 489/500\n"
     ]
    },
    {
     "name": "stdout",
     "output_type": "stream",
     "text": [
      "207/207 [==============================] - ETA: 0s - loss: 0.0095 - accuracy: 0.9970\n",
      "Epoch 489: val_accuracy did not improve from 0.93539\n",
      "207/207 [==============================] - 25s 118ms/step - loss: 0.0095 - accuracy: 0.9970 - val_loss: 0.6824 - val_accuracy: 0.9206\n",
      "Epoch 490/500\n",
      "207/207 [==============================] - ETA: 0s - loss: 0.0014 - accuracy: 1.0000\n",
      "Epoch 490: val_accuracy did not improve from 0.93539\n",
      "207/207 [==============================] - 25s 119ms/step - loss: 0.0014 - accuracy: 1.0000 - val_loss: 0.6341 - val_accuracy: 0.9298\n",
      "Epoch 491/500\n",
      "207/207 [==============================] - ETA: 0s - loss: 0.0120 - accuracy: 0.9970\n",
      "Epoch 491: val_accuracy did not improve from 0.93539\n",
      "207/207 [==============================] - 25s 119ms/step - loss: 0.0120 - accuracy: 0.9970 - val_loss: 0.6820 - val_accuracy: 0.9199\n",
      "Epoch 492/500\n",
      "207/207 [==============================] - ETA: 0s - loss: 0.0073 - accuracy: 0.9982\n",
      "Epoch 492: val_accuracy did not improve from 0.93539\n",
      "207/207 [==============================] - 24s 118ms/step - loss: 0.0073 - accuracy: 0.9982 - val_loss: 0.7429 - val_accuracy: 0.9235\n",
      "Epoch 493/500\n",
      "207/207 [==============================] - ETA: 0s - loss: 0.0114 - accuracy: 0.9976\n",
      "Epoch 493: val_accuracy did not improve from 0.93539\n",
      "207/207 [==============================] - 24s 118ms/step - loss: 0.0114 - accuracy: 0.9976 - val_loss: 0.7055 - val_accuracy: 0.9136\n",
      "Epoch 494/500\n",
      "207/207 [==============================] - ETA: 0s - loss: 0.0117 - accuracy: 0.9958\n",
      "Epoch 494: val_accuracy did not improve from 0.93539\n",
      "207/207 [==============================] - 24s 118ms/step - loss: 0.0117 - accuracy: 0.9958 - val_loss: 0.7961 - val_accuracy: 0.8989\n",
      "Epoch 495/500\n",
      "207/207 [==============================] - ETA: 0s - loss: 0.0284 - accuracy: 0.9937\n",
      "Epoch 495: val_accuracy did not improve from 0.93539\n",
      "207/207 [==============================] - 25s 118ms/step - loss: 0.0284 - accuracy: 0.9937 - val_loss: 1.1053 - val_accuracy: 0.8897\n",
      "Epoch 496/500\n",
      "207/207 [==============================] - ETA: 0s - loss: 0.0286 - accuracy: 0.9934\n",
      "Epoch 496: val_accuracy did not improve from 0.93539\n",
      "207/207 [==============================] - 24s 117ms/step - loss: 0.0286 - accuracy: 0.9934 - val_loss: 0.5700 - val_accuracy: 0.9235\n",
      "Epoch 497/500\n",
      "207/207 [==============================] - ETA: 0s - loss: 0.0116 - accuracy: 0.9973\n",
      "Epoch 497: val_accuracy did not improve from 0.93539\n",
      "207/207 [==============================] - 25s 119ms/step - loss: 0.0116 - accuracy: 0.9973 - val_loss: 0.6266 - val_accuracy: 0.9235\n",
      "Epoch 498/500\n",
      "207/207 [==============================] - ETA: 0s - loss: 0.0261 - accuracy: 0.9928\n",
      "Epoch 498: val_accuracy did not improve from 0.93539\n",
      "207/207 [==============================] - 24s 117ms/step - loss: 0.0261 - accuracy: 0.9928 - val_loss: 1.8832 - val_accuracy: 0.8546\n",
      "Epoch 499/500\n",
      "207/207 [==============================] - ETA: 0s - loss: 0.0117 - accuracy: 0.9961\n",
      "Epoch 499: val_accuracy did not improve from 0.93539\n",
      "207/207 [==============================] - 25s 119ms/step - loss: 0.0117 - accuracy: 0.9961 - val_loss: 0.6329 - val_accuracy: 0.9270\n",
      "Epoch 500/500\n",
      "207/207 [==============================] - ETA: 0s - loss: 0.0075 - accuracy: 0.9979\n",
      "Epoch 500: val_accuracy did not improve from 0.93539\n",
      "207/207 [==============================] - 25s 119ms/step - loss: 0.0075 - accuracy: 0.9979 - val_loss: 0.8081 - val_accuracy: 0.9059\n"
     ]
    }
   ],
   "source": [
    "epochs = 500\n",
    "\n",
    "history = model.fit(train_generator,\n",
    "                              steps_per_epoch=train_generator.n//batch_size,\n",
    "                              epochs=epochs,\n",
    "                              validation_data=validation_generator,\n",
    "                              validation_steps=validation_generator.n//batch_size,\n",
    "                              callbacks=callbacks_list,\n",
    "                              verbose=1)"
   ]
  },
  {
   "cell_type": "markdown",
   "metadata": {
    "papermill": {
     "duration": 10.472909,
     "end_time": "2022-07-06T07:26:10.889059",
     "exception": false,
     "start_time": "2022-07-06T07:26:00.416150",
     "status": "completed"
    },
    "tags": []
   },
   "source": [
    "# Visualising the Loss and Accuracy of Model\n",
    "\n",
    "Displaying the loss and accuracy versus epochs graph.\n",
    "\n",
    "This graph allows the user to see whether the model needs to run for some more epochs or not."
   ]
  },
  {
   "cell_type": "code",
   "execution_count": 21,
   "metadata": {
    "execution": {
     "iopub.execute_input": "2022-07-06T07:26:30.231633Z",
     "iopub.status.busy": "2022-07-06T07:26:30.230015Z",
     "iopub.status.idle": "2022-07-06T07:26:30.573208Z",
     "shell.execute_reply": "2022-07-06T07:26:30.573761Z",
     "shell.execute_reply.started": "2022-07-06T06:27:14.090343Z"
    },
    "papermill": {
     "duration": 10.028999,
     "end_time": "2022-07-06T07:26:30.573913",
     "exception": false,
     "start_time": "2022-07-06T07:26:20.544914",
     "status": "completed"
    },
    "tags": []
   },
   "outputs": [
    {
     "data": {
      "image/png": "[encoded data removed]",
      "text/plain": [
       "<Figure size 1500x500 with 2 Axes>"
      ]
     },
     "metadata": {},
     "output_type": "display_data"
    }
   ],
   "source": [
    "show_final_history(history)"
   ]
  },
  {
   "cell_type": "markdown",
   "metadata": {
    "papermill": {
     "duration": 9.395846,
     "end_time": "2022-07-06T07:26:50.516582",
     "exception": false,
     "start_time": "2022-07-06T07:26:41.120736",
     "status": "completed"
    },
    "tags": []
   },
   "source": [
    "The model is yet to reach the global minimum yet. At least the model is not overfitting which is a good thing. But its too bumpy, may need to change the momentum and learning rate for the optimizer."
   ]
  },
  {
   "cell_type": "markdown",
   "metadata": {
    "papermill": {
     "duration": 9.759176,
     "end_time": "2022-07-06T07:27:10.329721",
     "exception": false,
     "start_time": "2022-07-06T07:27:00.570545",
     "status": "completed"
    },
    "tags": []
   },
   "source": [
    "# Plotting a Confusion Matrix\n",
    "\n",
    "A confusion matrix is plotted below to see how well the model fared with respect to the train dataset. It will allow one to realize towards which class is the model biased against.\n",
    "\n",
    "A threshold is set at half of the maximum correlation. Above that values are shown in white while below that are shown in black.\n",
    "\n",
    "Bluer the shade of the block stronger the correlation between the predicted value and actual value. This type of matrix can also be shown for train data to show how the model fared there.\n",
    "\n",
    "The model can be changed using this confusion matrix as a base calculation."
   ]
  },
  {
   "cell_type": "code",
   "execution_count": 22,
   "metadata": {
    "execution": {
     "iopub.execute_input": "2022-07-06T07:27:30.373468Z",
     "iopub.status.busy": "2022-07-06T07:27:30.372482Z",
     "iopub.status.idle": "2022-07-06T07:27:30.377539Z",
     "shell.execute_reply": "2022-07-06T07:27:30.376948Z",
     "shell.execute_reply.started": "2022-07-06T06:27:14.366852Z"
    },
    "papermill": {
     "duration": 9.660877,
     "end_time": "2022-07-06T07:27:30.377649",
     "exception": false,
     "start_time": "2022-07-06T07:27:20.716772",
     "status": "completed"
    },
    "tags": []
   },
   "outputs": [
    {
     "data": {
      "text/plain": [
       "{'Black-grass': 0,\n",
       " 'Charlock': 1,\n",
       " 'Cleavers': 2,\n",
       " 'Common Chickweed': 3,\n",
       " 'Common wheat': 4,\n",
       " 'Fat Hen': 5,\n",
       " 'Loose Silky-bent': 6,\n",
       " 'Maize': 7,\n",
       " 'Scentless Mayweed': 8,\n",
       " 'Shepherds Purse': 9,\n",
       " 'Small-flowered Cranesbill': 10,\n",
       " 'Sugar beet': 11}"
      ]
     },
     "execution_count": 22,
     "metadata": {},
     "output_type": "execute_result"
    }
   ],
   "source": [
    "class_name_labels"
   ]
  },
  {
   "cell_type": "code",
   "execution_count": 23,
   "metadata": {
    "execution": {
     "iopub.execute_input": "2022-07-06T07:27:50.970861Z",
     "iopub.status.busy": "2022-07-06T07:27:50.969596Z",
     "iopub.status.idle": "2022-07-06T07:27:50.976149Z",
     "shell.execute_reply": "2022-07-06T07:27:50.975626Z",
     "shell.execute_reply.started": "2022-07-06T06:27:14.376082Z"
    },
    "papermill": {
     "duration": 10.878159,
     "end_time": "2022-07-06T07:27:50.976298",
     "exception": false,
     "start_time": "2022-07-06T07:27:40.098139",
     "status": "completed"
    },
    "tags": []
   },
   "outputs": [
    {
     "data": {
      "text/plain": [
       "((1425,), 1425)"
      ]
     },
     "execution_count": 23,
     "metadata": {},
     "output_type": "execute_result"
    }
   ],
   "source": [
    "y_test = np.argmax(y_val,axis=1)\n",
    "y_test.shape,validation_generator.n"
   ]
  },
  {
   "cell_type": "code",
   "execution_count": 24,
   "metadata": {
    "execution": {
     "iopub.execute_input": "2022-07-06T07:28:10.358560Z",
     "iopub.status.busy": "2022-07-06T07:28:10.357580Z",
     "iopub.status.idle": "2022-07-06T07:28:17.326073Z",
     "shell.execute_reply": "2022-07-06T07:28:17.325475Z",
     "shell.execute_reply.started": "2022-07-06T06:27:14.385871Z"
    },
    "papermill": {
     "duration": 16.675369,
     "end_time": "2022-07-06T07:28:17.326217",
     "exception": false,
     "start_time": "2022-07-06T07:28:00.650848",
     "status": "completed"
    },
    "tags": []
   },
   "outputs": [
    {
     "name": "stderr",
     "output_type": "stream",
     "text": [
      "C:\\Users\\soumi\\AppData\\Local\\Temp\\ipykernel_9076\\4054254903.py:1: UserWarning: `Model.predict_generator` is deprecated and will be removed in a future version. Please use `Model.predict`, which supports generators.\n",
      "  val_pred = model.predict_generator(generator=validation_generator)\n"
     ]
    }
   ],
   "source": [
    "val_pred = model.predict_generator(generator=validation_generator)\n",
    "y_pred = [np.argmax(probas) for probas in val_pred]"
   ]
  },
  {
   "cell_type": "code",
   "execution_count": 25,
   "metadata": {
    "execution": {
     "iopub.execute_input": "2022-07-06T07:28:37.601951Z",
     "iopub.status.busy": "2022-07-06T07:28:37.600790Z",
     "iopub.status.idle": "2022-07-06T07:28:37.605173Z",
     "shell.execute_reply": "2022-07-06T07:28:37.605873Z",
     "shell.execute_reply.started": "2022-07-06T06:27:20.586554Z"
    },
    "papermill": {
     "duration": 9.82824,
     "end_time": "2022-07-06T07:28:37.606042",
     "exception": false,
     "start_time": "2022-07-06T07:28:27.777802",
     "status": "completed"
    },
    "tags": []
   },
   "outputs": [
    {
     "data": {
      "text/plain": [
       "(1425,)"
      ]
     },
     "execution_count": 25,
     "metadata": {},
     "output_type": "execute_result"
    }
   ],
   "source": [
    "y_pred = np.argmax(val_pred,axis=1)\n",
    "y_pred.shape"
   ]
  },
  {
   "cell_type": "code",
   "execution_count": 26,
   "metadata": {
    "execution": {
     "iopub.execute_input": "2022-07-06T07:28:58.031028Z",
     "iopub.status.busy": "2022-07-06T07:28:58.029925Z",
     "iopub.status.idle": "2022-07-06T07:28:58.983533Z",
     "shell.execute_reply": "2022-07-06T07:28:58.982816Z",
     "shell.execute_reply.started": "2022-07-06T06:27:20.594919Z"
    },
    "papermill": {
     "duration": 11.318235,
     "end_time": "2022-07-06T07:28:58.983652",
     "exception": false,
     "start_time": "2022-07-06T07:28:47.665417",
     "status": "completed"
    },
    "tags": []
   },
   "outputs": [
    {
     "data": {
      "text/plain": [
       "<Figure size 640x480 with 0 Axes>"
      ]
     },
     "metadata": {},
     "output_type": "display_data"
    },
    {
     "data": {
      "image/png": "[encoded data removed]",
      "text/plain": [
       "<Figure size 1000x1000 with 2 Axes>"
      ]
     },
     "metadata": {},
     "output_type": "display_data"
    }
   ],
   "source": [
    "import itertools\n",
    "\n",
    "def plot_confusion_matrix(cm,classes,title='Confusion Matrix',cmap=plt.cm.Blues):\n",
    "    \n",
    "    cm = cm.astype('float')/cm.sum(axis=1)[:,np.newaxis]\n",
    "    plt.figure(figsize=(10,10))\n",
    "    plt.imshow(cm,interpolation='nearest',cmap=cmap)\n",
    "    plt.title(title)\n",
    "    plt.colorbar()\n",
    "    tick_marks = np.arange(len(classes))\n",
    "    plt.xticks(tick_marks, classes,rotation=90)\n",
    "    plt.yticks(tick_marks, classes)\n",
    "    \n",
    "    fmt = '.2f'\n",
    "    thresh = cm.max()/2.\n",
    "    for i,j in itertools.product(range(cm.shape[0]),range(cm.shape[1])):\n",
    "        plt.text(j,i,format(cm[i,j],fmt),\n",
    "                horizontalalignment=\"center\",\n",
    "                color=\"white\" if cm[i,j] > thresh else \"black\")\n",
    "        pass\n",
    "    \n",
    "    plt.ylabel('True Label')\n",
    "    plt.xlabel('Predicted Label')\n",
    "    pass\n",
    "\n",
    "cnf_mat = confusion_matrix(y_test,y_pred)\n",
    "np.set_printoptions(precision=2)\n",
    "\n",
    "\n",
    "plt.figure()\n",
    "plot_confusion_matrix(cnf_mat,classes=class_names)\n",
    "plt.show()"
   ]
  },
  {
   "cell_type": "markdown",
   "metadata": {
    "papermill": {
     "duration": 9.586674,
     "end_time": "2022-07-06T07:29:18.306112",
     "exception": false,
     "start_time": "2022-07-06T07:29:08.719438",
     "status": "completed"
    },
    "tags": []
   },
   "source": [
    "The model is biased towards *Loose Silky Bent*"
   ]
  },
  {
   "cell_type": "markdown",
   "metadata": {
    "papermill": {
     "duration": 9.733089,
     "end_time": "2022-07-06T07:29:38.294036",
     "exception": false,
     "start_time": "2022-07-06T07:29:28.560947",
     "status": "completed"
    },
    "tags": []
   },
   "source": [
    "# Predicting the Test Images and making a submission\n",
    "\n",
    "The test images are preprocessed via ImageDataGenerator and passed to the predict_generator function of the model for prediction. "
   ]
  },
  {
   "cell_type": "code",
   "execution_count": 27,
   "metadata": {
    "execution": {
     "iopub.execute_input": "2022-07-06T07:29:57.168654Z",
     "iopub.status.busy": "2022-07-06T07:29:57.167774Z",
     "iopub.status.idle": "2022-07-06T07:29:57.171760Z",
     "shell.execute_reply": "2022-07-06T07:29:57.171180Z",
     "shell.execute_reply.started": "2022-07-06T06:27:21.380511Z"
    },
    "papermill": {
     "duration": 9.301486,
     "end_time": "2022-07-06T07:29:57.171869",
     "exception": false,
     "start_time": "2022-07-06T07:29:47.870383",
     "status": "completed"
    },
    "tags": []
   },
   "outputs": [],
   "source": [
    "test_dir = [\"./data/plant-seedlings-classification/test\"]\n",
    "\n",
    "def load_test():\n",
    "    \n",
    "    images,names = [],[]\n",
    "    for dataset in test_dir:\n",
    "\n",
    "        for file in tqdm(os.listdir(dataset)):\n",
    "            \n",
    "            img_path = os.path.join(dataset,file)\n",
    "            img = cv2.imread(img_path)\n",
    "            img = cv2.cvtColor(img,cv2.COLOR_BGR2RGB)\n",
    "            img = cv2.resize(img,(150,150))\n",
    "\n",
    "            images.append(img)\n",
    "            names.append(file)\n",
    "            pass\n",
    "        \n",
    "        images = np.array(images,dtype=np.float32)\n",
    "        pass\n",
    "    \n",
    "    return images,names\n",
    "    pass"
   ]
  },
  {
   "cell_type": "code",
   "execution_count": 28,
   "metadata": {
    "execution": {
     "iopub.execute_input": "2022-07-06T07:30:17.749560Z",
     "iopub.status.busy": "2022-07-06T07:30:17.748881Z",
     "iopub.status.idle": "2022-07-06T07:30:28.829946Z",
     "shell.execute_reply": "2022-07-06T07:30:28.829205Z"
    },
    "papermill": {
     "duration": 20.751985,
     "end_time": "2022-07-06T07:30:28.830115",
     "exception": false,
     "start_time": "2022-07-06T07:30:08.078130",
     "status": "completed"
    },
    "tags": []
   },
   "outputs": [
    {
     "name": "stderr",
     "output_type": "stream",
     "text": [
      "100%|███████████████████████████████████████████████████████████████████████████████| 794/794 [00:02<00:00, 328.82it/s]\n"
     ]
    }
   ],
   "source": [
    "(test_images),(test_names) = load_test()"
   ]
  },
  {
   "cell_type": "code",
   "execution_count": 29,
   "metadata": {
    "execution": {
     "iopub.execute_input": "2022-07-06T07:30:49.355118Z",
     "iopub.status.busy": "2022-07-06T07:30:49.353746Z",
     "iopub.status.idle": "2022-07-06T07:30:49.363211Z",
     "shell.execute_reply": "2022-07-06T07:30:49.362274Z"
    },
    "papermill": {
     "duration": 10.037823,
     "end_time": "2022-07-06T07:30:49.363350",
     "exception": false,
     "start_time": "2022-07-06T07:30:39.325527",
     "status": "completed"
    },
    "tags": []
   },
   "outputs": [
    {
     "name": "stdout",
     "output_type": "stream",
     "text": [
      "Black-grass 0\n",
      "Charlock 1\n",
      "Cleavers 2\n",
      "Common Chickweed 3\n",
      "Common wheat 4\n",
      "Fat Hen 5\n",
      "Loose Silky-bent 6\n",
      "Maize 7\n",
      "Scentless Mayweed 8\n",
      "Shepherds Purse 9\n",
      "Small-flowered Cranesbill 10\n",
      "Sugar beet 11\n"
     ]
    }
   ],
   "source": [
    "for (label),(i) in class_name_labels.items():\n",
    "    print(label,i)"
   ]
  },
  {
   "cell_type": "code",
   "execution_count": 30,
   "metadata": {
    "execution": {
     "iopub.execute_input": "2022-07-06T07:31:08.954524Z",
     "iopub.status.busy": "2022-07-06T07:31:08.953327Z",
     "iopub.status.idle": "2022-07-06T07:31:08.962382Z",
     "shell.execute_reply": "2022-07-06T07:31:08.963265Z"
    },
    "papermill": {
     "duration": 9.895993,
     "end_time": "2022-07-06T07:31:08.963494",
     "exception": false,
     "start_time": "2022-07-06T07:30:59.067501",
     "status": "completed"
    },
    "tags": []
   },
   "outputs": [
    {
     "data": {
      "text/plain": [
       "(150, 150, 3)"
      ]
     },
     "execution_count": 30,
     "metadata": {},
     "output_type": "execute_result"
    }
   ],
   "source": [
    "test_images[0].shape"
   ]
  },
  {
   "cell_type": "code",
   "execution_count": 31,
   "metadata": {
    "execution": {
     "iopub.execute_input": "2022-07-06T07:31:28.994042Z",
     "iopub.status.busy": "2022-07-06T07:31:28.992967Z",
     "iopub.status.idle": "2022-07-06T07:31:53.780526Z",
     "shell.execute_reply": "2022-07-06T07:31:53.779942Z"
    },
    "papermill": {
     "duration": 34.500409,
     "end_time": "2022-07-06T07:31:53.780647",
     "exception": false,
     "start_time": "2022-07-06T07:31:19.280238",
     "status": "completed"
    },
    "tags": []
   },
   "outputs": [
    {
     "name": "stderr",
     "output_type": "stream",
     "text": [
      "\r",
      "  0%|                                                                                          | 0/794 [00:00<?, ?it/s]"
     ]
    },
    {
     "name": "stdout",
     "output_type": "stream",
     "text": [
      "1/1 [==============================] - 0s 135ms/step\n"
     ]
    },
    {
     "name": "stderr",
     "output_type": "stream",
     "text": [
      "\r",
      "  0%|                                                                                  | 1/794 [00:00<02:44,  4.82it/s]"
     ]
    },
    {
     "name": "stdout",
     "output_type": "stream",
     "text": [
      "1/1 [==============================] - 0s 22ms/step\n",
      "1/1 [==============================] - 0s 11ms/step\n"
     ]
    },
    {
     "name": "stderr",
     "output_type": "stream",
     "text": [
      "\r",
      "  0%|▎                                                                                 | 3/794 [00:00<01:22,  9.60it/s]"
     ]
    },
    {
     "name": "stdout",
     "output_type": "stream",
     "text": [
      "1/1 [==============================] - 0s 31ms/step\n",
      "1/1 [==============================] - 0s 19ms/step\n"
     ]
    },
    {
     "name": "stderr",
     "output_type": "stream",
     "text": [
      "\r",
      "  1%|▌                                                                                 | 5/794 [00:00<01:06, 11.92it/s]"
     ]
    },
    {
     "name": "stdout",
     "output_type": "stream",
     "text": [
      "1/1 [==============================] - 0s 24ms/step\n",
      "1/1 [==============================] - 0s 21ms/step\n"
     ]
    },
    {
     "name": "stderr",
     "output_type": "stream",
     "text": [
      "\r",
      "  1%|▋                                                                                 | 7/794 [00:00<01:02, 12.53it/s]"
     ]
    },
    {
     "name": "stdout",
     "output_type": "stream",
     "text": [
      "1/1 [==============================] - 0s 19ms/step\n",
      "1/1 [==============================] - 0s 14ms/step\n"
     ]
    },
    {
     "name": "stderr",
     "output_type": "stream",
     "text": [
      "\r",
      "  1%|▉                                                                                 | 9/794 [00:00<00:59, 13.13it/s]"
     ]
    },
    {
     "name": "stdout",
     "output_type": "stream",
     "text": [
      "1/1 [==============================] - 0s 14ms/step\n",
      "1/1 [==============================] - 0s 21ms/step\n"
     ]
    },
    {
     "name": "stderr",
     "output_type": "stream",
     "text": [
      "\r",
      "  1%|█                                                                                | 11/794 [00:00<00:58, 13.35it/s]"
     ]
    },
    {
     "name": "stdout",
     "output_type": "stream",
     "text": [
      "1/1 [==============================] - 0s 14ms/step\n",
      "1/1 [==============================] - 0s 30ms/step\n"
     ]
    },
    {
     "name": "stderr",
     "output_type": "stream",
     "text": [
      "\r",
      "  2%|█▎                                                                               | 13/794 [00:01<01:00, 12.89it/s]"
     ]
    },
    {
     "name": "stdout",
     "output_type": "stream",
     "text": [
      "1/1 [==============================] - 0s 19ms/step\n",
      "1/1 [==============================] - 0s 19ms/step\n"
     ]
    },
    {
     "name": "stderr",
     "output_type": "stream",
     "text": [
      "\r",
      "  2%|█▌                                                                               | 15/794 [00:01<00:59, 13.04it/s]"
     ]
    },
    {
     "name": "stdout",
     "output_type": "stream",
     "text": [
      "1/1 [==============================] - 0s 20ms/step\n",
      "1/1 [==============================] - 0s 14ms/step\n"
     ]
    },
    {
     "name": "stderr",
     "output_type": "stream",
     "text": [
      "\r",
      "  2%|█▋                                                                               | 17/794 [00:01<01:01, 12.65it/s]"
     ]
    },
    {
     "name": "stdout",
     "output_type": "stream",
     "text": [
      "1/1 [==============================] - 0s 17ms/step\n",
      "1/1 [==============================] - 0s 22ms/step\n"
     ]
    },
    {
     "name": "stderr",
     "output_type": "stream",
     "text": [
      "\r",
      "  2%|█▉                                                                               | 19/794 [00:01<01:00, 12.91it/s]"
     ]
    },
    {
     "name": "stdout",
     "output_type": "stream",
     "text": [
      "1/1 [==============================] - 0s 22ms/step\n",
      "1/1 [==============================] - 0s 11ms/step\n"
     ]
    },
    {
     "name": "stderr",
     "output_type": "stream",
     "text": [
      "\r",
      "  3%|██▏                                                                              | 21/794 [00:01<01:01, 12.51it/s]"
     ]
    },
    {
     "name": "stdout",
     "output_type": "stream",
     "text": [
      "1/1 [==============================] - 0s 15ms/step\n",
      "1/1 [==============================] - 0s 16ms/step\n"
     ]
    },
    {
     "name": "stderr",
     "output_type": "stream",
     "text": [
      "\r",
      "  3%|██▎                                                                              | 23/794 [00:01<01:01, 12.44it/s]"
     ]
    },
    {
     "name": "stdout",
     "output_type": "stream",
     "text": [
      "1/1 [==============================] - 0s 15ms/step\n",
      "1/1 [==============================] - 0s 19ms/step\n"
     ]
    },
    {
     "name": "stderr",
     "output_type": "stream",
     "text": [
      "\r",
      "  3%|██▌                                                                              | 25/794 [00:02<01:00, 12.72it/s]"
     ]
    },
    {
     "name": "stdout",
     "output_type": "stream",
     "text": [
      "1/1 [==============================] - 0s 21ms/step\n",
      "1/1 [==============================] - 0s 17ms/step\n"
     ]
    },
    {
     "name": "stderr",
     "output_type": "stream",
     "text": [
      "\r",
      "  3%|██▊                                                                              | 27/794 [00:02<01:01, 12.54it/s]"
     ]
    },
    {
     "name": "stdout",
     "output_type": "stream",
     "text": [
      "1/1 [==============================] - 0s 29ms/step\n",
      "1/1 [==============================] - 0s 12ms/step\n"
     ]
    },
    {
     "name": "stderr",
     "output_type": "stream",
     "text": [
      "\r",
      "  4%|██▉                                                                              | 29/794 [00:02<00:59, 12.77it/s]"
     ]
    },
    {
     "name": "stdout",
     "output_type": "stream",
     "text": [
      "1/1 [==============================] - 0s 20ms/step\n",
      "1/1 [==============================] - 0s 19ms/step\n"
     ]
    },
    {
     "name": "stderr",
     "output_type": "stream",
     "text": [
      "\r",
      "  4%|███▏                                                                             | 31/794 [00:02<01:00, 12.55it/s]"
     ]
    },
    {
     "name": "stdout",
     "output_type": "stream",
     "text": [
      "1/1 [==============================] - 0s 20ms/step\n",
      "1/1 [==============================] - 0s 10ms/step\n"
     ]
    },
    {
     "name": "stderr",
     "output_type": "stream",
     "text": [
      "\r",
      "  4%|███▎                                                                             | 33/794 [00:02<01:00, 12.63it/s]"
     ]
    },
    {
     "name": "stdout",
     "output_type": "stream",
     "text": [
      "1/1 [==============================] - 0s 19ms/step\n",
      "1/1 [==============================] - 0s 6ms/step\n"
     ]
    },
    {
     "name": "stderr",
     "output_type": "stream",
     "text": [
      "\r",
      "  4%|███▌                                                                             | 35/794 [00:02<00:58, 13.01it/s]"
     ]
    },
    {
     "name": "stdout",
     "output_type": "stream",
     "text": [
      "1/1 [==============================] - 0s 21ms/step\n",
      "1/1 [==============================] - 0s 27ms/step\n"
     ]
    },
    {
     "name": "stderr",
     "output_type": "stream",
     "text": [
      "\r",
      "  5%|███▊                                                                             | 37/794 [00:02<00:59, 12.66it/s]"
     ]
    },
    {
     "name": "stdout",
     "output_type": "stream",
     "text": [
      "1/1 [==============================] - 0s 20ms/step\n",
      "1/1 [==============================] - 0s 20ms/step\n"
     ]
    },
    {
     "name": "stderr",
     "output_type": "stream",
     "text": [
      "\r",
      "  5%|███▉                                                                             | 39/794 [00:03<01:00, 12.57it/s]"
     ]
    },
    {
     "name": "stdout",
     "output_type": "stream",
     "text": [
      "1/1 [==============================] - 0s 20ms/step\n",
      "1/1 [==============================] - 0s 19ms/step\n"
     ]
    },
    {
     "name": "stderr",
     "output_type": "stream",
     "text": [
      "\r",
      "  5%|████▏                                                                            | 41/794 [00:03<00:58, 12.81it/s]"
     ]
    },
    {
     "name": "stdout",
     "output_type": "stream",
     "text": [
      "1/1 [==============================] - 0s 21ms/step\n",
      "1/1 [==============================] - 0s 14ms/step\n"
     ]
    },
    {
     "name": "stderr",
     "output_type": "stream",
     "text": [
      "\r",
      "  5%|████▍                                                                            | 43/794 [00:03<00:58, 12.78it/s]"
     ]
    },
    {
     "name": "stdout",
     "output_type": "stream",
     "text": [
      "1/1 [==============================] - 0s 32ms/step\n",
      "1/1 [==============================] - 0s 13ms/step\n"
     ]
    },
    {
     "name": "stderr",
     "output_type": "stream",
     "text": [
      "\r",
      "  6%|████▌                                                                            | 45/794 [00:03<00:57, 12.94it/s]"
     ]
    },
    {
     "name": "stdout",
     "output_type": "stream",
     "text": [
      "1/1 [==============================] - 0s 29ms/step\n",
      "1/1 [==============================] - 0s 20ms/step\n"
     ]
    },
    {
     "name": "stderr",
     "output_type": "stream",
     "text": [
      "\r",
      "  6%|████▊                                                                            | 47/794 [00:03<00:57, 12.96it/s]"
     ]
    },
    {
     "name": "stdout",
     "output_type": "stream",
     "text": [
      "1/1 [==============================] - 0s 13ms/step\n",
      "1/1 [==============================] - 0s 5ms/step\n"
     ]
    },
    {
     "name": "stderr",
     "output_type": "stream",
     "text": [
      "\r",
      "  6%|████▉                                                                            | 49/794 [00:03<00:57, 12.93it/s]"
     ]
    },
    {
     "name": "stdout",
     "output_type": "stream",
     "text": [
      "1/1 [==============================] - 0s 23ms/step\n",
      "1/1 [==============================] - 0s 16ms/step\n"
     ]
    },
    {
     "name": "stderr",
     "output_type": "stream",
     "text": [
      "\r",
      "  6%|█████▏                                                                           | 51/794 [00:04<00:57, 12.94it/s]"
     ]
    },
    {
     "name": "stdout",
     "output_type": "stream",
     "text": [
      "1/1 [==============================] - 0s 21ms/step\n",
      "1/1 [==============================] - 0s 12ms/step\n"
     ]
    },
    {
     "name": "stderr",
     "output_type": "stream",
     "text": [
      "\r",
      "  7%|█████▍                                                                           | 53/794 [00:04<00:57, 12.97it/s]"
     ]
    },
    {
     "name": "stdout",
     "output_type": "stream",
     "text": [
      "1/1 [==============================] - 0s 19ms/step\n",
      "1/1 [==============================] - 0s 9ms/step\n"
     ]
    },
    {
     "name": "stderr",
     "output_type": "stream",
     "text": [
      "\r",
      "  7%|█████▌                                                                           | 55/794 [00:04<00:56, 13.11it/s]"
     ]
    },
    {
     "name": "stdout",
     "output_type": "stream",
     "text": [
      "1/1 [==============================] - 0s 22ms/step\n",
      "1/1 [==============================] - 0s 7ms/step\n"
     ]
    },
    {
     "name": "stderr",
     "output_type": "stream",
     "text": [
      "\r",
      "  7%|█████▊                                                                           | 57/794 [00:04<00:55, 13.17it/s]"
     ]
    },
    {
     "name": "stdout",
     "output_type": "stream",
     "text": [
      "1/1 [==============================] - 0s 21ms/step\n",
      "1/1 [==============================] - 0s 19ms/step\n"
     ]
    },
    {
     "name": "stderr",
     "output_type": "stream",
     "text": [
      "\r",
      "  7%|██████                                                                           | 59/794 [00:04<00:55, 13.22it/s]"
     ]
    },
    {
     "name": "stdout",
     "output_type": "stream",
     "text": [
      "1/1 [==============================] - 0s 24ms/step\n",
      "1/1 [==============================] - 0s 9ms/step\n"
     ]
    },
    {
     "name": "stderr",
     "output_type": "stream",
     "text": [
      "\r",
      "  8%|██████▏                                                                          | 61/794 [00:04<00:57, 12.84it/s]"
     ]
    },
    {
     "name": "stdout",
     "output_type": "stream",
     "text": [
      "1/1 [==============================] - 0s 20ms/step\n",
      "1/1 [==============================] - 0s 22ms/step\n"
     ]
    },
    {
     "name": "stderr",
     "output_type": "stream",
     "text": [
      "\r",
      "  8%|██████▍                                                                          | 63/794 [00:04<00:58, 12.59it/s]"
     ]
    },
    {
     "name": "stdout",
     "output_type": "stream",
     "text": [
      "1/1 [==============================] - 0s 20ms/step\n",
      "1/1 [==============================] - 0s 15ms/step\n"
     ]
    },
    {
     "name": "stderr",
     "output_type": "stream",
     "text": [
      "\r",
      "  8%|██████▋                                                                          | 65/794 [00:05<00:57, 12.76it/s]"
     ]
    },
    {
     "name": "stdout",
     "output_type": "stream",
     "text": [
      "1/1 [==============================] - 0s 20ms/step\n",
      "1/1 [==============================] - 0s 13ms/step\n"
     ]
    },
    {
     "name": "stderr",
     "output_type": "stream",
     "text": [
      "\r",
      "  8%|██████▊                                                                          | 67/794 [00:05<00:56, 12.92it/s]"
     ]
    },
    {
     "name": "stdout",
     "output_type": "stream",
     "text": [
      "1/1 [==============================] - 0s 34ms/step\n",
      "1/1 [==============================] - 0s 12ms/step\n"
     ]
    },
    {
     "name": "stderr",
     "output_type": "stream",
     "text": [
      "\r",
      "  9%|███████                                                                          | 69/794 [00:05<00:55, 13.08it/s]"
     ]
    },
    {
     "name": "stdout",
     "output_type": "stream",
     "text": [
      "1/1 [==============================] - 0s 21ms/step\n",
      "1/1 [==============================] - 0s 20ms/step\n"
     ]
    },
    {
     "name": "stderr",
     "output_type": "stream",
     "text": [
      "\r",
      "  9%|███████▏                                                                         | 71/794 [00:05<00:51, 14.01it/s]"
     ]
    },
    {
     "name": "stdout",
     "output_type": "stream",
     "text": [
      "1/1 [==============================] - 0s 24ms/step\n",
      "1/1 [==============================] - 0s 20ms/step\n"
     ]
    },
    {
     "name": "stderr",
     "output_type": "stream",
     "text": [
      "\r",
      "  9%|███████▍                                                                         | 73/794 [00:05<00:50, 14.38it/s]"
     ]
    },
    {
     "name": "stdout",
     "output_type": "stream",
     "text": [
      "1/1 [==============================] - 0s 23ms/step\n",
      "1/1 [==============================] - 0s 16ms/step\n"
     ]
    },
    {
     "name": "stderr",
     "output_type": "stream",
     "text": [
      "\r",
      "  9%|███████▋                                                                         | 75/794 [00:05<00:49, 14.53it/s]"
     ]
    },
    {
     "name": "stdout",
     "output_type": "stream",
     "text": [
      "1/1 [==============================] - 0s 24ms/step\n",
      "1/1 [==============================] - 0s 23ms/step\n"
     ]
    },
    {
     "name": "stderr",
     "output_type": "stream",
     "text": [
      "\r",
      " 10%|███████▊                                                                         | 77/794 [00:05<00:48, 14.72it/s]"
     ]
    },
    {
     "name": "stdout",
     "output_type": "stream",
     "text": [
      "1/1 [==============================] - 0s 19ms/step\n",
      "1/1 [==============================] - 0s 20ms/step\n"
     ]
    },
    {
     "name": "stderr",
     "output_type": "stream",
     "text": [
      "\r",
      " 10%|████████                                                                         | 79/794 [00:06<00:46, 15.36it/s]"
     ]
    },
    {
     "name": "stdout",
     "output_type": "stream",
     "text": [
      "1/1 [==============================] - 0s 21ms/step\n",
      "1/1 [==============================] - 0s 18ms/step\n"
     ]
    },
    {
     "name": "stderr",
     "output_type": "stream",
     "text": [
      "\r",
      " 10%|████████▎                                                                        | 81/794 [00:06<00:45, 15.69it/s]"
     ]
    },
    {
     "name": "stdout",
     "output_type": "stream",
     "text": [
      "1/1 [==============================] - 0s 30ms/step\n",
      "1/1 [==============================] - 0s 20ms/step\n"
     ]
    },
    {
     "name": "stderr",
     "output_type": "stream",
     "text": [
      "\r",
      " 10%|████████▍                                                                        | 83/794 [00:06<00:45, 15.65it/s]"
     ]
    },
    {
     "name": "stdout",
     "output_type": "stream",
     "text": [
      "1/1 [==============================] - 0s 23ms/step\n",
      "1/1 [==============================] - 0s 16ms/step\n"
     ]
    },
    {
     "name": "stderr",
     "output_type": "stream",
     "text": [
      "\r",
      " 11%|████████▋                                                                        | 85/794 [00:06<00:45, 15.47it/s]"
     ]
    },
    {
     "name": "stdout",
     "output_type": "stream",
     "text": [
      "1/1 [==============================] - 0s 19ms/step\n",
      "1/1 [==============================] - 0s 19ms/step\n"
     ]
    },
    {
     "name": "stderr",
     "output_type": "stream",
     "text": [
      "\r",
      " 11%|████████▉                                                                        | 87/794 [00:06<00:46, 15.32it/s]"
     ]
    },
    {
     "name": "stdout",
     "output_type": "stream",
     "text": [
      "1/1 [==============================] - 0s 23ms/step\n",
      "1/1 [==============================] - 0s 23ms/step\n"
     ]
    },
    {
     "name": "stderr",
     "output_type": "stream",
     "text": [
      "\r",
      " 11%|█████████                                                                        | 89/794 [00:06<00:46, 15.21it/s]"
     ]
    },
    {
     "name": "stdout",
     "output_type": "stream",
     "text": [
      "1/1 [==============================] - 0s 23ms/step\n",
      "1/1 [==============================] - 0s 22ms/step\n"
     ]
    },
    {
     "name": "stderr",
     "output_type": "stream",
     "text": [
      "\r",
      " 11%|█████████▎                                                                       | 91/794 [00:06<00:46, 15.16it/s]"
     ]
    },
    {
     "name": "stdout",
     "output_type": "stream",
     "text": [
      "1/1 [==============================] - 0s 24ms/step\n",
      "1/1 [==============================] - 0s 16ms/step\n"
     ]
    },
    {
     "name": "stderr",
     "output_type": "stream",
     "text": [
      "\r",
      " 12%|█████████▍                                                                       | 93/794 [00:06<00:46, 15.11it/s]"
     ]
    },
    {
     "name": "stdout",
     "output_type": "stream",
     "text": [
      "1/1 [==============================] - 0s 23ms/step\n",
      "1/1 [==============================] - 0s 24ms/step\n"
     ]
    },
    {
     "name": "stderr",
     "output_type": "stream",
     "text": [
      "\r",
      " 12%|█████████▋                                                                       | 95/794 [00:07<00:46, 15.07it/s]"
     ]
    },
    {
     "name": "stdout",
     "output_type": "stream",
     "text": [
      "1/1 [==============================] - 0s 22ms/step\n",
      "1/1 [==============================] - 0s 18ms/step\n"
     ]
    },
    {
     "name": "stderr",
     "output_type": "stream",
     "text": [
      "\r",
      " 12%|█████████▉                                                                       | 97/794 [00:07<00:46, 15.15it/s]"
     ]
    },
    {
     "name": "stdout",
     "output_type": "stream",
     "text": [
      "1/1 [==============================] - 0s 27ms/step\n",
      "1/1 [==============================] - 0s 16ms/step\n"
     ]
    },
    {
     "name": "stderr",
     "output_type": "stream",
     "text": [
      "\r",
      " 12%|██████████                                                                       | 99/794 [00:07<00:47, 14.52it/s]"
     ]
    },
    {
     "name": "stdout",
     "output_type": "stream",
     "text": [
      "1/1 [==============================] - 0s 18ms/step\n",
      "1/1 [==============================] - 0s 9ms/step\n"
     ]
    },
    {
     "name": "stderr",
     "output_type": "stream",
     "text": [
      "\r",
      " 13%|██████████▏                                                                     | 101/794 [00:07<00:49, 13.97it/s]"
     ]
    },
    {
     "name": "stdout",
     "output_type": "stream",
     "text": [
      "1/1 [==============================] - 0s 18ms/step\n",
      "1/1 [==============================] - 0s 9ms/step\n"
     ]
    },
    {
     "name": "stderr",
     "output_type": "stream",
     "text": [
      "\r",
      " 13%|██████████▍                                                                     | 103/794 [00:07<00:50, 13.78it/s]"
     ]
    },
    {
     "name": "stdout",
     "output_type": "stream",
     "text": [
      "1/1 [==============================] - 0s 15ms/step\n",
      "1/1 [==============================] - 0s 6ms/step\n"
     ]
    },
    {
     "name": "stderr",
     "output_type": "stream",
     "text": [
      "\r",
      " 13%|██████████▌                                                                     | 105/794 [00:07<00:50, 13.77it/s]"
     ]
    },
    {
     "name": "stdout",
     "output_type": "stream",
     "text": [
      "1/1 [==============================] - 0s 20ms/step\n",
      "1/1 [==============================] - 0s 20ms/step\n"
     ]
    },
    {
     "name": "stderr",
     "output_type": "stream",
     "text": [
      "\r",
      " 13%|██████████▊                                                                     | 107/794 [00:08<00:51, 13.46it/s]"
     ]
    },
    {
     "name": "stdout",
     "output_type": "stream",
     "text": [
      "1/1 [==============================] - 0s 19ms/step\n",
      "1/1 [==============================] - 0s 17ms/step\n"
     ]
    },
    {
     "name": "stderr",
     "output_type": "stream",
     "text": [
      "\r",
      " 14%|██████████▉                                                                     | 109/794 [00:08<00:51, 13.27it/s]"
     ]
    },
    {
     "name": "stdout",
     "output_type": "stream",
     "text": [
      "1/1 [==============================] - 0s 26ms/step\n",
      "1/1 [==============================] - 0s 18ms/step\n"
     ]
    },
    {
     "name": "stderr",
     "output_type": "stream",
     "text": [
      "\r",
      " 14%|███████████▏                                                                    | 111/794 [00:08<00:51, 13.22it/s]"
     ]
    },
    {
     "name": "stdout",
     "output_type": "stream",
     "text": [
      "1/1 [==============================] - 0s 23ms/step\n",
      "1/1 [==============================] - 0s 11ms/step\n"
     ]
    },
    {
     "name": "stderr",
     "output_type": "stream",
     "text": [
      "\r",
      " 14%|███████████▍                                                                    | 113/794 [00:08<00:51, 13.13it/s]"
     ]
    },
    {
     "name": "stdout",
     "output_type": "stream",
     "text": [
      "1/1 [==============================] - 0s 14ms/step\n",
      "1/1 [==============================] - 0s 21ms/step\n"
     ]
    },
    {
     "name": "stderr",
     "output_type": "stream",
     "text": [
      "\r",
      " 14%|███████████▌                                                                    | 115/794 [00:08<00:51, 13.28it/s]"
     ]
    },
    {
     "name": "stdout",
     "output_type": "stream",
     "text": [
      "1/1 [==============================] - 0s 23ms/step\n",
      "1/1 [==============================] - 0s 12ms/step\n"
     ]
    },
    {
     "name": "stderr",
     "output_type": "stream",
     "text": [
      "\r",
      " 15%|███████████▊                                                                    | 117/794 [00:08<00:52, 12.86it/s]"
     ]
    },
    {
     "name": "stdout",
     "output_type": "stream",
     "text": [
      "1/1 [==============================] - 0s 19ms/step\n",
      "1/1 [==============================] - 0s 17ms/step\n"
     ]
    },
    {
     "name": "stderr",
     "output_type": "stream",
     "text": [
      "\r",
      " 15%|███████████▉                                                                    | 119/794 [00:08<00:51, 13.00it/s]"
     ]
    },
    {
     "name": "stdout",
     "output_type": "stream",
     "text": [
      "1/1 [==============================] - 0s 20ms/step\n",
      "1/1 [==============================] - 0s 5ms/step\n"
     ]
    },
    {
     "name": "stderr",
     "output_type": "stream",
     "text": [
      "\r",
      " 15%|████████████▏                                                                   | 121/794 [00:09<00:51, 13.11it/s]"
     ]
    },
    {
     "name": "stdout",
     "output_type": "stream",
     "text": [
      "1/1 [==============================] - 0s 22ms/step\n",
      "1/1 [==============================] - 0s 18ms/step\n"
     ]
    },
    {
     "name": "stderr",
     "output_type": "stream",
     "text": [
      "\r",
      " 15%|████████████▍                                                                   | 123/794 [00:09<00:50, 13.18it/s]"
     ]
    },
    {
     "name": "stdout",
     "output_type": "stream",
     "text": [
      "1/1 [==============================] - 0s 19ms/step\n",
      "1/1 [==============================] - 0s 17ms/step\n"
     ]
    },
    {
     "name": "stderr",
     "output_type": "stream",
     "text": [
      "\r",
      " 16%|████████████▌                                                                   | 125/794 [00:09<00:50, 13.23it/s]"
     ]
    },
    {
     "name": "stdout",
     "output_type": "stream",
     "text": [
      "1/1 [==============================] - 0s 20ms/step\n",
      "1/1 [==============================] - 0s 17ms/step\n"
     ]
    },
    {
     "name": "stderr",
     "output_type": "stream",
     "text": [
      "\r",
      " 16%|████████████▊                                                                   | 127/794 [00:09<00:50, 13.26it/s]"
     ]
    },
    {
     "name": "stdout",
     "output_type": "stream",
     "text": [
      "1/1 [==============================] - 0s 19ms/step\n",
      "1/1 [==============================] - 0s 12ms/step\n"
     ]
    },
    {
     "name": "stderr",
     "output_type": "stream",
     "text": [
      "\r",
      " 16%|████████████▉                                                                   | 129/794 [00:09<00:51, 12.83it/s]"
     ]
    },
    {
     "name": "stdout",
     "output_type": "stream",
     "text": [
      "1/1 [==============================] - 0s 20ms/step\n",
      "1/1 [==============================] - 0s 13ms/step\n"
     ]
    },
    {
     "name": "stderr",
     "output_type": "stream",
     "text": [
      "\r",
      " 16%|█████████████▏                                                                  | 131/794 [00:09<00:51, 12.97it/s]"
     ]
    },
    {
     "name": "stdout",
     "output_type": "stream",
     "text": [
      "1/1 [==============================] - 0s 20ms/step\n",
      "1/1 [==============================] - 0s 9ms/step\n"
     ]
    },
    {
     "name": "stderr",
     "output_type": "stream",
     "text": [
      "\r",
      " 17%|█████████████▍                                                                  | 133/794 [00:10<00:50, 13.02it/s]"
     ]
    },
    {
     "name": "stdout",
     "output_type": "stream",
     "text": [
      "1/1 [==============================] - 0s 16ms/step\n",
      "1/1 [==============================] - 0s 10ms/step\n"
     ]
    },
    {
     "name": "stderr",
     "output_type": "stream",
     "text": [
      "\r",
      " 17%|█████████████▌                                                                  | 135/794 [00:10<00:48, 13.66it/s]"
     ]
    },
    {
     "name": "stdout",
     "output_type": "stream",
     "text": [
      "1/1 [==============================] - 0s 20ms/step\n",
      "1/1 [==============================] - 0s 20ms/step\n"
     ]
    },
    {
     "name": "stderr",
     "output_type": "stream",
     "text": [
      "\r",
      " 17%|█████████████▊                                                                  | 137/794 [00:10<00:45, 14.47it/s]"
     ]
    },
    {
     "name": "stdout",
     "output_type": "stream",
     "text": [
      "1/1 [==============================] - 0s 30ms/step\n",
      "1/1 [==============================] - 0s 20ms/step\n"
     ]
    },
    {
     "name": "stderr",
     "output_type": "stream",
     "text": [
      "\r",
      " 18%|██████████████                                                                  | 139/794 [00:10<00:44, 14.73it/s]"
     ]
    },
    {
     "name": "stdout",
     "output_type": "stream",
     "text": [
      "1/1 [==============================] - 0s 19ms/step\n",
      "1/1 [==============================] - 0s 20ms/step\n"
     ]
    },
    {
     "name": "stderr",
     "output_type": "stream",
     "text": [
      "\r",
      " 18%|██████████████▏                                                                 | 141/794 [00:10<00:42, 15.38it/s]"
     ]
    },
    {
     "name": "stdout",
     "output_type": "stream",
     "text": [
      "1/1 [==============================] - 0s 20ms/step\n",
      "1/1 [==============================] - 0s 21ms/step\n"
     ]
    },
    {
     "name": "stderr",
     "output_type": "stream",
     "text": [
      "\r",
      " 18%|██████████████▍                                                                 | 143/794 [00:10<00:41, 15.75it/s]"
     ]
    },
    {
     "name": "stdout",
     "output_type": "stream",
     "text": [
      "1/1 [==============================] - 0s 21ms/step\n",
      "1/1 [==============================] - 0s 18ms/step\n"
     ]
    },
    {
     "name": "stderr",
     "output_type": "stream",
     "text": [
      "\r",
      " 18%|██████████████▌                                                                 | 145/794 [00:10<00:41, 15.71it/s]"
     ]
    },
    {
     "name": "stdout",
     "output_type": "stream",
     "text": [
      "1/1 [==============================] - 0s 29ms/step\n",
      "1/1 [==============================] - 0s 20ms/step\n"
     ]
    },
    {
     "name": "stderr",
     "output_type": "stream",
     "text": [
      "\r",
      " 19%|██████████████▊                                                                 | 147/794 [00:10<00:40, 16.05it/s]"
     ]
    },
    {
     "name": "stdout",
     "output_type": "stream",
     "text": [
      "1/1 [==============================] - 0s 20ms/step\n",
      "1/1 [==============================] - 0s 21ms/step\n"
     ]
    },
    {
     "name": "stderr",
     "output_type": "stream",
     "text": [
      "\r",
      " 19%|███████████████                                                                 | 149/794 [00:10<00:39, 16.23it/s]"
     ]
    },
    {
     "name": "stdout",
     "output_type": "stream",
     "text": [
      "1/1 [==============================] - 0s 30ms/step\n",
      "1/1 [==============================] - 0s 19ms/step\n"
     ]
    },
    {
     "name": "stderr",
     "output_type": "stream",
     "text": [
      "\r",
      " 19%|███████████████▏                                                                | 151/794 [00:11<00:40, 15.97it/s]"
     ]
    },
    {
     "name": "stdout",
     "output_type": "stream",
     "text": [
      "1/1 [==============================] - 0s 20ms/step\n",
      "1/1 [==============================] - 0s 20ms/step\n"
     ]
    },
    {
     "name": "stderr",
     "output_type": "stream",
     "text": [
      "\r",
      " 19%|███████████████▍                                                                | 153/794 [00:11<00:39, 16.18it/s]"
     ]
    },
    {
     "name": "stdout",
     "output_type": "stream",
     "text": [
      "1/1 [==============================] - 0s 30ms/step\n",
      "1/1 [==============================] - 0s 20ms/step\n"
     ]
    },
    {
     "name": "stderr",
     "output_type": "stream",
     "text": [
      "\r",
      " 20%|███████████████▌                                                                | 155/794 [00:11<00:40, 15.94it/s]"
     ]
    },
    {
     "name": "stdout",
     "output_type": "stream",
     "text": [
      "1/1 [==============================] - 0s 34ms/step\n",
      "1/1 [==============================] - 0s 20ms/step\n"
     ]
    },
    {
     "name": "stderr",
     "output_type": "stream",
     "text": [
      "\r",
      " 20%|███████████████▊                                                                | 157/794 [00:11<00:39, 16.20it/s]"
     ]
    },
    {
     "name": "stdout",
     "output_type": "stream",
     "text": [
      "1/1 [==============================] - 0s 22ms/step\n",
      "1/1 [==============================] - 0s 15ms/step\n"
     ]
    },
    {
     "name": "stderr",
     "output_type": "stream",
     "text": [
      "\r",
      " 20%|████████████████                                                                | 159/794 [00:11<00:39, 15.89it/s]"
     ]
    },
    {
     "name": "stdout",
     "output_type": "stream",
     "text": [
      "1/1 [==============================] - 0s 21ms/step\n",
      "1/1 [==============================] - 0s 21ms/step\n"
     ]
    },
    {
     "name": "stderr",
     "output_type": "stream",
     "text": [
      "\r",
      " 20%|████████████████▏                                                               | 161/794 [00:11<00:38, 16.25it/s]"
     ]
    },
    {
     "name": "stdout",
     "output_type": "stream",
     "text": [
      "1/1 [==============================] - 0s 21ms/step\n",
      "1/1 [==============================] - 0s 17ms/step\n"
     ]
    },
    {
     "name": "stderr",
     "output_type": "stream",
     "text": [
      "\r",
      " 21%|████████████████▍                                                               | 163/794 [00:11<00:39, 15.79it/s]"
     ]
    },
    {
     "name": "stdout",
     "output_type": "stream",
     "text": [
      "1/1 [==============================] - 0s 21ms/step\n",
      "1/1 [==============================] - 0s 18ms/step\n"
     ]
    },
    {
     "name": "stderr",
     "output_type": "stream",
     "text": [
      "\r",
      " 21%|████████████████▌                                                               | 165/794 [00:12<00:41, 15.04it/s]"
     ]
    },
    {
     "name": "stdout",
     "output_type": "stream",
     "text": [
      "1/1 [==============================] - 0s 20ms/step\n",
      "1/1 [==============================] - 0s 16ms/step\n"
     ]
    },
    {
     "name": "stderr",
     "output_type": "stream",
     "text": [
      "\r",
      " 21%|████████████████▊                                                               | 167/794 [00:12<00:45, 13.91it/s]"
     ]
    },
    {
     "name": "stdout",
     "output_type": "stream",
     "text": [
      "1/1 [==============================] - 0s 17ms/step\n",
      "1/1 [==============================] - 0s 9ms/step\n"
     ]
    },
    {
     "name": "stderr",
     "output_type": "stream",
     "text": [
      "\r",
      " 21%|█████████████████                                                               | 169/794 [00:12<00:45, 13.79it/s]"
     ]
    },
    {
     "name": "stdout",
     "output_type": "stream",
     "text": [
      "1/1 [==============================] - 0s 21ms/step\n",
      "1/1 [==============================] - 0s 22ms/step\n"
     ]
    },
    {
     "name": "stderr",
     "output_type": "stream",
     "text": [
      "\r",
      " 22%|█████████████████▏                                                              | 171/794 [00:12<00:45, 13.67it/s]"
     ]
    },
    {
     "name": "stdout",
     "output_type": "stream",
     "text": [
      "1/1 [==============================] - 0s 22ms/step\n",
      "1/1 [==============================] - 0s 16ms/step\n"
     ]
    },
    {
     "name": "stderr",
     "output_type": "stream",
     "text": [
      "\r",
      " 22%|█████████████████▍                                                              | 173/794 [00:12<00:47, 13.07it/s]"
     ]
    },
    {
     "name": "stdout",
     "output_type": "stream",
     "text": [
      "1/1 [==============================] - 0s 14ms/step\n",
      "1/1 [==============================] - 0s 20ms/step\n"
     ]
    },
    {
     "name": "stderr",
     "output_type": "stream",
     "text": [
      "\r",
      " 22%|█████████████████▋                                                              | 175/794 [00:12<00:46, 13.20it/s]"
     ]
    },
    {
     "name": "stdout",
     "output_type": "stream",
     "text": [
      "1/1 [==============================] - 0s 19ms/step\n",
      "1/1 [==============================] - 0s 17ms/step\n"
     ]
    },
    {
     "name": "stderr",
     "output_type": "stream",
     "text": [
      "\r",
      " 22%|█████████████████▊                                                              | 177/794 [00:12<00:46, 13.25it/s]"
     ]
    },
    {
     "name": "stdout",
     "output_type": "stream",
     "text": [
      "1/1 [==============================] - 0s 20ms/step\n",
      "1/1 [==============================] - 0s 15ms/step\n"
     ]
    },
    {
     "name": "stderr",
     "output_type": "stream",
     "text": [
      "\r",
      " 23%|██████████████████                                                              | 179/794 [00:13<00:47, 12.82it/s]"
     ]
    },
    {
     "name": "stdout",
     "output_type": "stream",
     "text": [
      "1/1 [==============================] - 0s 20ms/step\n",
      "1/1 [==============================] - 0s 10ms/step\n"
     ]
    },
    {
     "name": "stderr",
     "output_type": "stream",
     "text": [
      "\r",
      " 23%|██████████████████▏                                                             | 181/794 [00:13<00:47, 12.93it/s]"
     ]
    },
    {
     "name": "stdout",
     "output_type": "stream",
     "text": [
      "1/1 [==============================] - 0s 20ms/step\n",
      "1/1 [==============================] - 0s 12ms/step\n"
     ]
    },
    {
     "name": "stderr",
     "output_type": "stream",
     "text": [
      "\r",
      " 23%|██████████████████▍                                                             | 183/794 [00:13<00:46, 13.08it/s]"
     ]
    },
    {
     "name": "stdout",
     "output_type": "stream",
     "text": [
      "1/1 [==============================] - 0s 20ms/step\n",
      "1/1 [==============================] - 0s 13ms/step\n"
     ]
    },
    {
     "name": "stderr",
     "output_type": "stream",
     "text": [
      "\r",
      " 23%|██████████████████▋                                                             | 185/794 [00:13<00:46, 13.14it/s]"
     ]
    },
    {
     "name": "stdout",
     "output_type": "stream",
     "text": [
      "1/1 [==============================] - 0s 16ms/step\n",
      "1/1 [==============================] - 0s 8ms/step\n"
     ]
    },
    {
     "name": "stderr",
     "output_type": "stream",
     "text": [
      "\r",
      " 24%|██████████████████▊                                                             | 187/794 [00:13<00:45, 13.25it/s]"
     ]
    },
    {
     "name": "stdout",
     "output_type": "stream",
     "text": [
      "1/1 [==============================] - 0s 25ms/step\n",
      "1/1 [==============================] - 0s 8ms/step\n"
     ]
    },
    {
     "name": "stderr",
     "output_type": "stream",
     "text": [
      "\r",
      " 24%|███████████████████                                                             | 189/794 [00:13<00:45, 13.30it/s]"
     ]
    },
    {
     "name": "stdout",
     "output_type": "stream",
     "text": [
      "1/1 [==============================] - 0s 20ms/step\n",
      "1/1 [==============================] - 0s 9ms/step\n"
     ]
    },
    {
     "name": "stderr",
     "output_type": "stream",
     "text": [
      "\r",
      " 24%|███████████████████▏                                                            | 191/794 [00:14<00:45, 13.28it/s]"
     ]
    },
    {
     "name": "stdout",
     "output_type": "stream",
     "text": [
      "1/1 [==============================] - 0s 21ms/step\n",
      "1/1 [==============================] - 0s 20ms/step\n"
     ]
    },
    {
     "name": "stderr",
     "output_type": "stream",
     "text": [
      "\r",
      " 24%|███████████████████▍                                                            | 193/794 [00:14<00:43, 13.70it/s]"
     ]
    },
    {
     "name": "stdout",
     "output_type": "stream",
     "text": [
      "1/1 [==============================] - 0s 26ms/step\n",
      "1/1 [==============================] - 0s 21ms/step\n"
     ]
    },
    {
     "name": "stderr",
     "output_type": "stream",
     "text": [
      "\r",
      " 25%|███████████████████▋                                                            | 195/794 [00:14<00:42, 14.15it/s]"
     ]
    },
    {
     "name": "stdout",
     "output_type": "stream",
     "text": [
      "1/1 [==============================] - 0s 20ms/step\n",
      "1/1 [==============================] - 0s 21ms/step\n"
     ]
    },
    {
     "name": "stderr",
     "output_type": "stream",
     "text": [
      "\r",
      " 25%|███████████████████▊                                                            | 197/794 [00:14<00:39, 14.95it/s]"
     ]
    },
    {
     "name": "stdout",
     "output_type": "stream",
     "text": [
      "1/1 [==============================] - 0s 21ms/step\n",
      "1/1 [==============================] - 0s 19ms/step\n"
     ]
    },
    {
     "name": "stderr",
     "output_type": "stream",
     "text": [
      "\r",
      " 25%|████████████████████                                                            | 199/794 [00:14<00:39, 15.06it/s]"
     ]
    },
    {
     "name": "stdout",
     "output_type": "stream",
     "text": [
      "1/1 [==============================] - 0s 32ms/step\n",
      "1/1 [==============================] - 0s 20ms/step\n"
     ]
    },
    {
     "name": "stderr",
     "output_type": "stream",
     "text": [
      "\r",
      " 25%|████████████████████▎                                                           | 201/794 [00:14<00:38, 15.53it/s]"
     ]
    },
    {
     "name": "stdout",
     "output_type": "stream",
     "text": [
      "1/1 [==============================] - 0s 21ms/step\n",
      "1/1 [==============================] - 0s 20ms/step\n"
     ]
    },
    {
     "name": "stderr",
     "output_type": "stream",
     "text": [
      "\r",
      " 26%|████████████████████▍                                                           | 203/794 [00:14<00:37, 15.80it/s]"
     ]
    },
    {
     "name": "stdout",
     "output_type": "stream",
     "text": [
      "1/1 [==============================] - 0s 27ms/step\n",
      "1/1 [==============================] - 0s 20ms/step\n"
     ]
    },
    {
     "name": "stderr",
     "output_type": "stream",
     "text": [
      "\r",
      " 26%|████████████████████▋                                                           | 205/794 [00:14<00:37, 15.74it/s]"
     ]
    },
    {
     "name": "stdout",
     "output_type": "stream",
     "text": [
      "1/1 [==============================] - 0s 21ms/step\n",
      "1/1 [==============================] - 0s 20ms/step\n"
     ]
    },
    {
     "name": "stderr",
     "output_type": "stream",
     "text": [
      "\r",
      " 26%|████████████████████▊                                                           | 207/794 [00:15<00:36, 16.03it/s]"
     ]
    },
    {
     "name": "stdout",
     "output_type": "stream",
     "text": [
      "1/1 [==============================] - 0s 20ms/step\n",
      "1/1 [==============================] - 0s 19ms/step\n"
     ]
    },
    {
     "name": "stderr",
     "output_type": "stream",
     "text": [
      "\r",
      " 26%|█████████████████████                                                           | 209/794 [00:15<00:35, 16.34it/s]"
     ]
    },
    {
     "name": "stdout",
     "output_type": "stream",
     "text": [
      "1/1 [==============================] - 0s 20ms/step\n",
      "1/1 [==============================] - 0s 19ms/step\n"
     ]
    },
    {
     "name": "stderr",
     "output_type": "stream",
     "text": [
      "\r",
      " 27%|█████████████████████▎                                                          | 211/794 [00:15<00:35, 16.49it/s]"
     ]
    },
    {
     "name": "stdout",
     "output_type": "stream",
     "text": [
      "1/1 [==============================] - 0s 20ms/step\n",
      "1/1 [==============================] - 0s 16ms/step\n"
     ]
    },
    {
     "name": "stderr",
     "output_type": "stream",
     "text": [
      "\r",
      " 27%|█████████████████████▍                                                          | 213/794 [00:15<00:35, 16.25it/s]"
     ]
    },
    {
     "name": "stdout",
     "output_type": "stream",
     "text": [
      "1/1 [==============================] - 0s 33ms/step\n",
      "1/1 [==============================] - 0s 20ms/step\n"
     ]
    },
    {
     "name": "stderr",
     "output_type": "stream",
     "text": [
      "\r",
      " 27%|█████████████████████▋                                                          | 215/794 [00:15<00:35, 16.42it/s]"
     ]
    },
    {
     "name": "stdout",
     "output_type": "stream",
     "text": [
      "1/1 [==============================] - 0s 20ms/step\n",
      "1/1 [==============================] - 0s 19ms/step\n"
     ]
    },
    {
     "name": "stderr",
     "output_type": "stream",
     "text": [
      "\r",
      " 27%|█████████████████████▊                                                          | 217/794 [00:15<00:34, 16.51it/s]"
     ]
    },
    {
     "name": "stdout",
     "output_type": "stream",
     "text": [
      "1/1 [==============================] - 0s 22ms/step\n",
      "1/1 [==============================] - 0s 20ms/step\n"
     ]
    },
    {
     "name": "stderr",
     "output_type": "stream",
     "text": [
      "\r",
      " 28%|██████████████████████                                                          | 219/794 [00:15<00:35, 16.20it/s]"
     ]
    },
    {
     "name": "stdout",
     "output_type": "stream",
     "text": [
      "1/1 [==============================] - 0s 32ms/step\n",
      "1/1 [==============================] - 0s 23ms/step\n"
     ]
    },
    {
     "name": "stderr",
     "output_type": "stream",
     "text": [
      "\r",
      " 28%|██████████████████████▎                                                         | 221/794 [00:15<00:34, 16.38it/s]"
     ]
    },
    {
     "name": "stdout",
     "output_type": "stream",
     "text": [
      "1/1 [==============================] - 0s 23ms/step\n",
      "1/1 [==============================] - 0s 18ms/step\n"
     ]
    },
    {
     "name": "stderr",
     "output_type": "stream",
     "text": [
      "\r",
      " 28%|██████████████████████▍                                                         | 223/794 [00:16<00:38, 14.94it/s]"
     ]
    },
    {
     "name": "stdout",
     "output_type": "stream",
     "text": [
      "1/1 [==============================] - 0s 17ms/step\n",
      "1/1 [==============================] - 0s 8ms/step\n"
     ]
    },
    {
     "name": "stderr",
     "output_type": "stream",
     "text": [
      "\r",
      " 28%|██████████████████████▋                                                         | 225/794 [00:16<00:39, 14.34it/s]"
     ]
    },
    {
     "name": "stdout",
     "output_type": "stream",
     "text": [
      "1/1 [==============================] - 0s 23ms/step\n",
      "1/1 [==============================] - 0s 16ms/step\n"
     ]
    },
    {
     "name": "stderr",
     "output_type": "stream",
     "text": [
      "\r",
      " 29%|██████████████████████▊                                                         | 227/794 [00:16<00:41, 13.60it/s]"
     ]
    },
    {
     "name": "stdout",
     "output_type": "stream",
     "text": [
      "1/1 [==============================] - 0s 20ms/step\n",
      "1/1 [==============================] - 0s 22ms/step\n"
     ]
    },
    {
     "name": "stderr",
     "output_type": "stream",
     "text": [
      "\r",
      " 29%|███████████████████████                                                         | 229/794 [00:16<00:41, 13.47it/s]"
     ]
    },
    {
     "name": "stdout",
     "output_type": "stream",
     "text": [
      "1/1 [==============================] - 0s 24ms/step\n",
      "1/1 [==============================] - 0s 12ms/step\n"
     ]
    },
    {
     "name": "stderr",
     "output_type": "stream",
     "text": [
      "\r",
      " 29%|███████████████████████▎                                                        | 231/794 [00:16<00:43, 12.99it/s]"
     ]
    },
    {
     "name": "stdout",
     "output_type": "stream",
     "text": [
      "1/1 [==============================] - 0s 24ms/step\n",
      "1/1 [==============================] - 0s 18ms/step\n"
     ]
    },
    {
     "name": "stderr",
     "output_type": "stream",
     "text": [
      "\r",
      " 29%|███████████████████████▍                                                        | 233/794 [00:16<00:43, 12.94it/s]"
     ]
    },
    {
     "name": "stdout",
     "output_type": "stream",
     "text": [
      "1/1 [==============================] - 0s 19ms/step\n",
      "1/1 [==============================] - 0s 12ms/step\n"
     ]
    },
    {
     "name": "stderr",
     "output_type": "stream",
     "text": [
      "\r",
      " 30%|███████████████████████▋                                                        | 235/794 [00:16<00:43, 12.77it/s]"
     ]
    },
    {
     "name": "stdout",
     "output_type": "stream",
     "text": [
      "1/1 [==============================] - 0s 16ms/step\n",
      "1/1 [==============================] - 0s 11ms/step\n"
     ]
    },
    {
     "name": "stderr",
     "output_type": "stream",
     "text": [
      "\r",
      " 30%|███████████████████████▉                                                        | 237/794 [00:17<00:43, 12.88it/s]"
     ]
    },
    {
     "name": "stdout",
     "output_type": "stream",
     "text": [
      "1/1 [==============================] - 0s 18ms/step\n",
      "1/1 [==============================] - 0s 9ms/step\n"
     ]
    },
    {
     "name": "stderr",
     "output_type": "stream",
     "text": [
      "\r",
      " 30%|████████████████████████                                                        | 239/794 [00:17<00:42, 13.00it/s]"
     ]
    },
    {
     "name": "stdout",
     "output_type": "stream",
     "text": [
      "1/1 [==============================] - 0s 18ms/step\n",
      "1/1 [==============================] - 0s 5ms/step\n"
     ]
    },
    {
     "name": "stderr",
     "output_type": "stream",
     "text": [
      "\r",
      " 30%|████████████████████████▎                                                       | 241/794 [00:17<00:41, 13.21it/s]"
     ]
    },
    {
     "name": "stdout",
     "output_type": "stream",
     "text": [
      "1/1 [==============================] - 0s 21ms/step\n",
      "1/1 [==============================] - 0s 18ms/step\n"
     ]
    },
    {
     "name": "stderr",
     "output_type": "stream",
     "text": [
      "\r",
      " 31%|████████████████████████▍                                                       | 243/794 [00:17<00:41, 13.25it/s]"
     ]
    },
    {
     "name": "stdout",
     "output_type": "stream",
     "text": [
      "1/1 [==============================] - 0s 20ms/step\n",
      "1/1 [==============================] - 0s 14ms/step\n"
     ]
    },
    {
     "name": "stderr",
     "output_type": "stream",
     "text": [
      "\r",
      " 31%|████████████████████████▋                                                       | 245/794 [00:17<00:42, 12.84it/s]"
     ]
    },
    {
     "name": "stdout",
     "output_type": "stream",
     "text": [
      "1/1 [==============================] - 0s 20ms/step\n",
      "1/1 [==============================] - 0s 13ms/step\n"
     ]
    },
    {
     "name": "stderr",
     "output_type": "stream",
     "text": [
      "\r",
      " 31%|████████████████████████▉                                                       | 247/794 [00:17<00:42, 12.97it/s]"
     ]
    },
    {
     "name": "stdout",
     "output_type": "stream",
     "text": [
      "1/1 [==============================] - 0s 18ms/step\n",
      "1/1 [==============================] - 0s 20ms/step\n"
     ]
    },
    {
     "name": "stderr",
     "output_type": "stream",
     "text": [
      "\r",
      " 31%|█████████████████████████                                                       | 249/794 [00:18<00:41, 13.11it/s]"
     ]
    },
    {
     "name": "stdout",
     "output_type": "stream",
     "text": [
      "1/1 [==============================] - 0s 20ms/step\n",
      "1/1 [==============================] - 0s 8ms/step\n"
     ]
    },
    {
     "name": "stderr",
     "output_type": "stream",
     "text": [
      "\r",
      " 32%|█████████████████████████▎                                                      | 251/794 [00:18<00:39, 13.66it/s]"
     ]
    },
    {
     "name": "stdout",
     "output_type": "stream",
     "text": [
      "1/1 [==============================] - 0s 21ms/step\n",
      "1/1 [==============================] - 0s 16ms/step\n"
     ]
    },
    {
     "name": "stderr",
     "output_type": "stream",
     "text": [
      "\r",
      " 32%|█████████████████████████▍                                                      | 253/794 [00:18<00:38, 14.04it/s]"
     ]
    },
    {
     "name": "stdout",
     "output_type": "stream",
     "text": [
      "1/1 [==============================] - 0s 31ms/step\n",
      "1/1 [==============================] - 0s 18ms/step\n"
     ]
    },
    {
     "name": "stderr",
     "output_type": "stream",
     "text": [
      "\r",
      " 32%|█████████████████████████▋                                                      | 255/794 [00:18<00:36, 14.80it/s]"
     ]
    },
    {
     "name": "stdout",
     "output_type": "stream",
     "text": [
      "1/1 [==============================] - 0s 20ms/step\n",
      "1/1 [==============================] - 0s 20ms/step\n"
     ]
    },
    {
     "name": "stderr",
     "output_type": "stream",
     "text": [
      "\r",
      " 32%|█████████████████████████▉                                                      | 257/794 [00:18<00:35, 14.94it/s]"
     ]
    },
    {
     "name": "stdout",
     "output_type": "stream",
     "text": [
      "1/1 [==============================] - 0s 35ms/step\n",
      "1/1 [==============================] - 0s 20ms/step\n"
     ]
    },
    {
     "name": "stderr",
     "output_type": "stream",
     "text": [
      "\r",
      " 33%|██████████████████████████                                                      | 259/794 [00:18<00:34, 15.30it/s]"
     ]
    },
    {
     "name": "stdout",
     "output_type": "stream",
     "text": [
      "1/1 [==============================] - 0s 27ms/step\n",
      "1/1 [==============================] - 0s 22ms/step\n"
     ]
    },
    {
     "name": "stderr",
     "output_type": "stream",
     "text": [
      "\r",
      " 33%|██████████████████████████▎                                                     | 261/794 [00:18<00:34, 15.36it/s]"
     ]
    },
    {
     "name": "stdout",
     "output_type": "stream",
     "text": [
      "1/1 [==============================] - 0s 23ms/step\n",
      "1/1 [==============================] - 0s 11ms/step\n"
     ]
    },
    {
     "name": "stderr",
     "output_type": "stream",
     "text": [
      "\r",
      " 33%|██████████████████████████▍                                                     | 263/794 [00:18<00:34, 15.34it/s]"
     ]
    },
    {
     "name": "stdout",
     "output_type": "stream",
     "text": [
      "1/1 [==============================] - 0s 19ms/step\n",
      "1/1 [==============================] - 0s 20ms/step\n"
     ]
    },
    {
     "name": "stderr",
     "output_type": "stream",
     "text": [
      "\r",
      " 33%|██████████████████████████▋                                                     | 265/794 [00:19<00:33, 15.78it/s]"
     ]
    },
    {
     "name": "stdout",
     "output_type": "stream",
     "text": [
      "1/1 [==============================] - 0s 20ms/step\n",
      "1/1 [==============================] - 0s 20ms/step\n"
     ]
    },
    {
     "name": "stderr",
     "output_type": "stream",
     "text": [
      "\r",
      " 34%|██████████████████████████▉                                                     | 267/794 [00:19<00:33, 15.96it/s]"
     ]
    },
    {
     "name": "stdout",
     "output_type": "stream",
     "text": [
      "1/1 [==============================] - 0s 27ms/step\n",
      "1/1 [==============================] - 0s 21ms/step\n"
     ]
    },
    {
     "name": "stderr",
     "output_type": "stream",
     "text": [
      "\r",
      " 34%|███████████████████████████                                                     | 269/794 [00:19<00:33, 15.87it/s]"
     ]
    },
    {
     "name": "stdout",
     "output_type": "stream",
     "text": [
      "1/1 [==============================] - 0s 33ms/step\n",
      "1/1 [==============================] - 0s 20ms/step\n"
     ]
    },
    {
     "name": "stderr",
     "output_type": "stream",
     "text": [
      "\r",
      " 34%|███████████████████████████▎                                                    | 271/794 [00:19<00:32, 16.24it/s]"
     ]
    },
    {
     "name": "stdout",
     "output_type": "stream",
     "text": [
      "1/1 [==============================] - 0s 21ms/step\n",
      "1/1 [==============================] - 0s 15ms/step\n"
     ]
    },
    {
     "name": "stderr",
     "output_type": "stream",
     "text": [
      "\r",
      " 34%|███████████████████████████▌                                                    | 273/794 [00:19<00:32, 15.83it/s]"
     ]
    },
    {
     "name": "stdout",
     "output_type": "stream",
     "text": [
      "1/1 [==============================] - 0s 29ms/step\n",
      "1/1 [==============================] - 0s 21ms/step\n"
     ]
    },
    {
     "name": "stderr",
     "output_type": "stream",
     "text": [
      "\r",
      " 35%|███████████████████████████▋                                                    | 275/794 [00:19<00:32, 16.21it/s]"
     ]
    },
    {
     "name": "stdout",
     "output_type": "stream",
     "text": [
      "1/1 [==============================] - 0s 32ms/step\n",
      "1/1 [==============================] - 0s 19ms/step\n"
     ]
    },
    {
     "name": "stderr",
     "output_type": "stream",
     "text": [
      "\r",
      " 35%|███████████████████████████▉                                                    | 277/794 [00:19<00:31, 16.50it/s]"
     ]
    },
    {
     "name": "stdout",
     "output_type": "stream",
     "text": [
      "1/1 [==============================] - 0s 22ms/step\n",
      "1/1 [==============================] - 0s 17ms/step\n"
     ]
    },
    {
     "name": "stderr",
     "output_type": "stream",
     "text": [
      "\r",
      " 35%|████████████████████████████                                                    | 279/794 [00:19<00:32, 16.01it/s]"
     ]
    },
    {
     "name": "stdout",
     "output_type": "stream",
     "text": [
      "1/1 [==============================] - 0s 33ms/step\n",
      "1/1 [==============================] - 0s 11ms/step\n"
     ]
    },
    {
     "name": "stderr",
     "output_type": "stream",
     "text": [
      "\r",
      " 35%|████████████████████████████▎                                                   | 281/794 [00:20<00:34, 15.00it/s]"
     ]
    },
    {
     "name": "stdout",
     "output_type": "stream",
     "text": [
      "1/1 [==============================] - 0s 13ms/step\n",
      "1/1 [==============================] - 0s 5ms/step\n"
     ]
    },
    {
     "name": "stderr",
     "output_type": "stream",
     "text": [
      "\r",
      " 36%|████████████████████████████▌                                                   | 283/794 [00:20<00:35, 14.30it/s]"
     ]
    },
    {
     "name": "stdout",
     "output_type": "stream",
     "text": [
      "1/1 [==============================] - 0s 23ms/step\n",
      "1/1 [==============================] - 0s 19ms/step\n"
     ]
    },
    {
     "name": "stderr",
     "output_type": "stream",
     "text": [
      "\r",
      " 36%|████████████████████████████▋                                                   | 285/794 [00:20<00:35, 14.25it/s]"
     ]
    },
    {
     "name": "stdout",
     "output_type": "stream",
     "text": [
      "1/1 [==============================] - 0s 20ms/step\n",
      "1/1 [==============================] - 0s 20ms/step\n"
     ]
    },
    {
     "name": "stderr",
     "output_type": "stream",
     "text": [
      "\r",
      " 36%|████████████████████████████▉                                                   | 287/794 [00:20<00:36, 13.96it/s]"
     ]
    },
    {
     "name": "stdout",
     "output_type": "stream",
     "text": [
      "1/1 [==============================] - 0s 22ms/step\n",
      "1/1 [==============================] - 0s 13ms/step\n"
     ]
    },
    {
     "name": "stderr",
     "output_type": "stream",
     "text": [
      "\r",
      " 36%|█████████████████████████████                                                   | 289/794 [00:20<00:37, 13.32it/s]"
     ]
    },
    {
     "name": "stdout",
     "output_type": "stream",
     "text": [
      "1/1 [==============================] - 0s 20ms/step\n",
      "1/1 [==============================] - 0s 14ms/step\n"
     ]
    },
    {
     "name": "stderr",
     "output_type": "stream",
     "text": [
      "\r",
      " 37%|█████████████████████████████▎                                                  | 291/794 [00:20<00:37, 13.31it/s]"
     ]
    },
    {
     "name": "stdout",
     "output_type": "stream",
     "text": [
      "1/1 [==============================] - 0s 16ms/step\n",
      "1/1 [==============================] - 0s 8ms/step\n"
     ]
    },
    {
     "name": "stderr",
     "output_type": "stream",
     "text": [
      "\r",
      " 37%|█████████████████████████████▌                                                  | 293/794 [00:20<00:37, 13.32it/s]"
     ]
    },
    {
     "name": "stdout",
     "output_type": "stream",
     "text": [
      "1/1 [==============================] - 0s 20ms/step\n",
      "1/1 [==============================] - 0s 8ms/step\n"
     ]
    },
    {
     "name": "stderr",
     "output_type": "stream",
     "text": [
      "\r",
      " 37%|█████████████████████████████▋                                                  | 295/794 [00:21<00:37, 13.34it/s]"
     ]
    },
    {
     "name": "stdout",
     "output_type": "stream",
     "text": [
      "1/1 [==============================] - 0s 20ms/step\n",
      "1/1 [==============================] - 0s 7ms/step\n"
     ]
    },
    {
     "name": "stderr",
     "output_type": "stream",
     "text": [
      "\r",
      " 37%|█████████████████████████████▉                                                  | 297/794 [00:21<00:36, 13.45it/s]"
     ]
    },
    {
     "name": "stdout",
     "output_type": "stream",
     "text": [
      "1/1 [==============================] - 0s 20ms/step\n",
      "1/1 [==============================] - 0s 7ms/step\n"
     ]
    },
    {
     "name": "stderr",
     "output_type": "stream",
     "text": [
      "\r",
      " 38%|██████████████████████████████▏                                                 | 299/794 [00:21<00:37, 13.31it/s]"
     ]
    },
    {
     "name": "stdout",
     "output_type": "stream",
     "text": [
      "1/1 [==============================] - 0s 22ms/step\n",
      "1/1 [==============================] - 0s 17ms/step\n"
     ]
    },
    {
     "name": "stderr",
     "output_type": "stream",
     "text": [
      "\r",
      " 38%|██████████████████████████████▎                                                 | 301/794 [00:21<00:36, 13.33it/s]"
     ]
    },
    {
     "name": "stdout",
     "output_type": "stream",
     "text": [
      "1/1 [==============================] - 0s 20ms/step\n",
      "1/1 [==============================] - 0s 20ms/step\n"
     ]
    },
    {
     "name": "stderr",
     "output_type": "stream",
     "text": [
      "\r",
      " 38%|██████████████████████████████▌                                                 | 303/794 [00:21<00:36, 13.33it/s]"
     ]
    },
    {
     "name": "stdout",
     "output_type": "stream",
     "text": [
      "1/1 [==============================] - 0s 19ms/step\n",
      "1/1 [==============================] - 0s 17ms/step\n"
     ]
    },
    {
     "name": "stderr",
     "output_type": "stream",
     "text": [
      "\r",
      " 38%|██████████████████████████████▋                                                 | 305/794 [00:21<00:36, 13.33it/s]"
     ]
    },
    {
     "name": "stdout",
     "output_type": "stream",
     "text": [
      "1/1 [==============================] - 0s 19ms/step\n",
      "1/1 [==============================] - 0s 18ms/step\n"
     ]
    },
    {
     "name": "stderr",
     "output_type": "stream",
     "text": [
      "\r",
      " 39%|██████████████████████████████▉                                                 | 307/794 [00:22<00:36, 13.34it/s]"
     ]
    },
    {
     "name": "stdout",
     "output_type": "stream",
     "text": [
      "1/1 [==============================] - 0s 20ms/step\n",
      "1/1 [==============================] - 0s 16ms/step\n"
     ]
    },
    {
     "name": "stderr",
     "output_type": "stream",
     "text": [
      "\r",
      " 39%|███████████████████████████████▏                                                | 309/794 [00:22<00:37, 12.92it/s]"
     ]
    },
    {
     "name": "stdout",
     "output_type": "stream",
     "text": [
      "1/1 [==============================] - 0s 19ms/step\n",
      "1/1 [==============================] - 0s 11ms/step\n"
     ]
    },
    {
     "name": "stderr",
     "output_type": "stream",
     "text": [
      "\r",
      " 39%|███████████████████████████████▎                                                | 311/794 [00:22<00:37, 12.93it/s]"
     ]
    },
    {
     "name": "stdout",
     "output_type": "stream",
     "text": [
      "1/1 [==============================] - 0s 21ms/step\n",
      "1/1 [==============================] - 0s 6ms/step\n"
     ]
    },
    {
     "name": "stderr",
     "output_type": "stream",
     "text": [
      "\r",
      " 39%|███████████████████████████████▌                                                | 313/794 [00:22<00:36, 13.29it/s]"
     ]
    },
    {
     "name": "stdout",
     "output_type": "stream",
     "text": [
      "1/1 [==============================] - 0s 24ms/step\n",
      "1/1 [==============================] - 0s 20ms/step\n"
     ]
    },
    {
     "name": "stderr",
     "output_type": "stream",
     "text": [
      "\r",
      " 40%|███████████████████████████████▋                                                | 315/794 [00:22<00:36, 13.16it/s]"
     ]
    },
    {
     "name": "stdout",
     "output_type": "stream",
     "text": [
      "1/1 [==============================] - 0s 20ms/step\n",
      "1/1 [==============================] - 0s 18ms/step\n"
     ]
    },
    {
     "name": "stderr",
     "output_type": "stream",
     "text": [
      "\r",
      " 40%|███████████████████████████████▉                                                | 317/794 [00:22<00:35, 13.31it/s]"
     ]
    },
    {
     "name": "stdout",
     "output_type": "stream",
     "text": [
      "1/1 [==============================] - 0s 29ms/step\n",
      "1/1 [==============================] - 0s 21ms/step\n"
     ]
    },
    {
     "name": "stderr",
     "output_type": "stream",
     "text": [
      "\r",
      " 40%|████████████████████████████████▏                                               | 319/794 [00:22<00:33, 14.14it/s]"
     ]
    },
    {
     "name": "stdout",
     "output_type": "stream",
     "text": [
      "1/1 [==============================] - 0s 20ms/step\n",
      "1/1 [==============================] - 0s 20ms/step\n"
     ]
    },
    {
     "name": "stderr",
     "output_type": "stream",
     "text": [
      "\r",
      " 40%|████████████████████████████████▎                                               | 321/794 [00:23<00:31, 14.83it/s]"
     ]
    },
    {
     "name": "stdout",
     "output_type": "stream",
     "text": [
      "1/1 [==============================] - 0s 25ms/step\n",
      "1/1 [==============================] - 0s 20ms/step\n"
     ]
    },
    {
     "name": "stderr",
     "output_type": "stream",
     "text": [
      "\r",
      " 41%|████████████████████████████████▌                                               | 323/794 [00:23<00:31, 15.00it/s]"
     ]
    },
    {
     "name": "stdout",
     "output_type": "stream",
     "text": [
      "1/1 [==============================] - 0s 22ms/step\n",
      "1/1 [==============================] - 0s 19ms/step\n"
     ]
    },
    {
     "name": "stderr",
     "output_type": "stream",
     "text": [
      "\r",
      " 41%|████████████████████████████████▋                                               | 325/794 [00:23<00:31, 15.10it/s]"
     ]
    },
    {
     "name": "stdout",
     "output_type": "stream",
     "text": [
      "1/1 [==============================] - 0s 21ms/step\n",
      "1/1 [==============================] - 0s 21ms/step\n"
     ]
    },
    {
     "name": "stderr",
     "output_type": "stream",
     "text": [
      "\r",
      " 41%|████████████████████████████████▉                                               | 327/794 [00:23<00:31, 15.00it/s]"
     ]
    },
    {
     "name": "stdout",
     "output_type": "stream",
     "text": [
      "1/1 [==============================] - 0s 33ms/step\n",
      "1/1 [==============================] - 0s 21ms/step\n"
     ]
    },
    {
     "name": "stderr",
     "output_type": "stream",
     "text": [
      "\r",
      " 41%|█████████████████████████████████▏                                              | 329/794 [00:23<00:29, 15.55it/s]"
     ]
    },
    {
     "name": "stdout",
     "output_type": "stream",
     "text": [
      "1/1 [==============================] - 0s 20ms/step\n",
      "1/1 [==============================] - 0s 20ms/step\n"
     ]
    },
    {
     "name": "stderr",
     "output_type": "stream",
     "text": [
      "\r",
      " 42%|█████████████████████████████████▎                                              | 331/794 [00:23<00:30, 15.42it/s]"
     ]
    },
    {
     "name": "stdout",
     "output_type": "stream",
     "text": [
      "1/1 [==============================] - 0s 20ms/step\n",
      "1/1 [==============================] - 0s 24ms/step\n"
     ]
    },
    {
     "name": "stderr",
     "output_type": "stream",
     "text": [
      "\r",
      " 42%|█████████████████████████████████▌                                              | 333/794 [00:23<00:29, 15.75it/s]"
     ]
    },
    {
     "name": "stdout",
     "output_type": "stream",
     "text": [
      "1/1 [==============================] - 0s 33ms/step\n",
      "1/1 [==============================] - 0s 21ms/step\n"
     ]
    },
    {
     "name": "stderr",
     "output_type": "stream",
     "text": [
      "\r",
      " 42%|█████████████████████████████████▊                                              | 335/794 [00:23<00:29, 15.62it/s]"
     ]
    },
    {
     "name": "stdout",
     "output_type": "stream",
     "text": [
      "1/1 [==============================] - 0s 24ms/step\n",
      "1/1 [==============================] - 0s 20ms/step\n"
     ]
    },
    {
     "name": "stderr",
     "output_type": "stream",
     "text": [
      "\r",
      " 42%|█████████████████████████████████▉                                              | 337/794 [00:24<00:29, 15.48it/s]"
     ]
    },
    {
     "name": "stdout",
     "output_type": "stream",
     "text": [
      "1/1 [==============================] - 0s 22ms/step\n",
      "1/1 [==============================] - 0s 20ms/step\n"
     ]
    },
    {
     "name": "stderr",
     "output_type": "stream",
     "text": [
      "\r",
      " 43%|██████████████████████████████████▏                                             | 339/794 [00:24<00:29, 15.38it/s]"
     ]
    },
    {
     "name": "stdout",
     "output_type": "stream",
     "text": [
      "1/1 [==============================] - 0s 21ms/step\n",
      "1/1 [==============================] - 0s 33ms/step\n"
     ]
    },
    {
     "name": "stderr",
     "output_type": "stream",
     "text": [
      "\r",
      " 43%|██████████████████████████████████▎                                             | 341/794 [00:24<00:29, 15.34it/s]"
     ]
    },
    {
     "name": "stdout",
     "output_type": "stream",
     "text": [
      "1/1 [==============================] - 0s 34ms/step\n",
      "1/1 [==============================] - 0s 20ms/step\n"
     ]
    },
    {
     "name": "stderr",
     "output_type": "stream",
     "text": [
      "\r",
      " 43%|██████████████████████████████████▌                                             | 343/794 [00:24<00:29, 15.21it/s]"
     ]
    },
    {
     "name": "stdout",
     "output_type": "stream",
     "text": [
      "1/1 [==============================] - 0s 30ms/step\n",
      "1/1 [==============================] - 0s 24ms/step\n"
     ]
    },
    {
     "name": "stderr",
     "output_type": "stream",
     "text": [
      "\r",
      " 43%|██████████████████████████████████▊                                             | 345/794 [00:24<00:29, 15.07it/s]"
     ]
    },
    {
     "name": "stdout",
     "output_type": "stream",
     "text": [
      "1/1 [==============================] - 0s 20ms/step\n",
      "1/1 [==============================] - 0s 20ms/step\n"
     ]
    },
    {
     "name": "stderr",
     "output_type": "stream",
     "text": [
      "\r",
      " 44%|██████████████████████████████████▉                                             | 347/794 [00:24<00:30, 14.50it/s]"
     ]
    },
    {
     "name": "stdout",
     "output_type": "stream",
     "text": [
      "1/1 [==============================] - 0s 19ms/step\n",
      "1/1 [==============================] - 0s 9ms/step\n"
     ]
    },
    {
     "name": "stderr",
     "output_type": "stream",
     "text": [
      "\r",
      " 44%|███████████████████████████████████▏                                            | 349/794 [00:24<00:32, 13.58it/s]"
     ]
    },
    {
     "name": "stdout",
     "output_type": "stream",
     "text": [
      "1/1 [==============================] - 0s 13ms/step\n",
      "1/1 [==============================] - 0s 5ms/step\n"
     ]
    },
    {
     "name": "stderr",
     "output_type": "stream",
     "text": [
      "\r",
      " 44%|███████████████████████████████████▎                                            | 351/794 [00:25<00:32, 13.58it/s]"
     ]
    },
    {
     "name": "stdout",
     "output_type": "stream",
     "text": [
      "1/1 [==============================] - 0s 20ms/step\n",
      "1/1 [==============================] - 0s 18ms/step\n"
     ]
    },
    {
     "name": "stderr",
     "output_type": "stream",
     "text": [
      "\r",
      " 44%|███████████████████████████████████▌                                            | 353/794 [00:25<00:32, 13.44it/s]"
     ]
    },
    {
     "name": "stdout",
     "output_type": "stream",
     "text": [
      "1/1 [==============================] - 0s 21ms/step\n",
      "1/1 [==============================] - 0s 17ms/step\n"
     ]
    },
    {
     "name": "stderr",
     "output_type": "stream",
     "text": [
      "\r",
      " 45%|███████████████████████████████████▊                                            | 355/794 [00:25<00:33, 13.13it/s]"
     ]
    },
    {
     "name": "stdout",
     "output_type": "stream",
     "text": [
      "1/1 [==============================] - 0s 20ms/step\n",
      "1/1 [==============================] - 0s 17ms/step\n"
     ]
    },
    {
     "name": "stderr",
     "output_type": "stream",
     "text": [
      "\r",
      " 45%|███████████████████████████████████▉                                            | 357/794 [00:25<00:33, 13.18it/s]"
     ]
    },
    {
     "name": "stdout",
     "output_type": "stream",
     "text": [
      "1/1 [==============================] - 0s 20ms/step\n",
      "1/1 [==============================] - 0s 16ms/step\n"
     ]
    },
    {
     "name": "stderr",
     "output_type": "stream",
     "text": [
      "\r",
      " 45%|████████████████████████████████████▏                                           | 359/794 [00:25<00:33, 13.14it/s]"
     ]
    },
    {
     "name": "stdout",
     "output_type": "stream",
     "text": [
      "1/1 [==============================] - 0s 17ms/step\n",
      "1/1 [==============================] - 0s 10ms/step\n"
     ]
    },
    {
     "name": "stderr",
     "output_type": "stream",
     "text": [
      "\r",
      " 45%|████████████████████████████████████▎                                           | 361/794 [00:25<00:32, 13.29it/s]"
     ]
    },
    {
     "name": "stdout",
     "output_type": "stream",
     "text": [
      "1/1 [==============================] - 0s 20ms/step\n",
      "1/1 [==============================] - 0s 9ms/step\n"
     ]
    },
    {
     "name": "stderr",
     "output_type": "stream",
     "text": [
      "\r",
      " 46%|████████████████████████████████████▌                                           | 363/794 [00:25<00:32, 13.23it/s]"
     ]
    },
    {
     "name": "stdout",
     "output_type": "stream",
     "text": [
      "1/1 [==============================] - 0s 21ms/step\n",
      "1/1 [==============================] - 0s 8ms/step\n"
     ]
    },
    {
     "name": "stderr",
     "output_type": "stream",
     "text": [
      "\r",
      " 46%|████████████████████████████████████▊                                           | 365/794 [00:26<00:32, 13.36it/s]"
     ]
    },
    {
     "name": "stdout",
     "output_type": "stream",
     "text": [
      "1/1 [==============================] - 0s 21ms/step\n",
      "1/1 [==============================] - 0s 19ms/step\n"
     ]
    },
    {
     "name": "stderr",
     "output_type": "stream",
     "text": [
      "\r",
      " 46%|████████████████████████████████████▉                                           | 367/794 [00:26<00:32, 13.26it/s]"
     ]
    },
    {
     "name": "stdout",
     "output_type": "stream",
     "text": [
      "1/1 [==============================] - 0s 18ms/step\n",
      "1/1 [==============================] - 0s 16ms/step\n"
     ]
    },
    {
     "name": "stderr",
     "output_type": "stream",
     "text": [
      "\r",
      " 46%|█████████████████████████████████████▏                                          | 369/794 [00:26<00:32, 12.89it/s]"
     ]
    },
    {
     "name": "stdout",
     "output_type": "stream",
     "text": [
      "1/1 [==============================] - 0s 20ms/step\n",
      "1/1 [==============================] - 0s 13ms/step\n"
     ]
    },
    {
     "name": "stderr",
     "output_type": "stream",
     "text": [
      "\r",
      " 47%|█████████████████████████████████████▍                                          | 371/794 [00:26<00:32, 12.95it/s]"
     ]
    },
    {
     "name": "stdout",
     "output_type": "stream",
     "text": [
      "1/1 [==============================] - 0s 17ms/step\n",
      "1/1 [==============================] - 0s 22ms/step\n"
     ]
    },
    {
     "name": "stderr",
     "output_type": "stream",
     "text": [
      "\r",
      " 47%|█████████████████████████████████████▌                                          | 373/794 [00:26<00:32, 13.11it/s]"
     ]
    },
    {
     "name": "stdout",
     "output_type": "stream",
     "text": [
      "1/1 [==============================] - 0s 21ms/step\n",
      "1/1 [==============================] - 0s 20ms/step\n"
     ]
    },
    {
     "name": "stderr",
     "output_type": "stream",
     "text": [
      "\r",
      " 47%|█████████████████████████████████████▊                                          | 375/794 [00:26<00:31, 13.19it/s]"
     ]
    },
    {
     "name": "stdout",
     "output_type": "stream",
     "text": [
      "1/1 [==============================] - 0s 23ms/step\n",
      "1/1 [==============================] - 0s 10ms/step\n"
     ]
    },
    {
     "name": "stderr",
     "output_type": "stream",
     "text": [
      "\r",
      " 47%|█████████████████████████████████████▉                                          | 377/794 [00:27<00:32, 12.90it/s]"
     ]
    },
    {
     "name": "stdout",
     "output_type": "stream",
     "text": [
      "1/1 [==============================] - 0s 23ms/step\n",
      "1/1 [==============================] - 0s 15ms/step\n"
     ]
    },
    {
     "name": "stderr",
     "output_type": "stream",
     "text": [
      "\r",
      " 48%|██████████████████████████████████████▏                                         | 379/794 [00:27<00:32, 12.61it/s]"
     ]
    },
    {
     "name": "stdout",
     "output_type": "stream",
     "text": [
      "1/1 [==============================] - 0s 20ms/step\n",
      "1/1 [==============================] - 0s 15ms/step\n"
     ]
    },
    {
     "name": "stderr",
     "output_type": "stream",
     "text": [
      "\r",
      " 48%|██████████████████████████████████████▍                                         | 381/794 [00:27<00:32, 12.82it/s]"
     ]
    },
    {
     "name": "stdout",
     "output_type": "stream",
     "text": [
      "1/1 [==============================] - 0s 21ms/step\n",
      "1/1 [==============================] - 0s 15ms/step\n"
     ]
    },
    {
     "name": "stderr",
     "output_type": "stream",
     "text": [
      "\r",
      " 48%|██████████████████████████████████████▌                                         | 383/794 [00:27<00:31, 12.91it/s]"
     ]
    },
    {
     "name": "stdout",
     "output_type": "stream",
     "text": [
      "1/1 [==============================] - 0s 19ms/step\n",
      "1/1 [==============================] - 0s 16ms/step\n"
     ]
    },
    {
     "name": "stderr",
     "output_type": "stream",
     "text": [
      "\r",
      " 48%|██████████████████████████████████████▊                                         | 385/794 [00:27<00:31, 13.08it/s]"
     ]
    },
    {
     "name": "stdout",
     "output_type": "stream",
     "text": [
      "1/1 [==============================] - 0s 20ms/step\n",
      "1/1 [==============================] - 0s 17ms/step\n"
     ]
    },
    {
     "name": "stderr",
     "output_type": "stream",
     "text": [
      "\r",
      " 49%|██████████████████████████████████████▉                                         | 387/794 [00:27<00:30, 13.32it/s]"
     ]
    },
    {
     "name": "stdout",
     "output_type": "stream",
     "text": [
      "1/1 [==============================] - 0s 16ms/step\n",
      "1/1 [==============================] - 0s 10ms/step\n"
     ]
    },
    {
     "name": "stderr",
     "output_type": "stream",
     "text": [
      "\r",
      " 49%|███████████████████████████████████████▏                                        | 389/794 [00:28<00:38, 10.61it/s]"
     ]
    },
    {
     "name": "stdout",
     "output_type": "stream",
     "text": [
      "1/1 [==============================] - 0s 21ms/step\n",
      "1/1 [==============================] - 0s 19ms/step\n"
     ]
    },
    {
     "name": "stderr",
     "output_type": "stream",
     "text": [
      "\r",
      " 49%|███████████████████████████████████████▍                                        | 391/794 [00:28<00:35, 11.36it/s]"
     ]
    },
    {
     "name": "stdout",
     "output_type": "stream",
     "text": [
      "1/1 [==============================] - 0s 20ms/step\n",
      "1/1 [==============================] - 0s 8ms/step\n"
     ]
    },
    {
     "name": "stderr",
     "output_type": "stream",
     "text": [
      "\r",
      " 49%|███████████████████████████████████████▌                                        | 393/794 [00:28<00:33, 11.90it/s]"
     ]
    },
    {
     "name": "stdout",
     "output_type": "stream",
     "text": [
      "1/1 [==============================] - 0s 19ms/step\n",
      "1/1 [==============================] - 0s 8ms/step\n"
     ]
    },
    {
     "name": "stderr",
     "output_type": "stream",
     "text": [
      "\r",
      " 50%|███████████████████████████████████████▊                                        | 395/794 [00:28<00:32, 12.29it/s]"
     ]
    },
    {
     "name": "stdout",
     "output_type": "stream",
     "text": [
      "1/1 [==============================] - 0s 20ms/step\n",
      "1/1 [==============================] - 0s 7ms/step\n"
     ]
    },
    {
     "name": "stderr",
     "output_type": "stream",
     "text": [
      "\r",
      " 50%|████████████████████████████████████████                                        | 397/794 [00:28<00:31, 12.59it/s]"
     ]
    },
    {
     "name": "stdout",
     "output_type": "stream",
     "text": [
      "1/1 [==============================] - 0s 19ms/step\n",
      "1/1 [==============================] - 0s 20ms/step\n"
     ]
    },
    {
     "name": "stderr",
     "output_type": "stream",
     "text": [
      "\r",
      " 50%|████████████████████████████████████████▏                                       | 399/794 [00:28<00:29, 13.31it/s]"
     ]
    },
    {
     "name": "stdout",
     "output_type": "stream",
     "text": [
      "1/1 [==============================] - 0s 22ms/step\n",
      "1/1 [==============================] - 0s 18ms/step\n"
     ]
    },
    {
     "name": "stderr",
     "output_type": "stream",
     "text": [
      "\r",
      " 51%|████████████████████████████████████████▍                                       | 401/794 [00:28<00:28, 13.79it/s]"
     ]
    },
    {
     "name": "stdout",
     "output_type": "stream",
     "text": [
      "1/1 [==============================] - 0s 26ms/step\n",
      "1/1 [==============================] - 0s 21ms/step\n"
     ]
    },
    {
     "name": "stderr",
     "output_type": "stream",
     "text": [
      "\r",
      " 51%|████████████████████████████████████████▌                                       | 403/794 [00:29<00:26, 14.55it/s]"
     ]
    },
    {
     "name": "stdout",
     "output_type": "stream",
     "text": [
      "1/1 [==============================] - 0s 21ms/step\n",
      "1/1 [==============================] - 0s 21ms/step\n"
     ]
    },
    {
     "name": "stderr",
     "output_type": "stream",
     "text": [
      "\r",
      " 51%|████████████████████████████████████████▊                                       | 405/794 [00:29<00:25, 15.12it/s]"
     ]
    },
    {
     "name": "stdout",
     "output_type": "stream",
     "text": [
      "1/1 [==============================] - 0s 21ms/step\n",
      "1/1 [==============================] - 0s 21ms/step\n"
     ]
    },
    {
     "name": "stderr",
     "output_type": "stream",
     "text": [
      "\r",
      " 51%|█████████████████████████████████████████                                       | 407/794 [00:29<00:25, 15.28it/s]"
     ]
    },
    {
     "name": "stdout",
     "output_type": "stream",
     "text": [
      "1/1 [==============================] - 0s 19ms/step\n",
      "1/1 [==============================] - 0s 17ms/step\n"
     ]
    },
    {
     "name": "stderr",
     "output_type": "stream",
     "text": [
      "\r",
      " 52%|█████████████████████████████████████████▏                                      | 409/794 [00:29<00:25, 15.11it/s]"
     ]
    },
    {
     "name": "stdout",
     "output_type": "stream",
     "text": [
      "1/1 [==============================] - 0s 24ms/step\n",
      "1/1 [==============================] - 0s 17ms/step\n"
     ]
    },
    {
     "name": "stderr",
     "output_type": "stream",
     "text": [
      "\r",
      " 52%|█████████████████████████████████████████▍                                      | 411/794 [00:29<00:25, 15.18it/s]"
     ]
    },
    {
     "name": "stdout",
     "output_type": "stream",
     "text": [
      "1/1 [==============================] - 0s 27ms/step\n",
      "1/1 [==============================] - 0s 21ms/step\n"
     ]
    },
    {
     "name": "stderr",
     "output_type": "stream",
     "text": [
      "\r",
      " 52%|█████████████████████████████████████████▌                                      | 413/794 [00:29<00:25, 15.22it/s]"
     ]
    },
    {
     "name": "stdout",
     "output_type": "stream",
     "text": [
      "1/1 [==============================] - 0s 33ms/step\n",
      "1/1 [==============================] - 0s 21ms/step\n"
     ]
    },
    {
     "name": "stderr",
     "output_type": "stream",
     "text": [
      "\r",
      " 52%|█████████████████████████████████████████▊                                      | 415/794 [00:29<00:24, 15.43it/s]"
     ]
    },
    {
     "name": "stdout",
     "output_type": "stream",
     "text": [
      "1/1 [==============================] - 0s 24ms/step\n",
      "1/1 [==============================] - 0s 22ms/step\n"
     ]
    },
    {
     "name": "stderr",
     "output_type": "stream",
     "text": [
      "\r",
      " 53%|██████████████████████████████████████████                                      | 417/794 [00:29<00:24, 15.48it/s]"
     ]
    },
    {
     "name": "stdout",
     "output_type": "stream",
     "text": [
      "1/1 [==============================] - 0s 30ms/step\n",
      "1/1 [==============================] - 0s 20ms/step\n"
     ]
    },
    {
     "name": "stderr",
     "output_type": "stream",
     "text": [
      "\r",
      " 53%|██████████████████████████████████████████▏                                     | 419/794 [00:30<00:23, 15.90it/s]"
     ]
    },
    {
     "name": "stdout",
     "output_type": "stream",
     "text": [
      "1/1 [==============================] - 0s 21ms/step\n",
      "1/1 [==============================] - 0s 22ms/step\n"
     ]
    },
    {
     "name": "stderr",
     "output_type": "stream",
     "text": [
      "\r",
      " 53%|██████████████████████████████████████████▍                                     | 421/794 [00:30<00:23, 16.13it/s]"
     ]
    },
    {
     "name": "stdout",
     "output_type": "stream",
     "text": [
      "1/1 [==============================] - 0s 26ms/step\n",
      "1/1 [==============================] - 0s 21ms/step\n"
     ]
    },
    {
     "name": "stderr",
     "output_type": "stream",
     "text": [
      "\r",
      " 53%|██████████████████████████████████████████▌                                     | 423/794 [00:30<00:23, 15.88it/s]"
     ]
    },
    {
     "name": "stdout",
     "output_type": "stream",
     "text": [
      "1/1 [==============================] - 0s 21ms/step\n",
      "1/1 [==============================] - 0s 20ms/step\n"
     ]
    },
    {
     "name": "stderr",
     "output_type": "stream",
     "text": [
      "\r",
      " 54%|██████████████████████████████████████████▊                                     | 425/794 [00:30<00:22, 16.24it/s]"
     ]
    },
    {
     "name": "stdout",
     "output_type": "stream",
     "text": [
      "1/1 [==============================] - 0s 20ms/step\n",
      "1/1 [==============================] - 0s 21ms/step\n"
     ]
    },
    {
     "name": "stderr",
     "output_type": "stream",
     "text": [
      "\r",
      " 54%|███████████████████████████████████████████                                     | 427/794 [00:30<00:22, 16.38it/s]"
     ]
    },
    {
     "name": "stdout",
     "output_type": "stream",
     "text": [
      "1/1 [==============================] - 0s 25ms/step\n",
      "1/1 [==============================] - 0s 16ms/step\n"
     ]
    },
    {
     "name": "stderr",
     "output_type": "stream",
     "text": [
      "\r",
      " 54%|███████████████████████████████████████████▏                                    | 429/794 [00:30<00:24, 14.94it/s]"
     ]
    },
    {
     "name": "stdout",
     "output_type": "stream",
     "text": [
      "1/1 [==============================] - 0s 21ms/step\n",
      "1/1 [==============================] - 0s 13ms/step\n"
     ]
    },
    {
     "name": "stderr",
     "output_type": "stream",
     "text": [
      "\r",
      " 54%|███████████████████████████████████████████▍                                    | 431/794 [00:30<00:25, 14.37it/s]"
     ]
    },
    {
     "name": "stdout",
     "output_type": "stream",
     "text": [
      "1/1 [==============================] - 0s 20ms/step\n",
      "1/1 [==============================] - 0s 10ms/step\n"
     ]
    },
    {
     "name": "stderr",
     "output_type": "stream",
     "text": [
      "\r",
      " 55%|███████████████████████████████████████████▋                                    | 433/794 [00:31<00:25, 14.04it/s]"
     ]
    },
    {
     "name": "stdout",
     "output_type": "stream",
     "text": [
      "1/1 [==============================] - 0s 24ms/step\n",
      "1/1 [==============================] - 0s 12ms/step\n"
     ]
    },
    {
     "name": "stderr",
     "output_type": "stream",
     "text": [
      "\r",
      " 55%|███████████████████████████████████████████▊                                    | 435/794 [00:31<00:26, 13.38it/s]"
     ]
    },
    {
     "name": "stdout",
     "output_type": "stream",
     "text": [
      "1/1 [==============================] - 0s 22ms/step\n",
      "1/1 [==============================] - 0s 22ms/step\n"
     ]
    },
    {
     "name": "stderr",
     "output_type": "stream",
     "text": [
      "\r",
      " 55%|████████████████████████████████████████████                                    | 437/794 [00:31<00:26, 13.37it/s]"
     ]
    },
    {
     "name": "stdout",
     "output_type": "stream",
     "text": [
      "1/1 [==============================] - 0s 23ms/step\n",
      "1/1 [==============================] - 0s 14ms/step\n"
     ]
    },
    {
     "name": "stderr",
     "output_type": "stream",
     "text": [
      "\r",
      " 55%|████████████████████████████████████████████▏                                   | 439/794 [00:31<00:27, 12.89it/s]"
     ]
    },
    {
     "name": "stdout",
     "output_type": "stream",
     "text": [
      "1/1 [==============================] - 0s 17ms/step\n",
      "1/1 [==============================] - 0s 10ms/step\n"
     ]
    },
    {
     "name": "stderr",
     "output_type": "stream",
     "text": [
      "\r",
      " 56%|████████████████████████████████████████████▍                                   | 441/794 [00:31<00:27, 13.06it/s]"
     ]
    },
    {
     "name": "stdout",
     "output_type": "stream",
     "text": [
      "1/1 [==============================] - 0s 21ms/step\n",
      "1/1 [==============================] - 0s 6ms/step\n"
     ]
    },
    {
     "name": "stderr",
     "output_type": "stream",
     "text": [
      "\r",
      " 56%|████████████████████████████████████████████▋                                   | 443/794 [00:31<00:26, 13.19it/s]"
     ]
    },
    {
     "name": "stdout",
     "output_type": "stream",
     "text": [
      "1/1 [==============================] - 0s 25ms/step\n",
      "1/1 [==============================] - 0s 19ms/step\n"
     ]
    },
    {
     "name": "stderr",
     "output_type": "stream",
     "text": [
      "\r",
      " 56%|████████████████████████████████████████████▊                                   | 445/794 [00:31<00:26, 13.19it/s]"
     ]
    },
    {
     "name": "stdout",
     "output_type": "stream",
     "text": [
      "1/1 [==============================] - 0s 21ms/step\n",
      "1/1 [==============================] - 0s 18ms/step\n"
     ]
    },
    {
     "name": "stderr",
     "output_type": "stream",
     "text": [
      "\r",
      " 56%|█████████████████████████████████████████████                                   | 447/794 [00:32<00:26, 12.89it/s]"
     ]
    },
    {
     "name": "stdout",
     "output_type": "stream",
     "text": [
      "1/1 [==============================] - 0s 21ms/step\n",
      "1/1 [==============================] - 0s 14ms/step\n"
     ]
    },
    {
     "name": "stderr",
     "output_type": "stream",
     "text": [
      "\r",
      " 57%|█████████████████████████████████████████████▏                                  | 449/794 [00:32<00:26, 12.94it/s]"
     ]
    },
    {
     "name": "stdout",
     "output_type": "stream",
     "text": [
      "1/1 [==============================] - 0s 21ms/step\n",
      "1/1 [==============================] - 0s 13ms/step\n"
     ]
    },
    {
     "name": "stderr",
     "output_type": "stream",
     "text": [
      "\r",
      " 57%|█████████████████████████████████████████████▍                                  | 451/794 [00:32<00:26, 13.08it/s]"
     ]
    },
    {
     "name": "stdout",
     "output_type": "stream",
     "text": [
      "1/1 [==============================] - 0s 17ms/step\n",
      "1/1 [==============================] - 0s 10ms/step\n"
     ]
    },
    {
     "name": "stderr",
     "output_type": "stream",
     "text": [
      "\r",
      " 57%|█████████████████████████████████████████████▋                                  | 453/794 [00:32<00:26, 13.07it/s]"
     ]
    },
    {
     "name": "stdout",
     "output_type": "stream",
     "text": [
      "1/1 [==============================] - 0s 18ms/step\n",
      "1/1 [==============================] - 0s 8ms/step\n"
     ]
    },
    {
     "name": "stderr",
     "output_type": "stream",
     "text": [
      "\r",
      " 57%|█████████████████████████████████████████████▊                                  | 455/794 [00:32<00:25, 13.21it/s]"
     ]
    },
    {
     "name": "stdout",
     "output_type": "stream",
     "text": [
      "1/1 [==============================] - 0s 21ms/step\n",
      "1/1 [==============================] - 0s 20ms/step\n"
     ]
    },
    {
     "name": "stderr",
     "output_type": "stream",
     "text": [
      "\r",
      " 58%|██████████████████████████████████████████████                                  | 457/794 [00:32<00:25, 13.27it/s]"
     ]
    },
    {
     "name": "stdout",
     "output_type": "stream",
     "text": [
      "1/1 [==============================] - 0s 19ms/step\n",
      "1/1 [==============================] - 0s 6ms/step\n"
     ]
    },
    {
     "name": "stderr",
     "output_type": "stream",
     "text": [
      "\r",
      " 58%|██████████████████████████████████████████████▏                                 | 459/794 [00:33<00:25, 13.29it/s]"
     ]
    },
    {
     "name": "stdout",
     "output_type": "stream",
     "text": [
      "1/1 [==============================] - 0s 21ms/step\n",
      "1/1 [==============================] - 0s 21ms/step\n"
     ]
    },
    {
     "name": "stderr",
     "output_type": "stream",
     "text": [
      "\r",
      " 58%|██████████████████████████████████████████████▍                                 | 461/794 [00:33<00:25, 13.31it/s]"
     ]
    },
    {
     "name": "stdout",
     "output_type": "stream",
     "text": [
      "1/1 [==============================] - 0s 20ms/step\n",
      "1/1 [==============================] - 0s 15ms/step\n"
     ]
    },
    {
     "name": "stderr",
     "output_type": "stream",
     "text": [
      "\r",
      " 58%|██████████████████████████████████████████████▋                                 | 463/794 [00:33<00:24, 13.69it/s]"
     ]
    },
    {
     "name": "stdout",
     "output_type": "stream",
     "text": [
      "1/1 [==============================] - 0s 20ms/step\n",
      "1/1 [==============================] - 0s 19ms/step\n"
     ]
    },
    {
     "name": "stderr",
     "output_type": "stream",
     "text": [
      "\r",
      " 59%|██████████████████████████████████████████████▊                                 | 465/794 [00:33<00:23, 14.15it/s]"
     ]
    },
    {
     "name": "stdout",
     "output_type": "stream",
     "text": [
      "1/1 [==============================] - 0s 19ms/step\n",
      "1/1 [==============================] - 0s 19ms/step\n"
     ]
    },
    {
     "name": "stderr",
     "output_type": "stream",
     "text": [
      "\r",
      " 59%|███████████████████████████████████████████████                                 | 467/794 [00:33<00:21, 14.93it/s]"
     ]
    },
    {
     "name": "stdout",
     "output_type": "stream",
     "text": [
      "1/1 [==============================] - 0s 22ms/step\n",
      "1/1 [==============================] - 0s 21ms/step\n"
     ]
    },
    {
     "name": "stderr",
     "output_type": "stream",
     "text": [
      "\r",
      " 59%|███████████████████████████████████████████████▎                                | 469/794 [00:33<00:21, 15.33it/s]"
     ]
    },
    {
     "name": "stdout",
     "output_type": "stream",
     "text": [
      "1/1 [==============================] - 0s 28ms/step\n",
      "1/1 [==============================] - 0s 20ms/step\n"
     ]
    },
    {
     "name": "stderr",
     "output_type": "stream",
     "text": [
      "\r",
      " 59%|███████████████████████████████████████████████▍                                | 471/794 [00:33<00:21, 15.38it/s]"
     ]
    },
    {
     "name": "stdout",
     "output_type": "stream",
     "text": [
      "1/1 [==============================] - 0s 20ms/step\n",
      "1/1 [==============================] - 0s 20ms/step\n"
     ]
    },
    {
     "name": "stderr",
     "output_type": "stream",
     "text": [
      "\r",
      " 60%|███████████████████████████████████████████████▋                                | 473/794 [00:33<00:20, 15.86it/s]"
     ]
    },
    {
     "name": "stdout",
     "output_type": "stream",
     "text": [
      "1/1 [==============================] - 0s 21ms/step\n",
      "1/1 [==============================] - 0s 16ms/step\n"
     ]
    },
    {
     "name": "stderr",
     "output_type": "stream",
     "text": [
      "\r",
      " 60%|███████████████████████████████████████████████▊                                | 475/794 [00:34<00:20, 15.73it/s]"
     ]
    },
    {
     "name": "stdout",
     "output_type": "stream",
     "text": [
      "1/1 [==============================] - 0s 30ms/step\n",
      "1/1 [==============================] - 0s 20ms/step\n"
     ]
    },
    {
     "name": "stderr",
     "output_type": "stream",
     "text": [
      "\r",
      " 60%|████████████████████████████████████████████████                                | 477/794 [00:34<00:19, 16.07it/s]"
     ]
    },
    {
     "name": "stdout",
     "output_type": "stream",
     "text": [
      "1/1 [==============================] - 0s 21ms/step\n",
      "1/1 [==============================] - 0s 20ms/step\n"
     ]
    },
    {
     "name": "stderr",
     "output_type": "stream",
     "text": [
      "\r",
      " 60%|████████████████████████████████████████████████▎                               | 479/794 [00:34<00:19, 16.39it/s]"
     ]
    },
    {
     "name": "stdout",
     "output_type": "stream",
     "text": [
      "1/1 [==============================] - 0s 23ms/step\n",
      "1/1 [==============================] - 0s 17ms/step\n"
     ]
    },
    {
     "name": "stderr",
     "output_type": "stream",
     "text": [
      "\r",
      " 61%|████████████████████████████████████████████████▍                               | 481/794 [00:34<00:19, 16.03it/s]"
     ]
    },
    {
     "name": "stdout",
     "output_type": "stream",
     "text": [
      "1/1 [==============================] - 0s 23ms/step\n",
      "1/1 [==============================] - 0s 18ms/step\n"
     ]
    },
    {
     "name": "stderr",
     "output_type": "stream",
     "text": [
      "\r",
      " 61%|████████████████████████████████████████████████▋                               | 483/794 [00:34<00:19, 15.62it/s]"
     ]
    },
    {
     "name": "stdout",
     "output_type": "stream",
     "text": [
      "1/1 [==============================] - 0s 22ms/step\n",
      "1/1 [==============================] - 0s 17ms/step\n"
     ]
    },
    {
     "name": "stderr",
     "output_type": "stream",
     "text": [
      "\r",
      " 61%|████████████████████████████████████████████████▊                               | 485/794 [00:34<00:20, 15.43it/s]"
     ]
    },
    {
     "name": "stdout",
     "output_type": "stream",
     "text": [
      "1/1 [==============================] - 0s 19ms/step\n",
      "1/1 [==============================] - 0s 21ms/step\n"
     ]
    },
    {
     "name": "stderr",
     "output_type": "stream",
     "text": [
      "\r",
      " 61%|█████████████████████████████████████████████████                               | 487/794 [00:34<00:19, 15.74it/s]"
     ]
    },
    {
     "name": "stdout",
     "output_type": "stream",
     "text": [
      "1/1 [==============================] - 0s 26ms/step\n",
      "1/1 [==============================] - 0s 21ms/step\n"
     ]
    },
    {
     "name": "stderr",
     "output_type": "stream",
     "text": [
      "\r",
      " 62%|█████████████████████████████████████████████████▎                              | 489/794 [00:34<00:19, 15.70it/s]"
     ]
    },
    {
     "name": "stdout",
     "output_type": "stream",
     "text": [
      "1/1 [==============================] - 0s 23ms/step\n",
      "1/1 [==============================] - 0s 20ms/step\n"
     ]
    },
    {
     "name": "stderr",
     "output_type": "stream",
     "text": [
      "\r",
      " 62%|█████████████████████████████████████████████████▍                              | 491/794 [00:35<00:20, 14.90it/s]"
     ]
    },
    {
     "name": "stdout",
     "output_type": "stream",
     "text": [
      "1/1 [==============================] - 0s 20ms/step\n",
      "1/1 [==============================] - 0s 19ms/step\n"
     ]
    },
    {
     "name": "stderr",
     "output_type": "stream",
     "text": [
      "\r",
      " 62%|█████████████████████████████████████████████████▋                              | 493/794 [00:35<00:20, 14.40it/s]"
     ]
    },
    {
     "name": "stdout",
     "output_type": "stream",
     "text": [
      "1/1 [==============================] - 0s 21ms/step\n",
      "1/1 [==============================] - 0s 17ms/step\n"
     ]
    },
    {
     "name": "stderr",
     "output_type": "stream",
     "text": [
      "\r",
      " 62%|█████████████████████████████████████████████████▊                              | 495/794 [00:35<00:21, 14.06it/s]"
     ]
    },
    {
     "name": "stdout",
     "output_type": "stream",
     "text": [
      "1/1 [==============================] - 0s 20ms/step\n",
      "1/1 [==============================] - 0s 16ms/step\n"
     ]
    },
    {
     "name": "stderr",
     "output_type": "stream",
     "text": [
      "\r",
      " 63%|██████████████████████████████████████████████████                              | 497/794 [00:35<00:22, 13.40it/s]"
     ]
    },
    {
     "name": "stdout",
     "output_type": "stream",
     "text": [
      "1/1 [==============================] - 0s 19ms/step\n",
      "1/1 [==============================] - 0s 10ms/step\n"
     ]
    },
    {
     "name": "stderr",
     "output_type": "stream",
     "text": [
      "\r",
      " 63%|██████████████████████████████████████████████████▎                             | 499/794 [00:35<00:22, 13.30it/s]"
     ]
    },
    {
     "name": "stdout",
     "output_type": "stream",
     "text": [
      "1/1 [==============================] - 0s 20ms/step\n",
      "1/1 [==============================] - 0s 8ms/step\n"
     ]
    },
    {
     "name": "stderr",
     "output_type": "stream",
     "text": [
      "\r",
      " 63%|██████████████████████████████████████████████████▍                             | 501/794 [00:35<00:21, 13.49it/s]"
     ]
    },
    {
     "name": "stdout",
     "output_type": "stream",
     "text": [
      "1/1 [==============================] - 0s 20ms/step\n",
      "1/1 [==============================] - 0s 5ms/step\n"
     ]
    },
    {
     "name": "stderr",
     "output_type": "stream",
     "text": [
      "\r",
      " 63%|██████████████████████████████████████████████████▋                             | 503/794 [00:36<00:22, 13.16it/s]"
     ]
    },
    {
     "name": "stdout",
     "output_type": "stream",
     "text": [
      "1/1 [==============================] - 0s 19ms/step\n",
      "1/1 [==============================] - 0s 19ms/step\n"
     ]
    },
    {
     "name": "stderr",
     "output_type": "stream",
     "text": [
      "\r",
      " 64%|██████████████████████████████████████████████████▉                             | 505/794 [00:36<00:21, 13.38it/s]"
     ]
    },
    {
     "name": "stdout",
     "output_type": "stream",
     "text": [
      "1/1 [==============================] - 0s 22ms/step\n",
      "1/1 [==============================] - 0s 14ms/step\n"
     ]
    },
    {
     "name": "stderr",
     "output_type": "stream",
     "text": [
      "\r",
      " 64%|███████████████████████████████████████████████████                             | 507/794 [00:36<00:22, 12.98it/s]"
     ]
    },
    {
     "name": "stdout",
     "output_type": "stream",
     "text": [
      "1/1 [==============================] - 0s 27ms/step\n",
      "1/1 [==============================] - 0s 14ms/step\n"
     ]
    },
    {
     "name": "stderr",
     "output_type": "stream",
     "text": [
      "\r",
      " 64%|███████████████████████████████████████████████████▎                            | 509/794 [00:36<00:21, 13.02it/s]"
     ]
    },
    {
     "name": "stdout",
     "output_type": "stream",
     "text": [
      "1/1 [==============================] - 0s 11ms/step\n",
      "1/1 [==============================] - 0s 6ms/step\n"
     ]
    },
    {
     "name": "stderr",
     "output_type": "stream",
     "text": [
      "\r",
      " 64%|███████████████████████████████████████████████████▍                            | 511/794 [00:36<00:21, 13.15it/s]"
     ]
    },
    {
     "name": "stdout",
     "output_type": "stream",
     "text": [
      "1/1 [==============================] - 0s 20ms/step\n",
      "1/1 [==============================] - 0s 6ms/step\n"
     ]
    },
    {
     "name": "stderr",
     "output_type": "stream",
     "text": [
      "\r",
      " 65%|███████████████████████████████████████████████████▋                            | 513/794 [00:36<00:21, 13.20it/s]"
     ]
    },
    {
     "name": "stdout",
     "output_type": "stream",
     "text": [
      "1/1 [==============================] - 0s 20ms/step\n",
      "1/1 [==============================] - 0s 8ms/step\n"
     ]
    },
    {
     "name": "stderr",
     "output_type": "stream",
     "text": [
      "\r",
      " 65%|███████████████████████████████████████████████████▉                            | 515/794 [00:36<00:20, 13.37it/s]"
     ]
    },
    {
     "name": "stdout",
     "output_type": "stream",
     "text": [
      "1/1 [==============================] - 0s 22ms/step\n",
      "1/1 [==============================] - 0s 21ms/step\n"
     ]
    },
    {
     "name": "stderr",
     "output_type": "stream",
     "text": [
      "\r",
      " 65%|████████████████████████████████████████████████████                            | 517/794 [00:37<00:20, 13.24it/s]"
     ]
    },
    {
     "name": "stdout",
     "output_type": "stream",
     "text": [
      "1/1 [==============================] - 0s 22ms/step\n",
      "1/1 [==============================] - 0s 20ms/step\n"
     ]
    },
    {
     "name": "stderr",
     "output_type": "stream",
     "text": [
      "\r",
      " 65%|████████████████████████████████████████████████████▎                           | 519/794 [00:37<00:20, 13.27it/s]"
     ]
    },
    {
     "name": "stdout",
     "output_type": "stream",
     "text": [
      "1/1 [==============================] - 0s 22ms/step\n",
      "1/1 [==============================] - 0s 14ms/step\n"
     ]
    },
    {
     "name": "stderr",
     "output_type": "stream",
     "text": [
      "\r",
      " 66%|████████████████████████████████████████████████████▍                           | 521/794 [00:37<00:21, 12.91it/s]"
     ]
    },
    {
     "name": "stdout",
     "output_type": "stream",
     "text": [
      "1/1 [==============================] - 0s 18ms/step\n",
      "1/1 [==============================] - 0s 20ms/step\n"
     ]
    },
    {
     "name": "stderr",
     "output_type": "stream",
     "text": [
      "\r",
      " 66%|████████████████████████████████████████████████████▋                           | 523/794 [00:37<00:19, 13.89it/s]"
     ]
    },
    {
     "name": "stdout",
     "output_type": "stream",
     "text": [
      "1/1 [==============================] - 0s 19ms/step\n",
      "1/1 [==============================] - 0s 19ms/step\n"
     ]
    },
    {
     "name": "stderr",
     "output_type": "stream",
     "text": [
      "\r",
      " 66%|████████████████████████████████████████████████████▉                           | 525/794 [00:37<00:18, 14.74it/s]"
     ]
    },
    {
     "name": "stdout",
     "output_type": "stream",
     "text": [
      "1/1 [==============================] - 0s 21ms/step\n",
      "1/1 [==============================] - 0s 20ms/step\n"
     ]
    },
    {
     "name": "stderr",
     "output_type": "stream",
     "text": [
      "\r",
      " 66%|█████████████████████████████████████████████████████                           | 527/794 [00:37<00:17, 15.36it/s]"
     ]
    },
    {
     "name": "stdout",
     "output_type": "stream",
     "text": [
      "1/1 [==============================] - 0s 20ms/step\n",
      "1/1 [==============================] - 0s 15ms/step\n"
     ]
    },
    {
     "name": "stderr",
     "output_type": "stream",
     "text": [
      "\r",
      " 67%|█████████████████████████████████████████████████████▎                          | 529/794 [00:37<00:17, 15.31it/s]"
     ]
    },
    {
     "name": "stdout",
     "output_type": "stream",
     "text": [
      "1/1 [==============================] - 0s 31ms/step\n",
      "1/1 [==============================] - 0s 19ms/step\n"
     ]
    },
    {
     "name": "stderr",
     "output_type": "stream",
     "text": [
      "\r",
      " 67%|█████████████████████████████████████████████████████▌                          | 531/794 [00:38<00:16, 15.78it/s]"
     ]
    },
    {
     "name": "stdout",
     "output_type": "stream",
     "text": [
      "1/1 [==============================] - 0s 22ms/step\n",
      "1/1 [==============================] - 0s 20ms/step\n"
     ]
    },
    {
     "name": "stderr",
     "output_type": "stream",
     "text": [
      "\r",
      " 67%|█████████████████████████████████████████████████████▋                          | 533/794 [00:38<00:16, 16.15it/s]"
     ]
    },
    {
     "name": "stdout",
     "output_type": "stream",
     "text": [
      "1/1 [==============================] - 0s 20ms/step\n",
      "1/1 [==============================] - 0s 18ms/step\n"
     ]
    },
    {
     "name": "stderr",
     "output_type": "stream",
     "text": [
      "\r",
      " 67%|█████████████████████████████████████████████████████▉                          | 535/794 [00:38<00:15, 16.28it/s]"
     ]
    },
    {
     "name": "stdout",
     "output_type": "stream",
     "text": [
      "1/1 [==============================] - 0s 25ms/step\n",
      "1/1 [==============================] - 0s 22ms/step\n"
     ]
    },
    {
     "name": "stderr",
     "output_type": "stream",
     "text": [
      "\r",
      " 68%|██████████████████████████████████████████████████████                          | 537/794 [00:38<00:16, 16.05it/s]"
     ]
    },
    {
     "name": "stdout",
     "output_type": "stream",
     "text": [
      "1/1 [==============================] - 0s 20ms/step\n",
      "1/1 [==============================] - 0s 22ms/step\n"
     ]
    },
    {
     "name": "stderr",
     "output_type": "stream",
     "text": [
      "\r",
      " 68%|██████████████████████████████████████████████████████▎                         | 539/794 [00:38<00:15, 16.12it/s]"
     ]
    },
    {
     "name": "stdout",
     "output_type": "stream",
     "text": [
      "1/1 [==============================] - 0s 26ms/step\n",
      "1/1 [==============================] - 0s 20ms/step\n"
     ]
    },
    {
     "name": "stderr",
     "output_type": "stream",
     "text": [
      "\r",
      " 68%|██████████████████████████████████████████████████████▌                         | 541/794 [00:38<00:15, 16.01it/s]"
     ]
    },
    {
     "name": "stdout",
     "output_type": "stream",
     "text": [
      "1/1 [==============================] - 0s 23ms/step\n",
      "1/1 [==============================] - 0s 17ms/step\n"
     ]
    },
    {
     "name": "stderr",
     "output_type": "stream",
     "text": [
      "\r",
      " 68%|██████████████████████████████████████████████████████▋                         | 543/794 [00:38<00:15, 15.81it/s]"
     ]
    },
    {
     "name": "stdout",
     "output_type": "stream",
     "text": [
      "1/1 [==============================] - 0s 27ms/step\n",
      "1/1 [==============================] - 0s 19ms/step\n"
     ]
    },
    {
     "name": "stderr",
     "output_type": "stream",
     "text": [
      "\r",
      " 69%|██████████████████████████████████████████████████████▉                         | 545/794 [00:38<00:15, 16.08it/s]"
     ]
    },
    {
     "name": "stdout",
     "output_type": "stream",
     "text": [
      "1/1 [==============================] - 0s 22ms/step\n",
      "1/1 [==============================] - 0s 21ms/step\n"
     ]
    },
    {
     "name": "stderr",
     "output_type": "stream",
     "text": [
      "\r",
      " 69%|███████████████████████████████████████████████████████                         | 547/794 [00:38<00:15, 16.22it/s]"
     ]
    },
    {
     "name": "stdout",
     "output_type": "stream",
     "text": [
      "1/1 [==============================] - 0s 28ms/step\n",
      "1/1 [==============================] - 0s 22ms/step\n"
     ]
    },
    {
     "name": "stderr",
     "output_type": "stream",
     "text": [
      "\r",
      " 69%|███████████████████████████████████████████████████████▎                        | 549/794 [00:39<00:15, 15.98it/s]"
     ]
    },
    {
     "name": "stdout",
     "output_type": "stream",
     "text": [
      "1/1 [==============================] - 0s 21ms/step\n",
      "1/1 [==============================] - 0s 20ms/step\n"
     ]
    },
    {
     "name": "stderr",
     "output_type": "stream",
     "text": [
      "\r",
      " 69%|███████████████████████████████████████████████████████▌                        | 551/794 [00:39<00:15, 15.70it/s]"
     ]
    },
    {
     "name": "stdout",
     "output_type": "stream",
     "text": [
      "1/1 [==============================] - 0s 23ms/step\n",
      "1/1 [==============================] - 0s 11ms/step\n"
     ]
    },
    {
     "name": "stderr",
     "output_type": "stream",
     "text": [
      "\r",
      " 70%|███████████████████████████████████████████████████████▋                        | 553/794 [00:39<00:16, 14.30it/s]"
     ]
    },
    {
     "name": "stdout",
     "output_type": "stream",
     "text": [
      "1/1 [==============================] - 0s 16ms/step\n",
      "1/1 [==============================] - 0s 10ms/step\n"
     ]
    },
    {
     "name": "stderr",
     "output_type": "stream",
     "text": [
      "\r",
      " 70%|███████████████████████████████████████████████████████▉                        | 555/794 [00:39<00:16, 14.16it/s]"
     ]
    },
    {
     "name": "stdout",
     "output_type": "stream",
     "text": [
      "1/1 [==============================] - 0s 26ms/step\n",
      "1/1 [==============================] - 0s 19ms/step\n"
     ]
    },
    {
     "name": "stderr",
     "output_type": "stream",
     "text": [
      "\r",
      " 70%|████████████████████████████████████████████████████████                        | 557/794 [00:39<00:17, 13.82it/s]"
     ]
    },
    {
     "name": "stdout",
     "output_type": "stream",
     "text": [
      "1/1 [==============================] - 0s 19ms/step\n",
      "1/1 [==============================] - 0s 15ms/step\n"
     ]
    },
    {
     "name": "stderr",
     "output_type": "stream",
     "text": [
      "\r",
      " 70%|████████████████████████████████████████████████████████▎                       | 559/794 [00:39<00:17, 13.26it/s]"
     ]
    },
    {
     "name": "stdout",
     "output_type": "stream",
     "text": [
      "1/1 [==============================] - 0s 19ms/step\n",
      "1/1 [==============================] - 0s 16ms/step\n"
     ]
    },
    {
     "name": "stderr",
     "output_type": "stream",
     "text": [
      "\r",
      " 71%|████████████████████████████████████████████████████████▌                       | 561/794 [00:40<00:17, 13.33it/s]"
     ]
    },
    {
     "name": "stdout",
     "output_type": "stream",
     "text": [
      "1/1 [==============================] - 0s 19ms/step\n",
      "1/1 [==============================] - 0s 15ms/step\n"
     ]
    },
    {
     "name": "stderr",
     "output_type": "stream",
     "text": [
      "\r",
      " 71%|████████████████████████████████████████████████████████▋                       | 563/794 [00:40<00:17, 13.35it/s]"
     ]
    },
    {
     "name": "stdout",
     "output_type": "stream",
     "text": [
      "1/1 [==============================] - 0s 19ms/step\n",
      "1/1 [==============================] - 0s 11ms/step\n"
     ]
    },
    {
     "name": "stderr",
     "output_type": "stream",
     "text": [
      "\r",
      " 71%|████████████████████████████████████████████████████████▉                       | 565/794 [00:40<00:17, 13.23it/s]"
     ]
    },
    {
     "name": "stdout",
     "output_type": "stream",
     "text": [
      "1/1 [==============================] - 0s 20ms/step\n",
      "1/1 [==============================] - 0s 10ms/step\n"
     ]
    },
    {
     "name": "stderr",
     "output_type": "stream",
     "text": [
      "\r",
      " 71%|█████████████████████████████████████████████████████████▏                      | 567/794 [00:40<00:17, 13.28it/s]"
     ]
    },
    {
     "name": "stdout",
     "output_type": "stream",
     "text": [
      "1/1 [==============================] - 0s 19ms/step\n",
      "1/1 [==============================] - 0s 7ms/step\n"
     ]
    },
    {
     "name": "stderr",
     "output_type": "stream",
     "text": [
      "\r",
      " 72%|█████████████████████████████████████████████████████████▎                      | 569/794 [00:40<00:16, 13.38it/s]"
     ]
    },
    {
     "name": "stdout",
     "output_type": "stream",
     "text": [
      "1/1 [==============================] - 0s 19ms/step\n",
      "1/1 [==============================] - 0s 8ms/step\n"
     ]
    },
    {
     "name": "stderr",
     "output_type": "stream",
     "text": [
      "\r",
      " 72%|█████████████████████████████████████████████████████████▌                      | 571/794 [00:40<00:16, 13.20it/s]"
     ]
    },
    {
     "name": "stdout",
     "output_type": "stream",
     "text": [
      "1/1 [==============================] - 0s 19ms/step\n",
      "1/1 [==============================] - 0s 8ms/step\n"
     ]
    },
    {
     "name": "stderr",
     "output_type": "stream",
     "text": [
      "\r",
      " 72%|█████████████████████████████████████████████████████████▋                      | 573/794 [00:40<00:16, 13.33it/s]"
     ]
    },
    {
     "name": "stdout",
     "output_type": "stream",
     "text": [
      "1/1 [==============================] - 0s 22ms/step\n",
      "1/1 [==============================] - 0s 8ms/step\n"
     ]
    },
    {
     "name": "stderr",
     "output_type": "stream",
     "text": [
      "\r",
      " 72%|█████████████████████████████████████████████████████████▉                      | 575/794 [00:41<00:16, 13.45it/s]"
     ]
    },
    {
     "name": "stdout",
     "output_type": "stream",
     "text": [
      "1/1 [==============================] - 0s 21ms/step\n",
      "1/1 [==============================] - 0s 17ms/step\n"
     ]
    },
    {
     "name": "stderr",
     "output_type": "stream",
     "text": [
      "\r",
      " 73%|██████████████████████████████████████████████████████████▏                     | 577/794 [00:41<00:16, 13.30it/s]"
     ]
    },
    {
     "name": "stdout",
     "output_type": "stream",
     "text": [
      "1/1 [==============================] - 0s 20ms/step\n",
      "1/1 [==============================] - 0s 18ms/step\n"
     ]
    },
    {
     "name": "stderr",
     "output_type": "stream",
     "text": [
      "\r",
      " 73%|██████████████████████████████████████████████████████████▎                     | 579/794 [00:41<00:16, 13.32it/s]"
     ]
    },
    {
     "name": "stdout",
     "output_type": "stream",
     "text": [
      "1/1 [==============================] - 0s 20ms/step\n",
      "1/1 [==============================] - 0s 18ms/step\n"
     ]
    },
    {
     "name": "stderr",
     "output_type": "stream",
     "text": [
      "\r",
      " 73%|██████████████████████████████████████████████████████████▌                     | 581/794 [00:41<00:15, 13.33it/s]"
     ]
    },
    {
     "name": "stdout",
     "output_type": "stream",
     "text": [
      "1/1 [==============================] - 0s 20ms/step\n",
      "1/1 [==============================] - 0s 17ms/step\n"
     ]
    },
    {
     "name": "stderr",
     "output_type": "stream",
     "text": [
      "\r",
      " 73%|██████████████████████████████████████████████████████████▋                     | 583/794 [00:41<00:15, 13.33it/s]"
     ]
    },
    {
     "name": "stdout",
     "output_type": "stream",
     "text": [
      "1/1 [==============================] - 0s 19ms/step\n",
      "1/1 [==============================] - 0s 17ms/step\n"
     ]
    },
    {
     "name": "stderr",
     "output_type": "stream",
     "text": [
      "\r",
      " 74%|██████████████████████████████████████████████████████████▉                     | 585/794 [00:41<00:15, 13.34it/s]"
     ]
    },
    {
     "name": "stdout",
     "output_type": "stream",
     "text": [
      "1/1 [==============================] - 0s 23ms/step\n",
      "1/1 [==============================] - 0s 20ms/step\n"
     ]
    },
    {
     "name": "stderr",
     "output_type": "stream",
     "text": [
      "\r",
      " 74%|███████████████████████████████████████████████████████████▏                    | 587/794 [00:41<00:15, 13.71it/s]"
     ]
    },
    {
     "name": "stdout",
     "output_type": "stream",
     "text": [
      "1/1 [==============================] - 0s 20ms/step\n",
      "1/1 [==============================] - 0s 19ms/step\n"
     ]
    },
    {
     "name": "stderr",
     "output_type": "stream",
     "text": [
      "\r",
      " 74%|███████████████████████████████████████████████████████████▎                    | 589/794 [00:42<00:14, 14.57it/s]"
     ]
    },
    {
     "name": "stdout",
     "output_type": "stream",
     "text": [
      "1/1 [==============================] - 0s 24ms/step\n",
      "1/1 [==============================] - 0s 20ms/step\n"
     ]
    },
    {
     "name": "stderr",
     "output_type": "stream",
     "text": [
      "\r",
      " 74%|███████████████████████████████████████████████████████████▌                    | 591/794 [00:42<00:13, 14.82it/s]"
     ]
    },
    {
     "name": "stdout",
     "output_type": "stream",
     "text": [
      "1/1 [==============================] - 0s 20ms/step\n",
      "1/1 [==============================] - 0s 20ms/step\n"
     ]
    },
    {
     "name": "stderr",
     "output_type": "stream",
     "text": [
      "\r",
      " 75%|███████████████████████████████████████████████████████████▋                    | 593/794 [00:42<00:13, 15.41it/s]"
     ]
    },
    {
     "name": "stdout",
     "output_type": "stream",
     "text": [
      "1/1 [==============================] - 0s 21ms/step\n",
      "1/1 [==============================] - 0s 18ms/step\n"
     ]
    },
    {
     "name": "stderr",
     "output_type": "stream",
     "text": [
      "\r",
      " 75%|███████████████████████████████████████████████████████████▉                    | 595/794 [00:42<00:12, 15.78it/s]"
     ]
    },
    {
     "name": "stdout",
     "output_type": "stream",
     "text": [
      "1/1 [==============================] - 0s 23ms/step\n",
      "1/1 [==============================] - 0s 15ms/step\n"
     ]
    },
    {
     "name": "stderr",
     "output_type": "stream",
     "text": [
      "\r",
      " 75%|████████████████████████████████████████████████████████████▏                   | 597/794 [00:42<00:13, 15.09it/s]"
     ]
    },
    {
     "name": "stdout",
     "output_type": "stream",
     "text": [
      "1/1 [==============================] - 0s 23ms/step\n",
      "1/1 [==============================] - 0s 17ms/step\n"
     ]
    },
    {
     "name": "stderr",
     "output_type": "stream",
     "text": [
      "\r",
      " 75%|████████████████████████████████████████████████████████████▎                   | 599/794 [00:42<00:12, 15.19it/s]"
     ]
    },
    {
     "name": "stdout",
     "output_type": "stream",
     "text": [
      "1/1 [==============================] - 0s 27ms/step\n",
      "1/1 [==============================] - 0s 21ms/step\n"
     ]
    },
    {
     "name": "stderr",
     "output_type": "stream",
     "text": [
      "\r",
      " 76%|████████████████████████████████████████████████████████████▌                   | 601/794 [00:42<00:12, 15.62it/s]"
     ]
    },
    {
     "name": "stdout",
     "output_type": "stream",
     "text": [
      "1/1 [==============================] - 0s 21ms/step\n",
      "1/1 [==============================] - 0s 18ms/step\n"
     ]
    },
    {
     "name": "stderr",
     "output_type": "stream",
     "text": [
      "\r",
      " 76%|████████████████████████████████████████████████████████████▊                   | 603/794 [00:42<00:12, 15.50it/s]"
     ]
    },
    {
     "name": "stdout",
     "output_type": "stream",
     "text": [
      "1/1 [==============================] - 0s 28ms/step\n",
      "1/1 [==============================] - 0s 20ms/step\n"
     ]
    },
    {
     "name": "stderr",
     "output_type": "stream",
     "text": [
      "\r",
      " 76%|████████████████████████████████████████████████████████████▉                   | 605/794 [00:43<00:11, 15.86it/s]"
     ]
    },
    {
     "name": "stdout",
     "output_type": "stream",
     "text": [
      "1/1 [==============================] - 0s 23ms/step\n",
      "1/1 [==============================] - 0s 15ms/step\n"
     ]
    },
    {
     "name": "stderr",
     "output_type": "stream",
     "text": [
      "\r",
      " 76%|█████████████████████████████████████████████████████████████▏                  | 607/794 [00:43<00:11, 15.60it/s]"
     ]
    },
    {
     "name": "stdout",
     "output_type": "stream",
     "text": [
      "1/1 [==============================] - 0s 20ms/step\n",
      "1/1 [==============================] - 0s 20ms/step\n"
     ]
    },
    {
     "name": "stderr",
     "output_type": "stream",
     "text": [
      "\r",
      " 77%|█████████████████████████████████████████████████████████████▎                  | 609/794 [00:43<00:11, 15.58it/s]"
     ]
    },
    {
     "name": "stdout",
     "output_type": "stream",
     "text": [
      "1/1 [==============================] - 0s 32ms/step\n",
      "1/1 [==============================] - 0s 21ms/step\n"
     ]
    },
    {
     "name": "stderr",
     "output_type": "stream",
     "text": [
      "\r",
      " 77%|█████████████████████████████████████████████████████████████▌                  | 611/794 [00:43<00:11, 15.41it/s]"
     ]
    },
    {
     "name": "stdout",
     "output_type": "stream",
     "text": [
      "1/1 [==============================] - 0s 27ms/step\n",
      "1/1 [==============================] - 0s 23ms/step\n"
     ]
    },
    {
     "name": "stderr",
     "output_type": "stream",
     "text": [
      "\r",
      " 77%|█████████████████████████████████████████████████████████████▊                  | 613/794 [00:43<00:11, 15.73it/s]"
     ]
    },
    {
     "name": "stdout",
     "output_type": "stream",
     "text": [
      "1/1 [==============================] - 0s 24ms/step\n",
      "1/1 [==============================] - 0s 17ms/step\n"
     ]
    },
    {
     "name": "stderr",
     "output_type": "stream",
     "text": [
      "\r",
      " 77%|█████████████████████████████████████████████████████████████▉                  | 615/794 [00:43<00:11, 14.94it/s]"
     ]
    },
    {
     "name": "stdout",
     "output_type": "stream",
     "text": [
      "1/1 [==============================] - 0s 20ms/step\n",
      "1/1 [==============================] - 0s 10ms/step\n"
     ]
    },
    {
     "name": "stderr",
     "output_type": "stream",
     "text": [
      "\r",
      " 78%|██████████████████████████████████████████████████████████████▏                 | 617/794 [00:43<00:12, 13.87it/s]"
     ]
    },
    {
     "name": "stdout",
     "output_type": "stream",
     "text": [
      "1/1 [==============================] - 0s 21ms/step\n",
      "1/1 [==============================] - 0s 10ms/step\n"
     ]
    },
    {
     "name": "stderr",
     "output_type": "stream",
     "text": [
      "\r",
      " 78%|██████████████████████████████████████████████████████████████▎                 | 619/794 [00:44<00:12, 13.71it/s]"
     ]
    },
    {
     "name": "stdout",
     "output_type": "stream",
     "text": [
      "1/1 [==============================] - 0s 20ms/step\n",
      "1/1 [==============================] - 0s 10ms/step\n"
     ]
    },
    {
     "name": "stderr",
     "output_type": "stream",
     "text": [
      "\r",
      " 78%|██████████████████████████████████████████████████████████████▌                 | 621/794 [00:44<00:12, 13.61it/s]"
     ]
    },
    {
     "name": "stdout",
     "output_type": "stream",
     "text": [
      "1/1 [==============================] - 0s 19ms/step\n",
      "1/1 [==============================] - 0s 13ms/step\n"
     ]
    },
    {
     "name": "stderr",
     "output_type": "stream",
     "text": [
      "\r",
      " 78%|██████████████████████████████████████████████████████████████▊                 | 623/794 [00:44<00:12, 13.57it/s]"
     ]
    },
    {
     "name": "stdout",
     "output_type": "stream",
     "text": [
      "1/1 [==============================] - 0s 20ms/step\n",
      "1/1 [==============================] - 0s 9ms/step\n"
     ]
    },
    {
     "name": "stderr",
     "output_type": "stream",
     "text": [
      "\r",
      " 79%|██████████████████████████████████████████████████████████████▉                 | 625/794 [00:44<00:12, 13.42it/s]"
     ]
    },
    {
     "name": "stdout",
     "output_type": "stream",
     "text": [
      "1/1 [==============================] - 0s 21ms/step\n",
      "1/1 [==============================] - 0s 7ms/step\n"
     ]
    },
    {
     "name": "stderr",
     "output_type": "stream",
     "text": [
      "\r",
      " 79%|███████████████████████████████████████████████████████████████▏                | 627/794 [00:44<00:12, 13.60it/s]"
     ]
    },
    {
     "name": "stdout",
     "output_type": "stream",
     "text": [
      "1/1 [==============================] - 0s 21ms/step\n",
      "1/1 [==============================] - 0s 19ms/step\n"
     ]
    },
    {
     "name": "stderr",
     "output_type": "stream",
     "text": [
      "\r",
      " 79%|███████████████████████████████████████████████████████████████▍                | 629/794 [00:44<00:12, 13.31it/s]"
     ]
    },
    {
     "name": "stdout",
     "output_type": "stream",
     "text": [
      "1/1 [==============================] - 0s 20ms/step\n",
      "1/1 [==============================] - 0s 19ms/step\n"
     ]
    },
    {
     "name": "stderr",
     "output_type": "stream",
     "text": [
      "\r",
      " 79%|███████████████████████████████████████████████████████████████▌                | 631/794 [00:44<00:12, 13.40it/s]"
     ]
    },
    {
     "name": "stdout",
     "output_type": "stream",
     "text": [
      "1/1 [==============================] - 0s 20ms/step\n",
      "1/1 [==============================] - 0s 18ms/step\n"
     ]
    },
    {
     "name": "stderr",
     "output_type": "stream",
     "text": [
      "\r",
      " 80%|███████████████████████████████████████████████████████████████▊                | 633/794 [00:45<00:12, 13.30it/s]"
     ]
    },
    {
     "name": "stdout",
     "output_type": "stream",
     "text": [
      "1/1 [==============================] - 0s 21ms/step\n",
      "1/1 [==============================] - 0s 10ms/step\n"
     ]
    },
    {
     "name": "stderr",
     "output_type": "stream",
     "text": [
      "\r",
      " 80%|███████████████████████████████████████████████████████████████▉                | 635/794 [00:45<00:12, 12.97it/s]"
     ]
    },
    {
     "name": "stdout",
     "output_type": "stream",
     "text": [
      "1/1 [==============================] - 0s 21ms/step\n",
      "1/1 [==============================] - 0s 6ms/step\n"
     ]
    },
    {
     "name": "stderr",
     "output_type": "stream",
     "text": [
      "\r",
      " 80%|████████████████████████████████████████████████████████████████▏               | 637/794 [00:45<00:11, 13.09it/s]"
     ]
    },
    {
     "name": "stdout",
     "output_type": "stream",
     "text": [
      "1/1 [==============================] - 0s 22ms/step\n",
      "1/1 [==============================] - 0s 20ms/step\n"
     ]
    },
    {
     "name": "stderr",
     "output_type": "stream",
     "text": [
      "\r",
      " 80%|████████████████████████████████████████████████████████████████▍               | 639/794 [00:45<00:12, 12.84it/s]"
     ]
    },
    {
     "name": "stdout",
     "output_type": "stream",
     "text": [
      "1/1 [==============================] - 0s 21ms/step\n",
      "1/1 [==============================] - 0s 17ms/step\n"
     ]
    },
    {
     "name": "stderr",
     "output_type": "stream",
     "text": [
      "\r",
      " 81%|████████████████████████████████████████████████████████████████▌               | 641/794 [00:45<00:11, 13.32it/s]"
     ]
    },
    {
     "name": "stdout",
     "output_type": "stream",
     "text": [
      "1/1 [==============================] - 0s 21ms/step\n",
      "1/1 [==============================] - 0s 16ms/step\n"
     ]
    },
    {
     "name": "stderr",
     "output_type": "stream",
     "text": [
      "\r",
      " 81%|████████████████████████████████████████████████████████████████▊               | 643/794 [00:45<00:11, 12.96it/s]"
     ]
    },
    {
     "name": "stdout",
     "output_type": "stream",
     "text": [
      "1/1 [==============================] - 0s 19ms/step\n",
      "1/1 [==============================] - 0s 14ms/step\n"
     ]
    },
    {
     "name": "stderr",
     "output_type": "stream",
     "text": [
      "\r",
      " 81%|████████████████████████████████████████████████████████████████▉               | 645/794 [00:46<00:11, 13.06it/s]"
     ]
    },
    {
     "name": "stdout",
     "output_type": "stream",
     "text": [
      "1/1 [==============================] - 0s 21ms/step\n",
      "1/1 [==============================] - 0s 21ms/step\n"
     ]
    },
    {
     "name": "stderr",
     "output_type": "stream",
     "text": [
      "\r",
      " 81%|█████████████████████████████████████████████████████████████████▏              | 647/794 [00:46<00:10, 13.99it/s]"
     ]
    },
    {
     "name": "stdout",
     "output_type": "stream",
     "text": [
      "1/1 [==============================] - 0s 21ms/step\n",
      "1/1 [==============================] - 0s 19ms/step\n"
     ]
    },
    {
     "name": "stderr",
     "output_type": "stream",
     "text": [
      "\r",
      " 82%|█████████████████████████████████████████████████████████████████▍              | 649/794 [00:46<00:10, 14.39it/s]"
     ]
    },
    {
     "name": "stdout",
     "output_type": "stream",
     "text": [
      "1/1 [==============================] - 0s 23ms/step\n",
      "1/1 [==============================] - 0s 22ms/step\n"
     ]
    },
    {
     "name": "stderr",
     "output_type": "stream",
     "text": [
      "\r",
      " 82%|█████████████████████████████████████████████████████████████████▌              | 651/794 [00:46<00:09, 14.81it/s]"
     ]
    },
    {
     "name": "stdout",
     "output_type": "stream",
     "text": [
      "1/1 [==============================] - 0s 22ms/step\n",
      "1/1 [==============================] - 0s 14ms/step\n"
     ]
    },
    {
     "name": "stderr",
     "output_type": "stream",
     "text": [
      "\r",
      " 82%|█████████████████████████████████████████████████████████████████▊              | 653/794 [00:46<00:09, 15.06it/s]"
     ]
    },
    {
     "name": "stdout",
     "output_type": "stream",
     "text": [
      "1/1 [==============================] - 0s 20ms/step\n",
      "1/1 [==============================] - 0s 18ms/step\n"
     ]
    },
    {
     "name": "stderr",
     "output_type": "stream",
     "text": [
      "\r",
      " 82%|█████████████████████████████████████████████████████████████████▉              | 655/794 [00:46<00:09, 15.10it/s]"
     ]
    },
    {
     "name": "stdout",
     "output_type": "stream",
     "text": [
      "1/1 [==============================] - 0s 29ms/step\n",
      "1/1 [==============================] - 0s 20ms/step\n"
     ]
    },
    {
     "name": "stderr",
     "output_type": "stream",
     "text": [
      "\r",
      " 83%|██████████████████████████████████████████████████████████████████▏             | 657/794 [00:46<00:08, 15.53it/s]"
     ]
    },
    {
     "name": "stdout",
     "output_type": "stream",
     "text": [
      "1/1 [==============================] - 0s 21ms/step\n",
      "1/1 [==============================] - 0s 13ms/step\n"
     ]
    },
    {
     "name": "stderr",
     "output_type": "stream",
     "text": [
      "\r",
      " 83%|██████████████████████████████████████████████████████████████████▍             | 659/794 [00:46<00:08, 15.45it/s]"
     ]
    },
    {
     "name": "stdout",
     "output_type": "stream",
     "text": [
      "1/1 [==============================] - 0s 31ms/step\n",
      "1/1 [==============================] - 0s 20ms/step\n"
     ]
    },
    {
     "name": "stderr",
     "output_type": "stream",
     "text": [
      "\r",
      " 83%|██████████████████████████████████████████████████████████████████▌             | 661/794 [00:47<00:08, 15.93it/s]"
     ]
    },
    {
     "name": "stdout",
     "output_type": "stream",
     "text": [
      "1/1 [==============================] - 0s 21ms/step\n",
      "1/1 [==============================] - 0s 20ms/step\n"
     ]
    },
    {
     "name": "stderr",
     "output_type": "stream",
     "text": [
      "\r",
      " 84%|██████████████████████████████████████████████████████████████████▊             | 663/794 [00:47<00:08, 16.15it/s]"
     ]
    },
    {
     "name": "stdout",
     "output_type": "stream",
     "text": [
      "1/1 [==============================] - 0s 19ms/step\n",
      "1/1 [==============================] - 0s 15ms/step\n"
     ]
    },
    {
     "name": "stderr",
     "output_type": "stream",
     "text": [
      "\r",
      " 84%|███████████████████████████████████████████████████████████████████             | 665/794 [00:47<00:08, 16.01it/s]"
     ]
    },
    {
     "name": "stdout",
     "output_type": "stream",
     "text": [
      "1/1 [==============================] - 0s 21ms/step\n",
      "1/1 [==============================] - 0s 20ms/step\n"
     ]
    },
    {
     "name": "stderr",
     "output_type": "stream",
     "text": [
      "\r",
      " 84%|███████████████████████████████████████████████████████████████████▏            | 667/794 [00:47<00:07, 16.24it/s]"
     ]
    },
    {
     "name": "stdout",
     "output_type": "stream",
     "text": [
      "1/1 [==============================] - 0s 33ms/step\n",
      "1/1 [==============================] - 0s 19ms/step\n"
     ]
    },
    {
     "name": "stderr",
     "output_type": "stream",
     "text": [
      "\r",
      " 84%|███████████████████████████████████████████████████████████████████▍            | 669/794 [00:47<00:07, 16.52it/s]"
     ]
    },
    {
     "name": "stdout",
     "output_type": "stream",
     "text": [
      "1/1 [==============================] - 0s 19ms/step\n",
      "1/1 [==============================] - 0s 18ms/step\n"
     ]
    },
    {
     "name": "stderr",
     "output_type": "stream",
     "text": [
      "\r",
      " 85%|███████████████████████████████████████████████████████████████████▌            | 671/794 [00:47<00:07, 16.15it/s]"
     ]
    },
    {
     "name": "stdout",
     "output_type": "stream",
     "text": [
      "1/1 [==============================] - 0s 27ms/step\n",
      "1/1 [==============================] - 0s 21ms/step\n"
     ]
    },
    {
     "name": "stderr",
     "output_type": "stream",
     "text": [
      "\r",
      " 85%|███████████████████████████████████████████████████████████████████▊            | 673/794 [00:47<00:07, 16.31it/s]"
     ]
    },
    {
     "name": "stdout",
     "output_type": "stream",
     "text": [
      "1/1 [==============================] - 0s 22ms/step\n",
      "1/1 [==============================] - 0s 20ms/step\n"
     ]
    },
    {
     "name": "stderr",
     "output_type": "stream",
     "text": [
      "\r",
      " 85%|████████████████████████████████████████████████████████████████████            | 675/794 [00:47<00:07, 15.57it/s]"
     ]
    },
    {
     "name": "stdout",
     "output_type": "stream",
     "text": [
      "1/1 [==============================] - 0s 20ms/step\n",
      "1/1 [==============================] - 0s 16ms/step\n"
     ]
    },
    {
     "name": "stderr",
     "output_type": "stream",
     "text": [
      "\r",
      " 85%|████████████████████████████████████████████████████████████████████▏           | 677/794 [00:48<00:07, 14.71it/s]"
     ]
    },
    {
     "name": "stdout",
     "output_type": "stream",
     "text": [
      "1/1 [==============================] - 0s 19ms/step\n",
      "1/1 [==============================] - 0s 17ms/step\n"
     ]
    },
    {
     "name": "stderr",
     "output_type": "stream",
     "text": [
      "\r",
      " 86%|████████████████████████████████████████████████████████████████████▍           | 679/794 [00:48<00:08, 14.36it/s]"
     ]
    },
    {
     "name": "stdout",
     "output_type": "stream",
     "text": [
      "1/1 [==============================] - 0s 19ms/step\n",
      "1/1 [==============================] - 0s 17ms/step\n"
     ]
    },
    {
     "name": "stderr",
     "output_type": "stream",
     "text": [
      "\r",
      " 86%|████████████████████████████████████████████████████████████████████▌           | 681/794 [00:48<00:08, 13.92it/s]"
     ]
    },
    {
     "name": "stdout",
     "output_type": "stream",
     "text": [
      "1/1 [==============================] - 0s 20ms/step\n",
      "1/1 [==============================] - 0s 9ms/step\n"
     ]
    },
    {
     "name": "stderr",
     "output_type": "stream",
     "text": [
      "\r",
      " 86%|████████████████████████████████████████████████████████████████████▊           | 683/794 [00:48<00:08, 13.66it/s]"
     ]
    },
    {
     "name": "stdout",
     "output_type": "stream",
     "text": [
      "1/1 [==============================] - 0s 21ms/step\n",
      "1/1 [==============================] - 0s 19ms/step\n"
     ]
    },
    {
     "name": "stderr",
     "output_type": "stream",
     "text": [
      "\r",
      " 86%|█████████████████████████████████████████████████████████████████████           | 685/794 [00:48<00:08, 13.57it/s]"
     ]
    },
    {
     "name": "stdout",
     "output_type": "stream",
     "text": [
      "1/1 [==============================] - 0s 23ms/step\n",
      "1/1 [==============================] - 0s 13ms/step\n"
     ]
    },
    {
     "name": "stderr",
     "output_type": "stream",
     "text": [
      "\r",
      " 87%|█████████████████████████████████████████████████████████████████████▏          | 687/794 [00:48<00:08, 13.06it/s]"
     ]
    },
    {
     "name": "stdout",
     "output_type": "stream",
     "text": [
      "1/1 [==============================] - 0s 23ms/step\n",
      "1/1 [==============================] - 0s 17ms/step\n"
     ]
    },
    {
     "name": "stderr",
     "output_type": "stream",
     "text": [
      "\r",
      " 87%|█████████████████████████████████████████████████████████████████████▍          | 689/794 [00:49<00:08, 12.78it/s]"
     ]
    },
    {
     "name": "stdout",
     "output_type": "stream",
     "text": [
      "1/1 [==============================] - 0s 21ms/step\n",
      "1/1 [==============================] - 0s 12ms/step\n"
     ]
    },
    {
     "name": "stderr",
     "output_type": "stream",
     "text": [
      "\r",
      " 87%|█████████████████████████████████████████████████████████████████████▌          | 691/794 [00:49<00:07, 12.89it/s]"
     ]
    },
    {
     "name": "stdout",
     "output_type": "stream",
     "text": [
      "1/1 [==============================] - 0s 15ms/step\n",
      "1/1 [==============================] - 0s 10ms/step\n"
     ]
    },
    {
     "name": "stderr",
     "output_type": "stream",
     "text": [
      "\r",
      " 87%|█████████████████████████████████████████████████████████████████████▊          | 693/794 [00:49<00:07, 13.02it/s]"
     ]
    },
    {
     "name": "stdout",
     "output_type": "stream",
     "text": [
      "1/1 [==============================] - 0s 19ms/step\n",
      "1/1 [==============================] - 0s 11ms/step\n"
     ]
    },
    {
     "name": "stderr",
     "output_type": "stream",
     "text": [
      "\r",
      " 88%|██████████████████████████████████████████████████████████████████████          | 695/794 [00:49<00:07, 13.12it/s]"
     ]
    },
    {
     "name": "stdout",
     "output_type": "stream",
     "text": [
      "1/1 [==============================] - 0s 19ms/step\n",
      "1/1 [==============================] - 0s 10ms/step\n"
     ]
    },
    {
     "name": "stderr",
     "output_type": "stream",
     "text": [
      "\r",
      " 88%|██████████████████████████████████████████████████████████████████████▏         | 697/794 [00:49<00:07, 13.18it/s]"
     ]
    },
    {
     "name": "stdout",
     "output_type": "stream",
     "text": [
      "1/1 [==============================] - 0s 19ms/step\n",
      "1/1 [==============================] - 0s 8ms/step\n"
     ]
    },
    {
     "name": "stderr",
     "output_type": "stream",
     "text": [
      "\r",
      " 88%|██████████████████████████████████████████████████████████████████████▍         | 699/794 [00:49<00:07, 13.23it/s]"
     ]
    },
    {
     "name": "stdout",
     "output_type": "stream",
     "text": [
      "1/1 [==============================] - 0s 18ms/step\n",
      "1/1 [==============================] - 0s 10ms/step\n"
     ]
    },
    {
     "name": "stderr",
     "output_type": "stream",
     "text": [
      "\r",
      " 88%|██████████████████████████████████████████████████████████████████████▋         | 701/794 [00:49<00:07, 13.27it/s]"
     ]
    },
    {
     "name": "stdout",
     "output_type": "stream",
     "text": [
      "1/1 [==============================] - 0s 21ms/step\n",
      "1/1 [==============================] - 0s 5ms/step\n"
     ]
    },
    {
     "name": "stderr",
     "output_type": "stream",
     "text": [
      "\r",
      " 89%|██████████████████████████████████████████████████████████████████████▊         | 703/794 [00:50<00:06, 13.29it/s]"
     ]
    },
    {
     "name": "stdout",
     "output_type": "stream",
     "text": [
      "1/1 [==============================] - 0s 21ms/step\n",
      "1/1 [==============================] - 0s 19ms/step\n"
     ]
    },
    {
     "name": "stderr",
     "output_type": "stream",
     "text": [
      "\r",
      " 89%|███████████████████████████████████████████████████████████████████████         | 705/794 [00:50<00:06, 13.31it/s]"
     ]
    },
    {
     "name": "stdout",
     "output_type": "stream",
     "text": [
      "1/1 [==============================] - 0s 19ms/step\n",
      "1/1 [==============================] - 0s 6ms/step\n"
     ]
    },
    {
     "name": "stderr",
     "output_type": "stream",
     "text": [
      "\r",
      " 89%|███████████████████████████████████████████████████████████████████████▏        | 707/794 [00:50<00:06, 13.43it/s]"
     ]
    },
    {
     "name": "stdout",
     "output_type": "stream",
     "text": [
      "1/1 [==============================] - 0s 28ms/step\n",
      "1/1 [==============================] - 0s 18ms/step\n"
     ]
    },
    {
     "name": "stderr",
     "output_type": "stream",
     "text": [
      "\r",
      " 89%|███████████████████████████████████████████████████████████████████████▍        | 709/794 [00:50<00:06, 13.29it/s]"
     ]
    },
    {
     "name": "stdout",
     "output_type": "stream",
     "text": [
      "1/1 [==============================] - 0s 21ms/step\n",
      "1/1 [==============================] - 0s 5ms/step\n"
     ]
    },
    {
     "name": "stderr",
     "output_type": "stream",
     "text": [
      "\r",
      " 90%|███████████████████████████████████████████████████████████████████████▋        | 711/794 [00:50<00:06, 13.30it/s]"
     ]
    },
    {
     "name": "stdout",
     "output_type": "stream",
     "text": [
      "1/1 [==============================] - 0s 19ms/step\n",
      "1/1 [==============================] - 0s 19ms/step\n"
     ]
    },
    {
     "name": "stderr",
     "output_type": "stream",
     "text": [
      "\r",
      " 90%|███████████████████████████████████████████████████████████████████████▊        | 713/794 [00:50<00:05, 13.90it/s]"
     ]
    },
    {
     "name": "stdout",
     "output_type": "stream",
     "text": [
      "1/1 [==============================] - 0s 27ms/step\n",
      "1/1 [==============================] - 0s 20ms/step\n"
     ]
    },
    {
     "name": "stderr",
     "output_type": "stream",
     "text": [
      "\r",
      " 90%|████████████████████████████████████████████████████████████████████████        | 715/794 [00:50<00:05, 14.60it/s]"
     ]
    },
    {
     "name": "stdout",
     "output_type": "stream",
     "text": [
      "1/1 [==============================] - 0s 20ms/step\n",
      "1/1 [==============================] - 0s 19ms/step\n"
     ]
    },
    {
     "name": "stderr",
     "output_type": "stream",
     "text": [
      "\r",
      " 90%|████████████████████████████████████████████████████████████████████████▏       | 717/794 [00:51<00:05, 15.19it/s]"
     ]
    },
    {
     "name": "stdout",
     "output_type": "stream",
     "text": [
      "1/1 [==============================] - 0s 20ms/step\n",
      "1/1 [==============================] - 0s 20ms/step\n"
     ]
    },
    {
     "name": "stderr",
     "output_type": "stream",
     "text": [
      "\r",
      " 91%|████████████████████████████████████████████████████████████████████████▍       | 719/794 [00:51<00:04, 15.27it/s]"
     ]
    },
    {
     "name": "stdout",
     "output_type": "stream",
     "text": [
      "1/1 [==============================] - 0s 28ms/step\n",
      "1/1 [==============================] - 0s 21ms/step\n"
     ]
    },
    {
     "name": "stderr",
     "output_type": "stream",
     "text": [
      "\r",
      " 91%|████████████████████████████████████████████████████████████████████████▋       | 721/794 [00:51<00:04, 15.60it/s]"
     ]
    },
    {
     "name": "stdout",
     "output_type": "stream",
     "text": [
      "1/1 [==============================] - 0s 19ms/step\n",
      "1/1 [==============================] - 0s 21ms/step\n"
     ]
    },
    {
     "name": "stderr",
     "output_type": "stream",
     "text": [
      "\r",
      " 91%|████████████████████████████████████████████████████████████████████████▊       | 723/794 [00:51<00:04, 16.12it/s]"
     ]
    },
    {
     "name": "stdout",
     "output_type": "stream",
     "text": [
      "1/1 [==============================] - 0s 21ms/step\n",
      "1/1 [==============================] - 0s 19ms/step\n"
     ]
    },
    {
     "name": "stderr",
     "output_type": "stream",
     "text": [
      "\r",
      " 91%|█████████████████████████████████████████████████████████████████████████       | 725/794 [00:51<00:04, 16.33it/s]"
     ]
    },
    {
     "name": "stdout",
     "output_type": "stream",
     "text": [
      "1/1 [==============================] - 0s 27ms/step\n",
      "1/1 [==============================] - 0s 18ms/step\n"
     ]
    },
    {
     "name": "stderr",
     "output_type": "stream",
     "text": [
      "\r",
      " 92%|█████████████████████████████████████████████████████████████████████████▏      | 727/794 [00:51<00:04, 15.49it/s]"
     ]
    },
    {
     "name": "stdout",
     "output_type": "stream",
     "text": [
      "1/1 [==============================] - 0s 28ms/step\n",
      "1/1 [==============================] - 0s 21ms/step\n"
     ]
    },
    {
     "name": "stderr",
     "output_type": "stream",
     "text": [
      "\r",
      " 92%|█████████████████████████████████████████████████████████████████████████▍      | 729/794 [00:51<00:04, 15.89it/s]"
     ]
    },
    {
     "name": "stdout",
     "output_type": "stream",
     "text": [
      "1/1 [==============================] - 0s 23ms/step\n",
      "1/1 [==============================] - 0s 12ms/step\n"
     ]
    },
    {
     "name": "stderr",
     "output_type": "stream",
     "text": [
      "\r",
      " 92%|█████████████████████████████████████████████████████████████████████████▋      | 731/794 [00:51<00:04, 15.61it/s]"
     ]
    },
    {
     "name": "stdout",
     "output_type": "stream",
     "text": [
      "1/1 [==============================] - 0s 33ms/step\n",
      "1/1 [==============================] - 0s 20ms/step\n"
     ]
    },
    {
     "name": "stderr",
     "output_type": "stream",
     "text": [
      "\r",
      " 92%|█████████████████████████████████████████████████████████████████████████▊      | 733/794 [00:52<00:03, 16.06it/s]"
     ]
    },
    {
     "name": "stdout",
     "output_type": "stream",
     "text": [
      "1/1 [==============================] - 0s 21ms/step\n",
      "1/1 [==============================] - 0s 21ms/step\n"
     ]
    },
    {
     "name": "stderr",
     "output_type": "stream",
     "text": [
      "\r",
      " 93%|██████████████████████████████████████████████████████████████████████████      | 735/794 [00:52<00:03, 16.30it/s]"
     ]
    },
    {
     "name": "stdout",
     "output_type": "stream",
     "text": [
      "1/1 [==============================] - 0s 20ms/step\n",
      "1/1 [==============================] - 0s 19ms/step\n"
     ]
    },
    {
     "name": "stderr",
     "output_type": "stream",
     "text": [
      "\r",
      " 93%|██████████████████████████████████████████████████████████████████████████▎     | 737/794 [00:52<00:03, 16.49it/s]"
     ]
    },
    {
     "name": "stdout",
     "output_type": "stream",
     "text": [
      "1/1 [==============================] - 0s 23ms/step\n",
      "1/1 [==============================] - 0s 22ms/step\n"
     ]
    },
    {
     "name": "stderr",
     "output_type": "stream",
     "text": [
      "\r",
      " 93%|██████████████████████████████████████████████████████████████████████████▍     | 739/794 [00:52<00:03, 16.24it/s]"
     ]
    },
    {
     "name": "stdout",
     "output_type": "stream",
     "text": [
      "1/1 [==============================] - 0s 22ms/step\n",
      "1/1 [==============================] - 0s 19ms/step\n"
     ]
    },
    {
     "name": "stderr",
     "output_type": "stream",
     "text": [
      "\r",
      " 93%|██████████████████████████████████████████████████████████████████████████▋     | 741/794 [00:52<00:03, 15.77it/s]"
     ]
    },
    {
     "name": "stdout",
     "output_type": "stream",
     "text": [
      "1/1 [==============================] - 0s 22ms/step\n",
      "1/1 [==============================] - 0s 18ms/step\n"
     ]
    },
    {
     "name": "stderr",
     "output_type": "stream",
     "text": [
      "\r",
      " 94%|██████████████████████████████████████████████████████████████████████████▊     | 743/794 [00:52<00:03, 14.95it/s]"
     ]
    },
    {
     "name": "stdout",
     "output_type": "stream",
     "text": [
      "1/1 [==============================] - 0s 22ms/step\n",
      "1/1 [==============================] - 0s 16ms/step\n"
     ]
    },
    {
     "name": "stderr",
     "output_type": "stream",
     "text": [
      "\r",
      " 94%|███████████████████████████████████████████████████████████████████████████     | 745/794 [00:52<00:03, 14.05it/s]"
     ]
    },
    {
     "name": "stdout",
     "output_type": "stream",
     "text": [
      "1/1 [==============================] - 0s 20ms/step\n",
      "1/1 [==============================] - 0s 16ms/step\n"
     ]
    },
    {
     "name": "stderr",
     "output_type": "stream",
     "text": [
      "\r",
      " 94%|███████████████████████████████████████████████████████████████████████████▎    | 747/794 [00:53<00:03, 13.82it/s]"
     ]
    },
    {
     "name": "stdout",
     "output_type": "stream",
     "text": [
      "1/1 [==============================] - 0s 20ms/step\n",
      "1/1 [==============================] - 0s 10ms/step\n"
     ]
    },
    {
     "name": "stderr",
     "output_type": "stream",
     "text": [
      "\r",
      " 94%|███████████████████████████████████████████████████████████████████████████▍    | 749/794 [00:53<00:03, 13.56it/s]"
     ]
    },
    {
     "name": "stdout",
     "output_type": "stream",
     "text": [
      "1/1 [==============================] - 0s 20ms/step\n",
      "1/1 [==============================] - 0s 19ms/step\n"
     ]
    },
    {
     "name": "stderr",
     "output_type": "stream",
     "text": [
      "\r",
      " 95%|███████████████████████████████████████████████████████████████████████████▋    | 751/794 [00:53<00:03, 13.50it/s]"
     ]
    },
    {
     "name": "stdout",
     "output_type": "stream",
     "text": [
      "1/1 [==============================] - 0s 20ms/step\n",
      "1/1 [==============================] - 0s 19ms/step\n"
     ]
    },
    {
     "name": "stderr",
     "output_type": "stream",
     "text": [
      "\r",
      " 95%|███████████████████████████████████████████████████████████████████████████▊    | 753/794 [00:53<00:03, 13.45it/s]"
     ]
    },
    {
     "name": "stdout",
     "output_type": "stream",
     "text": [
      "1/1 [==============================] - 0s 22ms/step\n",
      "1/1 [==============================] - 0s 16ms/step\n"
     ]
    },
    {
     "name": "stderr",
     "output_type": "stream",
     "text": [
      "\r",
      " 95%|████████████████████████████████████████████████████████████████████████████    | 755/794 [00:53<00:02, 13.05it/s]"
     ]
    },
    {
     "name": "stdout",
     "output_type": "stream",
     "text": [
      "1/1 [==============================] - 0s 20ms/step\n",
      "1/1 [==============================] - 0s 16ms/step\n"
     ]
    },
    {
     "name": "stderr",
     "output_type": "stream",
     "text": [
      "\r",
      " 95%|████████████████████████████████████████████████████████████████████████████▎   | 757/794 [00:53<00:02, 13.17it/s]"
     ]
    },
    {
     "name": "stdout",
     "output_type": "stream",
     "text": [
      "1/1 [==============================] - 0s 20ms/step\n",
      "1/1 [==============================] - 0s 15ms/step\n"
     ]
    },
    {
     "name": "stderr",
     "output_type": "stream",
     "text": [
      "\r",
      " 96%|████████████████████████████████████████████████████████████████████████████▍   | 759/794 [00:53<00:02, 13.18it/s]"
     ]
    },
    {
     "name": "stdout",
     "output_type": "stream",
     "text": [
      "1/1 [==============================] - 0s 18ms/step\n",
      "1/1 [==============================] - 0s 16ms/step\n"
     ]
    },
    {
     "name": "stderr",
     "output_type": "stream",
     "text": [
      "\r",
      " 96%|████████████████████████████████████████████████████████████████████████████▋   | 761/794 [00:54<00:02, 13.17it/s]"
     ]
    },
    {
     "name": "stdout",
     "output_type": "stream",
     "text": [
      "1/1 [==============================] - 0s 19ms/step\n",
      "1/1 [==============================] - 0s 10ms/step\n"
     ]
    },
    {
     "name": "stderr",
     "output_type": "stream",
     "text": [
      "\r",
      " 96%|████████████████████████████████████████████████████████████████████████████▉   | 763/794 [00:54<00:02, 13.22it/s]"
     ]
    },
    {
     "name": "stdout",
     "output_type": "stream",
     "text": [
      "1/1 [==============================] - 0s 20ms/step\n",
      "1/1 [==============================] - 0s 13ms/step\n"
     ]
    },
    {
     "name": "stderr",
     "output_type": "stream",
     "text": [
      "\r",
      " 96%|█████████████████████████████████████████████████████████████████████████████   | 765/794 [00:54<00:02, 13.76it/s]"
     ]
    },
    {
     "name": "stdout",
     "output_type": "stream",
     "text": [
      "1/1 [==============================] - 0s 20ms/step\n",
      "1/1 [==============================] - 0s 19ms/step\n"
     ]
    },
    {
     "name": "stderr",
     "output_type": "stream",
     "text": [
      "\r",
      " 97%|█████████████████████████████████████████████████████████████████████████████▎  | 767/794 [00:54<00:01, 14.58it/s]"
     ]
    },
    {
     "name": "stdout",
     "output_type": "stream",
     "text": [
      "1/1 [==============================] - 0s 20ms/step\n",
      "1/1 [==============================] - 0s 18ms/step\n"
     ]
    },
    {
     "name": "stderr",
     "output_type": "stream",
     "text": [
      "\r",
      " 97%|█████████████████████████████████████████████████████████████████████████████▍  | 769/794 [00:54<00:01, 14.81it/s]"
     ]
    },
    {
     "name": "stdout",
     "output_type": "stream",
     "text": [
      "1/1 [==============================] - 0s 31ms/step\n",
      "1/1 [==============================] - 0s 21ms/step\n"
     ]
    },
    {
     "name": "stderr",
     "output_type": "stream",
     "text": [
      "\r",
      " 97%|█████████████████████████████████████████████████████████████████████████████▋  | 771/794 [00:54<00:01, 15.11it/s]"
     ]
    },
    {
     "name": "stdout",
     "output_type": "stream",
     "text": [
      "1/1 [==============================] - 0s 22ms/step\n",
      "1/1 [==============================] - 0s 20ms/step\n"
     ]
    },
    {
     "name": "stderr",
     "output_type": "stream",
     "text": [
      "\r",
      " 97%|█████████████████████████████████████████████████████████████████████████████▉  | 773/794 [00:54<00:01, 15.26it/s]"
     ]
    },
    {
     "name": "stdout",
     "output_type": "stream",
     "text": [
      "1/1 [==============================] - 0s 20ms/step\n",
      "1/1 [==============================] - 0s 20ms/step\n"
     ]
    },
    {
     "name": "stderr",
     "output_type": "stream",
     "text": [
      "\r",
      " 98%|██████████████████████████████████████████████████████████████████████████████  | 775/794 [00:54<00:01, 15.65it/s]"
     ]
    },
    {
     "name": "stdout",
     "output_type": "stream",
     "text": [
      "1/1 [==============================] - 0s 25ms/step\n",
      "1/1 [==============================] - 0s 19ms/step\n"
     ]
    },
    {
     "name": "stderr",
     "output_type": "stream",
     "text": [
      "\r",
      " 98%|██████████████████████████████████████████████████████████████████████████████▎ | 777/794 [00:55<00:01, 15.63it/s]"
     ]
    },
    {
     "name": "stdout",
     "output_type": "stream",
     "text": [
      "1/1 [==============================] - 0s 20ms/step\n",
      "1/1 [==============================] - 0s 19ms/step\n"
     ]
    },
    {
     "name": "stderr",
     "output_type": "stream",
     "text": [
      "\r",
      " 98%|██████████████████████████████████████████████████████████████████████████████▍ | 779/794 [00:55<00:00, 15.95it/s]"
     ]
    },
    {
     "name": "stdout",
     "output_type": "stream",
     "text": [
      "1/1 [==============================] - 0s 22ms/step\n",
      "1/1 [==============================] - 0s 21ms/step\n"
     ]
    },
    {
     "name": "stderr",
     "output_type": "stream",
     "text": [
      "\r",
      " 98%|██████████████████████████████████████████████████████████████████████████████▋ | 781/794 [00:55<00:00, 15.84it/s]"
     ]
    },
    {
     "name": "stdout",
     "output_type": "stream",
     "text": [
      "1/1 [==============================] - 0s 27ms/step\n",
      "1/1 [==============================] - 0s 21ms/step\n"
     ]
    },
    {
     "name": "stderr",
     "output_type": "stream",
     "text": [
      "\r",
      " 99%|██████████████████████████████████████████████████████████████████████████████▉ | 783/794 [00:55<00:00, 16.06it/s]"
     ]
    },
    {
     "name": "stdout",
     "output_type": "stream",
     "text": [
      "1/1 [==============================] - 0s 20ms/step\n",
      "1/1 [==============================] - 0s 20ms/step\n"
     ]
    },
    {
     "name": "stderr",
     "output_type": "stream",
     "text": [
      "\r",
      " 99%|███████████████████████████████████████████████████████████████████████████████ | 785/794 [00:55<00:00, 16.30it/s]"
     ]
    },
    {
     "name": "stdout",
     "output_type": "stream",
     "text": [
      "1/1 [==============================] - 0s 23ms/step\n",
      "1/1 [==============================] - 0s 20ms/step\n"
     ]
    },
    {
     "name": "stderr",
     "output_type": "stream",
     "text": [
      "\r",
      " 99%|███████████████████████████████████████████████████████████████████████████████▎| 787/794 [00:55<00:00, 16.07it/s]"
     ]
    },
    {
     "name": "stdout",
     "output_type": "stream",
     "text": [
      "1/1 [==============================] - 0s 21ms/step\n",
      "1/1 [==============================] - 0s 20ms/step\n"
     ]
    },
    {
     "name": "stderr",
     "output_type": "stream",
     "text": [
      "\r",
      " 99%|███████████████████████████████████████████████████████████████████████████████▍| 789/794 [00:55<00:00, 16.14it/s]"
     ]
    },
    {
     "name": "stdout",
     "output_type": "stream",
     "text": [
      "1/1 [==============================] - 0s 19ms/step\n",
      "1/1 [==============================] - 0s 21ms/step\n"
     ]
    },
    {
     "name": "stderr",
     "output_type": "stream",
     "text": [
      "\r",
      "100%|███████████████████████████████████████████████████████████████████████████████▋| 791/794 [00:55<00:00, 16.43it/s]"
     ]
    },
    {
     "name": "stdout",
     "output_type": "stream",
     "text": [
      "1/1 [==============================] - 0s 26ms/step\n",
      "1/1 [==============================] - 0s 23ms/step\n"
     ]
    },
    {
     "name": "stderr",
     "output_type": "stream",
     "text": [
      "\r",
      "100%|███████████████████████████████████████████████████████████████████████████████▉| 793/794 [00:56<00:00, 16.14it/s]"
     ]
    },
    {
     "name": "stdout",
     "output_type": "stream",
     "text": [
      "1/1 [==============================] - 0s 22ms/step\n"
     ]
    },
    {
     "name": "stderr",
     "output_type": "stream",
     "text": [
      "100%|████████████████████████████████████████████████████████████████████████████████| 794/794 [00:56<00:00, 14.13it/s]\n"
     ]
    }
   ],
   "source": [
    "from tensorflow.keras.utils import img_to_array\n",
    "\n",
    "predicted_class = []\n",
    "class_labels = dict((i,label) for label,i in class_name_labels.items())\n",
    "for image in tqdm(test_images):\n",
    "    \n",
    "    image = np.expand_dims(image, axis=0)\n",
    "    test_result = model.predict(image)\n",
    "    pred_class = np.argmax(test_result,axis=1)\n",
    "    prediction = [class_labels[k] for k in pred_class][0]\n",
    "    predicted_class.append(prediction)\n",
    "    pass\n",
    "\n",
    "results = pd.DataFrame({\"file\":test_names,\n",
    "                        \"species\":predicted_class})"
   ]
  },
  {
   "cell_type": "code",
   "execution_count": 32,
   "metadata": {
    "execution": {
     "iopub.execute_input": "2022-07-06T07:32:13.353769Z",
     "iopub.status.busy": "2022-07-06T07:32:13.352567Z",
     "iopub.status.idle": "2022-07-06T07:32:13.358359Z",
     "shell.execute_reply": "2022-07-06T07:32:13.357806Z"
    },
    "papermill": {
     "duration": 9.843612,
     "end_time": "2022-07-06T07:32:13.358479",
     "exception": false,
     "start_time": "2022-07-06T07:32:03.514867",
     "status": "completed"
    },
    "tags": []
   },
   "outputs": [
    {
     "data": {
      "text/html": [
       "<div>\n",
       "<style scoped>\n",
       "    .dataframe tbody tr th:only-of-type {\n",
       "        vertical-align: middle;\n",
       "    }\n",
       "\n",
       "    .dataframe tbody tr th {\n",
       "        vertical-align: top;\n",
       "    }\n",
       "\n",
       "    .dataframe thead th {\n",
       "        text-align: right;\n",
       "    }\n",
       "</style>\n",
       "<table border=\"1\" class=\"dataframe\">\n",
       "  <thead>\n",
       "    <tr style=\"text-align: right;\">\n",
       "      <th></th>\n",
       "      <th>file</th>\n",
       "      <th>species</th>\n",
       "    </tr>\n",
       "  </thead>\n",
       "  <tbody>\n",
       "    <tr>\n",
       "      <th>0</th>\n",
       "      <td>0021e90e4.png</td>\n",
       "      <td>Loose Silky-bent</td>\n",
       "    </tr>\n",
       "    <tr>\n",
       "      <th>1</th>\n",
       "      <td>003d61042.png</td>\n",
       "      <td>Loose Silky-bent</td>\n",
       "    </tr>\n",
       "    <tr>\n",
       "      <th>2</th>\n",
       "      <td>007b3da8b.png</td>\n",
       "      <td>Loose Silky-bent</td>\n",
       "    </tr>\n",
       "    <tr>\n",
       "      <th>3</th>\n",
       "      <td>0086a6340.png</td>\n",
       "      <td>Loose Silky-bent</td>\n",
       "    </tr>\n",
       "    <tr>\n",
       "      <th>4</th>\n",
       "      <td>00c47e980.png</td>\n",
       "      <td>Loose Silky-bent</td>\n",
       "    </tr>\n",
       "  </tbody>\n",
       "</table>\n",
       "</div>"
      ],
      "text/plain": [
       "            file           species\n",
       "0  0021e90e4.png  Loose Silky-bent\n",
       "1  003d61042.png  Loose Silky-bent\n",
       "2  007b3da8b.png  Loose Silky-bent\n",
       "3  0086a6340.png  Loose Silky-bent\n",
       "4  00c47e980.png  Loose Silky-bent"
      ]
     },
     "execution_count": 32,
     "metadata": {},
     "output_type": "execute_result"
    }
   ],
   "source": [
    "results.head()"
   ]
  },
  {
   "cell_type": "code",
   "execution_count": 33,
   "metadata": {
    "execution": {
     "iopub.execute_input": "2022-07-06T07:32:34.250433Z",
     "iopub.status.busy": "2022-07-06T07:32:34.249320Z",
     "iopub.status.idle": "2022-07-06T07:32:34.321702Z",
     "shell.execute_reply": "2022-07-06T07:32:34.320868Z"
    },
    "papermill": {
     "duration": 9.834425,
     "end_time": "2022-07-06T07:32:34.321841",
     "exception": false,
     "start_time": "2022-07-06T07:32:24.487416",
     "status": "completed"
    },
    "tags": []
   },
   "outputs": [],
   "source": [
    "results.to_csv(\"submission.csv\",index=False)"
   ]
  },
  {
   "cell_type": "code",
   "execution_count": 34,
   "metadata": {
    "execution": {
     "iopub.execute_input": "2022-07-06T07:32:54.618968Z",
     "iopub.status.busy": "2022-07-06T07:32:54.616571Z",
     "iopub.status.idle": "2022-07-06T07:32:54.619939Z",
     "shell.execute_reply": "2022-07-06T07:32:54.620516Z"
    },
    "papermill": {
     "duration": 10.465123,
     "end_time": "2022-07-06T07:32:54.620662",
     "exception": false,
     "start_time": "2022-07-06T07:32:44.155539",
     "status": "completed"
    },
    "tags": []
   },
   "outputs": [],
   "source": [
    "model_json = model.to_json()\n",
    "with open(\"model.json\",\"w\") as json_file:\n",
    "    json_file.write(model_json)\n",
    "    pass"
   ]
  },
  {
   "cell_type": "code",
   "execution_count": null,
   "metadata": {},
   "outputs": [],
   "source": []
  },
  {
   "cell_type": "code",
   "execution_count": null,
   "metadata": {},
   "outputs": [],
   "source": []
  }
 ],
 "metadata": {
  "kernelspec": {
   "display_name": "Python 3 (ipykernel)",
   "language": "python",
   "name": "python3"
  },
  "language_info": {
   "codemirror_mode": {
    "name": "ipython",
    "version": 3
   },
   "file_extension": ".py",
   "mimetype": "text/x-python",
   "name": "python",
   "nbconvert_exporter": "python",
   "pygments_lexer": "ipython3",
   "version": "3.9.16"
  },
  "papermill": {
   "duration": 3924.615556,
   "end_time": "2022-07-06T07:33:04.578999",
   "environment_variables": {},
   "exception": null,
   "input_path": "__notebook__.ipynb",
   "output_path": "__notebook__.ipynb",
   "parameters": {},
   "start_time": "2022-07-06T06:27:39.963443",
   "version": "2.1.0"
  }
 },
 "nbformat": 4,
 "nbformat_minor": 4
}
