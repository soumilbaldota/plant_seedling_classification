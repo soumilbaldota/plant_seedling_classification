{
 "cells": [
  {
   "cell_type": "code",
   "execution_count": 1,
   "metadata": {},
   "outputs": [
    {
     "name": "stdout",
     "output_type": "stream",
     "text": [
      "/home/soumil/anaconda3/condabin/conda\r\n"
     ]
    }
   ],
   "source": [
    "!which conda"
   ]
  },
  {
   "cell_type": "code",
   "execution_count": 2,
   "metadata": {
    "_cell_guid": "79c7e3d0-c299-4dcb-8224-4455121ee9b0",
    "_uuid": "d629ff2d2480ee46fbb7e2d37f6b5fab8052498a",
    "execution": {
     "iopub.execute_input": "2022-07-06T06:27:51.269243Z",
     "iopub.status.busy": "2022-07-06T06:27:51.268573Z",
     "iopub.status.idle": "2022-07-06T06:27:52.418426Z",
     "shell.execute_reply": "2022-07-06T06:27:52.417346Z",
     "shell.execute_reply.started": "2022-07-06T05:37:48.699342Z"
    },
    "papermill": {
     "duration": 1.197144,
     "end_time": "2022-07-06T06:27:52.418572",
     "exception": false,
     "start_time": "2022-07-06T06:27:51.221428",
     "status": "completed"
    },
    "tags": []
   },
   "outputs": [
    {
     "name": "stderr",
     "output_type": "stream",
     "text": [
      "2022-10-22 11:59:21.890524: I tensorflow/core/platform/cpu_feature_guard.cc:193] This TensorFlow binary is optimized with oneAPI Deep Neural Network Library (oneDNN) to use the following CPU instructions in performance-critical operations:  AVX2 FMA\n",
      "To enable them in other operations, rebuild TensorFlow with the appropriate compiler flags.\n",
      "2022-10-22 11:59:22.495186: E tensorflow/stream_executor/cuda/cuda_blas.cc:2981] Unable to register cuBLAS factory: Attempting to register factory for plugin cuBLAS when one has already been registered\n",
      "2022-10-22 11:59:23.440884: W tensorflow/stream_executor/platform/default/dso_loader.cc:64] Could not load dynamic library 'libnvinfer.so.7'; dlerror: libnvinfer.so.7: cannot open shared object file: No such file or directory; LD_LIBRARY_PATH: /home/soumil/anaconda3/envs/tf/lib/python3.7/site-packages/cv2/../../lib64:/usr/local/cuda/lib64:/home/soumil/root/lib\n",
      "2022-10-22 11:59:23.440975: W tensorflow/stream_executor/platform/default/dso_loader.cc:64] Could not load dynamic library 'libnvinfer_plugin.so.7'; dlerror: libnvinfer_plugin.so.7: cannot open shared object file: No such file or directory; LD_LIBRARY_PATH: /home/soumil/anaconda3/envs/tf/lib/python3.7/site-packages/cv2/../../lib64:/usr/local/cuda/lib64:/home/soumil/root/lib\n",
      "2022-10-22 11:59:23.440982: W tensorflow/compiler/tf2tensorrt/utils/py_utils.cc:38] TF-TRT Warning: Cannot dlopen some TensorRT libraries. If you would like to use Nvidia GPU with TensorRT, please make sure the missing libraries mentioned above are installed properly.\n"
     ]
    }
   ],
   "source": [
    "import pandas as pd\n",
    "import numpy as np\n",
    "import os,cv2\n",
    "import matplotlib.pyplot as plt\n",
    "import seaborn as sns\n",
    "\n",
    "import tensorflow as tf\n",
    "from tensorflow import keras\n",
    "from IPython.display import SVG\n",
    "from tensorflow.keras.utils import model_to_dot\n",
    "from tensorflow.keras.utils import plot_model\n",
    "from sklearn.metrics import confusion_matrix\n",
    "from sklearn.model_selection import train_test_split\n",
    "from tensorflow.keras.utils import to_categorical\n",
    "\n",
    "from keras.preprocessing.image import ImageDataGenerator\n",
    "from tensorflow.keras.optimizers import Adam,SGD\n",
    "from keras.callbacks import ModelCheckpoint, EarlyStopping\n",
    "from keras.layers import Input, Add, Dense, Activation, ZeroPadding2D, BatchNormalization, Flatten, Conv2D, AveragePooling2D, MaxPooling2D, GlobalMaxPooling2D, Dropout\n",
    "from keras.models import Sequential, Model\n",
    "\n",
    "from keras.initializers import *"
   ]
  },
  {
   "cell_type": "markdown",
   "metadata": {
    "papermill": {
     "duration": 0.033749,
     "end_time": "2022-07-06T06:27:52.488194",
     "exception": false,
     "start_time": "2022-07-06T06:27:52.454445",
     "status": "completed"
    },
    "tags": []
   },
   "source": [
    "# Visualisation of dataset\n",
    "\n",
    "To get a feel of the data, exploratory data analysis is done.\n",
    "\n",
    "The total number of train images from each subdirectory are stored and used in the bar and pie charts"
   ]
  },
  {
   "cell_type": "code",
   "execution_count": 3,
   "metadata": {
    "execution": {
     "iopub.execute_input": "2022-07-06T06:27:52.570063Z",
     "iopub.status.busy": "2022-07-06T06:27:52.568268Z",
     "iopub.status.idle": "2022-07-06T06:27:52.574182Z",
     "shell.execute_reply": "2022-07-06T06:27:52.573630Z",
     "shell.execute_reply.started": "2022-07-06T05:37:49.776156Z"
    },
    "papermill": {
     "duration": 0.052526,
     "end_time": "2022-07-06T06:27:52.574315",
     "exception": false,
     "start_time": "2022-07-06T06:27:52.521789",
     "status": "completed"
    },
    "tags": []
   },
   "outputs": [
    {
     "data": {
      "text/plain": [
       "{'Black-grass': 0,\n",
       " 'Charlock': 1,\n",
       " 'Cleavers': 2,\n",
       " 'Common Chickweed': 3,\n",
       " 'Common wheat': 4,\n",
       " 'Fat Hen': 5,\n",
       " 'Loose Silky-bent': 6,\n",
       " 'Maize': 7,\n",
       " 'Scentless Mayweed': 8,\n",
       " 'Shepherds Purse': 9,\n",
       " 'Small-flowered Cranesbill': 10,\n",
       " 'Sugar beet': 11}"
      ]
     },
     "execution_count": 3,
     "metadata": {},
     "output_type": "execute_result"
    }
   ],
   "source": [
    "datasets = [\"./data/plant-seedlings-classification/train\"]\n",
    "\n",
    "class_names = [\"Black-grass\",\"Charlock\",\"Cleavers\",\"Common Chickweed\",\"Common wheat\",\"Fat Hen\",\"Loose Silky-bent\",\"Maize\",\"Scentless Mayweed\",\"Shepherds Purse\",\"Small-flowered Cranesbill\",\"Sugar beet\"]\n",
    "\n",
    "class_name_labels = {class_name:i for i,class_name in enumerate(class_names)}\n",
    "\n",
    "nb_classes = len(class_names)\n",
    "class_name_labels"
   ]
  },
  {
   "cell_type": "markdown",
   "metadata": {
    "papermill": {
     "duration": 0.034808,
     "end_time": "2022-07-06T06:27:52.644672",
     "exception": false,
     "start_time": "2022-07-06T06:27:52.609864",
     "status": "completed"
    },
    "tags": []
   },
   "source": [
    "Loading the train data into 2 lists *images* and *labels*, each storing the image and its corresponding labels. The labels in this case are the type of seedlings as recorded in the dataset."
   ]
  },
  {
   "cell_type": "code",
   "execution_count": 4,
   "metadata": {
    "execution": {
     "iopub.execute_input": "2022-07-06T06:27:52.727700Z",
     "iopub.status.busy": "2022-07-06T06:27:52.726649Z",
     "iopub.status.idle": "2022-07-06T06:27:52.730214Z",
     "shell.execute_reply": "2022-07-06T06:27:52.729684Z",
     "shell.execute_reply.started": "2022-07-06T05:37:49.797181Z"
    },
    "papermill": {
     "duration": 0.049944,
     "end_time": "2022-07-06T06:27:52.730372",
     "exception": false,
     "start_time": "2022-07-06T06:27:52.680428",
     "status": "completed"
    },
    "tags": []
   },
   "outputs": [],
   "source": [
    "from tqdm import tqdm\n",
    "\n",
    "def load_data():\n",
    "    images,labels = [],[]\n",
    "    for dataset in datasets:\n",
    "\n",
    "        for folder in os.listdir(dataset):\n",
    "            label = class_name_labels[folder]\n",
    "            \n",
    "            for file in tqdm(os.listdir(os.path.join(dataset,folder))):\n",
    "                \n",
    "                img_path = os.path.join(os.path.join(dataset,folder),file)\n",
    "                img = cv2.imread(img_path)\n",
    "                img = cv2.cvtColor(img,cv2.COLOR_BGR2RGB)\n",
    "                img = cv2.resize(img,(150,150))\n",
    "                \n",
    "                images.append(img)\n",
    "                labels.append(label)\n",
    "                pass\n",
    "            pass\n",
    "        \n",
    "        images = np.array(images,dtype=np.float32)\n",
    "        labels = np.array(labels,dtype=np.float32)\n",
    "        \n",
    "        pass\n",
    "    \n",
    "    return images,labels\n",
    "    pass"
   ]
  },
  {
   "cell_type": "code",
   "execution_count": 5,
   "metadata": {
    "execution": {
     "iopub.execute_input": "2022-07-06T06:27:52.806095Z",
     "iopub.status.busy": "2022-07-06T06:27:52.805419Z",
     "iopub.status.idle": "2022-07-06T06:29:30.378503Z",
     "shell.execute_reply": "2022-07-06T06:29:30.377795Z",
     "shell.execute_reply.started": "2022-07-06T05:37:49.817986Z"
    },
    "papermill": {
     "duration": 97.612622,
     "end_time": "2022-07-06T06:29:30.378642",
     "exception": false,
     "start_time": "2022-07-06T06:27:52.766020",
     "status": "completed"
    },
    "tags": []
   },
   "outputs": [
    {
     "name": "stderr",
     "output_type": "stream",
     "text": [
      "100%|█████████████████████████████████████████| 263/263 [00:05<00:00, 50.83it/s]\n",
      "100%|████████████████████████████████████████| 221/221 [00:01<00:00, 119.08it/s]\n",
      "100%|█████████████████████████████████████████| 385/385 [00:05<00:00, 75.41it/s]\n",
      "100%|████████████████████████████████████████| 231/231 [00:01<00:00, 224.02it/s]\n",
      "100%|█████████████████████████████████████████| 221/221 [00:02<00:00, 82.80it/s]\n",
      "100%|████████████████████████████████████████| 611/611 [00:01<00:00, 353.13it/s]\n",
      "100%|████████████████████████████████████████| 287/287 [00:01<00:00, 250.60it/s]\n",
      "100%|████████████████████████████████████████| 390/390 [00:03<00:00, 123.04it/s]\n",
      "100%|████████████████████████████████████████| 475/475 [00:02<00:00, 227.44it/s]\n",
      "100%|█████████████████████████████████████████| 654/654 [00:06<00:00, 99.11it/s]\n",
      "100%|████████████████████████████████████████| 496/496 [00:02<00:00, 205.57it/s]\n",
      "100%|████████████████████████████████████████| 516/516 [00:01<00:00, 315.94it/s]\n"
     ]
    }
   ],
   "source": [
    "(train_images),(train_labels) = load_data()"
   ]
  },
  {
   "cell_type": "markdown",
   "metadata": {
    "papermill": {
     "duration": 0.286336,
     "end_time": "2022-07-06T06:29:30.954874",
     "exception": false,
     "start_time": "2022-07-06T06:29:30.668538",
     "status": "completed"
    },
    "tags": []
   },
   "source": [
    "Counting the number of images associated with each label."
   ]
  },
  {
   "cell_type": "code",
   "execution_count": 6,
   "metadata": {
    "execution": {
     "iopub.execute_input": "2022-07-06T06:29:31.552382Z",
     "iopub.status.busy": "2022-07-06T06:29:31.551441Z",
     "iopub.status.idle": "2022-07-06T06:29:31.565685Z",
     "shell.execute_reply": "2022-07-06T06:29:31.565047Z",
     "shell.execute_reply.started": "2022-07-06T05:39:18.543916Z"
    },
    "papermill": {
     "duration": 0.322775,
     "end_time": "2022-07-06T06:29:31.565838",
     "exception": false,
     "start_time": "2022-07-06T06:29:31.243063",
     "status": "completed"
    },
    "tags": []
   },
   "outputs": [
    {
     "data": {
      "text/html": [
       "<div>\n",
       "<style scoped>\n",
       "    .dataframe tbody tr th:only-of-type {\n",
       "        vertical-align: middle;\n",
       "    }\n",
       "\n",
       "    .dataframe tbody tr th {\n",
       "        vertical-align: top;\n",
       "    }\n",
       "\n",
       "    .dataframe thead th {\n",
       "        text-align: right;\n",
       "    }\n",
       "</style>\n",
       "<table border=\"1\" class=\"dataframe\">\n",
       "  <thead>\n",
       "    <tr style=\"text-align: right;\">\n",
       "      <th></th>\n",
       "      <th>Train</th>\n",
       "      <th>Name</th>\n",
       "    </tr>\n",
       "  </thead>\n",
       "  <tbody>\n",
       "    <tr>\n",
       "      <th>0</th>\n",
       "      <td>263</td>\n",
       "      <td>Black-grass</td>\n",
       "    </tr>\n",
       "    <tr>\n",
       "      <th>1</th>\n",
       "      <td>390</td>\n",
       "      <td>Charlock</td>\n",
       "    </tr>\n",
       "    <tr>\n",
       "      <th>2</th>\n",
       "      <td>287</td>\n",
       "      <td>Cleavers</td>\n",
       "    </tr>\n",
       "    <tr>\n",
       "      <th>3</th>\n",
       "      <td>611</td>\n",
       "      <td>Common Chickweed</td>\n",
       "    </tr>\n",
       "    <tr>\n",
       "      <th>4</th>\n",
       "      <td>221</td>\n",
       "      <td>Common wheat</td>\n",
       "    </tr>\n",
       "    <tr>\n",
       "      <th>5</th>\n",
       "      <td>475</td>\n",
       "      <td>Fat Hen</td>\n",
       "    </tr>\n",
       "    <tr>\n",
       "      <th>6</th>\n",
       "      <td>654</td>\n",
       "      <td>Loose Silky-bent</td>\n",
       "    </tr>\n",
       "    <tr>\n",
       "      <th>7</th>\n",
       "      <td>221</td>\n",
       "      <td>Maize</td>\n",
       "    </tr>\n",
       "    <tr>\n",
       "      <th>8</th>\n",
       "      <td>516</td>\n",
       "      <td>Scentless Mayweed</td>\n",
       "    </tr>\n",
       "    <tr>\n",
       "      <th>9</th>\n",
       "      <td>231</td>\n",
       "      <td>Shepherds Purse</td>\n",
       "    </tr>\n",
       "    <tr>\n",
       "      <th>10</th>\n",
       "      <td>496</td>\n",
       "      <td>Small-flowered Cranesbill</td>\n",
       "    </tr>\n",
       "    <tr>\n",
       "      <th>11</th>\n",
       "      <td>385</td>\n",
       "      <td>Sugar beet</td>\n",
       "    </tr>\n",
       "  </tbody>\n",
       "</table>\n",
       "</div>"
      ],
      "text/plain": [
       "    Train                       Name\n",
       "0     263                Black-grass\n",
       "1     390                   Charlock\n",
       "2     287                   Cleavers\n",
       "3     611           Common Chickweed\n",
       "4     221               Common wheat\n",
       "5     475                    Fat Hen\n",
       "6     654           Loose Silky-bent\n",
       "7     221                      Maize\n",
       "8     516          Scentless Mayweed\n",
       "9     231            Shepherds Purse\n",
       "10    496  Small-flowered Cranesbill\n",
       "11    385                 Sugar beet"
      ]
     },
     "execution_count": 6,
     "metadata": {},
     "output_type": "execute_result"
    }
   ],
   "source": [
    "n_train = train_labels.shape[0]\n",
    "\n",
    "_, train_count = np.unique(train_labels,return_counts=True)\n",
    "\n",
    "df = pd.DataFrame(data = train_count)\n",
    "# df = df.T\n",
    "df['Index'] = class_names\n",
    "df.columns = ['Train','Name']\n",
    "df"
   ]
  },
  {
   "cell_type": "markdown",
   "metadata": {
    "papermill": {
     "duration": 0.290875,
     "end_time": "2022-07-06T06:29:32.145998",
     "exception": false,
     "start_time": "2022-07-06T06:29:31.855123",
     "status": "completed"
    },
    "tags": []
   },
   "source": [
    "Creating a bar chart of train data using pandas *bar* function."
   ]
  },
  {
   "cell_type": "code",
   "execution_count": 7,
   "metadata": {
    "execution": {
     "iopub.execute_input": "2022-07-06T06:29:32.738953Z",
     "iopub.status.busy": "2022-07-06T06:29:32.738136Z",
     "iopub.status.idle": "2022-07-06T06:29:33.023859Z",
     "shell.execute_reply": "2022-07-06T06:29:33.024455Z",
     "shell.execute_reply.started": "2022-07-06T05:39:18.572952Z"
    },
    "papermill": {
     "duration": 0.58522,
     "end_time": "2022-07-06T06:29:33.024613",
     "exception": false,
     "start_time": "2022-07-06T06:29:32.439393",
     "status": "completed"
    },
    "tags": []
   },
   "outputs": [
    {
     "data": {
      "image/png": "[encoded data removed]",
      "text/plain": [
       "<Figure size 640x480 with 1 Axes>"
      ]
     },
     "metadata": {},
     "output_type": "display_data"
    }
   ],
   "source": [
    "df.set_index(\"Name\").plot.bar()\n",
    "plt.xlabel(\"Type of seedling\")\n",
    "plt.ylabel(\"Count\")\n",
    "plt.title(\"Number of different type of seedlings\");"
   ]
  },
  {
   "cell_type": "markdown",
   "metadata": {
    "papermill": {
     "duration": 0.290145,
     "end_time": "2022-07-06T06:29:33.608691",
     "exception": false,
     "start_time": "2022-07-06T06:29:33.318546",
     "status": "completed"
    },
    "tags": []
   },
   "source": [
    "As can be seen from the above bar chart that the maximum number of images belong to the class *Loose Silky-bent*, whatever that is. There is class imbalance with 5 classes having really low number of images while 2 classes have a high number of images with the rest around the median. "
   ]
  },
  {
   "cell_type": "code",
   "execution_count": 8,
   "metadata": {
    "execution": {
     "iopub.execute_input": "2022-07-06T06:29:34.240141Z",
     "iopub.status.busy": "2022-07-06T06:29:34.237586Z",
     "iopub.status.idle": "2022-07-06T06:29:34.351224Z",
     "shell.execute_reply": "2022-07-06T06:29:34.351788Z",
     "shell.execute_reply.started": "2022-07-06T05:39:18.801394Z"
    },
    "papermill": {
     "duration": 0.419391,
     "end_time": "2022-07-06T06:29:34.351952",
     "exception": false,
     "start_time": "2022-07-06T06:29:33.932561",
     "status": "completed"
    },
    "tags": []
   },
   "outputs": [
    {
     "data": {
      "image/png": "[encoded data removed]",
      "text/plain": [
       "<Figure size 640x480 with 1 Axes>"
      ]
     },
     "metadata": {},
     "output_type": "display_data"
    }
   ],
   "source": [
    "plt.pie(train_count,\n",
    "       explode=(0,0,0,0,0,0,0,0,0,0,0,0),\n",
    "       labels = class_names,\n",
    "       autopct = \"%1.1f%%\")\n",
    "plt.axis('equal')\n",
    "plt.title(\"Proportion of each observed category in the train dataset\")\n",
    "plt.show();"
   ]
  },
  {
   "cell_type": "markdown",
   "metadata": {
    "papermill": {
     "duration": 0.294691,
     "end_time": "2022-07-06T06:29:34.939509",
     "exception": false,
     "start_time": "2022-07-06T06:29:34.644818",
     "status": "completed"
    },
    "tags": []
   },
   "source": [
    "The class imbalance can also be inferred from the above pie chart, but this shows that it is not as steep as compared to the bar chart. It is advisable to normalize the count to give a better representation of the data present."
   ]
  },
  {
   "cell_type": "markdown",
   "metadata": {
    "papermill": {
     "duration": 0.295432,
     "end_time": "2022-07-06T06:29:35.533548",
     "exception": false,
     "start_time": "2022-07-06T06:29:35.238116",
     "status": "completed"
    },
    "tags": []
   },
   "source": [
    "Creating a helper function for displaying the loss and accuracy versus epochs"
   ]
  },
  {
   "cell_type": "code",
   "execution_count": 9,
   "metadata": {
    "execution": {
     "iopub.execute_input": "2022-07-06T06:29:36.127102Z",
     "iopub.status.busy": "2022-07-06T06:29:36.126109Z",
     "iopub.status.idle": "2022-07-06T06:29:36.129061Z",
     "shell.execute_reply": "2022-07-06T06:29:36.129750Z",
     "shell.execute_reply.started": "2022-07-06T05:39:18.903508Z"
    },
    "papermill": {
     "duration": 0.303841,
     "end_time": "2022-07-06T06:29:36.129900",
     "exception": false,
     "start_time": "2022-07-06T06:29:35.826059",
     "status": "completed"
    },
    "tags": []
   },
   "outputs": [],
   "source": [
    "def show_final_history(history):\n",
    "    fig, ax = plt.subplots(1,2,figsize=(15,5))\n",
    "    ax[0].set_title(\"Loss\")\n",
    "    ax[1].set_title(\"Accuracy\")\n",
    "    ax[0].plot(history.history[\"loss\"],label=\"Loss\")\n",
    "    ax[0].plot(history.history[\"val_loss\"],label=\"Test Loss\")\n",
    "    ax[1].plot(history.history[\"accuracy\"],label=\"Accuracy\")\n",
    "    ax[1].plot(history.history[\"val_accuracy\"],label=\"Test Accuracy\")\n",
    "    \n",
    "    ax[0].legend(loc=\"upper right\")\n",
    "    ax[1].legend(loc=\"lower right\")"
   ]
  },
  {
   "cell_type": "markdown",
   "metadata": {
    "papermill": {
     "duration": 0.29423,
     "end_time": "2022-07-06T06:29:36.718662",
     "exception": false,
     "start_time": "2022-07-06T06:29:36.424432",
     "status": "completed"
    },
    "tags": []
   },
   "source": [
    "# Loading and Splitting Train Images\n",
    "\n",
    "ImageDataGenerator from Keras is used for making the train dataset. Fora augmentation of images horizontal and vertical flip along with random rotation is used due to the low number of training images."
   ]
  },
  {
   "cell_type": "code",
   "execution_count": 10,
   "metadata": {
    "execution": {
     "iopub.execute_input": "2022-07-06T06:29:37.375321Z",
     "iopub.status.busy": "2022-07-06T06:29:37.374203Z",
     "iopub.status.idle": "2022-07-06T06:29:37.378695Z",
     "shell.execute_reply": "2022-07-06T06:29:37.379431Z",
     "shell.execute_reply.started": "2022-07-06T05:39:18.915625Z"
    },
    "papermill": {
     "duration": 0.328132,
     "end_time": "2022-07-06T06:29:37.379574",
     "exception": false,
     "start_time": "2022-07-06T06:29:37.051442",
     "status": "completed"
    },
    "tags": []
   },
   "outputs": [
    {
     "data": {
      "text/plain": [
       "array([0., 0., 0., ..., 8., 8., 8.], dtype=float32)"
      ]
     },
     "execution_count": 10,
     "metadata": {},
     "output_type": "execute_result"
    }
   ],
   "source": [
    "train_labels"
   ]
  },
  {
   "cell_type": "code",
   "execution_count": 11,
   "metadata": {
    "execution": {
     "iopub.execute_input": "2022-07-06T06:29:37.974050Z",
     "iopub.status.busy": "2022-07-06T06:29:37.973209Z",
     "iopub.status.idle": "2022-07-06T06:29:37.977329Z",
     "shell.execute_reply": "2022-07-06T06:29:37.976719Z",
     "shell.execute_reply.started": "2022-07-06T05:39:18.926677Z"
    },
    "papermill": {
     "duration": 0.304103,
     "end_time": "2022-07-06T06:29:37.977453",
     "exception": false,
     "start_time": "2022-07-06T06:29:37.673350",
     "status": "completed"
    },
    "tags": []
   },
   "outputs": [],
   "source": [
    "train_labels = to_categorical(train_labels,num_classes=nb_classes)"
   ]
  },
  {
   "cell_type": "code",
   "execution_count": 12,
   "metadata": {
    "execution": {
     "iopub.execute_input": "2022-07-06T06:29:38.569009Z",
     "iopub.status.busy": "2022-07-06T06:29:38.568001Z",
     "iopub.status.idle": "2022-07-06T06:29:38.574640Z",
     "shell.execute_reply": "2022-07-06T06:29:38.574056Z",
     "shell.execute_reply.started": "2022-07-06T05:39:18.935341Z"
    },
    "papermill": {
     "duration": 0.303655,
     "end_time": "2022-07-06T06:29:38.574791",
     "exception": false,
     "start_time": "2022-07-06T06:29:38.271136",
     "status": "completed"
    },
    "tags": []
   },
   "outputs": [
    {
     "data": {
      "text/plain": [
       "(4750, 12)"
      ]
     },
     "execution_count": 12,
     "metadata": {},
     "output_type": "execute_result"
    }
   ],
   "source": [
    "train_labels.shape"
   ]
  },
  {
   "cell_type": "code",
   "execution_count": 13,
   "metadata": {
    "execution": {
     "iopub.execute_input": "2022-07-06T06:29:39.427702Z",
     "iopub.status.busy": "2022-07-06T06:29:39.426689Z",
     "iopub.status.idle": "2022-07-06T06:29:39.921918Z",
     "shell.execute_reply": "2022-07-06T06:29:39.921202Z",
     "shell.execute_reply.started": "2022-07-06T05:39:18.944808Z"
    },
    "papermill": {
     "duration": 1.054217,
     "end_time": "2022-07-06T06:29:39.922076",
     "exception": false,
     "start_time": "2022-07-06T06:29:38.867859",
     "status": "completed"
    },
    "tags": []
   },
   "outputs": [],
   "source": [
    "X_train,X_val,y_train,y_val = train_test_split(train_images,train_labels,test_size=0.3)"
   ]
  },
  {
   "cell_type": "code",
   "execution_count": 14,
   "metadata": {
    "execution": {
     "iopub.execute_input": "2022-07-06T06:29:40.523524Z",
     "iopub.status.busy": "2022-07-06T06:29:40.522484Z",
     "iopub.status.idle": "2022-07-06T06:29:40.525408Z",
     "shell.execute_reply": "2022-07-06T06:29:40.525897Z",
     "shell.execute_reply.started": "2022-07-06T05:39:19.315287Z"
    },
    "papermill": {
     "duration": 0.309842,
     "end_time": "2022-07-06T06:29:40.526049",
     "exception": false,
     "start_time": "2022-07-06T06:29:40.216207",
     "status": "completed"
    },
    "tags": []
   },
   "outputs": [],
   "source": [
    "train_dir = \"./data/plant-seedlings-classification/train\"\n",
    "\n",
    "batch_size = 16\n",
    "\n",
    "IGD = ImageDataGenerator(rescale=1./255,\n",
    "                        horizontal_flip=True,\n",
    "                        vertical_flip=True,\n",
    "                        rotation_range=20)\n",
    "#                         validation_split=0.3)\n",
    "\n",
    "train_generator = IGD.flow(x=X_train,\n",
    "                          y=y_train,\n",
    "                          batch_size=batch_size,\n",
    "                          shuffle=True,\n",
    "                          seed=42)\n",
    "#                           subset=\"training\")\n",
    "\n",
    "validation_generator = IGD.flow(x=X_val,\n",
    "                               y=y_val,\n",
    "                               batch_size=batch_size,\n",
    "                               shuffle=True,\n",
    "                               seed=42)\n",
    "#                                subset=\"validation\")"
   ]
  },
  {
   "cell_type": "markdown",
   "metadata": {
    "papermill": {
     "duration": 0.298013,
     "end_time": "2022-07-06T06:29:41.116008",
     "exception": false,
     "start_time": "2022-07-06T06:29:40.817995",
     "status": "completed"
    },
    "tags": []
   },
   "source": [
    "# Convolutional Block\n",
    "\n",
    "Creating a Convolutional block for the model to make it easier to add more layers to the model without making major changes. This also allows for change in architecture without changing every line in the model. It also takes advantage of Python's OOP structure.\n",
    "\n",
    "The block consists of:\n",
    "\n",
    "`One convolutional layer with the user specifed filter size,kernel size, and lenght of strides.`\n",
    "`One BatchNormalization Layer.`\n",
    "`One Relu Activation Layer`"
   ]
  },
  {
   "cell_type": "code",
   "execution_count": 15,
   "metadata": {
    "execution": {
     "iopub.execute_input": "2022-07-06T06:29:41.715539Z",
     "iopub.status.busy": "2022-07-06T06:29:41.714551Z",
     "iopub.status.idle": "2022-07-06T06:29:41.718428Z",
     "shell.execute_reply": "2022-07-06T06:29:41.717765Z",
     "shell.execute_reply.started": "2022-07-06T05:39:19.328196Z"
    },
    "papermill": {
     "duration": 0.305641,
     "end_time": "2022-07-06T06:29:41.718540",
     "exception": false,
     "start_time": "2022-07-06T06:29:41.412899",
     "status": "completed"
    },
    "tags": []
   },
   "outputs": [],
   "source": [
    "def conv_block(X,k,filters,stage,block,s=2):\n",
    "    \n",
    "    conv_base_name = 'res_' + str(stage) + block + '_branch'\n",
    "    bn_base_name = 'bn_' + str(stage) + block + \"_branch\"\n",
    "    \n",
    "    F1 = filters\n",
    "    \n",
    "    X = Conv2D(filters=F1,kernel_size=(k,k),strides=(s,s),\n",
    "              padding='same',name=conv_base_name,\n",
    "              kernel_initializer=glorot_uniform(seed=0))(X)\n",
    "    X = BatchNormalization(name=bn_base_name)(X)\n",
    "#     X = MaxPooling2D((3,3))(X)\n",
    "    X = Activation('relu')(X)\n",
    "    \n",
    "    return X\n",
    "    pass"
   ]
  },
  {
   "cell_type": "markdown",
   "metadata": {
    "papermill": {
     "duration": 0.293511,
     "end_time": "2022-07-06T06:29:42.301837",
     "exception": false,
     "start_time": "2022-07-06T06:29:42.008326",
     "status": "completed"
    },
    "tags": []
   },
   "source": [
    "# Creating the model\n",
    "\n",
    "The current model consists of 4 convolutional layers and one fully connected layer, divided into various stages.\n",
    "\n",
    "`Stage 1: Taking the input with kernel size = (5,5) and number of filters = 32.`\n",
    "`Stage 2: Consists of 1 convolutional layer with a Relu activation and BatchNormalization.`\n",
    "`Stage 3: Consists of 1 convolutional layer with a Relu activation and BatchNormalization.`\n",
    "`Stage 4: Consists of 1 convolutional layer with a Relu activation and BatchNormalization.`"
   ]
  },
  {
   "cell_type": "code",
   "execution_count": 16,
   "metadata": {
    "execution": {
     "iopub.execute_input": "2022-07-06T06:29:42.897334Z",
     "iopub.status.busy": "2022-07-06T06:29:42.892647Z",
     "iopub.status.idle": "2022-07-06T06:29:42.901173Z",
     "shell.execute_reply": "2022-07-06T06:29:42.900683Z",
     "shell.execute_reply.started": "2022-07-06T05:39:19.339302Z"
    },
    "papermill": {
     "duration": 0.306908,
     "end_time": "2022-07-06T06:29:42.901310",
     "exception": false,
     "start_time": "2022-07-06T06:29:42.594402",
     "status": "completed"
    },
    "tags": []
   },
   "outputs": [],
   "source": [
    "def conv_model(input_shape,classes):\n",
    "    \n",
    "    X_input = Input(input_shape)\n",
    "    \n",
    "    # Stage 1\n",
    "    X = Conv2D(64,(5,5),strides=(2,2),name='conv1')(X_input)\n",
    "    X = BatchNormalization(name='bn_conv1')(X)\n",
    "#     X = MaxPooling2D((3,3))(X)\n",
    "#     X = Activation('relu')(X)\n",
    "#     X = Dropout(0.1)(X)\n",
    "    \n",
    "    # Stage 2\n",
    "    X = conv_block(X,5,64,2,block='A',s=1)\n",
    "    X = MaxPooling2D((2,2))(X)\n",
    "    X = Dropout(0.1)(X)\n",
    "    \n",
    "    # Stage 3 \n",
    "    X = conv_block(X,3,128,3,block='A',s=1)\n",
    "    X = MaxPooling2D((3,3))(X)\n",
    "    X = Dropout(0.1)(X)\n",
    "    \n",
    "    # Stage 4\n",
    "    X = conv_block(X,5,256,4,block='A',s=1)\n",
    "    X = MaxPooling2D((3,3))(X)\n",
    "    X = Dropout(0.1)(X)\n",
    "    \n",
    "    # Stage 5\n",
    "    X = conv_block(X,7,512,5,block='A',s=1)\n",
    "    X = MaxPooling2D((3,3))(X)\n",
    "    X = Dropout(0.1)(X)\n",
    "    \n",
    "    \n",
    "    # Output Layer\n",
    "    X = Flatten()(X)\n",
    "    X = Dense(256)(X)\n",
    "    X = Dense(256)(X)\n",
    "    X = Dense(256)(X)\n",
    "    X = Dense(256)(X)\n",
    "    X = Activation('relu')(X)\n",
    "    X = Dense(classes,activation='softmax',name='fc'+str(classes))(X)\n",
    "    \n",
    "    model = Model(inputs=X_input,outputs=X,name='CNN')\n",
    "    \n",
    "    return model\n",
    "    pass"
   ]
  },
  {
   "cell_type": "code",
   "execution_count": 17,
   "metadata": {
    "execution": {
     "iopub.execute_input": "2022-07-06T06:29:43.487527Z",
     "iopub.status.busy": "2022-07-06T06:29:43.486791Z",
     "iopub.status.idle": "2022-07-06T06:29:46.588605Z",
     "shell.execute_reply": "2022-07-06T06:29:46.587928Z",
     "shell.execute_reply.started": "2022-07-06T05:39:19.357009Z"
    },
    "papermill": {
     "duration": 3.396648,
     "end_time": "2022-07-06T06:29:46.588739",
     "exception": false,
     "start_time": "2022-07-06T06:29:43.192091",
     "status": "completed"
    },
    "tags": []
   },
   "outputs": [
    {
     "name": "stderr",
     "output_type": "stream",
     "text": [
      "2022-10-22 12:00:04.340754: I tensorflow/stream_executor/cuda/cuda_gpu_executor.cc:980] successful NUMA node read from SysFS had negative value (-1), but there must be at least one NUMA node, so returning NUMA node zero\n",
      "2022-10-22 12:00:04.515457: I tensorflow/stream_executor/cuda/cuda_gpu_executor.cc:980] successful NUMA node read from SysFS had negative value (-1), but there must be at least one NUMA node, so returning NUMA node zero\n",
      "2022-10-22 12:00:04.516225: I tensorflow/stream_executor/cuda/cuda_gpu_executor.cc:980] successful NUMA node read from SysFS had negative value (-1), but there must be at least one NUMA node, so returning NUMA node zero\n",
      "2022-10-22 12:00:04.518454: I tensorflow/core/platform/cpu_feature_guard.cc:193] This TensorFlow binary is optimized with oneAPI Deep Neural Network Library (oneDNN) to use the following CPU instructions in performance-critical operations:  AVX2 FMA\n",
      "To enable them in other operations, rebuild TensorFlow with the appropriate compiler flags.\n",
      "2022-10-22 12:00:04.520050: I tensorflow/stream_executor/cuda/cuda_gpu_executor.cc:980] successful NUMA node read from SysFS had negative value (-1), but there must be at least one NUMA node, so returning NUMA node zero\n",
      "2022-10-22 12:00:04.520620: I tensorflow/stream_executor/cuda/cuda_gpu_executor.cc:980] successful NUMA node read from SysFS had negative value (-1), but there must be at least one NUMA node, so returning NUMA node zero\n",
      "2022-10-22 12:00:04.521175: I tensorflow/stream_executor/cuda/cuda_gpu_executor.cc:980] successful NUMA node read from SysFS had negative value (-1), but there must be at least one NUMA node, so returning NUMA node zero\n",
      "2022-10-22 12:00:05.397396: I tensorflow/stream_executor/cuda/cuda_gpu_executor.cc:980] successful NUMA node read from SysFS had negative value (-1), but there must be at least one NUMA node, so returning NUMA node zero\n",
      "2022-10-22 12:00:05.398013: I tensorflow/stream_executor/cuda/cuda_gpu_executor.cc:980] successful NUMA node read from SysFS had negative value (-1), but there must be at least one NUMA node, so returning NUMA node zero\n",
      "2022-10-22 12:00:05.398160: I tensorflow/stream_executor/cuda/cuda_gpu_executor.cc:980] successful NUMA node read from SysFS had negative value (-1), but there must be at least one NUMA node, so returning NUMA node zero\n",
      "2022-10-22 12:00:05.398277: I tensorflow/core/common_runtime/gpu/gpu_device.cc:1616] Created device /job:localhost/replica:0/task:0/device:GPU:0 with 2629 MB memory:  -> device: 0, name: NVIDIA GeForce GTX 1650, pci bus id: 0000:01:00.0, compute capability: 7.5\n"
     ]
    }
   ],
   "source": [
    "model = conv_model(input_shape=(150,150,3),classes=nb_classes)"
   ]
  },
  {
   "cell_type": "markdown",
   "metadata": {
    "papermill": {
     "duration": 0.30982,
     "end_time": "2022-07-06T06:29:47.192407",
     "exception": false,
     "start_time": "2022-07-06T06:29:46.882587",
     "status": "completed"
    },
    "tags": []
   },
   "source": [
    "Saving the model architecture as a flowchart for better understanding to *`conv_model.png`*"
   ]
  },
  {
   "cell_type": "code",
   "execution_count": 18,
   "metadata": {
    "execution": {
     "iopub.execute_input": "2022-07-06T06:29:47.790634Z",
     "iopub.status.busy": "2022-07-06T06:29:47.789577Z",
     "iopub.status.idle": "2022-07-06T06:29:48.644103Z",
     "shell.execute_reply": "2022-07-06T06:29:48.643155Z",
     "shell.execute_reply.started": "2022-07-06T05:39:22.089834Z"
    },
    "papermill": {
     "duration": 1.156688,
     "end_time": "2022-07-06T06:29:48.644322",
     "exception": false,
     "start_time": "2022-07-06T06:29:47.487634",
     "status": "completed"
    },
    "tags": []
   },
   "outputs": [
    {
     "name": "stdout",
     "output_type": "stream",
     "text": [
      "Model: \"CNN\"\n",
      "_________________________________________________________________\n",
      " Layer (type)                Output Shape              Param #   \n",
      "=================================================================\n",
      " input_1 (InputLayer)        [(None, 150, 150, 3)]     0         \n",
      "                                                                 \n",
      " conv1 (Conv2D)              (None, 73, 73, 64)        4864      \n",
      "                                                                 \n",
      " bn_conv1 (BatchNormalizatio  (None, 73, 73, 64)       256       \n",
      " n)                                                              \n",
      "                                                                 \n",
      " res_2A_branch (Conv2D)      (None, 73, 73, 64)        102464    \n",
      "                                                                 \n",
      " bn_2A_branch (BatchNormaliz  (None, 73, 73, 64)       256       \n",
      " ation)                                                          \n",
      "                                                                 \n",
      " activation (Activation)     (None, 73, 73, 64)        0         \n",
      "                                                                 \n",
      " max_pooling2d (MaxPooling2D  (None, 36, 36, 64)       0         \n",
      " )                                                               \n",
      "                                                                 \n",
      " dropout (Dropout)           (None, 36, 36, 64)        0         \n",
      "                                                                 \n",
      " res_3A_branch (Conv2D)      (None, 36, 36, 128)       73856     \n",
      "                                                                 \n",
      " bn_3A_branch (BatchNormaliz  (None, 36, 36, 128)      512       \n",
      " ation)                                                          \n",
      "                                                                 \n",
      " activation_1 (Activation)   (None, 36, 36, 128)       0         \n",
      "                                                                 \n",
      " max_pooling2d_1 (MaxPooling  (None, 12, 12, 128)      0         \n",
      " 2D)                                                             \n",
      "                                                                 \n",
      " dropout_1 (Dropout)         (None, 12, 12, 128)       0         \n",
      "                                                                 \n",
      " res_4A_branch (Conv2D)      (None, 12, 12, 256)       819456    \n",
      "                                                                 \n",
      " bn_4A_branch (BatchNormaliz  (None, 12, 12, 256)      1024      \n",
      " ation)                                                          \n",
      "                                                                 \n",
      " activation_2 (Activation)   (None, 12, 12, 256)       0         \n",
      "                                                                 \n",
      " max_pooling2d_2 (MaxPooling  (None, 4, 4, 256)        0         \n",
      " 2D)                                                             \n",
      "                                                                 \n",
      " dropout_2 (Dropout)         (None, 4, 4, 256)         0         \n",
      "                                                                 \n",
      " res_5A_branch (Conv2D)      (None, 4, 4, 512)         6423040   \n",
      "                                                                 \n",
      " bn_5A_branch (BatchNormaliz  (None, 4, 4, 512)        2048      \n",
      " ation)                                                          \n",
      "                                                                 \n",
      " activation_3 (Activation)   (None, 4, 4, 512)         0         \n",
      "                                                                 \n",
      " max_pooling2d_3 (MaxPooling  (None, 1, 1, 512)        0         \n",
      " 2D)                                                             \n",
      "                                                                 \n",
      " dropout_3 (Dropout)         (None, 1, 1, 512)         0         \n",
      "                                                                 \n",
      " flatten (Flatten)           (None, 512)               0         \n",
      "                                                                 \n",
      " dense (Dense)               (None, 256)               131328    \n",
      "                                                                 \n",
      " dense_1 (Dense)             (None, 256)               65792     \n",
      "                                                                 \n",
      " dense_2 (Dense)             (None, 256)               65792     \n",
      "                                                                 \n",
      " dense_3 (Dense)             (None, 256)               65792     \n",
      "                                                                 \n",
      " activation_4 (Activation)   (None, 256)               0         \n",
      "                                                                 \n",
      " fc12 (Dense)                (None, 12)                3084      \n",
      "                                                                 \n",
      "=================================================================\n",
      "Total params: 7,759,564\n",
      "Trainable params: 7,757,516\n",
      "Non-trainable params: 2,048\n",
      "_________________________________________________________________\n"
     ]
    }
   ],
   "source": [
    "plot_model(model,to_file='conv_model.png')\n",
    "SVG(model_to_dot(model).create(prog='dot',format='svg'))\n",
    "\n",
    "model.summary()"
   ]
  },
  {
   "cell_type": "markdown",
   "metadata": {
    "papermill": {
     "duration": 0.294808,
     "end_time": "2022-07-06T06:29:49.246307",
     "exception": false,
     "start_time": "2022-07-06T06:29:48.951499",
     "status": "completed"
    },
    "tags": []
   },
   "source": [
    "Using the Adam optimiser with learning rate set at 0.001 as this is currently giving the most optimal model."
   ]
  },
  {
   "cell_type": "code",
   "execution_count": 19,
   "metadata": {
    "execution": {
     "iopub.execute_input": "2022-07-06T06:29:49.848266Z",
     "iopub.status.busy": "2022-07-06T06:29:49.847158Z",
     "iopub.status.idle": "2022-07-06T06:29:49.854866Z",
     "shell.execute_reply": "2022-07-06T06:29:49.854095Z",
     "shell.execute_reply.started": "2022-07-06T05:39:22.696890Z"
    },
    "papermill": {
     "duration": 0.317022,
     "end_time": "2022-07-06T06:29:49.854990",
     "exception": false,
     "start_time": "2022-07-06T06:29:49.537968",
     "status": "completed"
    },
    "tags": []
   },
   "outputs": [
    {
     "name": "stderr",
     "output_type": "stream",
     "text": [
      "/home/soumil/anaconda3/envs/tf/lib/python3.7/site-packages/keras/optimizers/optimizer_v2/adam.py:114: UserWarning: The `lr` argument is deprecated, use `learning_rate` instead.\n",
      "  super().__init__(name, **kwargs)\n"
     ]
    }
   ],
   "source": [
    "opt = Adam(lr=0.0001)\n",
    "model.compile(optimizer=opt,loss='categorical_crossentropy',metrics=['accuracy'])"
   ]
  },
  {
   "cell_type": "markdown",
   "metadata": {
    "papermill": {
     "duration": 0.360745,
     "end_time": "2022-07-06T06:29:50.745075",
     "exception": false,
     "start_time": "2022-07-06T06:29:50.384330",
     "status": "completed"
    },
    "tags": []
   },
   "source": [
    "Storing the model's weights to *`model_weights.h5`*. This stores the best weights possible."
   ]
  },
  {
   "cell_type": "code",
   "execution_count": 20,
   "metadata": {
    "execution": {
     "iopub.execute_input": "2022-07-06T06:29:51.336009Z",
     "iopub.status.busy": "2022-07-06T06:29:51.334949Z",
     "iopub.status.idle": "2022-07-06T06:29:51.337308Z",
     "shell.execute_reply": "2022-07-06T06:29:51.337952Z",
     "shell.execute_reply.started": "2022-07-06T05:39:22.720634Z"
    },
    "papermill": {
     "duration": 0.300072,
     "end_time": "2022-07-06T06:29:51.338106",
     "exception": false,
     "start_time": "2022-07-06T06:29:51.038034",
     "status": "completed"
    },
    "tags": []
   },
   "outputs": [],
   "source": [
    "checkpoint = ModelCheckpoint(\"model_weights.h5\",monitor='val_accuracy',verbose=1,\n",
    "                             save_best_only=True,mode=\"max\")\n",
    "callbacks_list = [checkpoint]"
   ]
  },
  {
   "cell_type": "markdown",
   "metadata": {
    "papermill": {
     "duration": 0.287572,
     "end_time": "2022-07-06T06:29:51.915258",
     "exception": false,
     "start_time": "2022-07-06T06:29:51.627686",
     "status": "completed"
    },
    "tags": []
   },
   "source": [
    "Running the model for 50 epochs"
   ]
  },
  {
   "cell_type": "code",
   "execution_count": 36,
   "metadata": {
    "execution": {
     "iopub.execute_input": "2022-07-06T06:29:52.519829Z",
     "iopub.status.busy": "2022-07-06T06:29:52.518511Z",
     "iopub.status.idle": "2022-07-06T07:25:50.689930Z",
     "shell.execute_reply": "2022-07-06T07:25:50.688265Z",
     "shell.execute_reply.started": "2022-07-06T05:39:22.730514Z"
    },
    "papermill": {
     "duration": 3358.477908,
     "end_time": "2022-07-06T07:25:50.690099",
     "exception": false,
     "start_time": "2022-07-06T06:29:52.212191",
     "status": "completed"
    },
    "tags": []
   },
   "outputs": [
    {
     "name": "stdout",
     "output_type": "stream",
     "text": [
      "Epoch 1/500\n"
     ]
    },
    {
     "name": "stderr",
     "output_type": "stream",
     "text": [
      "/home/soumil/anaconda3/envs/tf/lib/python3.7/site-packages/ipykernel_launcher.py:9: UserWarning: `Model.fit_generator` is deprecated and will be removed in a future version. Please use `Model.fit`, which supports generators.\n",
      "  if __name__ == \"__main__\":\n"
     ]
    },
    {
     "name": "stdout",
     "output_type": "stream",
     "text": [
      "207/207 [==============================] - ETA: 0s - loss: 0.3820 - accuracy: 0.8643\n",
      "Epoch 1: val_accuracy improved from 0.76404 to 0.81601, saving model to model_weights.h5\n",
      "207/207 [==============================] - 16s 78ms/step - loss: 0.3820 - accuracy: 0.8643 - val_loss: 0.5153 - val_accuracy: 0.8160\n",
      "Epoch 2/500\n",
      "207/207 [==============================] - ETA: 0s - loss: 0.3570 - accuracy: 0.8667\n",
      "Epoch 2: val_accuracy improved from 0.81601 to 0.84199, saving model to model_weights.h5\n",
      "207/207 [==============================] - 16s 77ms/step - loss: 0.3570 - accuracy: 0.8667 - val_loss: 0.4357 - val_accuracy: 0.8420\n",
      "Epoch 3/500\n",
      "207/207 [==============================] - ETA: 0s - loss: 0.3451 - accuracy: 0.8719\n",
      "Epoch 3: val_accuracy did not improve from 0.84199\n",
      "207/207 [==============================] - 16s 76ms/step - loss: 0.3451 - accuracy: 0.8719 - val_loss: 0.5783 - val_accuracy: 0.7914\n",
      "Epoch 4/500\n",
      "207/207 [==============================] - ETA: 0s - loss: 0.3506 - accuracy: 0.8679\n",
      "Epoch 4: val_accuracy improved from 0.84199 to 0.87640, saving model to model_weights.h5\n",
      "207/207 [==============================] - 17s 80ms/step - loss: 0.3506 - accuracy: 0.8679 - val_loss: 0.3458 - val_accuracy: 0.8764\n",
      "Epoch 5/500\n",
      "207/207 [==============================] - ETA: 0s - loss: 0.3381 - accuracy: 0.8767\n",
      "Epoch 5: val_accuracy improved from 0.87640 to 0.87921, saving model to model_weights.h5\n",
      "207/207 [==============================] - 17s 81ms/step - loss: 0.3381 - accuracy: 0.8767 - val_loss: 0.3345 - val_accuracy: 0.8792\n",
      "Epoch 6/500\n",
      "207/207 [==============================] - ETA: 0s - loss: 0.3175 - accuracy: 0.8812\n",
      "Epoch 6: val_accuracy did not improve from 0.87921\n",
      "207/207 [==============================] - 17s 81ms/step - loss: 0.3175 - accuracy: 0.8812 - val_loss: 0.7535 - val_accuracy: 0.7676\n",
      "Epoch 7/500\n",
      "207/207 [==============================] - ETA: 0s - loss: 0.3199 - accuracy: 0.8815\n",
      "Epoch 7: val_accuracy did not improve from 0.87921\n",
      "207/207 [==============================] - 17s 81ms/step - loss: 0.3199 - accuracy: 0.8815 - val_loss: 0.5067 - val_accuracy: 0.8294\n",
      "Epoch 8/500\n",
      "207/207 [==============================] - ETA: 0s - loss: 0.2941 - accuracy: 0.8954\n",
      "Epoch 8: val_accuracy did not improve from 0.87921\n",
      "207/207 [==============================] - 17s 83ms/step - loss: 0.2941 - accuracy: 0.8954 - val_loss: 0.3343 - val_accuracy: 0.8792\n",
      "Epoch 9/500\n",
      "207/207 [==============================] - ETA: 0s - loss: 0.2939 - accuracy: 0.8909\n",
      "Epoch 9: val_accuracy did not improve from 0.87921\n",
      "207/207 [==============================] - 17s 82ms/step - loss: 0.2939 - accuracy: 0.8909 - val_loss: 0.3678 - val_accuracy: 0.8715\n",
      "Epoch 10/500\n",
      "207/207 [==============================] - ETA: 0s - loss: 0.2758 - accuracy: 0.8954\n",
      "Epoch 10: val_accuracy did not improve from 0.87921\n",
      "207/207 [==============================] - 17s 82ms/step - loss: 0.2758 - accuracy: 0.8954 - val_loss: 0.4317 - val_accuracy: 0.8462\n",
      "Epoch 11/500\n",
      "207/207 [==============================] - ETA: 0s - loss: 0.2661 - accuracy: 0.8966\n",
      "Epoch 11: val_accuracy did not improve from 0.87921\n",
      "207/207 [==============================] - 17s 82ms/step - loss: 0.2661 - accuracy: 0.8966 - val_loss: 0.4316 - val_accuracy: 0.8497\n",
      "Epoch 12/500\n",
      "207/207 [==============================] - ETA: 0s - loss: 0.2408 - accuracy: 0.9121\n",
      "Epoch 12: val_accuracy improved from 0.87921 to 0.88553, saving model to model_weights.h5\n",
      "207/207 [==============================] - 18s 84ms/step - loss: 0.2408 - accuracy: 0.9121 - val_loss: 0.3065 - val_accuracy: 0.8855\n",
      "Epoch 13/500\n",
      "207/207 [==============================] - ETA: 0s - loss: 0.2425 - accuracy: 0.9133\n",
      "Epoch 13: val_accuracy did not improve from 0.88553\n",
      "207/207 [==============================] - 17s 83ms/step - loss: 0.2425 - accuracy: 0.9133 - val_loss: 0.3948 - val_accuracy: 0.8673\n",
      "Epoch 14/500\n",
      "207/207 [==============================] - ETA: 0s - loss: 0.2421 - accuracy: 0.9130\n",
      "Epoch 14: val_accuracy did not improve from 0.88553\n",
      "207/207 [==============================] - 17s 83ms/step - loss: 0.2421 - accuracy: 0.9130 - val_loss: 0.5313 - val_accuracy: 0.8279\n",
      "Epoch 15/500\n",
      "207/207 [==============================] - ETA: 0s - loss: 0.2379 - accuracy: 0.9066\n",
      "Epoch 15: val_accuracy improved from 0.88553 to 0.90590, saving model to model_weights.h5\n",
      "207/207 [==============================] - 18s 84ms/step - loss: 0.2379 - accuracy: 0.9066 - val_loss: 0.2679 - val_accuracy: 0.9059\n",
      "Epoch 16/500\n",
      "207/207 [==============================] - ETA: 0s - loss: 0.2422 - accuracy: 0.9084\n",
      "Epoch 16: val_accuracy did not improve from 0.90590\n",
      "207/207 [==============================] - 17s 83ms/step - loss: 0.2422 - accuracy: 0.9084 - val_loss: 0.4280 - val_accuracy: 0.8448\n",
      "Epoch 17/500\n",
      "207/207 [==============================] - ETA: 0s - loss: 0.2147 - accuracy: 0.9175\n",
      "Epoch 17: val_accuracy did not improve from 0.90590\n",
      "207/207 [==============================] - 17s 83ms/step - loss: 0.2147 - accuracy: 0.9175 - val_loss: 0.4068 - val_accuracy: 0.8652\n",
      "Epoch 18/500\n",
      "207/207 [==============================] - ETA: 0s - loss: 0.1998 - accuracy: 0.9254\n",
      "Epoch 18: val_accuracy did not improve from 0.90590\n",
      "207/207 [==============================] - 17s 83ms/step - loss: 0.1998 - accuracy: 0.9254 - val_loss: 0.3349 - val_accuracy: 0.8813\n",
      "Epoch 19/500\n",
      "207/207 [==============================] - ETA: 0s - loss: 0.2071 - accuracy: 0.9190\n",
      "Epoch 19: val_accuracy did not improve from 0.90590\n",
      "207/207 [==============================] - 17s 84ms/step - loss: 0.2071 - accuracy: 0.9190 - val_loss: 0.2584 - val_accuracy: 0.9024\n",
      "Epoch 20/500\n",
      "207/207 [==============================] - ETA: 0s - loss: 0.2053 - accuracy: 0.9217\n",
      "Epoch 20: val_accuracy did not improve from 0.90590\n",
      "207/207 [==============================] - 17s 83ms/step - loss: 0.2053 - accuracy: 0.9217 - val_loss: 0.8475 - val_accuracy: 0.7212\n",
      "Epoch 21/500\n",
      "207/207 [==============================] - ETA: 0s - loss: 0.2103 - accuracy: 0.9181\n",
      "Epoch 21: val_accuracy did not improve from 0.90590\n",
      "207/207 [==============================] - 17s 83ms/step - loss: 0.2103 - accuracy: 0.9181 - val_loss: 0.3646 - val_accuracy: 0.8757\n",
      "Epoch 22/500\n",
      "207/207 [==============================] - ETA: 0s - loss: 0.1943 - accuracy: 0.9214\n",
      "Epoch 22: val_accuracy did not improve from 0.90590\n",
      "207/207 [==============================] - 17s 82ms/step - loss: 0.1943 - accuracy: 0.9214 - val_loss: 0.4829 - val_accuracy: 0.8287\n",
      "Epoch 23/500\n",
      "207/207 [==============================] - ETA: 0s - loss: 0.1857 - accuracy: 0.9305\n",
      "Epoch 23: val_accuracy did not improve from 0.90590\n",
      "207/207 [==============================] - 17s 84ms/step - loss: 0.1857 - accuracy: 0.9305 - val_loss: 0.3969 - val_accuracy: 0.8574\n",
      "Epoch 24/500\n",
      "207/207 [==============================] - ETA: 0s - loss: 0.1752 - accuracy: 0.9359\n",
      "Epoch 24: val_accuracy did not improve from 0.90590\n",
      "207/207 [==============================] - 17s 82ms/step - loss: 0.1752 - accuracy: 0.9359 - val_loss: 0.3848 - val_accuracy: 0.8581\n",
      "Epoch 25/500\n",
      "207/207 [==============================] - ETA: 0s - loss: 0.2022 - accuracy: 0.9202\n",
      "Epoch 25: val_accuracy did not improve from 0.90590\n",
      "207/207 [==============================] - 17s 83ms/step - loss: 0.2022 - accuracy: 0.9202 - val_loss: 0.3332 - val_accuracy: 0.8736\n",
      "Epoch 26/500\n",
      "207/207 [==============================] - ETA: 0s - loss: 0.1892 - accuracy: 0.9296\n",
      "Epoch 26: val_accuracy did not improve from 0.90590\n",
      "207/207 [==============================] - 17s 83ms/step - loss: 0.1892 - accuracy: 0.9296 - val_loss: 0.2927 - val_accuracy: 0.8982\n",
      "Epoch 27/500\n",
      "207/207 [==============================] - ETA: 0s - loss: 0.1794 - accuracy: 0.9323\n",
      "Epoch 27: val_accuracy did not improve from 0.90590\n",
      "207/207 [==============================] - 17s 83ms/step - loss: 0.1794 - accuracy: 0.9323 - val_loss: 0.5949 - val_accuracy: 0.7935\n",
      "Epoch 28/500\n",
      "207/207 [==============================] - ETA: 0s - loss: 0.1687 - accuracy: 0.9390\n",
      "Epoch 28: val_accuracy did not improve from 0.90590\n",
      "207/207 [==============================] - 17s 82ms/step - loss: 0.1687 - accuracy: 0.9390 - val_loss: 0.4410 - val_accuracy: 0.8448\n",
      "Epoch 29/500\n",
      "207/207 [==============================] - ETA: 0s - loss: 0.2172 - accuracy: 0.9181\n",
      "Epoch 29: val_accuracy improved from 0.90590 to 0.91503, saving model to model_weights.h5\n",
      "207/207 [==============================] - 18s 85ms/step - loss: 0.2172 - accuracy: 0.9181 - val_loss: 0.2476 - val_accuracy: 0.9150\n",
      "Epoch 30/500\n",
      "207/207 [==============================] - ETA: 0s - loss: 0.1477 - accuracy: 0.9483\n",
      "Epoch 30: val_accuracy did not improve from 0.91503\n",
      "207/207 [==============================] - 17s 82ms/step - loss: 0.1477 - accuracy: 0.9483 - val_loss: 0.2917 - val_accuracy: 0.8954\n",
      "Epoch 31/500\n",
      "207/207 [==============================] - ETA: 0s - loss: 0.1394 - accuracy: 0.9438\n",
      "Epoch 31: val_accuracy did not improve from 0.91503\n",
      "207/207 [==============================] - 17s 84ms/step - loss: 0.1394 - accuracy: 0.9438 - val_loss: 0.3038 - val_accuracy: 0.8940\n",
      "Epoch 32/500\n",
      "207/207 [==============================] - ETA: 0s - loss: 0.1425 - accuracy: 0.9465\n",
      "Epoch 32: val_accuracy did not improve from 0.91503\n",
      "207/207 [==============================] - 17s 82ms/step - loss: 0.1425 - accuracy: 0.9465 - val_loss: 0.3425 - val_accuracy: 0.8764\n",
      "Epoch 33/500\n",
      "207/207 [==============================] - ETA: 0s - loss: 0.1415 - accuracy: 0.9483\n",
      "Epoch 33: val_accuracy did not improve from 0.91503\n",
      "207/207 [==============================] - 17s 82ms/step - loss: 0.1415 - accuracy: 0.9483 - val_loss: 0.3461 - val_accuracy: 0.8799\n",
      "Epoch 34/500\n",
      "207/207 [==============================] - ETA: 0s - loss: 0.1604 - accuracy: 0.9368\n",
      "Epoch 34: val_accuracy did not improve from 0.91503\n",
      "207/207 [==============================] - 17s 83ms/step - loss: 0.1604 - accuracy: 0.9368 - val_loss: 0.3969 - val_accuracy: 0.8652\n",
      "Epoch 35/500\n",
      "207/207 [==============================] - ETA: 0s - loss: 0.1694 - accuracy: 0.9356\n",
      "Epoch 35: val_accuracy did not improve from 0.91503\n",
      "207/207 [==============================] - 17s 82ms/step - loss: 0.1694 - accuracy: 0.9356 - val_loss: 0.2685 - val_accuracy: 0.9101\n",
      "Epoch 36/500\n",
      "207/207 [==============================] - ETA: 0s - loss: 0.1427 - accuracy: 0.9441\n",
      "Epoch 36: val_accuracy did not improve from 0.91503\n",
      "207/207 [==============================] - 17s 83ms/step - loss: 0.1427 - accuracy: 0.9441 - val_loss: 0.3011 - val_accuracy: 0.8926\n",
      "Epoch 37/500\n",
      "207/207 [==============================] - ETA: 0s - loss: 0.1424 - accuracy: 0.9414\n",
      "Epoch 37: val_accuracy did not improve from 0.91503\n",
      "207/207 [==============================] - 17s 82ms/step - loss: 0.1424 - accuracy: 0.9414 - val_loss: 0.3936 - val_accuracy: 0.8490\n",
      "Epoch 38/500\n",
      "207/207 [==============================] - ETA: 0s - loss: 0.1378 - accuracy: 0.9483\n",
      "Epoch 38: val_accuracy did not improve from 0.91503\n",
      "207/207 [==============================] - 17s 84ms/step - loss: 0.1378 - accuracy: 0.9483 - val_loss: 0.4488 - val_accuracy: 0.8694\n",
      "Epoch 39/500\n",
      "207/207 [==============================] - ETA: 0s - loss: 0.1519 - accuracy: 0.9402\n",
      "Epoch 39: val_accuracy did not improve from 0.91503\n",
      "207/207 [==============================] - 17s 82ms/step - loss: 0.1519 - accuracy: 0.9402 - val_loss: 0.3848 - val_accuracy: 0.8617\n",
      "Epoch 40/500\n",
      "207/207 [==============================] - ETA: 0s - loss: 0.1421 - accuracy: 0.9435\n",
      "Epoch 40: val_accuracy did not improve from 0.91503\n",
      "207/207 [==============================] - 17s 84ms/step - loss: 0.1421 - accuracy: 0.9435 - val_loss: 0.2862 - val_accuracy: 0.9038\n",
      "Epoch 41/500\n",
      "207/207 [==============================] - ETA: 0s - loss: 0.1468 - accuracy: 0.9438\n",
      "Epoch 41: val_accuracy did not improve from 0.91503\n",
      "207/207 [==============================] - 17s 83ms/step - loss: 0.1468 - accuracy: 0.9438 - val_loss: 0.3221 - val_accuracy: 0.8785\n",
      "Epoch 42/500\n",
      "207/207 [==============================] - ETA: 0s - loss: 0.1350 - accuracy: 0.9471\n",
      "Epoch 42: val_accuracy did not improve from 0.91503\n",
      "207/207 [==============================] - 17s 81ms/step - loss: 0.1350 - accuracy: 0.9471 - val_loss: 0.4309 - val_accuracy: 0.8736\n",
      "Epoch 43/500\n",
      "207/207 [==============================] - ETA: 0s - loss: 0.1041 - accuracy: 0.9616\n",
      "Epoch 43: val_accuracy improved from 0.91503 to 0.92135, saving model to model_weights.h5\n",
      "207/207 [==============================] - 17s 84ms/step - loss: 0.1041 - accuracy: 0.9616 - val_loss: 0.2396 - val_accuracy: 0.9213\n",
      "Epoch 44/500\n",
      "207/207 [==============================] - ETA: 0s - loss: 0.1290 - accuracy: 0.9480\n",
      "Epoch 44: val_accuracy did not improve from 0.92135\n",
      "207/207 [==============================] - 17s 83ms/step - loss: 0.1290 - accuracy: 0.9480 - val_loss: 0.3078 - val_accuracy: 0.8933\n",
      "Epoch 45/500\n",
      "207/207 [==============================] - ETA: 0s - loss: 0.1206 - accuracy: 0.9516\n",
      "Epoch 45: val_accuracy did not improve from 0.92135\n",
      "207/207 [==============================] - 17s 84ms/step - loss: 0.1206 - accuracy: 0.9516 - val_loss: 0.3396 - val_accuracy: 0.8926\n",
      "Epoch 46/500\n",
      "207/207 [==============================] - ETA: 0s - loss: 0.1205 - accuracy: 0.9510\n",
      "Epoch 46: val_accuracy improved from 0.92135 to 0.92416, saving model to model_weights.h5\n",
      "207/207 [==============================] - 18s 85ms/step - loss: 0.1205 - accuracy: 0.9510 - val_loss: 0.2153 - val_accuracy: 0.9242\n",
      "Epoch 47/500\n",
      "207/207 [==============================] - ETA: 0s - loss: 0.1247 - accuracy: 0.9559\n",
      "Epoch 47: val_accuracy did not improve from 0.92416\n",
      "207/207 [==============================] - 17s 82ms/step - loss: 0.1247 - accuracy: 0.9559 - val_loss: 0.2737 - val_accuracy: 0.9094\n",
      "Epoch 48/500\n",
      "207/207 [==============================] - ETA: 0s - loss: 0.1134 - accuracy: 0.9568\n",
      "Epoch 48: val_accuracy did not improve from 0.92416\n",
      "207/207 [==============================] - 17s 83ms/step - loss: 0.1134 - accuracy: 0.9568 - val_loss: 0.3763 - val_accuracy: 0.8799\n",
      "Epoch 49/500\n",
      "207/207 [==============================] - ETA: 0s - loss: 0.1206 - accuracy: 0.9529\n",
      "Epoch 49: val_accuracy did not improve from 0.92416\n",
      "207/207 [==============================] - 17s 82ms/step - loss: 0.1206 - accuracy: 0.9529 - val_loss: 0.2591 - val_accuracy: 0.9129\n",
      "Epoch 50/500\n",
      "207/207 [==============================] - ETA: 0s - loss: 0.1234 - accuracy: 0.9553\n",
      "Epoch 50: val_accuracy did not improve from 0.92416\n",
      "207/207 [==============================] - 17s 84ms/step - loss: 0.1234 - accuracy: 0.9553 - val_loss: 0.6252 - val_accuracy: 0.8371\n",
      "Epoch 51/500\n",
      "207/207 [==============================] - ETA: 0s - loss: 0.1280 - accuracy: 0.9519\n",
      "Epoch 51: val_accuracy did not improve from 0.92416\n",
      "207/207 [==============================] - 17s 84ms/step - loss: 0.1280 - accuracy: 0.9519 - val_loss: 0.2687 - val_accuracy: 0.9136\n",
      "Epoch 52/500\n",
      "207/207 [==============================] - ETA: 0s - loss: 0.1176 - accuracy: 0.9553\n",
      "Epoch 52: val_accuracy did not improve from 0.92416\n",
      "207/207 [==============================] - 17s 83ms/step - loss: 0.1176 - accuracy: 0.9553 - val_loss: 0.9010 - val_accuracy: 0.7858\n",
      "Epoch 53/500\n",
      "207/207 [==============================] - ETA: 0s - loss: 0.1352 - accuracy: 0.9516\n",
      "Epoch 53: val_accuracy did not improve from 0.92416\n",
      "207/207 [==============================] - 17s 83ms/step - loss: 0.1352 - accuracy: 0.9516 - val_loss: 0.3027 - val_accuracy: 0.9003\n",
      "Epoch 54/500\n",
      "207/207 [==============================] - ETA: 0s - loss: 0.0911 - accuracy: 0.9652\n",
      "Epoch 54: val_accuracy did not improve from 0.92416\n",
      "207/207 [==============================] - 17s 83ms/step - loss: 0.0911 - accuracy: 0.9652 - val_loss: 0.4733 - val_accuracy: 0.8603\n",
      "Epoch 55/500\n",
      "207/207 [==============================] - ETA: 0s - loss: 0.1064 - accuracy: 0.9586\n",
      "Epoch 55: val_accuracy did not improve from 0.92416\n",
      "207/207 [==============================] - 17s 82ms/step - loss: 0.1064 - accuracy: 0.9586 - val_loss: 0.5440 - val_accuracy: 0.8462\n",
      "Epoch 56/500\n",
      "207/207 [==============================] - ETA: 0s - loss: 0.1103 - accuracy: 0.9577\n",
      "Epoch 56: val_accuracy did not improve from 0.92416\n",
      "207/207 [==============================] - 17s 83ms/step - loss: 0.1103 - accuracy: 0.9577 - val_loss: 0.2668 - val_accuracy: 0.9164\n",
      "Epoch 57/500\n",
      "207/207 [==============================] - ETA: 0s - loss: 0.1092 - accuracy: 0.9604\n",
      "Epoch 57: val_accuracy did not improve from 0.92416\n",
      "207/207 [==============================] - 17s 81ms/step - loss: 0.1092 - accuracy: 0.9604 - val_loss: 0.2899 - val_accuracy: 0.8989\n"
     ]
    },
    {
     "name": "stdout",
     "output_type": "stream",
     "text": [
      "Epoch 58/500\n",
      "207/207 [==============================] - ETA: 0s - loss: 0.1223 - accuracy: 0.9553\n",
      "Epoch 58: val_accuracy did not improve from 0.92416\n",
      "207/207 [==============================] - 17s 82ms/step - loss: 0.1223 - accuracy: 0.9553 - val_loss: 0.2942 - val_accuracy: 0.9087\n",
      "Epoch 59/500\n",
      "207/207 [==============================] - ETA: 0s - loss: 0.0905 - accuracy: 0.9662\n",
      "Epoch 59: val_accuracy did not improve from 0.92416\n",
      "207/207 [==============================] - 17s 82ms/step - loss: 0.0905 - accuracy: 0.9662 - val_loss: 0.3828 - val_accuracy: 0.8729\n",
      "Epoch 60/500\n",
      "207/207 [==============================] - ETA: 0s - loss: 0.0900 - accuracy: 0.9659\n",
      "Epoch 60: val_accuracy did not improve from 0.92416\n",
      "207/207 [==============================] - 17s 83ms/step - loss: 0.0900 - accuracy: 0.9659 - val_loss: 0.2296 - val_accuracy: 0.9228\n",
      "Epoch 61/500\n",
      "207/207 [==============================] - ETA: 0s - loss: 0.0914 - accuracy: 0.9652\n",
      "Epoch 61: val_accuracy did not improve from 0.92416\n",
      "207/207 [==============================] - 17s 83ms/step - loss: 0.0914 - accuracy: 0.9652 - val_loss: 0.3600 - val_accuracy: 0.8975\n",
      "Epoch 62/500\n",
      "207/207 [==============================] - ETA: 0s - loss: 0.1186 - accuracy: 0.9580\n",
      "Epoch 62: val_accuracy did not improve from 0.92416\n",
      "207/207 [==============================] - 17s 82ms/step - loss: 0.1186 - accuracy: 0.9580 - val_loss: 0.2829 - val_accuracy: 0.9052\n",
      "Epoch 63/500\n",
      "207/207 [==============================] - ETA: 0s - loss: 0.1039 - accuracy: 0.9583\n",
      "Epoch 63: val_accuracy did not improve from 0.92416\n",
      "207/207 [==============================] - 17s 82ms/step - loss: 0.1039 - accuracy: 0.9583 - val_loss: 0.4270 - val_accuracy: 0.8778\n",
      "Epoch 64/500\n",
      "207/207 [==============================] - ETA: 0s - loss: 0.0903 - accuracy: 0.9686\n",
      "Epoch 64: val_accuracy did not improve from 0.92416\n",
      "207/207 [==============================] - 17s 82ms/step - loss: 0.0903 - accuracy: 0.9686 - val_loss: 0.4916 - val_accuracy: 0.8666\n",
      "Epoch 65/500\n",
      "207/207 [==============================] - ETA: 0s - loss: 0.1027 - accuracy: 0.9583\n",
      "Epoch 65: val_accuracy did not improve from 0.92416\n",
      "207/207 [==============================] - 17s 83ms/step - loss: 0.1027 - accuracy: 0.9583 - val_loss: 0.2302 - val_accuracy: 0.9185\n",
      "Epoch 66/500\n",
      "207/207 [==============================] - ETA: 0s - loss: 0.1260 - accuracy: 0.9544\n",
      "Epoch 66: val_accuracy improved from 0.92416 to 0.92837, saving model to model_weights.h5\n",
      "207/207 [==============================] - 18s 85ms/step - loss: 0.1260 - accuracy: 0.9544 - val_loss: 0.2375 - val_accuracy: 0.9284\n",
      "Epoch 67/500\n",
      "207/207 [==============================] - ETA: 0s - loss: 0.0817 - accuracy: 0.9680\n",
      "Epoch 67: val_accuracy did not improve from 0.92837\n",
      "207/207 [==============================] - 17s 83ms/step - loss: 0.0817 - accuracy: 0.9680 - val_loss: 0.2070 - val_accuracy: 0.9284\n",
      "Epoch 68/500\n",
      "207/207 [==============================] - ETA: 0s - loss: 0.0776 - accuracy: 0.9710\n",
      "Epoch 68: val_accuracy did not improve from 0.92837\n",
      "207/207 [==============================] - 17s 83ms/step - loss: 0.0776 - accuracy: 0.9710 - val_loss: 0.3244 - val_accuracy: 0.9115\n",
      "Epoch 69/500\n",
      "207/207 [==============================] - ETA: 0s - loss: 0.1084 - accuracy: 0.9583\n",
      "Epoch 69: val_accuracy did not improve from 0.92837\n",
      "207/207 [==============================] - 17s 83ms/step - loss: 0.1084 - accuracy: 0.9583 - val_loss: 0.2483 - val_accuracy: 0.9270\n",
      "Epoch 70/500\n",
      "207/207 [==============================] - ETA: 0s - loss: 0.0881 - accuracy: 0.9674\n",
      "Epoch 70: val_accuracy did not improve from 0.92837\n",
      "207/207 [==============================] - 17s 82ms/step - loss: 0.0881 - accuracy: 0.9674 - val_loss: 0.2416 - val_accuracy: 0.9094\n",
      "Epoch 71/500\n",
      "207/207 [==============================] - ETA: 0s - loss: 0.1044 - accuracy: 0.9631\n",
      "Epoch 71: val_accuracy did not improve from 0.92837\n",
      "207/207 [==============================] - 17s 83ms/step - loss: 0.1044 - accuracy: 0.9631 - val_loss: 0.2561 - val_accuracy: 0.9213\n",
      "Epoch 72/500\n",
      "207/207 [==============================] - ETA: 0s - loss: 0.0854 - accuracy: 0.9737\n",
      "Epoch 72: val_accuracy improved from 0.92837 to 0.94101, saving model to model_weights.h5\n",
      "207/207 [==============================] - 17s 84ms/step - loss: 0.0854 - accuracy: 0.9737 - val_loss: 0.1868 - val_accuracy: 0.9410\n",
      "Epoch 73/500\n",
      "207/207 [==============================] - ETA: 0s - loss: 0.0891 - accuracy: 0.9674\n",
      "Epoch 73: val_accuracy did not improve from 0.94101\n",
      "207/207 [==============================] - 17s 84ms/step - loss: 0.0891 - accuracy: 0.9674 - val_loss: 0.3647 - val_accuracy: 0.8940\n",
      "Epoch 74/500\n",
      "207/207 [==============================] - ETA: 0s - loss: 0.0751 - accuracy: 0.9704\n",
      "Epoch 74: val_accuracy did not improve from 0.94101\n",
      "207/207 [==============================] - 17s 82ms/step - loss: 0.0751 - accuracy: 0.9704 - val_loss: 0.3396 - val_accuracy: 0.9003\n",
      "Epoch 75/500\n",
      "207/207 [==============================] - ETA: 0s - loss: 0.0705 - accuracy: 0.9722\n",
      "Epoch 75: val_accuracy did not improve from 0.94101\n",
      "207/207 [==============================] - 17s 81ms/step - loss: 0.0705 - accuracy: 0.9722 - val_loss: 0.2831 - val_accuracy: 0.9171\n",
      "Epoch 76/500\n",
      "207/207 [==============================] - ETA: 0s - loss: 0.0718 - accuracy: 0.9725\n",
      "Epoch 76: val_accuracy did not improve from 0.94101\n",
      "207/207 [==============================] - 17s 83ms/step - loss: 0.0718 - accuracy: 0.9725 - val_loss: 0.2787 - val_accuracy: 0.9136\n",
      "Epoch 77/500\n",
      "207/207 [==============================] - ETA: 0s - loss: 0.0763 - accuracy: 0.9722\n",
      "Epoch 77: val_accuracy did not improve from 0.94101\n",
      "207/207 [==============================] - 17s 84ms/step - loss: 0.0763 - accuracy: 0.9722 - val_loss: 0.5105 - val_accuracy: 0.8539\n",
      "Epoch 78/500\n",
      "207/207 [==============================] - ETA: 0s - loss: 0.1277 - accuracy: 0.9577\n",
      "Epoch 78: val_accuracy did not improve from 0.94101\n",
      "207/207 [==============================] - 17s 82ms/step - loss: 0.1277 - accuracy: 0.9577 - val_loss: 0.4824 - val_accuracy: 0.8448\n",
      "Epoch 79/500\n",
      "207/207 [==============================] - ETA: 0s - loss: 0.0835 - accuracy: 0.9707\n",
      "Epoch 79: val_accuracy did not improve from 0.94101\n",
      "207/207 [==============================] - 17s 83ms/step - loss: 0.0835 - accuracy: 0.9707 - val_loss: 0.2092 - val_accuracy: 0.9284\n",
      "Epoch 80/500\n",
      "207/207 [==============================] - ETA: 0s - loss: 0.0682 - accuracy: 0.9779\n",
      "Epoch 80: val_accuracy did not improve from 0.94101\n",
      "207/207 [==============================] - 17s 83ms/step - loss: 0.0682 - accuracy: 0.9779 - val_loss: 0.4303 - val_accuracy: 0.8771\n",
      "Epoch 81/500\n",
      "207/207 [==============================] - ETA: 0s - loss: 0.0774 - accuracy: 0.9701\n",
      "Epoch 81: val_accuracy did not improve from 0.94101\n",
      "207/207 [==============================] - 17s 82ms/step - loss: 0.0774 - accuracy: 0.9701 - val_loss: 0.3138 - val_accuracy: 0.9129\n",
      "Epoch 82/500\n",
      "207/207 [==============================] - ETA: 0s - loss: 0.0811 - accuracy: 0.9695\n",
      "Epoch 82: val_accuracy did not improve from 0.94101\n",
      "207/207 [==============================] - 17s 83ms/step - loss: 0.0811 - accuracy: 0.9695 - val_loss: 1.6785 - val_accuracy: 0.6910\n",
      "Epoch 83/500\n",
      "207/207 [==============================] - ETA: 0s - loss: 0.0671 - accuracy: 0.9734\n",
      "Epoch 83: val_accuracy did not improve from 0.94101\n",
      "207/207 [==============================] - 17s 84ms/step - loss: 0.0671 - accuracy: 0.9734 - val_loss: 0.2498 - val_accuracy: 0.9249\n",
      "Epoch 84/500\n",
      "207/207 [==============================] - ETA: 0s - loss: 0.0753 - accuracy: 0.9722\n",
      "Epoch 84: val_accuracy did not improve from 0.94101\n",
      "207/207 [==============================] - 17s 82ms/step - loss: 0.0753 - accuracy: 0.9722 - val_loss: 0.3413 - val_accuracy: 0.8982\n",
      "Epoch 85/500\n",
      "207/207 [==============================] - ETA: 0s - loss: 0.0670 - accuracy: 0.9728\n",
      "Epoch 85: val_accuracy did not improve from 0.94101\n",
      "207/207 [==============================] - 17s 83ms/step - loss: 0.0670 - accuracy: 0.9728 - val_loss: 0.2420 - val_accuracy: 0.9270\n",
      "Epoch 86/500\n",
      "207/207 [==============================] - ETA: 0s - loss: 0.0628 - accuracy: 0.9758\n",
      "Epoch 86: val_accuracy did not improve from 0.94101\n",
      "207/207 [==============================] - 17s 83ms/step - loss: 0.0628 - accuracy: 0.9758 - val_loss: 0.5665 - val_accuracy: 0.8434\n"
     ]
    },
    {
     "name": "stdout",
     "output_type": "stream",
     "text": [
      "Epoch 87/500\n",
      "207/207 [==============================] - ETA: 0s - loss: 0.0508 - accuracy: 0.9819\n",
      "Epoch 87: val_accuracy did not improve from 0.94101\n",
      "207/207 [==============================] - 17s 82ms/step - loss: 0.0508 - accuracy: 0.9819 - val_loss: 0.3555 - val_accuracy: 0.8982\n",
      "Epoch 88/500\n",
      "207/207 [==============================] - ETA: 0s - loss: 0.0535 - accuracy: 0.9819\n",
      "Epoch 88: val_accuracy did not improve from 0.94101\n",
      "207/207 [==============================] - 17s 81ms/step - loss: 0.0535 - accuracy: 0.9819 - val_loss: 0.3198 - val_accuracy: 0.9150\n",
      "Epoch 89/500\n",
      "207/207 [==============================] - ETA: 0s - loss: 0.1145 - accuracy: 0.9607\n",
      "Epoch 89: val_accuracy did not improve from 0.94101\n",
      "207/207 [==============================] - 17s 82ms/step - loss: 0.1145 - accuracy: 0.9607 - val_loss: 0.4129 - val_accuracy: 0.8862\n",
      "Epoch 90/500\n",
      "207/207 [==============================] - ETA: 0s - loss: 0.0855 - accuracy: 0.9665\n",
      "Epoch 90: val_accuracy did not improve from 0.94101\n",
      "207/207 [==============================] - 17s 82ms/step - loss: 0.0855 - accuracy: 0.9665 - val_loss: 0.3737 - val_accuracy: 0.8919\n",
      "Epoch 91/500\n",
      "207/207 [==============================] - ETA: 0s - loss: 0.0687 - accuracy: 0.9737\n",
      "Epoch 91: val_accuracy did not improve from 0.94101\n",
      "207/207 [==============================] - 17s 84ms/step - loss: 0.0687 - accuracy: 0.9737 - val_loss: 0.4012 - val_accuracy: 0.9073\n",
      "Epoch 92/500\n",
      "207/207 [==============================] - ETA: 0s - loss: 0.0613 - accuracy: 0.9764\n",
      "Epoch 92: val_accuracy did not improve from 0.94101\n",
      "207/207 [==============================] - 17s 83ms/step - loss: 0.0613 - accuracy: 0.9764 - val_loss: 0.3974 - val_accuracy: 0.8820\n",
      "Epoch 93/500\n",
      "207/207 [==============================] - ETA: 0s - loss: 0.0689 - accuracy: 0.9761\n",
      "Epoch 93: val_accuracy did not improve from 0.94101\n",
      "207/207 [==============================] - 17s 82ms/step - loss: 0.0689 - accuracy: 0.9761 - val_loss: 0.2224 - val_accuracy: 0.9347\n",
      "Epoch 94/500\n",
      "207/207 [==============================] - ETA: 0s - loss: 0.0681 - accuracy: 0.9740\n",
      "Epoch 94: val_accuracy did not improve from 0.94101\n",
      "207/207 [==============================] - 18s 85ms/step - loss: 0.0681 - accuracy: 0.9740 - val_loss: 0.2573 - val_accuracy: 0.9326\n",
      "Epoch 95/500\n",
      "207/207 [==============================] - ETA: 0s - loss: 0.0609 - accuracy: 0.9782\n",
      "Epoch 95: val_accuracy did not improve from 0.94101\n",
      "207/207 [==============================] - 17s 84ms/step - loss: 0.0609 - accuracy: 0.9782 - val_loss: 0.3253 - val_accuracy: 0.9094\n",
      "Epoch 96/500\n",
      "207/207 [==============================] - ETA: 0s - loss: 0.0617 - accuracy: 0.9770\n",
      "Epoch 96: val_accuracy did not improve from 0.94101\n",
      "207/207 [==============================] - 17s 82ms/step - loss: 0.0617 - accuracy: 0.9770 - val_loss: 0.2197 - val_accuracy: 0.9312\n",
      "Epoch 97/500\n",
      "207/207 [==============================] - ETA: 0s - loss: 0.0632 - accuracy: 0.9764\n",
      "Epoch 97: val_accuracy did not improve from 0.94101\n",
      "207/207 [==============================] - 17s 84ms/step - loss: 0.0632 - accuracy: 0.9764 - val_loss: 0.2336 - val_accuracy: 0.9382\n",
      "Epoch 98/500\n",
      "207/207 [==============================] - ETA: 0s - loss: 0.0594 - accuracy: 0.9761\n",
      "Epoch 98: val_accuracy did not improve from 0.94101\n",
      "207/207 [==============================] - 18s 86ms/step - loss: 0.0594 - accuracy: 0.9761 - val_loss: 0.2402 - val_accuracy: 0.9235\n",
      "Epoch 99/500\n",
      "207/207 [==============================] - ETA: 0s - loss: 0.0604 - accuracy: 0.9788\n",
      "Epoch 99: val_accuracy did not improve from 0.94101\n",
      "207/207 [==============================] - 17s 83ms/step - loss: 0.0604 - accuracy: 0.9788 - val_loss: 0.2145 - val_accuracy: 0.9382\n",
      "Epoch 100/500\n",
      "207/207 [==============================] - ETA: 0s - loss: 0.0632 - accuracy: 0.9752\n",
      "Epoch 100: val_accuracy did not improve from 0.94101\n",
      "207/207 [==============================] - 17s 84ms/step - loss: 0.0632 - accuracy: 0.9752 - val_loss: 0.2686 - val_accuracy: 0.9206\n",
      "Epoch 101/500\n",
      "207/207 [==============================] - ETA: 0s - loss: 0.0658 - accuracy: 0.9755\n",
      "Epoch 101: val_accuracy did not improve from 0.94101\n",
      "207/207 [==============================] - 17s 83ms/step - loss: 0.0658 - accuracy: 0.9755 - val_loss: 0.2594 - val_accuracy: 0.9199\n",
      "Epoch 102/500\n",
      "207/207 [==============================] - ETA: 0s - loss: 0.0626 - accuracy: 0.9761\n",
      "Epoch 102: val_accuracy did not improve from 0.94101\n",
      "207/207 [==============================] - 17s 83ms/step - loss: 0.0626 - accuracy: 0.9761 - val_loss: 0.1982 - val_accuracy: 0.9410\n",
      "Epoch 103/500\n",
      "207/207 [==============================] - ETA: 0s - loss: 0.0670 - accuracy: 0.9749\n",
      "Epoch 103: val_accuracy did not improve from 0.94101\n",
      "207/207 [==============================] - 17s 83ms/step - loss: 0.0670 - accuracy: 0.9749 - val_loss: 0.2516 - val_accuracy: 0.9242\n",
      "Epoch 104/500\n",
      "207/207 [==============================] - ETA: 0s - loss: 0.0661 - accuracy: 0.9761\n",
      "Epoch 104: val_accuracy did not improve from 0.94101\n",
      "207/207 [==============================] - 17s 82ms/step - loss: 0.0661 - accuracy: 0.9761 - val_loss: 0.2260 - val_accuracy: 0.9305\n",
      "Epoch 105/500\n",
      "207/207 [==============================] - ETA: 0s - loss: 0.0391 - accuracy: 0.9867\n",
      "Epoch 105: val_accuracy did not improve from 0.94101\n",
      "207/207 [==============================] - 17s 82ms/step - loss: 0.0391 - accuracy: 0.9867 - val_loss: 0.2532 - val_accuracy: 0.9347\n",
      "Epoch 106/500\n",
      "207/207 [==============================] - ETA: 0s - loss: 0.0600 - accuracy: 0.9813\n",
      "Epoch 106: val_accuracy did not improve from 0.94101\n",
      "207/207 [==============================] - 17s 82ms/step - loss: 0.0600 - accuracy: 0.9813 - val_loss: 0.2793 - val_accuracy: 0.9284\n",
      "Epoch 107/500\n",
      "207/207 [==============================] - ETA: 0s - loss: 0.0663 - accuracy: 0.9804\n",
      "Epoch 107: val_accuracy did not improve from 0.94101\n",
      "207/207 [==============================] - 17s 84ms/step - loss: 0.0663 - accuracy: 0.9804 - val_loss: 0.2986 - val_accuracy: 0.9185\n",
      "Epoch 108/500\n",
      "207/207 [==============================] - ETA: 0s - loss: 0.0606 - accuracy: 0.9764\n",
      "Epoch 108: val_accuracy did not improve from 0.94101\n",
      "207/207 [==============================] - 17s 84ms/step - loss: 0.0606 - accuracy: 0.9764 - val_loss: 0.3213 - val_accuracy: 0.9108\n",
      "Epoch 109/500\n",
      "207/207 [==============================] - ETA: 0s - loss: 0.0590 - accuracy: 0.9804\n",
      "Epoch 109: val_accuracy did not improve from 0.94101\n",
      "207/207 [==============================] - 17s 83ms/step - loss: 0.0590 - accuracy: 0.9804 - val_loss: 0.2275 - val_accuracy: 0.9354\n",
      "Epoch 110/500\n",
      "207/207 [==============================] - ETA: 0s - loss: 0.0500 - accuracy: 0.9807\n",
      "Epoch 110: val_accuracy did not improve from 0.94101\n",
      "207/207 [==============================] - 17s 84ms/step - loss: 0.0500 - accuracy: 0.9807 - val_loss: 0.2825 - val_accuracy: 0.9228\n",
      "Epoch 111/500\n",
      "207/207 [==============================] - ETA: 0s - loss: 0.0442 - accuracy: 0.9822\n",
      "Epoch 111: val_accuracy did not improve from 0.94101\n",
      "207/207 [==============================] - 17s 83ms/step - loss: 0.0442 - accuracy: 0.9822 - val_loss: 0.2239 - val_accuracy: 0.9319\n",
      "Epoch 112/500\n",
      "207/207 [==============================] - ETA: 0s - loss: 0.0566 - accuracy: 0.9798\n",
      "Epoch 112: val_accuracy did not improve from 0.94101\n",
      "207/207 [==============================] - 17s 84ms/step - loss: 0.0566 - accuracy: 0.9798 - val_loss: 0.4001 - val_accuracy: 0.8940\n",
      "Epoch 113/500\n",
      "207/207 [==============================] - ETA: 0s - loss: 0.0730 - accuracy: 0.9767\n",
      "Epoch 113: val_accuracy did not improve from 0.94101\n",
      "207/207 [==============================] - 17s 83ms/step - loss: 0.0730 - accuracy: 0.9767 - val_loss: 0.6255 - val_accuracy: 0.8427\n",
      "Epoch 114/500\n",
      "207/207 [==============================] - ETA: 0s - loss: 0.0523 - accuracy: 0.9807\n",
      "Epoch 114: val_accuracy did not improve from 0.94101\n",
      "207/207 [==============================] - 17s 83ms/step - loss: 0.0523 - accuracy: 0.9807 - val_loss: 0.3051 - val_accuracy: 0.9094\n",
      "Epoch 115/500\n",
      "207/207 [==============================] - ETA: 0s - loss: 0.0598 - accuracy: 0.9816\n",
      "Epoch 115: val_accuracy did not improve from 0.94101\n",
      "207/207 [==============================] - 17s 83ms/step - loss: 0.0598 - accuracy: 0.9816 - val_loss: 0.3043 - val_accuracy: 0.9150\n"
     ]
    },
    {
     "name": "stdout",
     "output_type": "stream",
     "text": [
      "Epoch 116/500\n",
      "207/207 [==============================] - ETA: 0s - loss: 0.0637 - accuracy: 0.9785\n",
      "Epoch 116: val_accuracy did not improve from 0.94101\n",
      "207/207 [==============================] - 17s 82ms/step - loss: 0.0637 - accuracy: 0.9785 - val_loss: 0.2343 - val_accuracy: 0.9333\n",
      "Epoch 117/500\n",
      "207/207 [==============================] - ETA: 0s - loss: 0.0359 - accuracy: 0.9897\n",
      "Epoch 117: val_accuracy improved from 0.94101 to 0.94171, saving model to model_weights.h5\n",
      "207/207 [==============================] - 18s 85ms/step - loss: 0.0359 - accuracy: 0.9897 - val_loss: 0.2380 - val_accuracy: 0.9417\n",
      "Epoch 118/500\n",
      "207/207 [==============================] - ETA: 0s - loss: 0.0392 - accuracy: 0.9852\n",
      "Epoch 118: val_accuracy did not improve from 0.94171\n",
      "207/207 [==============================] - 17s 83ms/step - loss: 0.0392 - accuracy: 0.9852 - val_loss: 0.4444 - val_accuracy: 0.8876\n",
      "Epoch 119/500\n",
      "207/207 [==============================] - ETA: 0s - loss: 0.0598 - accuracy: 0.9810\n",
      "Epoch 119: val_accuracy did not improve from 0.94171\n",
      "207/207 [==============================] - 17s 83ms/step - loss: 0.0598 - accuracy: 0.9810 - val_loss: 0.2941 - val_accuracy: 0.9221\n",
      "Epoch 120/500\n",
      "207/207 [==============================] - ETA: 0s - loss: 0.0563 - accuracy: 0.9813\n",
      "Epoch 120: val_accuracy did not improve from 0.94171\n",
      "207/207 [==============================] - 17s 84ms/step - loss: 0.0563 - accuracy: 0.9813 - val_loss: 0.3091 - val_accuracy: 0.9157\n",
      "Epoch 121/500\n",
      "207/207 [==============================] - ETA: 0s - loss: 0.0588 - accuracy: 0.9764\n",
      "Epoch 121: val_accuracy did not improve from 0.94171\n",
      "207/207 [==============================] - 17s 83ms/step - loss: 0.0588 - accuracy: 0.9764 - val_loss: 0.3260 - val_accuracy: 0.9192\n",
      "Epoch 122/500\n",
      "207/207 [==============================] - ETA: 0s - loss: 0.0418 - accuracy: 0.9876\n",
      "Epoch 122: val_accuracy did not improve from 0.94171\n",
      "207/207 [==============================] - 17s 82ms/step - loss: 0.0418 - accuracy: 0.9876 - val_loss: 0.5511 - val_accuracy: 0.8729\n",
      "Epoch 123/500\n",
      "207/207 [==============================] - ETA: 0s - loss: 0.0577 - accuracy: 0.9807\n",
      "Epoch 123: val_accuracy did not improve from 0.94171\n",
      "207/207 [==============================] - 17s 84ms/step - loss: 0.0577 - accuracy: 0.9807 - val_loss: 0.3626 - val_accuracy: 0.9045\n",
      "Epoch 124/500\n",
      "207/207 [==============================] - ETA: 0s - loss: 0.0457 - accuracy: 0.9837\n",
      "Epoch 124: val_accuracy did not improve from 0.94171\n",
      "207/207 [==============================] - 17s 82ms/step - loss: 0.0457 - accuracy: 0.9837 - val_loss: 0.2841 - val_accuracy: 0.9228\n",
      "Epoch 125/500\n",
      "207/207 [==============================] - ETA: 0s - loss: 0.0449 - accuracy: 0.9840\n",
      "Epoch 125: val_accuracy did not improve from 0.94171\n",
      "207/207 [==============================] - 17s 81ms/step - loss: 0.0449 - accuracy: 0.9840 - val_loss: 0.8323 - val_accuracy: 0.8125\n",
      "Epoch 126/500\n",
      "207/207 [==============================] - ETA: 0s - loss: 0.0428 - accuracy: 0.9846\n",
      "Epoch 126: val_accuracy did not improve from 0.94171\n",
      "207/207 [==============================] - 17s 82ms/step - loss: 0.0428 - accuracy: 0.9846 - val_loss: 0.2928 - val_accuracy: 0.9326\n",
      "Epoch 127/500\n",
      "207/207 [==============================] - ETA: 0s - loss: 0.0492 - accuracy: 0.9837\n",
      "Epoch 127: val_accuracy did not improve from 0.94171\n",
      "207/207 [==============================] - 17s 83ms/step - loss: 0.0492 - accuracy: 0.9837 - val_loss: 0.2710 - val_accuracy: 0.9312\n",
      "Epoch 128/500\n",
      "207/207 [==============================] - ETA: 0s - loss: 0.0453 - accuracy: 0.9837\n",
      "Epoch 128: val_accuracy did not improve from 0.94171\n",
      "207/207 [==============================] - 17s 83ms/step - loss: 0.0453 - accuracy: 0.9837 - val_loss: 0.3494 - val_accuracy: 0.9094\n",
      "Epoch 129/500\n",
      "207/207 [==============================] - ETA: 0s - loss: 0.0486 - accuracy: 0.9825\n",
      "Epoch 129: val_accuracy did not improve from 0.94171\n",
      "207/207 [==============================] - 17s 82ms/step - loss: 0.0486 - accuracy: 0.9825 - val_loss: 0.3418 - val_accuracy: 0.9171\n",
      "Epoch 130/500\n",
      "207/207 [==============================] - ETA: 0s - loss: 0.0672 - accuracy: 0.9776\n",
      "Epoch 130: val_accuracy did not improve from 0.94171\n",
      "207/207 [==============================] - 17s 83ms/step - loss: 0.0672 - accuracy: 0.9776 - val_loss: 0.2401 - val_accuracy: 0.9270\n",
      "Epoch 131/500\n",
      "207/207 [==============================] - ETA: 0s - loss: 0.0661 - accuracy: 0.9788\n",
      "Epoch 131: val_accuracy did not improve from 0.94171\n",
      "207/207 [==============================] - 17s 82ms/step - loss: 0.0661 - accuracy: 0.9788 - val_loss: 0.2783 - val_accuracy: 0.9206\n",
      "Epoch 132/500\n",
      "207/207 [==============================] - ETA: 0s - loss: 0.0426 - accuracy: 0.9846\n",
      "Epoch 132: val_accuracy did not improve from 0.94171\n",
      "207/207 [==============================] - 17s 82ms/step - loss: 0.0426 - accuracy: 0.9846 - val_loss: 0.3411 - val_accuracy: 0.9059\n",
      "Epoch 133/500\n",
      "207/207 [==============================] - ETA: 0s - loss: 0.0456 - accuracy: 0.9843\n",
      "Epoch 133: val_accuracy improved from 0.94171 to 0.94663, saving model to model_weights.h5\n",
      "207/207 [==============================] - 17s 84ms/step - loss: 0.0456 - accuracy: 0.9843 - val_loss: 0.2074 - val_accuracy: 0.9466\n",
      "Epoch 134/500\n",
      "207/207 [==============================] - ETA: 0s - loss: 0.0442 - accuracy: 0.9870\n",
      "Epoch 134: val_accuracy did not improve from 0.94663\n",
      "207/207 [==============================] - 17s 83ms/step - loss: 0.0442 - accuracy: 0.9870 - val_loss: 0.3146 - val_accuracy: 0.9192\n",
      "Epoch 135/500\n",
      "207/207 [==============================] - ETA: 0s - loss: 0.0463 - accuracy: 0.9855\n",
      "Epoch 135: val_accuracy did not improve from 0.94663\n",
      "207/207 [==============================] - 17s 82ms/step - loss: 0.0463 - accuracy: 0.9855 - val_loss: 0.2489 - val_accuracy: 0.9424\n",
      "Epoch 136/500\n",
      "207/207 [==============================] - ETA: 0s - loss: 0.0336 - accuracy: 0.9885\n",
      "Epoch 136: val_accuracy did not improve from 0.94663\n",
      "207/207 [==============================] - 17s 84ms/step - loss: 0.0336 - accuracy: 0.9885 - val_loss: 0.2662 - val_accuracy: 0.9298\n",
      "Epoch 137/500\n",
      "207/207 [==============================] - ETA: 0s - loss: 0.0317 - accuracy: 0.9891\n",
      "Epoch 137: val_accuracy did not improve from 0.94663\n",
      "207/207 [==============================] - 17s 83ms/step - loss: 0.0317 - accuracy: 0.9891 - val_loss: 0.2566 - val_accuracy: 0.9403\n",
      "Epoch 138/500\n",
      "207/207 [==============================] - ETA: 0s - loss: 0.0489 - accuracy: 0.9816\n",
      "Epoch 138: val_accuracy did not improve from 0.94663\n",
      "207/207 [==============================] - 17s 84ms/step - loss: 0.0489 - accuracy: 0.9816 - val_loss: 0.3232 - val_accuracy: 0.9122\n",
      "Epoch 139/500\n",
      "207/207 [==============================] - ETA: 0s - loss: 0.0457 - accuracy: 0.9843\n",
      "Epoch 139: val_accuracy did not improve from 0.94663\n",
      "207/207 [==============================] - 17s 83ms/step - loss: 0.0457 - accuracy: 0.9843 - val_loss: 0.2137 - val_accuracy: 0.9417\n",
      "Epoch 140/500\n",
      "207/207 [==============================] - ETA: 0s - loss: 0.0591 - accuracy: 0.9785\n",
      "Epoch 140: val_accuracy did not improve from 0.94663\n",
      "207/207 [==============================] - 17s 84ms/step - loss: 0.0591 - accuracy: 0.9785 - val_loss: 0.3318 - val_accuracy: 0.9192\n",
      "Epoch 141/500\n",
      "207/207 [==============================] - ETA: 0s - loss: 0.0608 - accuracy: 0.9791\n",
      "Epoch 141: val_accuracy did not improve from 0.94663\n",
      "207/207 [==============================] - 17s 83ms/step - loss: 0.0608 - accuracy: 0.9791 - val_loss: 0.3180 - val_accuracy: 0.9164\n",
      "Epoch 142/500\n",
      "206/207 [============================>.] - ETA: 0s - loss: 0.0537 - accuracy: 0.9836\n",
      "Epoch 142: val_accuracy did not improve from 0.94663\n",
      "207/207 [==============================] - 18s 87ms/step - loss: 0.0536 - accuracy: 0.9837 - val_loss: 0.2916 - val_accuracy: 0.9178\n",
      "Epoch 143/500\n",
      "207/207 [==============================] - ETA: 0s - loss: 0.0451 - accuracy: 0.9846\n",
      "Epoch 143: val_accuracy did not improve from 0.94663\n",
      "207/207 [==============================] - 17s 82ms/step - loss: 0.0451 - accuracy: 0.9846 - val_loss: 0.2365 - val_accuracy: 0.9354\n",
      "Epoch 144/500\n",
      "207/207 [==============================] - ETA: 0s - loss: 0.0413 - accuracy: 0.9840\n",
      "Epoch 144: val_accuracy did not improve from 0.94663\n"
     ]
    },
    {
     "name": "stdout",
     "output_type": "stream",
     "text": [
      "207/207 [==============================] - 18s 85ms/step - loss: 0.0413 - accuracy: 0.9840 - val_loss: 0.4042 - val_accuracy: 0.8926\n",
      "Epoch 145/500\n",
      "207/207 [==============================] - ETA: 0s - loss: 0.0366 - accuracy: 0.9885\n",
      "Epoch 145: val_accuracy did not improve from 0.94663\n",
      "207/207 [==============================] - 17s 83ms/step - loss: 0.0366 - accuracy: 0.9885 - val_loss: 0.2609 - val_accuracy: 0.9284\n",
      "Epoch 146/500\n",
      "207/207 [==============================] - ETA: 0s - loss: 0.0309 - accuracy: 0.9891\n",
      "Epoch 146: val_accuracy did not improve from 0.94663\n",
      "207/207 [==============================] - 17s 81ms/step - loss: 0.0309 - accuracy: 0.9891 - val_loss: 0.5062 - val_accuracy: 0.8954\n",
      "Epoch 147/500\n",
      "207/207 [==============================] - ETA: 0s - loss: 0.0449 - accuracy: 0.9840\n",
      "Epoch 147: val_accuracy did not improve from 0.94663\n",
      "207/207 [==============================] - 17s 82ms/step - loss: 0.0449 - accuracy: 0.9840 - val_loss: 0.6274 - val_accuracy: 0.8638\n",
      "Epoch 148/500\n",
      "207/207 [==============================] - ETA: 0s - loss: 0.0603 - accuracy: 0.9785\n",
      "Epoch 148: val_accuracy did not improve from 0.94663\n",
      "207/207 [==============================] - 17s 82ms/step - loss: 0.0603 - accuracy: 0.9785 - val_loss: 0.2571 - val_accuracy: 0.9340\n",
      "Epoch 149/500\n",
      "207/207 [==============================] - ETA: 0s - loss: 0.0570 - accuracy: 0.9819\n",
      "Epoch 149: val_accuracy did not improve from 0.94663\n",
      "207/207 [==============================] - 17s 83ms/step - loss: 0.0570 - accuracy: 0.9819 - val_loss: 0.5622 - val_accuracy: 0.8771\n",
      "Epoch 150/500\n",
      "207/207 [==============================] - ETA: 0s - loss: 0.0466 - accuracy: 0.9831\n",
      "Epoch 150: val_accuracy did not improve from 0.94663\n",
      "207/207 [==============================] - 17s 83ms/step - loss: 0.0466 - accuracy: 0.9831 - val_loss: 0.2786 - val_accuracy: 0.9298\n",
      "Epoch 151/500\n",
      "207/207 [==============================] - ETA: 0s - loss: 0.0513 - accuracy: 0.9804\n",
      "Epoch 151: val_accuracy did not improve from 0.94663\n",
      "207/207 [==============================] - 17s 83ms/step - loss: 0.0513 - accuracy: 0.9804 - val_loss: 0.4320 - val_accuracy: 0.8954\n",
      "Epoch 152/500\n",
      "207/207 [==============================] - ETA: 0s - loss: 0.0282 - accuracy: 0.9894\n",
      "Epoch 152: val_accuracy did not improve from 0.94663\n",
      "207/207 [==============================] - 17s 82ms/step - loss: 0.0282 - accuracy: 0.9894 - val_loss: 0.3863 - val_accuracy: 0.9024\n",
      "Epoch 153/500\n",
      "207/207 [==============================] - ETA: 0s - loss: 0.0237 - accuracy: 0.9918\n",
      "Epoch 153: val_accuracy did not improve from 0.94663\n",
      "207/207 [==============================] - 17s 82ms/step - loss: 0.0237 - accuracy: 0.9918 - val_loss: 0.3159 - val_accuracy: 0.9249\n",
      "Epoch 154/500\n",
      "207/207 [==============================] - ETA: 0s - loss: 0.0392 - accuracy: 0.9849\n",
      "Epoch 154: val_accuracy did not improve from 0.94663\n",
      "207/207 [==============================] - 17s 82ms/step - loss: 0.0392 - accuracy: 0.9849 - val_loss: 0.3773 - val_accuracy: 0.9157\n",
      "Epoch 155/500\n",
      "207/207 [==============================] - ETA: 0s - loss: 0.0492 - accuracy: 0.9825\n",
      "Epoch 155: val_accuracy did not improve from 0.94663\n",
      "207/207 [==============================] - 18s 85ms/step - loss: 0.0492 - accuracy: 0.9825 - val_loss: 0.2820 - val_accuracy: 0.9228\n",
      "Epoch 156/500\n",
      "207/207 [==============================] - ETA: 0s - loss: 0.0352 - accuracy: 0.9888\n",
      "Epoch 156: val_accuracy did not improve from 0.94663\n",
      "207/207 [==============================] - 17s 82ms/step - loss: 0.0352 - accuracy: 0.9888 - val_loss: 0.4104 - val_accuracy: 0.9024\n",
      "Epoch 157/500\n",
      "207/207 [==============================] - ETA: 0s - loss: 0.0459 - accuracy: 0.9852\n",
      "Epoch 157: val_accuracy did not improve from 0.94663\n",
      "207/207 [==============================] - 17s 83ms/step - loss: 0.0459 - accuracy: 0.9852 - val_loss: 0.2940 - val_accuracy: 0.9185\n",
      "Epoch 158/500\n",
      "207/207 [==============================] - ETA: 0s - loss: 0.0235 - accuracy: 0.9927\n",
      "Epoch 158: val_accuracy did not improve from 0.94663\n",
      "207/207 [==============================] - 17s 83ms/step - loss: 0.0235 - accuracy: 0.9927 - val_loss: 0.2263 - val_accuracy: 0.9452\n",
      "Epoch 159/500\n",
      "207/207 [==============================] - ETA: 0s - loss: 0.0526 - accuracy: 0.9804\n",
      "Epoch 159: val_accuracy did not improve from 0.94663\n",
      "207/207 [==============================] - 18s 85ms/step - loss: 0.0526 - accuracy: 0.9804 - val_loss: 0.4590 - val_accuracy: 0.9045\n",
      "Epoch 160/500\n",
      "207/207 [==============================] - ETA: 0s - loss: 0.0341 - accuracy: 0.9864\n",
      "Epoch 160: val_accuracy did not improve from 0.94663\n",
      "207/207 [==============================] - 17s 83ms/step - loss: 0.0341 - accuracy: 0.9864 - val_loss: 0.2930 - val_accuracy: 0.9340\n",
      "Epoch 161/500\n",
      "207/207 [==============================] - ETA: 0s - loss: 0.0482 - accuracy: 0.9834\n",
      "Epoch 161: val_accuracy did not improve from 0.94663\n",
      "207/207 [==============================] - 17s 82ms/step - loss: 0.0482 - accuracy: 0.9834 - val_loss: 0.2861 - val_accuracy: 0.9221\n",
      "Epoch 162/500\n",
      "207/207 [==============================] - ETA: 0s - loss: 0.0447 - accuracy: 0.9849\n",
      "Epoch 162: val_accuracy did not improve from 0.94663\n",
      "207/207 [==============================] - 17s 82ms/step - loss: 0.0447 - accuracy: 0.9849 - val_loss: 0.2997 - val_accuracy: 0.9277\n",
      "Epoch 163/500\n",
      "207/207 [==============================] - ETA: 0s - loss: 0.0296 - accuracy: 0.9894\n",
      "Epoch 163: val_accuracy did not improve from 0.94663\n",
      "207/207 [==============================] - 17s 82ms/step - loss: 0.0296 - accuracy: 0.9894 - val_loss: 0.3226 - val_accuracy: 0.9235\n",
      "Epoch 164/500\n",
      "207/207 [==============================] - ETA: 0s - loss: 0.0384 - accuracy: 0.9873\n",
      "Epoch 164: val_accuracy did not improve from 0.94663\n",
      "207/207 [==============================] - 17s 83ms/step - loss: 0.0384 - accuracy: 0.9873 - val_loss: 0.3214 - val_accuracy: 0.9157\n",
      "Epoch 165/500\n",
      "207/207 [==============================] - ETA: 0s - loss: 0.0495 - accuracy: 0.9819\n",
      "Epoch 165: val_accuracy did not improve from 0.94663\n",
      "207/207 [==============================] - 17s 82ms/step - loss: 0.0495 - accuracy: 0.9819 - val_loss: 0.2536 - val_accuracy: 0.9319\n",
      "Epoch 166/500\n",
      "207/207 [==============================] - ETA: 0s - loss: 0.0333 - accuracy: 0.9873\n",
      "Epoch 166: val_accuracy did not improve from 0.94663\n",
      "207/207 [==============================] - 17s 82ms/step - loss: 0.0333 - accuracy: 0.9873 - val_loss: 0.3906 - val_accuracy: 0.9129\n",
      "Epoch 167/500\n",
      "207/207 [==============================] - ETA: 0s - loss: 0.0376 - accuracy: 0.9840\n",
      "Epoch 167: val_accuracy did not improve from 0.94663\n",
      "207/207 [==============================] - 17s 83ms/step - loss: 0.0376 - accuracy: 0.9840 - val_loss: 0.3941 - val_accuracy: 0.8975\n",
      "Epoch 168/500\n",
      "207/207 [==============================] - ETA: 0s - loss: 0.0408 - accuracy: 0.9873\n",
      "Epoch 168: val_accuracy did not improve from 0.94663\n",
      "207/207 [==============================] - 17s 81ms/step - loss: 0.0408 - accuracy: 0.9873 - val_loss: 0.2438 - val_accuracy: 0.9326\n",
      "Epoch 169/500\n",
      "207/207 [==============================] - ETA: 0s - loss: 0.0364 - accuracy: 0.9861\n",
      "Epoch 169: val_accuracy did not improve from 0.94663\n",
      "207/207 [==============================] - 17s 82ms/step - loss: 0.0364 - accuracy: 0.9861 - val_loss: 0.2587 - val_accuracy: 0.9396\n",
      "Epoch 170/500\n",
      "207/207 [==============================] - ETA: 0s - loss: 0.0404 - accuracy: 0.9867\n",
      "Epoch 170: val_accuracy did not improve from 0.94663\n",
      "207/207 [==============================] - 17s 83ms/step - loss: 0.0404 - accuracy: 0.9867 - val_loss: 0.2483 - val_accuracy: 0.9298\n",
      "Epoch 171/500\n",
      "207/207 [==============================] - ETA: 0s - loss: 0.0355 - accuracy: 0.9870\n",
      "Epoch 171: val_accuracy did not improve from 0.94663\n",
      "207/207 [==============================] - 17s 83ms/step - loss: 0.0355 - accuracy: 0.9870 - val_loss: 0.6269 - val_accuracy: 0.8827\n",
      "Epoch 172/500\n",
      "207/207 [==============================] - ETA: 0s - loss: 0.0315 - accuracy: 0.9879\n",
      "Epoch 172: val_accuracy did not improve from 0.94663\n",
      "207/207 [==============================] - 17s 81ms/step - loss: 0.0315 - accuracy: 0.9879 - val_loss: 0.2407 - val_accuracy: 0.9340\n",
      "Epoch 173/500\n",
      "207/207 [==============================] - ETA: 0s - loss: 0.0230 - accuracy: 0.9918\n",
      "Epoch 173: val_accuracy did not improve from 0.94663\n",
      "207/207 [==============================] - 17s 82ms/step - loss: 0.0230 - accuracy: 0.9918 - val_loss: 0.3401 - val_accuracy: 0.9164\n",
      "Epoch 174/500\n",
      "207/207 [==============================] - ETA: 0s - loss: 0.0381 - accuracy: 0.9903\n",
      "Epoch 174: val_accuracy did not improve from 0.94663\n",
      "207/207 [==============================] - 17s 84ms/step - loss: 0.0381 - accuracy: 0.9903 - val_loss: 0.2711 - val_accuracy: 0.9312\n",
      "Epoch 175/500\n",
      "207/207 [==============================] - ETA: 0s - loss: 0.0432 - accuracy: 0.9846\n",
      "Epoch 175: val_accuracy did not improve from 0.94663\n",
      "207/207 [==============================] - 17s 82ms/step - loss: 0.0432 - accuracy: 0.9846 - val_loss: 0.4642 - val_accuracy: 0.8919\n",
      "Epoch 176/500\n",
      "207/207 [==============================] - ETA: 0s - loss: 0.0413 - accuracy: 0.9891\n",
      "Epoch 176: val_accuracy did not improve from 0.94663\n",
      "207/207 [==============================] - 17s 83ms/step - loss: 0.0413 - accuracy: 0.9891 - val_loss: 0.3783 - val_accuracy: 0.9101\n",
      "Epoch 177/500\n",
      "207/207 [==============================] - ETA: 0s - loss: 0.0321 - accuracy: 0.9873\n",
      "Epoch 177: val_accuracy did not improve from 0.94663\n",
      "207/207 [==============================] - 17s 83ms/step - loss: 0.0321 - accuracy: 0.9873 - val_loss: 0.3458 - val_accuracy: 0.9108\n",
      "Epoch 178/500\n",
      "207/207 [==============================] - ETA: 0s - loss: 0.0376 - accuracy: 0.9855\n",
      "Epoch 178: val_accuracy did not improve from 0.94663\n",
      "207/207 [==============================] - 17s 83ms/step - loss: 0.0376 - accuracy: 0.9855 - val_loss: 0.4856 - val_accuracy: 0.8904\n",
      "Epoch 179/500\n",
      "206/207 [============================>.] - ETA: 0s - loss: 0.0359 - accuracy: 0.9885\n",
      "Epoch 179: val_accuracy did not improve from 0.94663\n",
      "207/207 [==============================] - 17s 84ms/step - loss: 0.0358 - accuracy: 0.9885 - val_loss: 0.2678 - val_accuracy: 0.9361\n",
      "Epoch 180/500\n",
      "207/207 [==============================] - ETA: 0s - loss: 0.0251 - accuracy: 0.9909\n",
      "Epoch 180: val_accuracy did not improve from 0.94663\n",
      "207/207 [==============================] - 17s 83ms/step - loss: 0.0251 - accuracy: 0.9909 - val_loss: 0.3459 - val_accuracy: 0.9249\n",
      "Epoch 181/500\n",
      "207/207 [==============================] - ETA: 0s - loss: 0.0311 - accuracy: 0.9888\n",
      "Epoch 181: val_accuracy did not improve from 0.94663\n",
      "207/207 [==============================] - 17s 82ms/step - loss: 0.0311 - accuracy: 0.9888 - val_loss: 0.2861 - val_accuracy: 0.9319\n",
      "Epoch 182/500\n",
      "207/207 [==============================] - ETA: 0s - loss: 0.0213 - accuracy: 0.9921\n",
      "Epoch 182: val_accuracy did not improve from 0.94663\n",
      "207/207 [==============================] - 17s 83ms/step - loss: 0.0213 - accuracy: 0.9921 - val_loss: 0.2344 - val_accuracy: 0.9403\n",
      "Epoch 183/500\n",
      "207/207 [==============================] - ETA: 0s - loss: 0.0254 - accuracy: 0.9924\n",
      "Epoch 183: val_accuracy did not improve from 0.94663\n",
      "207/207 [==============================] - 17s 84ms/step - loss: 0.0254 - accuracy: 0.9924 - val_loss: 0.6559 - val_accuracy: 0.8757\n",
      "Epoch 184/500\n",
      "207/207 [==============================] - ETA: 0s - loss: 0.0392 - accuracy: 0.9867\n",
      "Epoch 184: val_accuracy did not improve from 0.94663\n",
      "207/207 [==============================] - 17s 82ms/step - loss: 0.0392 - accuracy: 0.9867 - val_loss: 0.3228 - val_accuracy: 0.9164\n",
      "Epoch 185/500\n",
      "207/207 [==============================] - ETA: 0s - loss: 0.0300 - accuracy: 0.9915\n",
      "Epoch 185: val_accuracy did not improve from 0.94663\n",
      "207/207 [==============================] - 17s 83ms/step - loss: 0.0300 - accuracy: 0.9915 - val_loss: 0.2411 - val_accuracy: 0.9319\n",
      "Epoch 186/500\n",
      "207/207 [==============================] - ETA: 0s - loss: 0.0262 - accuracy: 0.9891\n",
      "Epoch 186: val_accuracy did not improve from 0.94663\n",
      "207/207 [==============================] - 17s 82ms/step - loss: 0.0262 - accuracy: 0.9891 - val_loss: 0.4336 - val_accuracy: 0.8940\n",
      "Epoch 187/500\n",
      "207/207 [==============================] - ETA: 0s - loss: 0.0379 - accuracy: 0.9873\n",
      "Epoch 187: val_accuracy did not improve from 0.94663\n",
      "207/207 [==============================] - 17s 81ms/step - loss: 0.0379 - accuracy: 0.9873 - val_loss: 0.3295 - val_accuracy: 0.9136\n",
      "Epoch 188/500\n",
      "207/207 [==============================] - ETA: 0s - loss: 0.1057 - accuracy: 0.9746\n",
      "Epoch 188: val_accuracy did not improve from 0.94663\n",
      "207/207 [==============================] - 17s 83ms/step - loss: 0.1057 - accuracy: 0.9746 - val_loss: 0.3317 - val_accuracy: 0.9249\n",
      "Epoch 189/500\n",
      "207/207 [==============================] - ETA: 0s - loss: 0.0300 - accuracy: 0.9909\n",
      "Epoch 189: val_accuracy did not improve from 0.94663\n",
      "207/207 [==============================] - 17s 83ms/step - loss: 0.0300 - accuracy: 0.9909 - val_loss: 0.2467 - val_accuracy: 0.9424\n",
      "Epoch 190/500\n",
      "207/207 [==============================] - ETA: 0s - loss: 0.0187 - accuracy: 0.9927\n",
      "Epoch 190: val_accuracy did not improve from 0.94663\n",
      "207/207 [==============================] - 17s 82ms/step - loss: 0.0187 - accuracy: 0.9927 - val_loss: 0.3119 - val_accuracy: 0.9242\n",
      "Epoch 191/500\n",
      "207/207 [==============================] - ETA: 0s - loss: 0.0264 - accuracy: 0.9924\n",
      "Epoch 191: val_accuracy did not improve from 0.94663\n",
      "207/207 [==============================] - 17s 82ms/step - loss: 0.0264 - accuracy: 0.9924 - val_loss: 0.4338 - val_accuracy: 0.9101\n",
      "Epoch 192/500\n",
      "207/207 [==============================] - ETA: 0s - loss: 0.0355 - accuracy: 0.9867\n",
      "Epoch 192: val_accuracy did not improve from 0.94663\n",
      "207/207 [==============================] - 17s 84ms/step - loss: 0.0355 - accuracy: 0.9867 - val_loss: 0.3799 - val_accuracy: 0.9199\n",
      "Epoch 193/500\n",
      "207/207 [==============================] - ETA: 0s - loss: 0.0294 - accuracy: 0.9906\n",
      "Epoch 193: val_accuracy did not improve from 0.94663\n",
      "207/207 [==============================] - 17s 82ms/step - loss: 0.0294 - accuracy: 0.9906 - val_loss: 0.3359 - val_accuracy: 0.9221\n",
      "Epoch 194/500\n",
      "207/207 [==============================] - ETA: 0s - loss: 0.0338 - accuracy: 0.9885\n",
      "Epoch 194: val_accuracy did not improve from 0.94663\n",
      "207/207 [==============================] - 17s 83ms/step - loss: 0.0338 - accuracy: 0.9885 - val_loss: 0.3254 - val_accuracy: 0.9185\n",
      "Epoch 195/500\n",
      "207/207 [==============================] - ETA: 0s - loss: 0.0284 - accuracy: 0.9891\n",
      "Epoch 195: val_accuracy did not improve from 0.94663\n",
      "207/207 [==============================] - 17s 82ms/step - loss: 0.0284 - accuracy: 0.9891 - val_loss: 0.3885 - val_accuracy: 0.9038\n",
      "Epoch 196/500\n",
      "207/207 [==============================] - ETA: 0s - loss: 0.0256 - accuracy: 0.9909\n",
      "Epoch 196: val_accuracy did not improve from 0.94663\n",
      "207/207 [==============================] - 17s 83ms/step - loss: 0.0256 - accuracy: 0.9909 - val_loss: 0.3923 - val_accuracy: 0.9017\n",
      "Epoch 197/500\n",
      "207/207 [==============================] - ETA: 0s - loss: 0.0270 - accuracy: 0.9897\n",
      "Epoch 197: val_accuracy did not improve from 0.94663\n",
      "207/207 [==============================] - 17s 83ms/step - loss: 0.0270 - accuracy: 0.9897 - val_loss: 0.2688 - val_accuracy: 0.9410\n",
      "Epoch 198/500\n",
      "207/207 [==============================] - ETA: 0s - loss: 0.0260 - accuracy: 0.9909\n",
      "Epoch 198: val_accuracy did not improve from 0.94663\n",
      "207/207 [==============================] - 17s 82ms/step - loss: 0.0260 - accuracy: 0.9909 - val_loss: 0.3773 - val_accuracy: 0.9228\n",
      "Epoch 199/500\n",
      "207/207 [==============================] - ETA: 0s - loss: 0.0310 - accuracy: 0.9900\n",
      "Epoch 199: val_accuracy did not improve from 0.94663\n",
      "207/207 [==============================] - 17s 83ms/step - loss: 0.0310 - accuracy: 0.9900 - val_loss: 0.3773 - val_accuracy: 0.9171\n",
      "Epoch 200/500\n",
      "207/207 [==============================] - ETA: 0s - loss: 0.0259 - accuracy: 0.9909\n",
      "Epoch 200: val_accuracy did not improve from 0.94663\n",
      "207/207 [==============================] - 17s 83ms/step - loss: 0.0259 - accuracy: 0.9909 - val_loss: 0.3080 - val_accuracy: 0.9256\n",
      "Epoch 201/500\n",
      "207/207 [==============================] - ETA: 0s - loss: 0.0237 - accuracy: 0.9930\n",
      "Epoch 201: val_accuracy did not improve from 0.94663\n",
      "207/207 [==============================] - 17s 83ms/step - loss: 0.0237 - accuracy: 0.9930 - val_loss: 0.2559 - val_accuracy: 0.9375\n"
     ]
    },
    {
     "name": "stdout",
     "output_type": "stream",
     "text": [
      "Epoch 202/500\n",
      "207/207 [==============================] - ETA: 0s - loss: 0.0271 - accuracy: 0.9903\n",
      "Epoch 202: val_accuracy did not improve from 0.94663\n",
      "207/207 [==============================] - 17s 82ms/step - loss: 0.0271 - accuracy: 0.9903 - val_loss: 0.3223 - val_accuracy: 0.9178\n",
      "Epoch 203/500\n",
      "207/207 [==============================] - ETA: 0s - loss: 0.0181 - accuracy: 0.9934\n",
      "Epoch 203: val_accuracy did not improve from 0.94663\n",
      "207/207 [==============================] - 17s 83ms/step - loss: 0.0181 - accuracy: 0.9934 - val_loss: 0.2365 - val_accuracy: 0.9382\n",
      "Epoch 204/500\n",
      "207/207 [==============================] - ETA: 0s - loss: 0.0380 - accuracy: 0.9891\n",
      "Epoch 204: val_accuracy did not improve from 0.94663\n",
      "207/207 [==============================] - 17s 82ms/step - loss: 0.0380 - accuracy: 0.9891 - val_loss: 0.4449 - val_accuracy: 0.8933\n",
      "Epoch 205/500\n",
      "207/207 [==============================] - ETA: 0s - loss: 0.0227 - accuracy: 0.9924\n",
      "Epoch 205: val_accuracy did not improve from 0.94663\n",
      "207/207 [==============================] - 17s 83ms/step - loss: 0.0227 - accuracy: 0.9924 - val_loss: 0.2783 - val_accuracy: 0.9424\n",
      "Epoch 206/500\n",
      "207/207 [==============================] - ETA: 0s - loss: 0.0312 - accuracy: 0.9894\n",
      "Epoch 206: val_accuracy did not improve from 0.94663\n",
      "207/207 [==============================] - 17s 81ms/step - loss: 0.0312 - accuracy: 0.9894 - val_loss: 0.3706 - val_accuracy: 0.9115\n",
      "Epoch 207/500\n",
      "207/207 [==============================] - ETA: 0s - loss: 0.0366 - accuracy: 0.9873\n",
      "Epoch 207: val_accuracy did not improve from 0.94663\n",
      "207/207 [==============================] - 17s 82ms/step - loss: 0.0366 - accuracy: 0.9873 - val_loss: 0.3319 - val_accuracy: 0.9206\n",
      "Epoch 208/500\n",
      "207/207 [==============================] - ETA: 0s - loss: 0.0352 - accuracy: 0.9879\n",
      "Epoch 208: val_accuracy did not improve from 0.94663\n",
      "207/207 [==============================] - 18s 85ms/step - loss: 0.0352 - accuracy: 0.9879 - val_loss: 0.5434 - val_accuracy: 0.8764\n",
      "Epoch 209/500\n",
      "207/207 [==============================] - ETA: 0s - loss: 0.0463 - accuracy: 0.9867\n",
      "Epoch 209: val_accuracy did not improve from 0.94663\n",
      "207/207 [==============================] - 17s 83ms/step - loss: 0.0463 - accuracy: 0.9867 - val_loss: 0.2866 - val_accuracy: 0.9361\n",
      "Epoch 210/500\n",
      "207/207 [==============================] - ETA: 0s - loss: 0.0348 - accuracy: 0.9900\n",
      "Epoch 210: val_accuracy did not improve from 0.94663\n",
      "207/207 [==============================] - 17s 82ms/step - loss: 0.0348 - accuracy: 0.9900 - val_loss: 0.2879 - val_accuracy: 0.9291\n",
      "Epoch 211/500\n",
      "207/207 [==============================] - ETA: 0s - loss: 0.0240 - accuracy: 0.9915\n",
      "Epoch 211: val_accuracy did not improve from 0.94663\n",
      "207/207 [==============================] - 17s 82ms/step - loss: 0.0240 - accuracy: 0.9915 - val_loss: 0.3536 - val_accuracy: 0.9206\n",
      "Epoch 212/500\n",
      "207/207 [==============================] - ETA: 0s - loss: 0.0400 - accuracy: 0.9864\n",
      "Epoch 212: val_accuracy did not improve from 0.94663\n",
      "207/207 [==============================] - 17s 83ms/step - loss: 0.0400 - accuracy: 0.9864 - val_loss: 0.2687 - val_accuracy: 0.9326\n",
      "Epoch 213/500\n",
      "207/207 [==============================] - ETA: 0s - loss: 0.0264 - accuracy: 0.9903\n",
      "Epoch 213: val_accuracy did not improve from 0.94663\n",
      "207/207 [==============================] - 17s 83ms/step - loss: 0.0264 - accuracy: 0.9903 - val_loss: 0.4341 - val_accuracy: 0.8982\n",
      "Epoch 214/500\n",
      "207/207 [==============================] - ETA: 0s - loss: 0.0268 - accuracy: 0.9915\n",
      "Epoch 214: val_accuracy did not improve from 0.94663\n",
      "207/207 [==============================] - 17s 83ms/step - loss: 0.0268 - accuracy: 0.9915 - val_loss: 0.2481 - val_accuracy: 0.9452\n",
      "Epoch 215/500\n",
      "207/207 [==============================] - ETA: 0s - loss: 0.0194 - accuracy: 0.9921\n",
      "Epoch 215: val_accuracy did not improve from 0.94663\n",
      "207/207 [==============================] - 17s 82ms/step - loss: 0.0194 - accuracy: 0.9921 - val_loss: 0.2533 - val_accuracy: 0.9305\n",
      "Epoch 216/500\n",
      "207/207 [==============================] - ETA: 0s - loss: 0.0183 - accuracy: 0.9930\n",
      "Epoch 216: val_accuracy did not improve from 0.94663\n",
      "207/207 [==============================] - 17s 83ms/step - loss: 0.0183 - accuracy: 0.9930 - val_loss: 0.2762 - val_accuracy: 0.9382\n",
      "Epoch 217/500\n",
      "207/207 [==============================] - ETA: 0s - loss: 0.0509 - accuracy: 0.9822\n",
      "Epoch 217: val_accuracy did not improve from 0.94663\n",
      "207/207 [==============================] - 17s 82ms/step - loss: 0.0509 - accuracy: 0.9822 - val_loss: 0.3807 - val_accuracy: 0.9185\n",
      "Epoch 218/500\n",
      "207/207 [==============================] - ETA: 0s - loss: 0.0386 - accuracy: 0.9879\n",
      "Epoch 218: val_accuracy did not improve from 0.94663\n",
      "207/207 [==============================] - 17s 82ms/step - loss: 0.0386 - accuracy: 0.9879 - val_loss: 0.4165 - val_accuracy: 0.9094\n",
      "Epoch 219/500\n",
      "207/207 [==============================] - ETA: 0s - loss: 0.0215 - accuracy: 0.9912\n",
      "Epoch 219: val_accuracy did not improve from 0.94663\n",
      "207/207 [==============================] - 17s 84ms/step - loss: 0.0215 - accuracy: 0.9912 - val_loss: 0.2779 - val_accuracy: 0.9382\n",
      "Epoch 220/500\n",
      "207/207 [==============================] - ETA: 0s - loss: 0.0267 - accuracy: 0.9921\n",
      "Epoch 220: val_accuracy did not improve from 0.94663\n",
      "207/207 [==============================] - 18s 87ms/step - loss: 0.0267 - accuracy: 0.9921 - val_loss: 0.4469 - val_accuracy: 0.8996\n",
      "Epoch 221/500\n",
      "207/207 [==============================] - ETA: 0s - loss: 0.0262 - accuracy: 0.9924\n",
      "Epoch 221: val_accuracy did not improve from 0.94663\n",
      "207/207 [==============================] - 18s 86ms/step - loss: 0.0262 - accuracy: 0.9924 - val_loss: 0.2679 - val_accuracy: 0.9382\n",
      "Epoch 222/500\n",
      "207/207 [==============================] - ETA: 0s - loss: 0.0250 - accuracy: 0.9915\n",
      "Epoch 222: val_accuracy did not improve from 0.94663\n",
      "207/207 [==============================] - 17s 82ms/step - loss: 0.0250 - accuracy: 0.9915 - val_loss: 0.4673 - val_accuracy: 0.9087\n",
      "Epoch 223/500\n",
      "207/207 [==============================] - ETA: 0s - loss: 0.0236 - accuracy: 0.9918\n",
      "Epoch 223: val_accuracy did not improve from 0.94663\n",
      "207/207 [==============================] - 17s 84ms/step - loss: 0.0236 - accuracy: 0.9918 - val_loss: 0.3527 - val_accuracy: 0.9199\n",
      "Epoch 224/500\n",
      "207/207 [==============================] - ETA: 0s - loss: 0.0337 - accuracy: 0.9894\n",
      "Epoch 224: val_accuracy did not improve from 0.94663\n",
      "207/207 [==============================] - 17s 82ms/step - loss: 0.0337 - accuracy: 0.9894 - val_loss: 0.3280 - val_accuracy: 0.9312\n",
      "Epoch 225/500\n",
      "207/207 [==============================] - ETA: 0s - loss: 0.0236 - accuracy: 0.9927\n",
      "Epoch 225: val_accuracy did not improve from 0.94663\n",
      "207/207 [==============================] - 17s 81ms/step - loss: 0.0236 - accuracy: 0.9927 - val_loss: 0.2807 - val_accuracy: 0.9347\n",
      "Epoch 226/500\n",
      "207/207 [==============================] - ETA: 0s - loss: 0.0164 - accuracy: 0.9937\n",
      "Epoch 226: val_accuracy did not improve from 0.94663\n",
      "207/207 [==============================] - 17s 81ms/step - loss: 0.0164 - accuracy: 0.9937 - val_loss: 0.2683 - val_accuracy: 0.9382\n",
      "Epoch 227/500\n",
      "207/207 [==============================] - ETA: 0s - loss: 0.0157 - accuracy: 0.9955\n",
      "Epoch 227: val_accuracy did not improve from 0.94663\n",
      "207/207 [==============================] - 17s 81ms/step - loss: 0.0157 - accuracy: 0.9955 - val_loss: 0.4341 - val_accuracy: 0.9115\n",
      "Epoch 228/500\n",
      "207/207 [==============================] - ETA: 0s - loss: 0.0238 - accuracy: 0.9906\n",
      "Epoch 228: val_accuracy did not improve from 0.94663\n",
      "207/207 [==============================] - 17s 81ms/step - loss: 0.0238 - accuracy: 0.9906 - val_loss: 0.3071 - val_accuracy: 0.9305\n",
      "Epoch 229/500\n",
      "207/207 [==============================] - ETA: 0s - loss: 0.0287 - accuracy: 0.9912\n",
      "Epoch 229: val_accuracy did not improve from 0.94663\n",
      "207/207 [==============================] - 17s 80ms/step - loss: 0.0287 - accuracy: 0.9912 - val_loss: 1.3628 - val_accuracy: 0.7914\n",
      "Epoch 230/500\n",
      "207/207 [==============================] - ETA: 0s - loss: 0.0280 - accuracy: 0.9885\n",
      "Epoch 230: val_accuracy did not improve from 0.94663\n",
      "207/207 [==============================] - 17s 80ms/step - loss: 0.0280 - accuracy: 0.9885 - val_loss: 0.2393 - val_accuracy: 0.9438\n"
     ]
    },
    {
     "name": "stdout",
     "output_type": "stream",
     "text": [
      "Epoch 231/500\n",
      "207/207 [==============================] - ETA: 0s - loss: 0.0129 - accuracy: 0.9952\n",
      "Epoch 231: val_accuracy did not improve from 0.94663\n",
      "207/207 [==============================] - 17s 82ms/step - loss: 0.0129 - accuracy: 0.9952 - val_loss: 0.2824 - val_accuracy: 0.9361\n",
      "Epoch 232/500\n",
      "207/207 [==============================] - ETA: 0s - loss: 0.0143 - accuracy: 0.9955\n",
      "Epoch 232: val_accuracy improved from 0.94663 to 0.94803, saving model to model_weights.h5\n",
      "207/207 [==============================] - 17s 81ms/step - loss: 0.0143 - accuracy: 0.9955 - val_loss: 0.2317 - val_accuracy: 0.9480\n",
      "Epoch 233/500\n",
      "207/207 [==============================] - ETA: 0s - loss: 0.0187 - accuracy: 0.9927\n",
      "Epoch 233: val_accuracy did not improve from 0.94803\n",
      "207/207 [==============================] - 17s 82ms/step - loss: 0.0187 - accuracy: 0.9927 - val_loss: 0.3499 - val_accuracy: 0.9305\n",
      "Epoch 234/500\n",
      "207/207 [==============================] - ETA: 0s - loss: 0.0320 - accuracy: 0.9900\n",
      "Epoch 234: val_accuracy did not improve from 0.94803\n",
      "207/207 [==============================] - 17s 80ms/step - loss: 0.0320 - accuracy: 0.9900 - val_loss: 0.2697 - val_accuracy: 0.9340\n",
      "Epoch 235/500\n",
      "207/207 [==============================] - ETA: 0s - loss: 0.0814 - accuracy: 0.9779\n",
      "Epoch 235: val_accuracy did not improve from 0.94803\n",
      "207/207 [==============================] - 17s 80ms/step - loss: 0.0814 - accuracy: 0.9779 - val_loss: 0.4729 - val_accuracy: 0.8771\n",
      "Epoch 236/500\n",
      "206/207 [============================>.] - ETA: 0s - loss: 0.0359 - accuracy: 0.9894\n",
      "Epoch 236: val_accuracy did not improve from 0.94803\n",
      "207/207 [==============================] - 17s 80ms/step - loss: 0.0357 - accuracy: 0.9894 - val_loss: 0.2604 - val_accuracy: 0.9389\n",
      "Epoch 237/500\n",
      "207/207 [==============================] - ETA: 0s - loss: 0.0158 - accuracy: 0.9940\n",
      "Epoch 237: val_accuracy did not improve from 0.94803\n",
      "207/207 [==============================] - 17s 80ms/step - loss: 0.0158 - accuracy: 0.9940 - val_loss: 0.4184 - val_accuracy: 0.9213\n",
      "Epoch 238/500\n",
      "207/207 [==============================] - ETA: 0s - loss: 0.0220 - accuracy: 0.9927\n",
      "Epoch 238: val_accuracy did not improve from 0.94803\n",
      "207/207 [==============================] - 17s 81ms/step - loss: 0.0220 - accuracy: 0.9927 - val_loss: 0.2951 - val_accuracy: 0.9354\n",
      "Epoch 239/500\n",
      "207/207 [==============================] - ETA: 0s - loss: 0.0166 - accuracy: 0.9946\n",
      "Epoch 239: val_accuracy did not improve from 0.94803\n",
      "207/207 [==============================] - 17s 81ms/step - loss: 0.0166 - accuracy: 0.9946 - val_loss: 0.2808 - val_accuracy: 0.9403\n",
      "Epoch 240/500\n",
      "207/207 [==============================] - ETA: 0s - loss: 0.0081 - accuracy: 0.9964\n",
      "Epoch 240: val_accuracy did not improve from 0.94803\n",
      "207/207 [==============================] - 17s 80ms/step - loss: 0.0081 - accuracy: 0.9964 - val_loss: 0.3171 - val_accuracy: 0.9263\n",
      "Epoch 241/500\n",
      "207/207 [==============================] - ETA: 0s - loss: 0.0160 - accuracy: 0.9930\n",
      "Epoch 241: val_accuracy did not improve from 0.94803\n",
      "207/207 [==============================] - 17s 80ms/step - loss: 0.0160 - accuracy: 0.9930 - val_loss: 0.2955 - val_accuracy: 0.9277\n",
      "Epoch 242/500\n",
      "207/207 [==============================] - ETA: 0s - loss: 0.0162 - accuracy: 0.9934\n",
      "Epoch 242: val_accuracy did not improve from 0.94803\n",
      "207/207 [==============================] - 17s 80ms/step - loss: 0.0162 - accuracy: 0.9934 - val_loss: 0.2720 - val_accuracy: 0.9452\n",
      "Epoch 243/500\n",
      "207/207 [==============================] - ETA: 0s - loss: 0.0385 - accuracy: 0.9864\n",
      "Epoch 243: val_accuracy did not improve from 0.94803\n",
      "207/207 [==============================] - 17s 81ms/step - loss: 0.0385 - accuracy: 0.9864 - val_loss: 0.6397 - val_accuracy: 0.8617\n",
      "Epoch 244/500\n",
      "207/207 [==============================] - ETA: 0s - loss: 0.0344 - accuracy: 0.9891\n",
      "Epoch 244: val_accuracy did not improve from 0.94803\n",
      "207/207 [==============================] - 17s 80ms/step - loss: 0.0344 - accuracy: 0.9891 - val_loss: 0.4386 - val_accuracy: 0.9073\n",
      "Epoch 245/500\n",
      "207/207 [==============================] - ETA: 0s - loss: 0.0276 - accuracy: 0.9903\n",
      "Epoch 245: val_accuracy did not improve from 0.94803\n",
      "207/207 [==============================] - 17s 80ms/step - loss: 0.0276 - accuracy: 0.9903 - val_loss: 0.2726 - val_accuracy: 0.9438\n",
      "Epoch 246/500\n",
      "207/207 [==============================] - ETA: 0s - loss: 0.0209 - accuracy: 0.9952\n",
      "Epoch 246: val_accuracy did not improve from 0.94803\n",
      "207/207 [==============================] - 17s 80ms/step - loss: 0.0209 - accuracy: 0.9952 - val_loss: 0.3214 - val_accuracy: 0.9424\n",
      "Epoch 247/500\n",
      "207/207 [==============================] - ETA: 0s - loss: 0.0138 - accuracy: 0.9961\n",
      "Epoch 247: val_accuracy did not improve from 0.94803\n",
      "207/207 [==============================] - 17s 81ms/step - loss: 0.0138 - accuracy: 0.9961 - val_loss: 0.5616 - val_accuracy: 0.8820\n",
      "Epoch 248/500\n",
      "207/207 [==============================] - ETA: 0s - loss: 0.0261 - accuracy: 0.9937\n",
      "Epoch 248: val_accuracy did not improve from 0.94803\n",
      "207/207 [==============================] - 17s 82ms/step - loss: 0.0261 - accuracy: 0.9937 - val_loss: 0.3825 - val_accuracy: 0.9031\n",
      "Epoch 249/500\n",
      "207/207 [==============================] - ETA: 0s - loss: 0.0236 - accuracy: 0.9918\n",
      "Epoch 249: val_accuracy did not improve from 0.94803\n",
      "207/207 [==============================] - 17s 81ms/step - loss: 0.0236 - accuracy: 0.9918 - val_loss: 0.2835 - val_accuracy: 0.9382\n",
      "Epoch 250/500\n",
      "207/207 [==============================] - ETA: 0s - loss: 0.0296 - accuracy: 0.9903\n",
      "Epoch 250: val_accuracy did not improve from 0.94803\n",
      "207/207 [==============================] - 17s 80ms/step - loss: 0.0296 - accuracy: 0.9903 - val_loss: 0.5062 - val_accuracy: 0.8996\n",
      "Epoch 251/500\n",
      "207/207 [==============================] - ETA: 0s - loss: 0.0264 - accuracy: 0.9912\n",
      "Epoch 251: val_accuracy did not improve from 0.94803\n",
      "207/207 [==============================] - 17s 80ms/step - loss: 0.0264 - accuracy: 0.9912 - val_loss: 0.2760 - val_accuracy: 0.9319\n",
      "Epoch 252/500\n",
      "207/207 [==============================] - ETA: 0s - loss: 0.0313 - accuracy: 0.9885\n",
      "Epoch 252: val_accuracy did not improve from 0.94803\n",
      "207/207 [==============================] - 16s 79ms/step - loss: 0.0313 - accuracy: 0.9885 - val_loss: 0.4204 - val_accuracy: 0.9228\n",
      "Epoch 253/500\n",
      "207/207 [==============================] - ETA: 0s - loss: 0.0284 - accuracy: 0.9897\n",
      "Epoch 253: val_accuracy did not improve from 0.94803\n",
      "207/207 [==============================] - 17s 81ms/step - loss: 0.0284 - accuracy: 0.9897 - val_loss: 0.4057 - val_accuracy: 0.9031\n",
      "Epoch 254/500\n",
      "207/207 [==============================] - ETA: 0s - loss: 0.0295 - accuracy: 0.9924\n",
      "Epoch 254: val_accuracy did not improve from 0.94803\n",
      "207/207 [==============================] - 17s 81ms/step - loss: 0.0295 - accuracy: 0.9924 - val_loss: 0.7572 - val_accuracy: 0.8729\n",
      "Epoch 255/500\n",
      "207/207 [==============================] - ETA: 0s - loss: 0.0292 - accuracy: 0.9940\n",
      "Epoch 255: val_accuracy did not improve from 0.94803\n",
      "207/207 [==============================] - 17s 81ms/step - loss: 0.0292 - accuracy: 0.9940 - val_loss: 0.2617 - val_accuracy: 0.9382\n",
      "Epoch 256/500\n",
      "207/207 [==============================] - ETA: 0s - loss: 0.0372 - accuracy: 0.9894\n",
      "Epoch 256: val_accuracy did not improve from 0.94803\n",
      "207/207 [==============================] - 17s 81ms/step - loss: 0.0372 - accuracy: 0.9894 - val_loss: 0.5074 - val_accuracy: 0.9052\n",
      "Epoch 257/500\n",
      "207/207 [==============================] - ETA: 0s - loss: 0.0195 - accuracy: 0.9955\n",
      "Epoch 257: val_accuracy did not improve from 0.94803\n",
      "207/207 [==============================] - 17s 80ms/step - loss: 0.0195 - accuracy: 0.9955 - val_loss: 0.2593 - val_accuracy: 0.9424\n",
      "Epoch 258/500\n",
      "207/207 [==============================] - ETA: 0s - loss: 0.0173 - accuracy: 0.9949\n",
      "Epoch 258: val_accuracy did not improve from 0.94803\n",
      "207/207 [==============================] - 17s 80ms/step - loss: 0.0173 - accuracy: 0.9949 - val_loss: 0.2987 - val_accuracy: 0.9326\n",
      "Epoch 259/500\n",
      "207/207 [==============================] - ETA: 0s - loss: 0.0135 - accuracy: 0.9949\n",
      "Epoch 259: val_accuracy did not improve from 0.94803\n",
      "207/207 [==============================] - 17s 81ms/step - loss: 0.0135 - accuracy: 0.9949 - val_loss: 0.2981 - val_accuracy: 0.9417\n"
     ]
    },
    {
     "name": "stdout",
     "output_type": "stream",
     "text": [
      "Epoch 260/500\n",
      "207/207 [==============================] - ETA: 0s - loss: 0.0239 - accuracy: 0.9912\n",
      "Epoch 260: val_accuracy did not improve from 0.94803\n",
      "207/207 [==============================] - 17s 80ms/step - loss: 0.0239 - accuracy: 0.9912 - val_loss: 0.5751 - val_accuracy: 0.8631\n",
      "Epoch 261/500\n",
      "207/207 [==============================] - ETA: 0s - loss: 0.0256 - accuracy: 0.9927\n",
      "Epoch 261: val_accuracy did not improve from 0.94803\n",
      "207/207 [==============================] - 16s 79ms/step - loss: 0.0256 - accuracy: 0.9927 - val_loss: 0.2685 - val_accuracy: 0.9410\n",
      "Epoch 262/500\n",
      "207/207 [==============================] - ETA: 0s - loss: 0.0248 - accuracy: 0.9927\n",
      "Epoch 262: val_accuracy did not improve from 0.94803\n",
      "207/207 [==============================] - 17s 81ms/step - loss: 0.0248 - accuracy: 0.9927 - val_loss: 0.2914 - val_accuracy: 0.9291\n",
      "Epoch 263/500\n",
      "207/207 [==============================] - ETA: 0s - loss: 0.0208 - accuracy: 0.9930\n",
      "Epoch 263: val_accuracy did not improve from 0.94803\n",
      "207/207 [==============================] - 16s 79ms/step - loss: 0.0208 - accuracy: 0.9930 - val_loss: 0.4099 - val_accuracy: 0.9199\n",
      "Epoch 264/500\n",
      "207/207 [==============================] - ETA: 0s - loss: 0.0096 - accuracy: 0.9970\n",
      "Epoch 264: val_accuracy did not improve from 0.94803\n",
      "207/207 [==============================] - 17s 81ms/step - loss: 0.0096 - accuracy: 0.9970 - val_loss: 0.2696 - val_accuracy: 0.9431\n",
      "Epoch 265/500\n",
      "207/207 [==============================] - ETA: 0s - loss: 0.0266 - accuracy: 0.9915\n",
      "Epoch 265: val_accuracy did not improve from 0.94803\n",
      "207/207 [==============================] - 17s 80ms/step - loss: 0.0266 - accuracy: 0.9915 - val_loss: 0.3849 - val_accuracy: 0.9221\n",
      "Epoch 266/500\n",
      "207/207 [==============================] - ETA: 0s - loss: 0.0168 - accuracy: 0.9940\n",
      "Epoch 266: val_accuracy did not improve from 0.94803\n",
      "207/207 [==============================] - 17s 80ms/step - loss: 0.0168 - accuracy: 0.9940 - val_loss: 0.2802 - val_accuracy: 0.9382\n",
      "Epoch 267/500\n",
      "207/207 [==============================] - ETA: 0s - loss: 0.0355 - accuracy: 0.9891\n",
      "Epoch 267: val_accuracy did not improve from 0.94803\n",
      "207/207 [==============================] - 16s 79ms/step - loss: 0.0355 - accuracy: 0.9891 - val_loss: 0.3763 - val_accuracy: 0.9171\n",
      "Epoch 268/500\n",
      "207/207 [==============================] - ETA: 0s - loss: 0.0134 - accuracy: 0.9970\n",
      "Epoch 268: val_accuracy did not improve from 0.94803\n",
      "207/207 [==============================] - 17s 80ms/step - loss: 0.0134 - accuracy: 0.9970 - val_loss: 0.2692 - val_accuracy: 0.9403\n",
      "Epoch 269/500\n",
      "207/207 [==============================] - ETA: 0s - loss: 0.0270 - accuracy: 0.9909\n",
      "Epoch 269: val_accuracy did not improve from 0.94803\n",
      "207/207 [==============================] - 17s 82ms/step - loss: 0.0270 - accuracy: 0.9909 - val_loss: 0.2985 - val_accuracy: 0.9410\n",
      "Epoch 270/500\n",
      "207/207 [==============================] - ETA: 0s - loss: 0.0257 - accuracy: 0.9918\n",
      "Epoch 270: val_accuracy did not improve from 0.94803\n",
      "207/207 [==============================] - 17s 80ms/step - loss: 0.0257 - accuracy: 0.9918 - val_loss: 0.3488 - val_accuracy: 0.9319\n",
      "Epoch 271/500\n",
      "207/207 [==============================] - ETA: 0s - loss: 0.0400 - accuracy: 0.9873\n",
      "Epoch 271: val_accuracy did not improve from 0.94803\n",
      "207/207 [==============================] - 17s 80ms/step - loss: 0.0400 - accuracy: 0.9873 - val_loss: 0.4644 - val_accuracy: 0.8919\n",
      "Epoch 272/500\n",
      "207/207 [==============================] - ETA: 0s - loss: 0.0317 - accuracy: 0.9906\n",
      "Epoch 272: val_accuracy did not improve from 0.94803\n",
      "207/207 [==============================] - 17s 81ms/step - loss: 0.0317 - accuracy: 0.9906 - val_loss: 0.2385 - val_accuracy: 0.9452\n",
      "Epoch 273/500\n",
      "207/207 [==============================] - ETA: 0s - loss: 0.0235 - accuracy: 0.9937\n",
      "Epoch 273: val_accuracy did not improve from 0.94803\n",
      "207/207 [==============================] - 16s 79ms/step - loss: 0.0235 - accuracy: 0.9937 - val_loss: 0.2505 - val_accuracy: 0.9417\n",
      "Epoch 274/500\n",
      "207/207 [==============================] - ETA: 0s - loss: 0.0214 - accuracy: 0.9940\n",
      "Epoch 274: val_accuracy improved from 0.94803 to 0.94874, saving model to model_weights.h5\n",
      "207/207 [==============================] - 17s 81ms/step - loss: 0.0214 - accuracy: 0.9940 - val_loss: 0.2267 - val_accuracy: 0.9487\n",
      "Epoch 275/500\n",
      "207/207 [==============================] - ETA: 0s - loss: 0.0095 - accuracy: 0.9976\n",
      "Epoch 275: val_accuracy improved from 0.94874 to 0.95084, saving model to model_weights.h5\n",
      "207/207 [==============================] - 17s 82ms/step - loss: 0.0095 - accuracy: 0.9976 - val_loss: 0.2365 - val_accuracy: 0.9508\n",
      "Epoch 276/500\n",
      "207/207 [==============================] - ETA: 0s - loss: 0.0193 - accuracy: 0.9943\n",
      "Epoch 276: val_accuracy improved from 0.95084 to 0.95295, saving model to model_weights.h5\n",
      "207/207 [==============================] - 17s 83ms/step - loss: 0.0193 - accuracy: 0.9943 - val_loss: 0.2359 - val_accuracy: 0.9529\n",
      "Epoch 277/500\n",
      "207/207 [==============================] - ETA: 0s - loss: 0.0208 - accuracy: 0.9927\n",
      "Epoch 277: val_accuracy did not improve from 0.95295\n",
      "207/207 [==============================] - 17s 81ms/step - loss: 0.0208 - accuracy: 0.9927 - val_loss: 0.2791 - val_accuracy: 0.9361\n",
      "Epoch 278/500\n",
      "207/207 [==============================] - ETA: 0s - loss: 0.0219 - accuracy: 0.9934\n",
      "Epoch 278: val_accuracy did not improve from 0.95295\n",
      "207/207 [==============================] - 17s 81ms/step - loss: 0.0219 - accuracy: 0.9934 - val_loss: 0.2478 - val_accuracy: 0.9417\n",
      "Epoch 279/500\n",
      "207/207 [==============================] - ETA: 0s - loss: 0.0253 - accuracy: 0.9912\n",
      "Epoch 279: val_accuracy did not improve from 0.95295\n",
      "207/207 [==============================] - 17s 80ms/step - loss: 0.0253 - accuracy: 0.9912 - val_loss: 0.3117 - val_accuracy: 0.9298\n",
      "Epoch 280/500\n",
      "207/207 [==============================] - ETA: 0s - loss: 0.0450 - accuracy: 0.9870\n",
      "Epoch 280: val_accuracy did not improve from 0.95295\n",
      "207/207 [==============================] - 17s 81ms/step - loss: 0.0450 - accuracy: 0.9870 - val_loss: 0.9032 - val_accuracy: 0.8230\n",
      "Epoch 281/500\n",
      "207/207 [==============================] - ETA: 0s - loss: 0.0236 - accuracy: 0.9915\n",
      "Epoch 281: val_accuracy did not improve from 0.95295\n",
      "207/207 [==============================] - 17s 81ms/step - loss: 0.0236 - accuracy: 0.9915 - val_loss: 0.2749 - val_accuracy: 0.9396\n",
      "Epoch 282/500\n",
      "207/207 [==============================] - ETA: 0s - loss: 0.0124 - accuracy: 0.9952\n",
      "Epoch 282: val_accuracy did not improve from 0.95295\n",
      "207/207 [==============================] - 17s 80ms/step - loss: 0.0124 - accuracy: 0.9952 - val_loss: 0.2315 - val_accuracy: 0.9487\n",
      "Epoch 283/500\n",
      "207/207 [==============================] - ETA: 0s - loss: 0.0183 - accuracy: 0.9937\n",
      "Epoch 283: val_accuracy did not improve from 0.95295\n",
      "207/207 [==============================] - 17s 81ms/step - loss: 0.0183 - accuracy: 0.9937 - val_loss: 0.3014 - val_accuracy: 0.9326\n",
      "Epoch 284/500\n",
      "207/207 [==============================] - ETA: 0s - loss: 0.0190 - accuracy: 0.9955\n",
      "Epoch 284: val_accuracy did not improve from 0.95295\n",
      "207/207 [==============================] - 17s 82ms/step - loss: 0.0190 - accuracy: 0.9955 - val_loss: 0.3585 - val_accuracy: 0.9157\n",
      "Epoch 285/500\n",
      "207/207 [==============================] - ETA: 0s - loss: 0.0286 - accuracy: 0.9930\n",
      "Epoch 285: val_accuracy did not improve from 0.95295\n",
      "207/207 [==============================] - 17s 82ms/step - loss: 0.0286 - accuracy: 0.9930 - val_loss: 0.3539 - val_accuracy: 0.9368\n",
      "Epoch 286/500\n",
      "207/207 [==============================] - ETA: 0s - loss: 0.0305 - accuracy: 0.9909\n",
      "Epoch 286: val_accuracy did not improve from 0.95295\n",
      "207/207 [==============================] - 17s 80ms/step - loss: 0.0305 - accuracy: 0.9909 - val_loss: 0.3434 - val_accuracy: 0.9206\n",
      "Epoch 287/500\n",
      "207/207 [==============================] - ETA: 0s - loss: 0.0145 - accuracy: 0.9943\n",
      "Epoch 287: val_accuracy did not improve from 0.95295\n",
      "207/207 [==============================] - 17s 81ms/step - loss: 0.0145 - accuracy: 0.9943 - val_loss: 0.4763 - val_accuracy: 0.9031\n",
      "Epoch 288/500\n",
      "207/207 [==============================] - ETA: 0s - loss: 0.0270 - accuracy: 0.9927\n",
      "Epoch 288: val_accuracy did not improve from 0.95295\n",
      "207/207 [==============================] - 17s 80ms/step - loss: 0.0270 - accuracy: 0.9927 - val_loss: 0.3694 - val_accuracy: 0.9333\n",
      "Epoch 289/500\n",
      "207/207 [==============================] - ETA: 0s - loss: 0.0106 - accuracy: 0.9964\n",
      "Epoch 289: val_accuracy did not improve from 0.95295\n",
      "207/207 [==============================] - 16s 79ms/step - loss: 0.0106 - accuracy: 0.9964 - val_loss: 0.2933 - val_accuracy: 0.9410\n",
      "Epoch 290/500\n",
      "207/207 [==============================] - ETA: 0s - loss: 0.0148 - accuracy: 0.9964\n",
      "Epoch 290: val_accuracy did not improve from 0.95295\n",
      "207/207 [==============================] - 17s 80ms/step - loss: 0.0148 - accuracy: 0.9964 - val_loss: 0.4378 - val_accuracy: 0.9087\n",
      "Epoch 291/500\n",
      "207/207 [==============================] - ETA: 0s - loss: 0.0164 - accuracy: 0.9952\n",
      "Epoch 291: val_accuracy did not improve from 0.95295\n",
      "207/207 [==============================] - 17s 81ms/step - loss: 0.0164 - accuracy: 0.9952 - val_loss: 0.2734 - val_accuracy: 0.9354\n",
      "Epoch 292/500\n",
      "207/207 [==============================] - ETA: 0s - loss: 0.0214 - accuracy: 0.9930\n",
      "Epoch 292: val_accuracy did not improve from 0.95295\n",
      "207/207 [==============================] - 17s 80ms/step - loss: 0.0214 - accuracy: 0.9930 - val_loss: 0.5217 - val_accuracy: 0.8862\n",
      "Epoch 293/500\n",
      "207/207 [==============================] - ETA: 0s - loss: 0.0141 - accuracy: 0.9946\n",
      "Epoch 293: val_accuracy did not improve from 0.95295\n",
      "207/207 [==============================] - 17s 80ms/step - loss: 0.0141 - accuracy: 0.9946 - val_loss: 0.3052 - val_accuracy: 0.9403\n",
      "Epoch 294/500\n",
      "207/207 [==============================] - ETA: 0s - loss: 0.0184 - accuracy: 0.9949\n",
      "Epoch 294: val_accuracy did not improve from 0.95295\n",
      "207/207 [==============================] - 17s 80ms/step - loss: 0.0184 - accuracy: 0.9949 - val_loss: 0.3158 - val_accuracy: 0.9284\n",
      "Epoch 295/500\n",
      "207/207 [==============================] - ETA: 0s - loss: 0.0196 - accuracy: 0.9937\n",
      "Epoch 295: val_accuracy did not improve from 0.95295\n",
      "207/207 [==============================] - 17s 80ms/step - loss: 0.0196 - accuracy: 0.9937 - val_loss: 0.4064 - val_accuracy: 0.9038\n",
      "Epoch 296/500\n",
      "207/207 [==============================] - ETA: 0s - loss: 0.0340 - accuracy: 0.9912\n",
      "Epoch 296: val_accuracy did not improve from 0.95295\n",
      "207/207 [==============================] - 17s 80ms/step - loss: 0.0340 - accuracy: 0.9912 - val_loss: 0.6474 - val_accuracy: 0.8813\n",
      "Epoch 297/500\n",
      "207/207 [==============================] - ETA: 0s - loss: 0.0430 - accuracy: 0.9879\n",
      "Epoch 297: val_accuracy did not improve from 0.95295\n",
      "207/207 [==============================] - 17s 81ms/step - loss: 0.0430 - accuracy: 0.9879 - val_loss: 1.2889 - val_accuracy: 0.7570\n",
      "Epoch 298/500\n",
      "207/207 [==============================] - ETA: 0s - loss: 0.0208 - accuracy: 0.9930\n",
      "Epoch 298: val_accuracy did not improve from 0.95295\n",
      "207/207 [==============================] - 17s 80ms/step - loss: 0.0208 - accuracy: 0.9930 - val_loss: 0.4028 - val_accuracy: 0.9150\n",
      "Epoch 299/500\n",
      "207/207 [==============================] - ETA: 0s - loss: 0.0254 - accuracy: 0.9921\n",
      "Epoch 299: val_accuracy did not improve from 0.95295\n",
      "207/207 [==============================] - 17s 81ms/step - loss: 0.0254 - accuracy: 0.9921 - val_loss: 0.7352 - val_accuracy: 0.8708\n",
      "Epoch 300/500\n",
      "207/207 [==============================] - ETA: 0s - loss: 0.0131 - accuracy: 0.9961\n",
      "Epoch 300: val_accuracy did not improve from 0.95295\n",
      "207/207 [==============================] - 17s 81ms/step - loss: 0.0131 - accuracy: 0.9961 - val_loss: 0.2681 - val_accuracy: 0.9417\n",
      "Epoch 301/500\n",
      "207/207 [==============================] - ETA: 0s - loss: 0.0172 - accuracy: 0.9927\n",
      "Epoch 301: val_accuracy did not improve from 0.95295\n",
      "207/207 [==============================] - 17s 81ms/step - loss: 0.0172 - accuracy: 0.9927 - val_loss: 0.4977 - val_accuracy: 0.8982\n",
      "Epoch 302/500\n",
      "207/207 [==============================] - ETA: 0s - loss: 0.0066 - accuracy: 0.9979\n",
      "Epoch 302: val_accuracy did not improve from 0.95295\n",
      "207/207 [==============================] - 17s 81ms/step - loss: 0.0066 - accuracy: 0.9979 - val_loss: 0.2445 - val_accuracy: 0.9459\n",
      "Epoch 303/500\n",
      "207/207 [==============================] - ETA: 0s - loss: 0.0078 - accuracy: 0.9982\n",
      "Epoch 303: val_accuracy did not improve from 0.95295\n",
      "207/207 [==============================] - 17s 82ms/step - loss: 0.0078 - accuracy: 0.9982 - val_loss: 0.5576 - val_accuracy: 0.9038\n",
      "Epoch 304/500\n",
      "207/207 [==============================] - ETA: 0s - loss: 0.0465 - accuracy: 0.9873\n",
      "Epoch 304: val_accuracy did not improve from 0.95295\n",
      "207/207 [==============================] - 17s 81ms/step - loss: 0.0465 - accuracy: 0.9873 - val_loss: 0.4517 - val_accuracy: 0.9101\n",
      "Epoch 305/500\n",
      "207/207 [==============================] - ETA: 0s - loss: 0.0281 - accuracy: 0.9903\n",
      "Epoch 305: val_accuracy did not improve from 0.95295\n",
      "207/207 [==============================] - 17s 81ms/step - loss: 0.0281 - accuracy: 0.9903 - val_loss: 0.3430 - val_accuracy: 0.9192\n",
      "Epoch 306/500\n",
      "207/207 [==============================] - ETA: 0s - loss: 0.0177 - accuracy: 0.9940\n",
      "Epoch 306: val_accuracy did not improve from 0.95295\n",
      "207/207 [==============================] - 16s 79ms/step - loss: 0.0177 - accuracy: 0.9940 - val_loss: 0.3019 - val_accuracy: 0.9263\n",
      "Epoch 307/500\n",
      "207/207 [==============================] - ETA: 0s - loss: 0.0068 - accuracy: 0.9988\n",
      "Epoch 307: val_accuracy did not improve from 0.95295\n",
      "207/207 [==============================] - 17s 81ms/step - loss: 0.0068 - accuracy: 0.9988 - val_loss: 0.3048 - val_accuracy: 0.9333\n",
      "Epoch 308/500\n",
      "207/207 [==============================] - ETA: 0s - loss: 0.0180 - accuracy: 0.9943\n",
      "Epoch 308: val_accuracy did not improve from 0.95295\n",
      "207/207 [==============================] - 17s 80ms/step - loss: 0.0180 - accuracy: 0.9943 - val_loss: 0.3720 - val_accuracy: 0.9340\n",
      "Epoch 309/500\n",
      "207/207 [==============================] - ETA: 0s - loss: 0.0200 - accuracy: 0.9934\n",
      "Epoch 309: val_accuracy did not improve from 0.95295\n",
      "207/207 [==============================] - 17s 82ms/step - loss: 0.0200 - accuracy: 0.9934 - val_loss: 0.2502 - val_accuracy: 0.9466\n",
      "Epoch 310/500\n",
      "207/207 [==============================] - ETA: 0s - loss: 0.0139 - accuracy: 0.9949\n",
      "Epoch 310: val_accuracy did not improve from 0.95295\n",
      "207/207 [==============================] - 17s 81ms/step - loss: 0.0139 - accuracy: 0.9949 - val_loss: 0.6588 - val_accuracy: 0.8546\n",
      "Epoch 311/500\n",
      "207/207 [==============================] - ETA: 0s - loss: 0.0294 - accuracy: 0.9906\n",
      "Epoch 311: val_accuracy did not improve from 0.95295\n",
      "207/207 [==============================] - 17s 82ms/step - loss: 0.0294 - accuracy: 0.9906 - val_loss: 0.2829 - val_accuracy: 0.9347\n",
      "Epoch 312/500\n",
      "207/207 [==============================] - ETA: 0s - loss: 0.0419 - accuracy: 0.9867\n",
      "Epoch 312: val_accuracy did not improve from 0.95295\n",
      "207/207 [==============================] - 17s 81ms/step - loss: 0.0419 - accuracy: 0.9867 - val_loss: 0.2987 - val_accuracy: 0.9284\n",
      "Epoch 313/500\n",
      "207/207 [==============================] - ETA: 0s - loss: 0.0188 - accuracy: 0.9937\n",
      "Epoch 313: val_accuracy did not improve from 0.95295\n",
      "207/207 [==============================] - 17s 81ms/step - loss: 0.0188 - accuracy: 0.9937 - val_loss: 0.2505 - val_accuracy: 0.9368\n",
      "Epoch 314/500\n",
      "207/207 [==============================] - ETA: 0s - loss: 0.0252 - accuracy: 0.9927\n",
      "Epoch 314: val_accuracy did not improve from 0.95295\n",
      "207/207 [==============================] - 17s 81ms/step - loss: 0.0252 - accuracy: 0.9927 - val_loss: 0.5302 - val_accuracy: 0.9038\n",
      "Epoch 315/500\n",
      "207/207 [==============================] - ETA: 0s - loss: 0.0245 - accuracy: 0.9940\n",
      "Epoch 315: val_accuracy did not improve from 0.95295\n",
      "207/207 [==============================] - 17s 80ms/step - loss: 0.0245 - accuracy: 0.9940 - val_loss: 0.5452 - val_accuracy: 0.9017\n",
      "Epoch 316/500\n",
      "207/207 [==============================] - ETA: 0s - loss: 0.0278 - accuracy: 0.9912\n",
      "Epoch 316: val_accuracy did not improve from 0.95295\n",
      "207/207 [==============================] - 17s 80ms/step - loss: 0.0278 - accuracy: 0.9912 - val_loss: 0.2852 - val_accuracy: 0.9396\n"
     ]
    },
    {
     "name": "stdout",
     "output_type": "stream",
     "text": [
      "Epoch 317/500\n",
      "207/207 [==============================] - ETA: 0s - loss: 0.0150 - accuracy: 0.9955\n",
      "Epoch 317: val_accuracy did not improve from 0.95295\n",
      "207/207 [==============================] - 17s 82ms/step - loss: 0.0150 - accuracy: 0.9955 - val_loss: 0.2759 - val_accuracy: 0.9305\n",
      "Epoch 318/500\n",
      "207/207 [==============================] - ETA: 0s - loss: 0.0143 - accuracy: 0.9952\n",
      "Epoch 318: val_accuracy did not improve from 0.95295\n",
      "207/207 [==============================] - 17s 80ms/step - loss: 0.0143 - accuracy: 0.9952 - val_loss: 0.2957 - val_accuracy: 0.9326\n",
      "Epoch 319/500\n",
      "207/207 [==============================] - ETA: 0s - loss: 0.0166 - accuracy: 0.9949\n",
      "Epoch 319: val_accuracy did not improve from 0.95295\n",
      "207/207 [==============================] - 17s 80ms/step - loss: 0.0166 - accuracy: 0.9949 - val_loss: 0.4152 - val_accuracy: 0.9094\n",
      "Epoch 320/500\n",
      "207/207 [==============================] - ETA: 0s - loss: 0.0138 - accuracy: 0.9949\n",
      "Epoch 320: val_accuracy did not improve from 0.95295\n",
      "207/207 [==============================] - 17s 80ms/step - loss: 0.0138 - accuracy: 0.9949 - val_loss: 0.2410 - val_accuracy: 0.9501\n",
      "Epoch 321/500\n",
      "207/207 [==============================] - ETA: 0s - loss: 0.0170 - accuracy: 0.9949\n",
      "Epoch 321: val_accuracy did not improve from 0.95295\n",
      "207/207 [==============================] - 17s 80ms/step - loss: 0.0170 - accuracy: 0.9949 - val_loss: 0.4791 - val_accuracy: 0.9143\n",
      "Epoch 322/500\n",
      "207/207 [==============================] - ETA: 0s - loss: 0.0178 - accuracy: 0.9934\n",
      "Epoch 322: val_accuracy did not improve from 0.95295\n",
      "207/207 [==============================] - 17s 81ms/step - loss: 0.0178 - accuracy: 0.9934 - val_loss: 0.2799 - val_accuracy: 0.9410\n",
      "Epoch 323/500\n",
      "207/207 [==============================] - ETA: 0s - loss: 0.0270 - accuracy: 0.9924\n",
      "Epoch 323: val_accuracy did not improve from 0.95295\n",
      "207/207 [==============================] - 17s 80ms/step - loss: 0.0270 - accuracy: 0.9924 - val_loss: 0.2748 - val_accuracy: 0.9410\n",
      "Epoch 324/500\n",
      "207/207 [==============================] - ETA: 0s - loss: 0.0165 - accuracy: 0.9961\n",
      "Epoch 324: val_accuracy did not improve from 0.95295\n",
      "207/207 [==============================] - 17s 81ms/step - loss: 0.0165 - accuracy: 0.9961 - val_loss: 0.3410 - val_accuracy: 0.9333\n",
      "Epoch 325/500\n",
      "207/207 [==============================] - ETA: 0s - loss: 0.0256 - accuracy: 0.9903\n",
      "Epoch 325: val_accuracy did not improve from 0.95295\n",
      "207/207 [==============================] - 16s 80ms/step - loss: 0.0256 - accuracy: 0.9903 - val_loss: 0.3723 - val_accuracy: 0.9235\n",
      "Epoch 326/500\n",
      "207/207 [==============================] - ETA: 0s - loss: 0.0209 - accuracy: 0.9921\n",
      "Epoch 326: val_accuracy did not improve from 0.95295\n",
      "207/207 [==============================] - 17s 80ms/step - loss: 0.0209 - accuracy: 0.9921 - val_loss: 0.3114 - val_accuracy: 0.9382\n",
      "Epoch 327/500\n",
      "207/207 [==============================] - ETA: 0s - loss: 0.0128 - accuracy: 0.9952\n",
      "Epoch 327: val_accuracy did not improve from 0.95295\n",
      "207/207 [==============================] - 17s 81ms/step - loss: 0.0128 - accuracy: 0.9952 - val_loss: 0.3226 - val_accuracy: 0.9305\n",
      "Epoch 328/500\n",
      "207/207 [==============================] - ETA: 0s - loss: 0.0200 - accuracy: 0.9937\n",
      "Epoch 328: val_accuracy did not improve from 0.95295\n",
      "207/207 [==============================] - 17s 81ms/step - loss: 0.0200 - accuracy: 0.9937 - val_loss: 1.7355 - val_accuracy: 0.7626\n",
      "Epoch 329/500\n",
      "207/207 [==============================] - ETA: 0s - loss: 0.0260 - accuracy: 0.9915\n",
      "Epoch 329: val_accuracy did not improve from 0.95295\n",
      "207/207 [==============================] - 17s 82ms/step - loss: 0.0260 - accuracy: 0.9915 - val_loss: 0.3509 - val_accuracy: 0.9361\n",
      "Epoch 330/500\n",
      "207/207 [==============================] - ETA: 0s - loss: 0.0227 - accuracy: 0.9924\n",
      "Epoch 330: val_accuracy did not improve from 0.95295\n",
      "207/207 [==============================] - 16s 79ms/step - loss: 0.0227 - accuracy: 0.9924 - val_loss: 0.4381 - val_accuracy: 0.9242\n",
      "Epoch 331/500\n",
      "207/207 [==============================] - ETA: 0s - loss: 0.0205 - accuracy: 0.9927\n",
      "Epoch 331: val_accuracy did not improve from 0.95295\n",
      "207/207 [==============================] - 17s 81ms/step - loss: 0.0205 - accuracy: 0.9927 - val_loss: 0.4398 - val_accuracy: 0.9059\n",
      "Epoch 332/500\n",
      "207/207 [==============================] - ETA: 0s - loss: 0.0117 - accuracy: 0.9964\n",
      "Epoch 332: val_accuracy did not improve from 0.95295\n",
      "207/207 [==============================] - 17s 80ms/step - loss: 0.0117 - accuracy: 0.9964 - val_loss: 0.2716 - val_accuracy: 0.9424\n",
      "Epoch 333/500\n",
      "207/207 [==============================] - ETA: 0s - loss: 0.0081 - accuracy: 0.9970\n",
      "Epoch 333: val_accuracy did not improve from 0.95295\n",
      "207/207 [==============================] - 17s 80ms/step - loss: 0.0081 - accuracy: 0.9970 - val_loss: 0.2488 - val_accuracy: 0.9466\n",
      "Epoch 334/500\n",
      "207/207 [==============================] - ETA: 0s - loss: 0.0047 - accuracy: 0.9985\n",
      "Epoch 334: val_accuracy did not improve from 0.95295\n",
      "207/207 [==============================] - 17s 80ms/step - loss: 0.0047 - accuracy: 0.9985 - val_loss: 0.2577 - val_accuracy: 0.9466\n",
      "Epoch 335/500\n",
      "207/207 [==============================] - ETA: 0s - loss: 0.0259 - accuracy: 0.9930\n",
      "Epoch 335: val_accuracy did not improve from 0.95295\n",
      "207/207 [==============================] - 17s 81ms/step - loss: 0.0259 - accuracy: 0.9930 - val_loss: 0.2859 - val_accuracy: 0.9396\n",
      "Epoch 336/500\n",
      "207/207 [==============================] - ETA: 0s - loss: 0.0729 - accuracy: 0.9858\n",
      "Epoch 336: val_accuracy did not improve from 0.95295\n",
      "207/207 [==============================] - 17s 80ms/step - loss: 0.0729 - accuracy: 0.9858 - val_loss: 0.9914 - val_accuracy: 0.8027\n",
      "Epoch 337/500\n",
      "207/207 [==============================] - ETA: 0s - loss: 0.0212 - accuracy: 0.9937\n",
      "Epoch 337: val_accuracy did not improve from 0.95295\n",
      "207/207 [==============================] - 17s 80ms/step - loss: 0.0212 - accuracy: 0.9937 - val_loss: 0.3023 - val_accuracy: 0.9284\n",
      "Epoch 338/500\n",
      "207/207 [==============================] - ETA: 0s - loss: 0.0101 - accuracy: 0.9964\n",
      "Epoch 338: val_accuracy did not improve from 0.95295\n",
      "207/207 [==============================] - 16s 79ms/step - loss: 0.0101 - accuracy: 0.9964 - val_loss: 0.2869 - val_accuracy: 0.9424\n",
      "Epoch 339/500\n",
      "207/207 [==============================] - ETA: 0s - loss: 0.0110 - accuracy: 0.9976\n",
      "Epoch 339: val_accuracy did not improve from 0.95295\n",
      "207/207 [==============================] - 17s 80ms/step - loss: 0.0110 - accuracy: 0.9976 - val_loss: 0.3499 - val_accuracy: 0.9277\n",
      "Epoch 340/500\n",
      "207/207 [==============================] - ETA: 0s - loss: 0.0170 - accuracy: 0.9955\n",
      "Epoch 340: val_accuracy did not improve from 0.95295\n",
      "207/207 [==============================] - 17s 80ms/step - loss: 0.0170 - accuracy: 0.9955 - val_loss: 0.6962 - val_accuracy: 0.8694\n",
      "Epoch 341/500\n",
      "207/207 [==============================] - ETA: 0s - loss: 0.0224 - accuracy: 0.9912\n",
      "Epoch 341: val_accuracy did not improve from 0.95295\n",
      "207/207 [==============================] - 17s 82ms/step - loss: 0.0224 - accuracy: 0.9912 - val_loss: 0.2827 - val_accuracy: 0.9431\n",
      "Epoch 342/500\n",
      "206/207 [============================>.] - ETA: 0s - loss: 0.0158 - accuracy: 0.9951\n",
      "Epoch 342: val_accuracy did not improve from 0.95295\n",
      "207/207 [==============================] - 17s 81ms/step - loss: 0.0158 - accuracy: 0.9952 - val_loss: 0.5292 - val_accuracy: 0.9045\n",
      "Epoch 343/500\n",
      "207/207 [==============================] - ETA: 0s - loss: 0.0149 - accuracy: 0.9943\n",
      "Epoch 343: val_accuracy did not improve from 0.95295\n",
      "207/207 [==============================] - 17s 80ms/step - loss: 0.0149 - accuracy: 0.9943 - val_loss: 0.4743 - val_accuracy: 0.9136\n",
      "Epoch 344/500\n",
      "207/207 [==============================] - ETA: 0s - loss: 0.0161 - accuracy: 0.9952\n",
      "Epoch 344: val_accuracy did not improve from 0.95295\n",
      "207/207 [==============================] - 17s 80ms/step - loss: 0.0161 - accuracy: 0.9952 - val_loss: 0.3557 - val_accuracy: 0.9312\n",
      "Epoch 345/500\n",
      "207/207 [==============================] - ETA: 0s - loss: 0.0194 - accuracy: 0.9930\n",
      "Epoch 345: val_accuracy did not improve from 0.95295\n",
      "207/207 [==============================] - 17s 81ms/step - loss: 0.0194 - accuracy: 0.9930 - val_loss: 0.3070 - val_accuracy: 0.9368\n"
     ]
    },
    {
     "name": "stdout",
     "output_type": "stream",
     "text": [
      "Epoch 346/500\n",
      "207/207 [==============================] - ETA: 0s - loss: 0.0230 - accuracy: 0.9909\n",
      "Epoch 346: val_accuracy did not improve from 0.95295\n",
      "207/207 [==============================] - 17s 80ms/step - loss: 0.0230 - accuracy: 0.9909 - val_loss: 0.6147 - val_accuracy: 0.8764\n",
      "Epoch 347/500\n",
      "207/207 [==============================] - ETA: 0s - loss: 0.0238 - accuracy: 0.9934\n",
      "Epoch 347: val_accuracy did not improve from 0.95295\n",
      "207/207 [==============================] - 17s 80ms/step - loss: 0.0238 - accuracy: 0.9934 - val_loss: 0.3140 - val_accuracy: 0.9242\n",
      "Epoch 348/500\n",
      "207/207 [==============================] - ETA: 0s - loss: 0.0141 - accuracy: 0.9955\n",
      "Epoch 348: val_accuracy did not improve from 0.95295\n",
      "207/207 [==============================] - 17s 80ms/step - loss: 0.0141 - accuracy: 0.9955 - val_loss: 0.2757 - val_accuracy: 0.9466\n",
      "Epoch 349/500\n",
      "207/207 [==============================] - ETA: 0s - loss: 0.0105 - accuracy: 0.9958\n",
      "Epoch 349: val_accuracy did not improve from 0.95295\n",
      "207/207 [==============================] - 17s 81ms/step - loss: 0.0105 - accuracy: 0.9958 - val_loss: 0.2635 - val_accuracy: 0.9480\n",
      "Epoch 350/500\n",
      "207/207 [==============================] - ETA: 0s - loss: 0.0149 - accuracy: 0.9943\n",
      "Epoch 350: val_accuracy did not improve from 0.95295\n",
      "207/207 [==============================] - 17s 84ms/step - loss: 0.0149 - accuracy: 0.9943 - val_loss: 0.2818 - val_accuracy: 0.9417\n",
      "Epoch 351/500\n",
      "207/207 [==============================] - ETA: 0s - loss: 0.0139 - accuracy: 0.9949\n",
      "Epoch 351: val_accuracy did not improve from 0.95295\n",
      "207/207 [==============================] - 17s 81ms/step - loss: 0.0139 - accuracy: 0.9949 - val_loss: 0.2674 - val_accuracy: 0.9396\n",
      "Epoch 352/500\n",
      "207/207 [==============================] - ETA: 0s - loss: 0.0176 - accuracy: 0.9943\n",
      "Epoch 352: val_accuracy did not improve from 0.95295\n",
      "207/207 [==============================] - 17s 80ms/step - loss: 0.0176 - accuracy: 0.9943 - val_loss: 0.3135 - val_accuracy: 0.9361\n",
      "Epoch 353/500\n",
      "207/207 [==============================] - ETA: 0s - loss: 0.0081 - accuracy: 0.9979\n",
      "Epoch 353: val_accuracy did not improve from 0.95295\n",
      "207/207 [==============================] - 17s 81ms/step - loss: 0.0081 - accuracy: 0.9979 - val_loss: 0.4936 - val_accuracy: 0.9038\n",
      "Epoch 354/500\n",
      "207/207 [==============================] - ETA: 0s - loss: 0.0201 - accuracy: 0.9943\n",
      "Epoch 354: val_accuracy did not improve from 0.95295\n",
      "207/207 [==============================] - 17s 81ms/step - loss: 0.0201 - accuracy: 0.9943 - val_loss: 0.4539 - val_accuracy: 0.9213\n",
      "Epoch 355/500\n",
      "207/207 [==============================] - ETA: 0s - loss: 0.0245 - accuracy: 0.9903\n",
      "Epoch 355: val_accuracy did not improve from 0.95295\n",
      "207/207 [==============================] - 17s 82ms/step - loss: 0.0245 - accuracy: 0.9903 - val_loss: 0.3045 - val_accuracy: 0.9445\n",
      "Epoch 356/500\n",
      "207/207 [==============================] - ETA: 0s - loss: 0.0210 - accuracy: 0.9927\n",
      "Epoch 356: val_accuracy did not improve from 0.95295\n",
      "207/207 [==============================] - 17s 82ms/step - loss: 0.0210 - accuracy: 0.9927 - val_loss: 0.2976 - val_accuracy: 0.9312\n",
      "Epoch 357/500\n",
      "207/207 [==============================] - ETA: 0s - loss: 0.0172 - accuracy: 0.9952\n",
      "Epoch 357: val_accuracy did not improve from 0.95295\n",
      "207/207 [==============================] - 17s 81ms/step - loss: 0.0172 - accuracy: 0.9952 - val_loss: 0.2105 - val_accuracy: 0.9480\n",
      "Epoch 358/500\n",
      "207/207 [==============================] - ETA: 0s - loss: 0.0144 - accuracy: 0.9961\n",
      "Epoch 358: val_accuracy did not improve from 0.95295\n",
      "207/207 [==============================] - 17s 80ms/step - loss: 0.0144 - accuracy: 0.9961 - val_loss: 0.3043 - val_accuracy: 0.9375\n",
      "Epoch 359/500\n",
      "207/207 [==============================] - ETA: 0s - loss: 0.0157 - accuracy: 0.9949\n",
      "Epoch 359: val_accuracy did not improve from 0.95295\n",
      "207/207 [==============================] - 17s 80ms/step - loss: 0.0157 - accuracy: 0.9949 - val_loss: 0.3666 - val_accuracy: 0.9270\n",
      "Epoch 360/500\n",
      "207/207 [==============================] - ETA: 0s - loss: 0.0176 - accuracy: 0.9921\n",
      "Epoch 360: val_accuracy did not improve from 0.95295\n",
      "207/207 [==============================] - 17s 80ms/step - loss: 0.0176 - accuracy: 0.9921 - val_loss: 0.2931 - val_accuracy: 0.9438\n",
      "Epoch 361/500\n",
      "207/207 [==============================] - ETA: 0s - loss: 0.0216 - accuracy: 0.9937\n",
      "Epoch 361: val_accuracy did not improve from 0.95295\n",
      "207/207 [==============================] - 17s 81ms/step - loss: 0.0216 - accuracy: 0.9937 - val_loss: 0.2364 - val_accuracy: 0.9410\n",
      "Epoch 362/500\n",
      "207/207 [==============================] - ETA: 0s - loss: 0.0069 - accuracy: 0.9985\n",
      "Epoch 362: val_accuracy did not improve from 0.95295\n",
      "207/207 [==============================] - 17s 80ms/step - loss: 0.0069 - accuracy: 0.9985 - val_loss: 0.2594 - val_accuracy: 0.9445\n",
      "Epoch 363/500\n",
      "207/207 [==============================] - ETA: 0s - loss: 0.0032 - accuracy: 0.9991\n",
      "Epoch 363: val_accuracy did not improve from 0.95295\n",
      "207/207 [==============================] - 17s 81ms/step - loss: 0.0032 - accuracy: 0.9991 - val_loss: 0.2563 - val_accuracy: 0.9494\n",
      "Epoch 364/500\n",
      "207/207 [==============================] - ETA: 0s - loss: 0.0111 - accuracy: 0.9958\n",
      "Epoch 364: val_accuracy did not improve from 0.95295\n",
      "207/207 [==============================] - 17s 81ms/step - loss: 0.0111 - accuracy: 0.9958 - val_loss: 0.4173 - val_accuracy: 0.9368\n",
      "Epoch 365/500\n",
      "207/207 [==============================] - ETA: 0s - loss: 0.0372 - accuracy: 0.9885\n",
      "Epoch 365: val_accuracy did not improve from 0.95295\n",
      "207/207 [==============================] - 17s 81ms/step - loss: 0.0372 - accuracy: 0.9885 - val_loss: 0.7192 - val_accuracy: 0.8883\n",
      "Epoch 366/500\n",
      "207/207 [==============================] - ETA: 0s - loss: 0.0307 - accuracy: 0.9909\n",
      "Epoch 366: val_accuracy did not improve from 0.95295\n",
      "207/207 [==============================] - 17s 81ms/step - loss: 0.0307 - accuracy: 0.9909 - val_loss: 0.5233 - val_accuracy: 0.9164\n",
      "Epoch 367/500\n",
      "207/207 [==============================] - ETA: 0s - loss: 0.0171 - accuracy: 0.9949\n",
      "Epoch 367: val_accuracy did not improve from 0.95295\n",
      "207/207 [==============================] - 17s 80ms/step - loss: 0.0171 - accuracy: 0.9949 - val_loss: 0.3572 - val_accuracy: 0.9354\n",
      "Epoch 368/500\n",
      "207/207 [==============================] - ETA: 0s - loss: 0.0066 - accuracy: 0.9979\n",
      "Epoch 368: val_accuracy did not improve from 0.95295\n",
      "207/207 [==============================] - 17s 80ms/step - loss: 0.0066 - accuracy: 0.9979 - val_loss: 0.2753 - val_accuracy: 0.9438\n",
      "Epoch 369/500\n",
      "206/207 [============================>.] - ETA: 0s - loss: 0.0137 - accuracy: 0.9954\n",
      "Epoch 369: val_accuracy did not improve from 0.95295\n",
      "207/207 [==============================] - 17s 80ms/step - loss: 0.0138 - accuracy: 0.9955 - val_loss: 0.2915 - val_accuracy: 0.9445\n",
      "Epoch 370/500\n",
      "207/207 [==============================] - ETA: 0s - loss: 0.0118 - accuracy: 0.9967\n",
      "Epoch 370: val_accuracy did not improve from 0.95295\n",
      "207/207 [==============================] - 17s 80ms/step - loss: 0.0118 - accuracy: 0.9967 - val_loss: 0.3462 - val_accuracy: 0.9389\n",
      "Epoch 371/500\n",
      "207/207 [==============================] - ETA: 0s - loss: 0.0205 - accuracy: 0.9927\n",
      "Epoch 371: val_accuracy did not improve from 0.95295\n",
      "207/207 [==============================] - 17s 81ms/step - loss: 0.0205 - accuracy: 0.9927 - val_loss: 0.3563 - val_accuracy: 0.9249\n",
      "Epoch 372/500\n",
      "207/207 [==============================] - ETA: 0s - loss: 0.0358 - accuracy: 0.9924\n",
      "Epoch 372: val_accuracy did not improve from 0.95295\n",
      "207/207 [==============================] - 17s 81ms/step - loss: 0.0358 - accuracy: 0.9924 - val_loss: 0.3077 - val_accuracy: 0.9403\n",
      "Epoch 373/500\n",
      "207/207 [==============================] - ETA: 0s - loss: 0.0085 - accuracy: 0.9964\n",
      "Epoch 373: val_accuracy did not improve from 0.95295\n",
      "207/207 [==============================] - 17s 81ms/step - loss: 0.0085 - accuracy: 0.9964 - val_loss: 0.2730 - val_accuracy: 0.9452\n",
      "Epoch 374/500\n",
      "207/207 [==============================] - ETA: 0s - loss: 0.0135 - accuracy: 0.9961\n",
      "Epoch 374: val_accuracy did not improve from 0.95295\n",
      "207/207 [==============================] - 17s 81ms/step - loss: 0.0135 - accuracy: 0.9961 - val_loss: 0.3375 - val_accuracy: 0.9410\n"
     ]
    },
    {
     "name": "stdout",
     "output_type": "stream",
     "text": [
      "Epoch 375/500\n",
      "207/207 [==============================] - ETA: 0s - loss: 0.0051 - accuracy: 0.9985\n",
      "Epoch 375: val_accuracy did not improve from 0.95295\n",
      "207/207 [==============================] - 17s 80ms/step - loss: 0.0051 - accuracy: 0.9985 - val_loss: 0.2632 - val_accuracy: 0.9480\n",
      "Epoch 376/500\n",
      "207/207 [==============================] - ETA: 0s - loss: 0.0176 - accuracy: 0.9940\n",
      "Epoch 376: val_accuracy did not improve from 0.95295\n",
      "207/207 [==============================] - 16s 79ms/step - loss: 0.0176 - accuracy: 0.9940 - val_loss: 0.2647 - val_accuracy: 0.9473\n",
      "Epoch 377/500\n",
      "207/207 [==============================] - ETA: 0s - loss: 0.0202 - accuracy: 0.9940\n",
      "Epoch 377: val_accuracy did not improve from 0.95295\n",
      "207/207 [==============================] - 17s 82ms/step - loss: 0.0202 - accuracy: 0.9940 - val_loss: 0.2810 - val_accuracy: 0.9438\n",
      "Epoch 378/500\n",
      "207/207 [==============================] - ETA: 0s - loss: 0.0123 - accuracy: 0.9961\n",
      "Epoch 378: val_accuracy did not improve from 0.95295\n",
      "207/207 [==============================] - 17s 80ms/step - loss: 0.0123 - accuracy: 0.9961 - val_loss: 0.2486 - val_accuracy: 0.9494\n",
      "Epoch 379/500\n",
      "207/207 [==============================] - ETA: 0s - loss: 0.0192 - accuracy: 0.9949\n",
      "Epoch 379: val_accuracy did not improve from 0.95295\n",
      "207/207 [==============================] - 17s 81ms/step - loss: 0.0192 - accuracy: 0.9949 - val_loss: 0.2937 - val_accuracy: 0.9389\n",
      "Epoch 380/500\n",
      "207/207 [==============================] - ETA: 0s - loss: 0.0146 - accuracy: 0.9949\n",
      "Epoch 380: val_accuracy did not improve from 0.95295\n",
      "207/207 [==============================] - 17s 81ms/step - loss: 0.0146 - accuracy: 0.9949 - val_loss: 0.2952 - val_accuracy: 0.9424\n",
      "Epoch 381/500\n",
      "207/207 [==============================] - ETA: 0s - loss: 0.0171 - accuracy: 0.9930\n",
      "Epoch 381: val_accuracy did not improve from 0.95295\n",
      "207/207 [==============================] - 17s 81ms/step - loss: 0.0171 - accuracy: 0.9930 - val_loss: 0.3611 - val_accuracy: 0.9270\n",
      "Epoch 382/500\n",
      "207/207 [==============================] - ETA: 0s - loss: 0.0134 - accuracy: 0.9949\n",
      "Epoch 382: val_accuracy did not improve from 0.95295\n",
      "207/207 [==============================] - 17s 81ms/step - loss: 0.0134 - accuracy: 0.9949 - val_loss: 0.2703 - val_accuracy: 0.9354\n",
      "Epoch 383/500\n",
      "207/207 [==============================] - ETA: 0s - loss: 0.0059 - accuracy: 0.9976\n",
      "Epoch 383: val_accuracy did not improve from 0.95295\n",
      "207/207 [==============================] - 17s 80ms/step - loss: 0.0059 - accuracy: 0.9976 - val_loss: 0.3047 - val_accuracy: 0.9410\n",
      "Epoch 384/500\n",
      "207/207 [==============================] - ETA: 0s - loss: 0.0260 - accuracy: 0.9934\n",
      "Epoch 384: val_accuracy did not improve from 0.95295\n",
      "207/207 [==============================] - 17s 80ms/step - loss: 0.0260 - accuracy: 0.9934 - val_loss: 0.8031 - val_accuracy: 0.8764\n",
      "Epoch 385/500\n",
      "207/207 [==============================] - ETA: 0s - loss: 0.0357 - accuracy: 0.9921\n",
      "Epoch 385: val_accuracy did not improve from 0.95295\n",
      "207/207 [==============================] - 17s 81ms/step - loss: 0.0357 - accuracy: 0.9921 - val_loss: 0.7626 - val_accuracy: 0.8624\n",
      "Epoch 386/500\n",
      "207/207 [==============================] - ETA: 0s - loss: 0.0107 - accuracy: 0.9955\n",
      "Epoch 386: val_accuracy did not improve from 0.95295\n",
      "207/207 [==============================] - 16s 80ms/step - loss: 0.0107 - accuracy: 0.9955 - val_loss: 0.3701 - val_accuracy: 0.9305\n",
      "Epoch 387/500\n",
      "207/207 [==============================] - ETA: 0s - loss: 0.0059 - accuracy: 0.9982\n",
      "Epoch 387: val_accuracy did not improve from 0.95295\n",
      "207/207 [==============================] - 17s 82ms/step - loss: 0.0059 - accuracy: 0.9982 - val_loss: 0.2357 - val_accuracy: 0.9473\n",
      "Epoch 388/500\n",
      "207/207 [==============================] - ETA: 0s - loss: 0.0298 - accuracy: 0.9915\n",
      "Epoch 388: val_accuracy did not improve from 0.95295\n",
      "207/207 [==============================] - 17s 81ms/step - loss: 0.0298 - accuracy: 0.9915 - val_loss: 0.3688 - val_accuracy: 0.9199\n",
      "Epoch 389/500\n",
      "207/207 [==============================] - ETA: 0s - loss: 0.0156 - accuracy: 0.9955\n",
      "Epoch 389: val_accuracy did not improve from 0.95295\n",
      "207/207 [==============================] - 17s 80ms/step - loss: 0.0156 - accuracy: 0.9955 - val_loss: 0.6670 - val_accuracy: 0.8603\n",
      "Epoch 390/500\n",
      "207/207 [==============================] - ETA: 0s - loss: 0.0184 - accuracy: 0.9952\n",
      "Epoch 390: val_accuracy did not improve from 0.95295\n",
      "207/207 [==============================] - 17s 80ms/step - loss: 0.0184 - accuracy: 0.9952 - val_loss: 0.3452 - val_accuracy: 0.9389\n",
      "Epoch 391/500\n",
      "207/207 [==============================] - ETA: 0s - loss: 0.0094 - accuracy: 0.9970\n",
      "Epoch 391: val_accuracy did not improve from 0.95295\n",
      "207/207 [==============================] - 17s 80ms/step - loss: 0.0094 - accuracy: 0.9970 - val_loss: 0.3035 - val_accuracy: 0.9340\n",
      "Epoch 392/500\n",
      "207/207 [==============================] - ETA: 0s - loss: 0.0043 - accuracy: 0.9988\n",
      "Epoch 392: val_accuracy did not improve from 0.95295\n",
      "207/207 [==============================] - 17s 80ms/step - loss: 0.0043 - accuracy: 0.9988 - val_loss: 0.2855 - val_accuracy: 0.9403\n",
      "Epoch 393/500\n",
      "207/207 [==============================] - ETA: 0s - loss: 0.0221 - accuracy: 0.9943\n",
      "Epoch 393: val_accuracy did not improve from 0.95295\n",
      "207/207 [==============================] - 17s 81ms/step - loss: 0.0221 - accuracy: 0.9943 - val_loss: 0.3931 - val_accuracy: 0.9291\n",
      "Epoch 394/500\n",
      "207/207 [==============================] - ETA: 0s - loss: 0.0240 - accuracy: 0.9921\n",
      "Epoch 394: val_accuracy did not improve from 0.95295\n",
      "207/207 [==============================] - 17s 80ms/step - loss: 0.0240 - accuracy: 0.9921 - val_loss: 0.3012 - val_accuracy: 0.9417\n",
      "Epoch 395/500\n",
      "207/207 [==============================] - ETA: 0s - loss: 0.0052 - accuracy: 0.9991\n",
      "Epoch 395: val_accuracy did not improve from 0.95295\n",
      "207/207 [==============================] - 17s 81ms/step - loss: 0.0052 - accuracy: 0.9991 - val_loss: 0.2966 - val_accuracy: 0.9473\n",
      "Epoch 396/500\n",
      "207/207 [==============================] - ETA: 0s - loss: 0.0077 - accuracy: 0.9979\n",
      "Epoch 396: val_accuracy did not improve from 0.95295\n",
      "207/207 [==============================] - 17s 81ms/step - loss: 0.0077 - accuracy: 0.9979 - val_loss: 0.3063 - val_accuracy: 0.9354\n",
      "Epoch 397/500\n",
      "207/207 [==============================] - ETA: 0s - loss: 0.0128 - accuracy: 0.9964\n",
      "Epoch 397: val_accuracy did not improve from 0.95295\n",
      "207/207 [==============================] - 17s 80ms/step - loss: 0.0128 - accuracy: 0.9964 - val_loss: 0.3720 - val_accuracy: 0.9312\n",
      "Epoch 398/500\n",
      "207/207 [==============================] - ETA: 0s - loss: 0.0405 - accuracy: 0.9909\n",
      "Epoch 398: val_accuracy did not improve from 0.95295\n",
      "207/207 [==============================] - 17s 81ms/step - loss: 0.0405 - accuracy: 0.9909 - val_loss: 0.5510 - val_accuracy: 0.9157\n",
      "Epoch 399/500\n",
      "207/207 [==============================] - ETA: 0s - loss: 0.0222 - accuracy: 0.9921\n",
      "Epoch 399: val_accuracy did not improve from 0.95295\n",
      "207/207 [==============================] - 17s 81ms/step - loss: 0.0222 - accuracy: 0.9921 - val_loss: 0.3056 - val_accuracy: 0.9403\n",
      "Epoch 400/500\n",
      "207/207 [==============================] - ETA: 0s - loss: 0.0127 - accuracy: 0.9952\n",
      "Epoch 400: val_accuracy did not improve from 0.95295\n",
      "207/207 [==============================] - 17s 81ms/step - loss: 0.0127 - accuracy: 0.9952 - val_loss: 0.3701 - val_accuracy: 0.9298\n",
      "Epoch 401/500\n",
      "207/207 [==============================] - ETA: 0s - loss: 0.0200 - accuracy: 0.9940\n",
      "Epoch 401: val_accuracy did not improve from 0.95295\n",
      "207/207 [==============================] - 17s 80ms/step - loss: 0.0200 - accuracy: 0.9940 - val_loss: 0.3150 - val_accuracy: 0.9340\n",
      "Epoch 402/500\n",
      "207/207 [==============================] - ETA: 0s - loss: 0.0202 - accuracy: 0.9940\n",
      "Epoch 402: val_accuracy did not improve from 0.95295\n",
      "207/207 [==============================] - 17s 80ms/step - loss: 0.0202 - accuracy: 0.9940 - val_loss: 0.3107 - val_accuracy: 0.9473\n",
      "Epoch 403/500\n",
      "207/207 [==============================] - ETA: 0s - loss: 0.0249 - accuracy: 0.9906\n",
      "Epoch 403: val_accuracy did not improve from 0.95295\n",
      "207/207 [==============================] - 17s 80ms/step - loss: 0.0249 - accuracy: 0.9906 - val_loss: 0.2925 - val_accuracy: 0.9424\n"
     ]
    },
    {
     "name": "stdout",
     "output_type": "stream",
     "text": [
      "Epoch 404/500\n",
      "207/207 [==============================] - ETA: 0s - loss: 0.0127 - accuracy: 0.9949\n",
      "Epoch 404: val_accuracy did not improve from 0.95295\n",
      "207/207 [==============================] - 17s 80ms/step - loss: 0.0127 - accuracy: 0.9949 - val_loss: 0.3692 - val_accuracy: 0.9277\n",
      "Epoch 405/500\n",
      "207/207 [==============================] - ETA: 0s - loss: 0.0035 - accuracy: 1.0000\n",
      "Epoch 405: val_accuracy did not improve from 0.95295\n",
      "207/207 [==============================] - 16s 79ms/step - loss: 0.0035 - accuracy: 1.0000 - val_loss: 0.2798 - val_accuracy: 0.9438\n",
      "Epoch 406/500\n",
      "206/207 [============================>.] - ETA: 0s - loss: 0.0056 - accuracy: 0.9985\n",
      "Epoch 406: val_accuracy did not improve from 0.95295\n",
      "207/207 [==============================] - 17s 81ms/step - loss: 0.0056 - accuracy: 0.9985 - val_loss: 0.3080 - val_accuracy: 0.9452\n",
      "Epoch 407/500\n",
      "207/207 [==============================] - ETA: 0s - loss: 0.0077 - accuracy: 0.9970\n",
      "Epoch 407: val_accuracy did not improve from 0.95295\n",
      "207/207 [==============================] - 17s 81ms/step - loss: 0.0077 - accuracy: 0.9970 - val_loss: 0.3273 - val_accuracy: 0.9361\n",
      "Epoch 408/500\n",
      "207/207 [==============================] - ETA: 0s - loss: 0.0213 - accuracy: 0.9943\n",
      "Epoch 408: val_accuracy did not improve from 0.95295\n",
      "207/207 [==============================] - 17s 80ms/step - loss: 0.0213 - accuracy: 0.9943 - val_loss: 0.4671 - val_accuracy: 0.9178\n",
      "Epoch 409/500\n",
      "207/207 [==============================] - ETA: 0s - loss: 0.0169 - accuracy: 0.9940\n",
      "Epoch 409: val_accuracy did not improve from 0.95295\n",
      "207/207 [==============================] - 17s 80ms/step - loss: 0.0169 - accuracy: 0.9940 - val_loss: 0.3055 - val_accuracy: 0.9340\n",
      "Epoch 410/500\n",
      "207/207 [==============================] - ETA: 0s - loss: 0.0203 - accuracy: 0.9952\n",
      "Epoch 410: val_accuracy did not improve from 0.95295\n",
      "207/207 [==============================] - 17s 80ms/step - loss: 0.0203 - accuracy: 0.9952 - val_loss: 0.4340 - val_accuracy: 0.9171\n",
      "Epoch 411/500\n",
      "207/207 [==============================] - ETA: 0s - loss: 0.0246 - accuracy: 0.9918\n",
      "Epoch 411: val_accuracy did not improve from 0.95295\n",
      "207/207 [==============================] - 17s 82ms/step - loss: 0.0246 - accuracy: 0.9918 - val_loss: 0.3246 - val_accuracy: 0.9305\n",
      "Epoch 412/500\n",
      "207/207 [==============================] - ETA: 0s - loss: 0.0286 - accuracy: 0.9912\n",
      "Epoch 412: val_accuracy did not improve from 0.95295\n",
      "207/207 [==============================] - 17s 80ms/step - loss: 0.0286 - accuracy: 0.9912 - val_loss: 0.2797 - val_accuracy: 0.9403\n",
      "Epoch 413/500\n",
      "207/207 [==============================] - ETA: 0s - loss: 0.0156 - accuracy: 0.9943\n",
      "Epoch 413: val_accuracy did not improve from 0.95295\n",
      "207/207 [==============================] - 17s 81ms/step - loss: 0.0156 - accuracy: 0.9943 - val_loss: 0.3269 - val_accuracy: 0.9340\n",
      "Epoch 414/500\n",
      "207/207 [==============================] - ETA: 0s - loss: 0.0109 - accuracy: 0.9961\n",
      "Epoch 414: val_accuracy did not improve from 0.95295\n",
      "207/207 [==============================] - 17s 80ms/step - loss: 0.0109 - accuracy: 0.9961 - val_loss: 0.3399 - val_accuracy: 0.9305\n",
      "Epoch 415/500\n",
      "207/207 [==============================] - ETA: 0s - loss: 0.0059 - accuracy: 0.9985\n",
      "Epoch 415: val_accuracy did not improve from 0.95295\n",
      "207/207 [==============================] - 17s 80ms/step - loss: 0.0059 - accuracy: 0.9985 - val_loss: 0.3311 - val_accuracy: 0.9333\n",
      "Epoch 416/500\n",
      "207/207 [==============================] - ETA: 0s - loss: 0.0097 - accuracy: 0.9961\n",
      "Epoch 416: val_accuracy did not improve from 0.95295\n",
      "207/207 [==============================] - 17s 81ms/step - loss: 0.0097 - accuracy: 0.9961 - val_loss: 0.3561 - val_accuracy: 0.9270\n",
      "Epoch 417/500\n",
      "207/207 [==============================] - ETA: 0s - loss: 0.0198 - accuracy: 0.9946\n",
      "Epoch 417: val_accuracy did not improve from 0.95295\n",
      "207/207 [==============================] - 17s 80ms/step - loss: 0.0198 - accuracy: 0.9946 - val_loss: 0.3823 - val_accuracy: 0.9164\n",
      "Epoch 418/500\n",
      "207/207 [==============================] - ETA: 0s - loss: 0.0197 - accuracy: 0.9934\n",
      "Epoch 418: val_accuracy did not improve from 0.95295\n",
      "207/207 [==============================] - 17s 81ms/step - loss: 0.0197 - accuracy: 0.9934 - val_loss: 0.4538 - val_accuracy: 0.9164\n",
      "Epoch 419/500\n",
      "207/207 [==============================] - ETA: 0s - loss: 0.0131 - accuracy: 0.9949\n",
      "Epoch 419: val_accuracy did not improve from 0.95295\n",
      "207/207 [==============================] - 17s 80ms/step - loss: 0.0131 - accuracy: 0.9949 - val_loss: 0.2527 - val_accuracy: 0.9494\n",
      "Epoch 420/500\n",
      "207/207 [==============================] - ETA: 0s - loss: 0.0132 - accuracy: 0.9952\n",
      "Epoch 420: val_accuracy did not improve from 0.95295\n",
      "207/207 [==============================] - 17s 80ms/step - loss: 0.0132 - accuracy: 0.9952 - val_loss: 0.3682 - val_accuracy: 0.9445\n",
      "Epoch 421/500\n",
      "207/207 [==============================] - ETA: 0s - loss: 0.0105 - accuracy: 0.9970\n",
      "Epoch 421: val_accuracy did not improve from 0.95295\n",
      "207/207 [==============================] - 17s 81ms/step - loss: 0.0105 - accuracy: 0.9970 - val_loss: 0.2530 - val_accuracy: 0.9480\n",
      "Epoch 422/500\n",
      "207/207 [==============================] - ETA: 0s - loss: 0.0193 - accuracy: 0.9937\n",
      "Epoch 422: val_accuracy did not improve from 0.95295\n",
      "207/207 [==============================] - 17s 80ms/step - loss: 0.0193 - accuracy: 0.9937 - val_loss: 0.3502 - val_accuracy: 0.9333\n",
      "Epoch 423/500\n",
      "207/207 [==============================] - ETA: 0s - loss: 0.0076 - accuracy: 0.9979\n",
      "Epoch 423: val_accuracy did not improve from 0.95295\n",
      "207/207 [==============================] - 17s 80ms/step - loss: 0.0076 - accuracy: 0.9979 - val_loss: 0.2634 - val_accuracy: 0.9480\n",
      "Epoch 424/500\n",
      "207/207 [==============================] - ETA: 0s - loss: 0.0164 - accuracy: 0.9946\n",
      "Epoch 424: val_accuracy did not improve from 0.95295\n",
      "207/207 [==============================] - 17s 80ms/step - loss: 0.0164 - accuracy: 0.9946 - val_loss: 0.3693 - val_accuracy: 0.9263\n",
      "Epoch 425/500\n",
      "207/207 [==============================] - ETA: 0s - loss: 0.0125 - accuracy: 0.9949\n",
      "Epoch 425: val_accuracy did not improve from 0.95295\n",
      "207/207 [==============================] - 17s 81ms/step - loss: 0.0125 - accuracy: 0.9949 - val_loss: 0.2544 - val_accuracy: 0.9494\n",
      "Epoch 426/500\n",
      "207/207 [==============================] - ETA: 0s - loss: 0.0084 - accuracy: 0.9964\n",
      "Epoch 426: val_accuracy did not improve from 0.95295\n",
      "207/207 [==============================] - 17s 81ms/step - loss: 0.0084 - accuracy: 0.9964 - val_loss: 0.3320 - val_accuracy: 0.9284\n",
      "Epoch 427/500\n",
      "207/207 [==============================] - ETA: 0s - loss: 0.0115 - accuracy: 0.9967\n",
      "Epoch 427: val_accuracy did not improve from 0.95295\n",
      "207/207 [==============================] - 17s 82ms/step - loss: 0.0115 - accuracy: 0.9967 - val_loss: 0.3039 - val_accuracy: 0.9340\n",
      "Epoch 428/500\n",
      "207/207 [==============================] - ETA: 0s - loss: 0.0055 - accuracy: 0.9979\n",
      "Epoch 428: val_accuracy did not improve from 0.95295\n",
      "207/207 [==============================] - 17s 81ms/step - loss: 0.0055 - accuracy: 0.9979 - val_loss: 0.2940 - val_accuracy: 0.9389\n",
      "Epoch 429/500\n",
      "207/207 [==============================] - ETA: 0s - loss: 0.0273 - accuracy: 0.9918\n",
      "Epoch 429: val_accuracy did not improve from 0.95295\n",
      "207/207 [==============================] - 17s 80ms/step - loss: 0.0273 - accuracy: 0.9918 - val_loss: 0.2772 - val_accuracy: 0.9452\n",
      "Epoch 430/500\n",
      "207/207 [==============================] - ETA: 0s - loss: 0.0215 - accuracy: 0.9930\n",
      "Epoch 430: val_accuracy did not improve from 0.95295\n",
      "207/207 [==============================] - 17s 80ms/step - loss: 0.0215 - accuracy: 0.9930 - val_loss: 0.3644 - val_accuracy: 0.9284\n",
      "Epoch 431/500\n",
      "207/207 [==============================] - ETA: 0s - loss: 0.0182 - accuracy: 0.9952\n",
      "Epoch 431: val_accuracy did not improve from 0.95295\n",
      "207/207 [==============================] - 17s 80ms/step - loss: 0.0182 - accuracy: 0.9952 - val_loss: 0.2984 - val_accuracy: 0.9445\n",
      "Epoch 432/500\n",
      "207/207 [==============================] - ETA: 0s - loss: 0.0294 - accuracy: 0.9915\n",
      "Epoch 432: val_accuracy did not improve from 0.95295\n",
      "207/207 [==============================] - 17s 80ms/step - loss: 0.0294 - accuracy: 0.9915 - val_loss: 0.6761 - val_accuracy: 0.9003\n"
     ]
    },
    {
     "name": "stdout",
     "output_type": "stream",
     "text": [
      "Epoch 433/500\n",
      "207/207 [==============================] - ETA: 0s - loss: 0.0130 - accuracy: 0.9961\n",
      "Epoch 433: val_accuracy did not improve from 0.95295\n",
      "207/207 [==============================] - 17s 81ms/step - loss: 0.0130 - accuracy: 0.9961 - val_loss: 0.3423 - val_accuracy: 0.9417\n",
      "Epoch 434/500\n",
      "207/207 [==============================] - ETA: 0s - loss: 0.0084 - accuracy: 0.9970\n",
      "Epoch 434: val_accuracy did not improve from 0.95295\n",
      "207/207 [==============================] - 17s 81ms/step - loss: 0.0084 - accuracy: 0.9970 - val_loss: 0.2809 - val_accuracy: 0.9459\n",
      "Epoch 435/500\n",
      "207/207 [==============================] - ETA: 0s - loss: 0.0176 - accuracy: 0.9946\n",
      "Epoch 435: val_accuracy did not improve from 0.95295\n",
      "207/207 [==============================] - 17s 80ms/step - loss: 0.0176 - accuracy: 0.9946 - val_loss: 0.4763 - val_accuracy: 0.9122\n",
      "Epoch 436/500\n",
      "207/207 [==============================] - ETA: 0s - loss: 0.0169 - accuracy: 0.9958\n",
      "Epoch 436: val_accuracy did not improve from 0.95295\n",
      "207/207 [==============================] - 17s 80ms/step - loss: 0.0169 - accuracy: 0.9958 - val_loss: 0.4152 - val_accuracy: 0.9249\n",
      "Epoch 437/500\n",
      "207/207 [==============================] - ETA: 0s - loss: 0.0078 - accuracy: 0.9976\n",
      "Epoch 437: val_accuracy did not improve from 0.95295\n",
      "207/207 [==============================] - 17s 80ms/step - loss: 0.0078 - accuracy: 0.9976 - val_loss: 0.2807 - val_accuracy: 0.9410\n",
      "Epoch 438/500\n",
      "207/207 [==============================] - ETA: 0s - loss: 0.0092 - accuracy: 0.9961\n",
      "Epoch 438: val_accuracy did not improve from 0.95295\n",
      "207/207 [==============================] - 17s 82ms/step - loss: 0.0092 - accuracy: 0.9961 - val_loss: 0.3646 - val_accuracy: 0.9438\n",
      "Epoch 439/500\n",
      "207/207 [==============================] - ETA: 0s - loss: 0.0105 - accuracy: 0.9961\n",
      "Epoch 439: val_accuracy did not improve from 0.95295\n",
      "207/207 [==============================] - 17s 81ms/step - loss: 0.0105 - accuracy: 0.9961 - val_loss: 0.3121 - val_accuracy: 0.9466\n",
      "Epoch 440/500\n",
      "207/207 [==============================] - ETA: 0s - loss: 0.0075 - accuracy: 0.9967\n",
      "Epoch 440: val_accuracy improved from 0.95295 to 0.95576, saving model to model_weights.h5\n",
      "207/207 [==============================] - 17s 82ms/step - loss: 0.0075 - accuracy: 0.9967 - val_loss: 0.2274 - val_accuracy: 0.9558\n",
      "Epoch 441/500\n",
      "207/207 [==============================] - ETA: 0s - loss: 0.0106 - accuracy: 0.9964\n",
      "Epoch 441: val_accuracy did not improve from 0.95576\n",
      "207/207 [==============================] - 17s 81ms/step - loss: 0.0106 - accuracy: 0.9964 - val_loss: 0.3189 - val_accuracy: 0.9424\n",
      "Epoch 442/500\n",
      "207/207 [==============================] - ETA: 0s - loss: 0.0128 - accuracy: 0.9973\n",
      "Epoch 442: val_accuracy did not improve from 0.95576\n",
      "207/207 [==============================] - 17s 81ms/step - loss: 0.0128 - accuracy: 0.9973 - val_loss: 0.3304 - val_accuracy: 0.9347\n",
      "Epoch 443/500\n",
      "207/207 [==============================] - ETA: 0s - loss: 0.0195 - accuracy: 0.9937\n",
      "Epoch 443: val_accuracy did not improve from 0.95576\n",
      "207/207 [==============================] - 17s 80ms/step - loss: 0.0195 - accuracy: 0.9937 - val_loss: 0.3228 - val_accuracy: 0.9396\n",
      "Epoch 444/500\n",
      "207/207 [==============================] - ETA: 0s - loss: 0.0126 - accuracy: 0.9970\n",
      "Epoch 444: val_accuracy did not improve from 0.95576\n",
      "207/207 [==============================] - 17s 80ms/step - loss: 0.0126 - accuracy: 0.9970 - val_loss: 0.4081 - val_accuracy: 0.9256\n",
      "Epoch 445/500\n",
      "207/207 [==============================] - ETA: 0s - loss: 0.0198 - accuracy: 0.9958\n",
      "Epoch 445: val_accuracy did not improve from 0.95576\n",
      "207/207 [==============================] - 17s 82ms/step - loss: 0.0198 - accuracy: 0.9958 - val_loss: 0.3757 - val_accuracy: 0.9298\n",
      "Epoch 446/500\n",
      "207/207 [==============================] - ETA: 0s - loss: 0.0180 - accuracy: 0.9940\n",
      "Epoch 446: val_accuracy did not improve from 0.95576\n",
      "207/207 [==============================] - 19s 92ms/step - loss: 0.0180 - accuracy: 0.9940 - val_loss: 0.4320 - val_accuracy: 0.9164\n",
      "Epoch 447/500\n",
      "207/207 [==============================] - ETA: 0s - loss: 0.0142 - accuracy: 0.9955\n",
      "Epoch 447: val_accuracy did not improve from 0.95576\n",
      "207/207 [==============================] - 19s 92ms/step - loss: 0.0142 - accuracy: 0.9955 - val_loss: 0.5723 - val_accuracy: 0.9038\n",
      "Epoch 448/500\n",
      "207/207 [==============================] - ETA: 0s - loss: 0.0146 - accuracy: 0.9955\n",
      "Epoch 448: val_accuracy did not improve from 0.95576\n",
      "207/207 [==============================] - 18s 89ms/step - loss: 0.0146 - accuracy: 0.9955 - val_loss: 0.2361 - val_accuracy: 0.9522\n",
      "Epoch 449/500\n",
      "207/207 [==============================] - ETA: 0s - loss: 0.0061 - accuracy: 0.9979\n",
      "Epoch 449: val_accuracy did not improve from 0.95576\n",
      "207/207 [==============================] - 36s 172ms/step - loss: 0.0061 - accuracy: 0.9979 - val_loss: 0.3030 - val_accuracy: 0.9431\n",
      "Epoch 450/500\n",
      "207/207 [==============================] - ETA: 0s - loss: 0.0063 - accuracy: 0.9967\n",
      "Epoch 450: val_accuracy did not improve from 0.95576\n",
      "207/207 [==============================] - 30s 144ms/step - loss: 0.0063 - accuracy: 0.9967 - val_loss: 0.2836 - val_accuracy: 0.9403\n",
      "Epoch 451/500\n",
      "207/207 [==============================] - ETA: 0s - loss: 0.0250 - accuracy: 0.9921\n",
      "Epoch 451: val_accuracy did not improve from 0.95576\n",
      "207/207 [==============================] - 16s 78ms/step - loss: 0.0250 - accuracy: 0.9921 - val_loss: 0.5413 - val_accuracy: 0.9066\n",
      "Epoch 452/500\n",
      "207/207 [==============================] - ETA: 0s - loss: 0.0133 - accuracy: 0.9949\n",
      "Epoch 452: val_accuracy did not improve from 0.95576\n",
      "207/207 [==============================] - 17s 80ms/step - loss: 0.0133 - accuracy: 0.9949 - val_loss: 0.3117 - val_accuracy: 0.9389\n",
      "Epoch 453/500\n",
      "207/207 [==============================] - ETA: 0s - loss: 0.0130 - accuracy: 0.9952\n",
      "Epoch 453: val_accuracy did not improve from 0.95576\n",
      "207/207 [==============================] - 17s 80ms/step - loss: 0.0130 - accuracy: 0.9952 - val_loss: 0.3163 - val_accuracy: 0.9403\n",
      "Epoch 454/500\n",
      "207/207 [==============================] - ETA: 0s - loss: 0.0055 - accuracy: 0.9985\n",
      "Epoch 454: val_accuracy did not improve from 0.95576\n",
      "207/207 [==============================] - 17s 80ms/step - loss: 0.0055 - accuracy: 0.9985 - val_loss: 0.2612 - val_accuracy: 0.9466\n",
      "Epoch 455/500\n",
      "207/207 [==============================] - ETA: 0s - loss: 0.0204 - accuracy: 0.9934\n",
      "Epoch 455: val_accuracy did not improve from 0.95576\n",
      "207/207 [==============================] - 17s 81ms/step - loss: 0.0204 - accuracy: 0.9934 - val_loss: 0.9597 - val_accuracy: 0.8343\n",
      "Epoch 456/500\n",
      "207/207 [==============================] - ETA: 0s - loss: 0.0422 - accuracy: 0.9894\n",
      "Epoch 456: val_accuracy did not improve from 0.95576\n",
      "207/207 [==============================] - 17s 81ms/step - loss: 0.0422 - accuracy: 0.9894 - val_loss: 0.4428 - val_accuracy: 0.9284\n",
      "Epoch 457/500\n",
      "207/207 [==============================] - ETA: 0s - loss: 0.0107 - accuracy: 0.9955\n",
      "Epoch 457: val_accuracy did not improve from 0.95576\n",
      "207/207 [==============================] - 17s 84ms/step - loss: 0.0107 - accuracy: 0.9955 - val_loss: 0.3379 - val_accuracy: 0.9361\n",
      "Epoch 458/500\n",
      "207/207 [==============================] - ETA: 0s - loss: 0.0163 - accuracy: 0.9946\n",
      "Epoch 458: val_accuracy did not improve from 0.95576\n",
      "207/207 [==============================] - 17s 82ms/step - loss: 0.0163 - accuracy: 0.9946 - val_loss: 0.4548 - val_accuracy: 0.9017\n",
      "Epoch 459/500\n",
      "207/207 [==============================] - ETA: 0s - loss: 0.0093 - accuracy: 0.9964\n",
      "Epoch 459: val_accuracy did not improve from 0.95576\n",
      "207/207 [==============================] - 17s 82ms/step - loss: 0.0093 - accuracy: 0.9964 - val_loss: 0.3692 - val_accuracy: 0.9305\n",
      "Epoch 460/500\n",
      "207/207 [==============================] - ETA: 0s - loss: 0.0194 - accuracy: 0.9943\n",
      "Epoch 460: val_accuracy did not improve from 0.95576\n",
      "207/207 [==============================] - 17s 82ms/step - loss: 0.0194 - accuracy: 0.9943 - val_loss: 0.4724 - val_accuracy: 0.9305\n",
      "Epoch 461/500\n",
      "207/207 [==============================] - ETA: 0s - loss: 0.0083 - accuracy: 0.9976\n",
      "Epoch 461: val_accuracy did not improve from 0.95576\n",
      "207/207 [==============================] - 17s 82ms/step - loss: 0.0083 - accuracy: 0.9976 - val_loss: 0.3085 - val_accuracy: 0.9354\n"
     ]
    },
    {
     "name": "stdout",
     "output_type": "stream",
     "text": [
      "Epoch 462/500\n",
      "207/207 [==============================] - ETA: 0s - loss: 0.0254 - accuracy: 0.9934\n",
      "Epoch 462: val_accuracy did not improve from 0.95576\n",
      "207/207 [==============================] - 17s 81ms/step - loss: 0.0254 - accuracy: 0.9934 - val_loss: 0.3865 - val_accuracy: 0.9277\n",
      "Epoch 463/500\n",
      "207/207 [==============================] - ETA: 0s - loss: 0.0138 - accuracy: 0.9967\n",
      "Epoch 463: val_accuracy did not improve from 0.95576\n",
      "207/207 [==============================] - 17s 82ms/step - loss: 0.0138 - accuracy: 0.9967 - val_loss: 0.3869 - val_accuracy: 0.9242\n",
      "Epoch 464/500\n",
      "207/207 [==============================] - ETA: 0s - loss: 0.0128 - accuracy: 0.9955\n",
      "Epoch 464: val_accuracy did not improve from 0.95576\n",
      "207/207 [==============================] - 17s 83ms/step - loss: 0.0128 - accuracy: 0.9955 - val_loss: 0.4135 - val_accuracy: 0.9164\n",
      "Epoch 465/500\n",
      "207/207 [==============================] - ETA: 0s - loss: 0.0308 - accuracy: 0.9912\n",
      "Epoch 465: val_accuracy did not improve from 0.95576\n",
      "207/207 [==============================] - 17s 81ms/step - loss: 0.0308 - accuracy: 0.9912 - val_loss: 0.3351 - val_accuracy: 0.9368\n",
      "Epoch 466/500\n",
      "207/207 [==============================] - ETA: 0s - loss: 0.0109 - accuracy: 0.9970\n",
      "Epoch 466: val_accuracy did not improve from 0.95576\n",
      "207/207 [==============================] - 17s 82ms/step - loss: 0.0109 - accuracy: 0.9970 - val_loss: 0.3622 - val_accuracy: 0.9291\n",
      "Epoch 467/500\n",
      "207/207 [==============================] - ETA: 0s - loss: 0.0050 - accuracy: 0.9979\n",
      "Epoch 467: val_accuracy did not improve from 0.95576\n",
      "207/207 [==============================] - 17s 84ms/step - loss: 0.0050 - accuracy: 0.9979 - val_loss: 0.2808 - val_accuracy: 0.9452\n",
      "Epoch 468/500\n",
      "207/207 [==============================] - ETA: 0s - loss: 0.0132 - accuracy: 0.9940\n",
      "Epoch 468: val_accuracy did not improve from 0.95576\n",
      "207/207 [==============================] - 17s 83ms/step - loss: 0.0132 - accuracy: 0.9940 - val_loss: 0.3390 - val_accuracy: 0.9438\n",
      "Epoch 469/500\n",
      "207/207 [==============================] - ETA: 0s - loss: 0.0239 - accuracy: 0.9946\n",
      "Epoch 469: val_accuracy did not improve from 0.95576\n",
      "207/207 [==============================] - 17s 82ms/step - loss: 0.0239 - accuracy: 0.9946 - val_loss: 0.2858 - val_accuracy: 0.9326\n",
      "Epoch 470/500\n",
      "207/207 [==============================] - ETA: 0s - loss: 0.0181 - accuracy: 0.9955\n",
      "Epoch 470: val_accuracy did not improve from 0.95576\n",
      "207/207 [==============================] - 17s 81ms/step - loss: 0.0181 - accuracy: 0.9955 - val_loss: 0.2950 - val_accuracy: 0.9445\n",
      "Epoch 471/500\n",
      "207/207 [==============================] - ETA: 0s - loss: 0.0047 - accuracy: 0.9985\n",
      "Epoch 471: val_accuracy did not improve from 0.95576\n",
      "207/207 [==============================] - 17s 82ms/step - loss: 0.0047 - accuracy: 0.9985 - val_loss: 0.2831 - val_accuracy: 0.9396\n",
      "Epoch 472/500\n",
      "207/207 [==============================] - ETA: 0s - loss: 0.0043 - accuracy: 0.9988\n",
      "Epoch 472: val_accuracy did not improve from 0.95576\n",
      "207/207 [==============================] - 17s 82ms/step - loss: 0.0043 - accuracy: 0.9988 - val_loss: 0.3345 - val_accuracy: 0.9333\n",
      "Epoch 473/500\n",
      "207/207 [==============================] - ETA: 0s - loss: 0.0136 - accuracy: 0.9952\n",
      "Epoch 473: val_accuracy did not improve from 0.95576\n",
      "207/207 [==============================] - 17s 81ms/step - loss: 0.0136 - accuracy: 0.9952 - val_loss: 0.2792 - val_accuracy: 0.9459\n",
      "Epoch 474/500\n",
      "207/207 [==============================] - ETA: 0s - loss: 0.0090 - accuracy: 0.9970\n",
      "Epoch 474: val_accuracy did not improve from 0.95576\n",
      "207/207 [==============================] - 17s 80ms/step - loss: 0.0090 - accuracy: 0.9970 - val_loss: 0.2945 - val_accuracy: 0.9522\n",
      "Epoch 475/500\n",
      "207/207 [==============================] - ETA: 0s - loss: 0.0288 - accuracy: 0.9924\n",
      "Epoch 475: val_accuracy did not improve from 0.95576\n",
      "207/207 [==============================] - 17s 82ms/step - loss: 0.0288 - accuracy: 0.9924 - val_loss: 0.8726 - val_accuracy: 0.8596\n",
      "Epoch 476/500\n",
      "207/207 [==============================] - ETA: 0s - loss: 0.0229 - accuracy: 0.9940\n",
      "Epoch 476: val_accuracy did not improve from 0.95576\n",
      "207/207 [==============================] - 17s 83ms/step - loss: 0.0229 - accuracy: 0.9940 - val_loss: 0.3169 - val_accuracy: 0.9347\n",
      "Epoch 477/500\n",
      "207/207 [==============================] - ETA: 0s - loss: 0.0144 - accuracy: 0.9958\n",
      "Epoch 477: val_accuracy did not improve from 0.95576\n",
      "207/207 [==============================] - 18s 87ms/step - loss: 0.0144 - accuracy: 0.9958 - val_loss: 0.2926 - val_accuracy: 0.9424\n",
      "Epoch 478/500\n",
      "207/207 [==============================] - ETA: 0s - loss: 0.0036 - accuracy: 0.9994\n",
      "Epoch 478: val_accuracy did not improve from 0.95576\n",
      "207/207 [==============================] - 18s 86ms/step - loss: 0.0036 - accuracy: 0.9994 - val_loss: 0.2474 - val_accuracy: 0.9515\n",
      "Epoch 479/500\n",
      "207/207 [==============================] - ETA: 0s - loss: 0.0064 - accuracy: 0.9979\n",
      "Epoch 479: val_accuracy did not improve from 0.95576\n",
      "207/207 [==============================] - 18s 88ms/step - loss: 0.0064 - accuracy: 0.9979 - val_loss: 0.2962 - val_accuracy: 0.9438\n",
      "Epoch 480/500\n",
      "207/207 [==============================] - ETA: 0s - loss: 0.0099 - accuracy: 0.9973\n",
      "Epoch 480: val_accuracy did not improve from 0.95576\n",
      "207/207 [==============================] - 18s 87ms/step - loss: 0.0099 - accuracy: 0.9973 - val_loss: 0.2821 - val_accuracy: 0.9487\n",
      "Epoch 481/500\n",
      "207/207 [==============================] - ETA: 0s - loss: 0.0139 - accuracy: 0.9955\n",
      "Epoch 481: val_accuracy did not improve from 0.95576\n",
      "207/207 [==============================] - 18s 88ms/step - loss: 0.0139 - accuracy: 0.9955 - val_loss: 0.2587 - val_accuracy: 0.9452\n",
      "Epoch 482/500\n",
      "207/207 [==============================] - ETA: 0s - loss: 0.0275 - accuracy: 0.9949\n",
      "Epoch 482: val_accuracy did not improve from 0.95576\n",
      "207/207 [==============================] - 18s 88ms/step - loss: 0.0275 - accuracy: 0.9949 - val_loss: 0.2781 - val_accuracy: 0.9403\n",
      "Epoch 483/500\n",
      "207/207 [==============================] - ETA: 0s - loss: 0.0135 - accuracy: 0.9967\n",
      "Epoch 483: val_accuracy did not improve from 0.95576\n",
      "207/207 [==============================] - 19s 89ms/step - loss: 0.0135 - accuracy: 0.9967 - val_loss: 0.3776 - val_accuracy: 0.9206\n",
      "Epoch 484/500\n",
      "207/207 [==============================] - ETA: 0s - loss: 0.0077 - accuracy: 0.9964\n",
      "Epoch 484: val_accuracy did not improve from 0.95576\n",
      "207/207 [==============================] - 19s 90ms/step - loss: 0.0077 - accuracy: 0.9964 - val_loss: 0.3246 - val_accuracy: 0.9354\n",
      "Epoch 485/500\n",
      "207/207 [==============================] - ETA: 0s - loss: 0.0173 - accuracy: 0.9952\n",
      "Epoch 485: val_accuracy did not improve from 0.95576\n",
      "207/207 [==============================] - 19s 90ms/step - loss: 0.0173 - accuracy: 0.9952 - val_loss: 0.3702 - val_accuracy: 0.9277\n",
      "Epoch 486/500\n",
      "207/207 [==============================] - ETA: 0s - loss: 0.0154 - accuracy: 0.9946\n",
      "Epoch 486: val_accuracy did not improve from 0.95576\n",
      "207/207 [==============================] - 18s 88ms/step - loss: 0.0154 - accuracy: 0.9946 - val_loss: 0.3482 - val_accuracy: 0.9403\n",
      "Epoch 487/500\n",
      "207/207 [==============================] - ETA: 0s - loss: 0.0264 - accuracy: 0.9937\n",
      "Epoch 487: val_accuracy did not improve from 0.95576\n",
      "207/207 [==============================] - 18s 89ms/step - loss: 0.0264 - accuracy: 0.9937 - val_loss: 0.2687 - val_accuracy: 0.9438\n",
      "Epoch 488/500\n",
      "207/207 [==============================] - ETA: 0s - loss: 0.0186 - accuracy: 0.9934\n",
      "Epoch 488: val_accuracy did not improve from 0.95576\n",
      "207/207 [==============================] - 18s 89ms/step - loss: 0.0186 - accuracy: 0.9934 - val_loss: 0.3776 - val_accuracy: 0.9305\n",
      "Epoch 489/500\n",
      "207/207 [==============================] - ETA: 0s - loss: 0.0131 - accuracy: 0.9958\n",
      "Epoch 489: val_accuracy did not improve from 0.95576\n",
      "207/207 [==============================] - 19s 89ms/step - loss: 0.0131 - accuracy: 0.9958 - val_loss: 0.4393 - val_accuracy: 0.9171\n",
      "Epoch 490/500\n",
      "207/207 [==============================] - ETA: 0s - loss: 0.0149 - accuracy: 0.9952\n",
      "Epoch 490: val_accuracy did not improve from 0.95576\n",
      "207/207 [==============================] - 19s 92ms/step - loss: 0.0149 - accuracy: 0.9952 - val_loss: 0.3555 - val_accuracy: 0.9417\n"
     ]
    },
    {
     "name": "stdout",
     "output_type": "stream",
     "text": [
      "Epoch 491/500\n",
      "207/207 [==============================] - ETA: 0s - loss: 0.0169 - accuracy: 0.9952\n",
      "Epoch 491: val_accuracy did not improve from 0.95576\n",
      "207/207 [==============================] - 19s 90ms/step - loss: 0.0169 - accuracy: 0.9952 - val_loss: 0.2695 - val_accuracy: 0.9438\n",
      "Epoch 492/500\n",
      "207/207 [==============================] - ETA: 0s - loss: 0.0319 - accuracy: 0.9927\n",
      "Epoch 492: val_accuracy did not improve from 0.95576\n",
      "207/207 [==============================] - 19s 91ms/step - loss: 0.0319 - accuracy: 0.9927 - val_loss: 0.2923 - val_accuracy: 0.9410\n",
      "Epoch 493/500\n",
      "207/207 [==============================] - ETA: 0s - loss: 0.0071 - accuracy: 0.9970\n",
      "Epoch 493: val_accuracy did not improve from 0.95576\n",
      "207/207 [==============================] - 19s 90ms/step - loss: 0.0071 - accuracy: 0.9970 - val_loss: 0.4290 - val_accuracy: 0.9263\n",
      "Epoch 494/500\n",
      "207/207 [==============================] - ETA: 0s - loss: 0.0214 - accuracy: 0.9930\n",
      "Epoch 494: val_accuracy did not improve from 0.95576\n",
      "207/207 [==============================] - 19s 90ms/step - loss: 0.0214 - accuracy: 0.9930 - val_loss: 0.3058 - val_accuracy: 0.9368\n",
      "Epoch 495/500\n",
      "207/207 [==============================] - ETA: 0s - loss: 0.0042 - accuracy: 0.9985\n",
      "Epoch 495: val_accuracy improved from 0.95576 to 0.95716, saving model to model_weights.h5\n",
      "207/207 [==============================] - 19s 90ms/step - loss: 0.0042 - accuracy: 0.9985 - val_loss: 0.2505 - val_accuracy: 0.9572\n",
      "Epoch 496/500\n",
      "207/207 [==============================] - ETA: 0s - loss: 0.0068 - accuracy: 0.9973\n",
      "Epoch 496: val_accuracy did not improve from 0.95716\n",
      "207/207 [==============================] - 19s 91ms/step - loss: 0.0068 - accuracy: 0.9973 - val_loss: 0.3019 - val_accuracy: 0.9354\n",
      "Epoch 497/500\n",
      "207/207 [==============================] - ETA: 0s - loss: 0.0136 - accuracy: 0.9952\n",
      "Epoch 497: val_accuracy did not improve from 0.95716\n",
      "207/207 [==============================] - 19s 90ms/step - loss: 0.0136 - accuracy: 0.9952 - val_loss: 0.3436 - val_accuracy: 0.9361\n",
      "Epoch 498/500\n",
      "207/207 [==============================] - ETA: 0s - loss: 0.0135 - accuracy: 0.9946\n",
      "Epoch 498: val_accuracy did not improve from 0.95716\n",
      "207/207 [==============================] - 19s 90ms/step - loss: 0.0135 - accuracy: 0.9946 - val_loss: 0.4171 - val_accuracy: 0.9249\n",
      "Epoch 499/500\n",
      "207/207 [==============================] - ETA: 0s - loss: 0.0062 - accuracy: 0.9988\n",
      "Epoch 499: val_accuracy did not improve from 0.95716\n",
      "207/207 [==============================] - 18s 88ms/step - loss: 0.0062 - accuracy: 0.9988 - val_loss: 0.2952 - val_accuracy: 0.9480\n",
      "Epoch 500/500\n",
      "207/207 [==============================] - ETA: 0s - loss: 0.0108 - accuracy: 0.9961\n",
      "Epoch 500: val_accuracy did not improve from 0.95716\n",
      "207/207 [==============================] - 19s 91ms/step - loss: 0.0108 - accuracy: 0.9961 - val_loss: 0.3414 - val_accuracy: 0.9291\n"
     ]
    }
   ],
   "source": [
    "epochs = 500\n",
    "\n",
    "history = model.fit_generator(generator=train_generator,\n",
    "                              steps_per_epoch=train_generator.n//batch_size,\n",
    "                              epochs=epochs,\n",
    "                              validation_data=validation_generator,\n",
    "                              validation_steps=validation_generator.n//batch_size,\n",
    "                              callbacks=callbacks_list,\n",
    "                              verbose=1)"
   ]
  },
  {
   "cell_type": "markdown",
   "metadata": {
    "papermill": {
     "duration": 10.472909,
     "end_time": "2022-07-06T07:26:10.889059",
     "exception": false,
     "start_time": "2022-07-06T07:26:00.416150",
     "status": "completed"
    },
    "tags": []
   },
   "source": [
    "# Visualising the Loss and Accuracy of Model\n",
    "\n",
    "Displaying the loss and accuracy versus epochs graph.\n",
    "\n",
    "This graph allows the user to see whether the model needs to run for some more epochs or not."
   ]
  },
  {
   "cell_type": "code",
   "execution_count": 37,
   "metadata": {
    "execution": {
     "iopub.execute_input": "2022-07-06T07:26:30.231633Z",
     "iopub.status.busy": "2022-07-06T07:26:30.230015Z",
     "iopub.status.idle": "2022-07-06T07:26:30.573208Z",
     "shell.execute_reply": "2022-07-06T07:26:30.573761Z",
     "shell.execute_reply.started": "2022-07-06T06:27:14.090343Z"
    },
    "papermill": {
     "duration": 10.028999,
     "end_time": "2022-07-06T07:26:30.573913",
     "exception": false,
     "start_time": "2022-07-06T07:26:20.544914",
     "status": "completed"
    },
    "tags": []
   },
   "outputs": [
    {
     "data": {
      "image/png": "[encoded data removed]",
      "text/plain": [
       "<Figure size 1500x500 with 2 Axes>"
      ]
     },
     "metadata": {},
     "output_type": "display_data"
    }
   ],
   "source": [
    "show_final_history(history)"
   ]
  },
  {
   "cell_type": "markdown",
   "metadata": {
    "papermill": {
     "duration": 9.395846,
     "end_time": "2022-07-06T07:26:50.516582",
     "exception": false,
     "start_time": "2022-07-06T07:26:41.120736",
     "status": "completed"
    },
    "tags": []
   },
   "source": [
    "The model is yet to reach the global minimum yet. At least the model is not overfitting which is a good thing. But its too bumpy, may need to change the momentum and learning rate for the optimizer."
   ]
  },
  {
   "cell_type": "markdown",
   "metadata": {
    "papermill": {
     "duration": 9.759176,
     "end_time": "2022-07-06T07:27:10.329721",
     "exception": false,
     "start_time": "2022-07-06T07:27:00.570545",
     "status": "completed"
    },
    "tags": []
   },
   "source": [
    "# Plotting a Confusion Matrix\n",
    "\n",
    "A confusion matrix is plotted below to see how well the model fared with respect to the train dataset. It will allow one to realize towards which class is the model biased against.\n",
    "\n",
    "A threshold is set at half of the maximum correlation. Above that values are shown in white while below that are shown in black.\n",
    "\n",
    "Bluer the shade of the block stronger the correlation between the predicted value and actual value. This type of matrix can also be shown for train data to show how the model fared there.\n",
    "\n",
    "The model can be changed using this confusion matrix as a base calculation."
   ]
  },
  {
   "cell_type": "code",
   "execution_count": 23,
   "metadata": {
    "execution": {
     "iopub.execute_input": "2022-07-06T07:27:30.373468Z",
     "iopub.status.busy": "2022-07-06T07:27:30.372482Z",
     "iopub.status.idle": "2022-07-06T07:27:30.377539Z",
     "shell.execute_reply": "2022-07-06T07:27:30.376948Z",
     "shell.execute_reply.started": "2022-07-06T06:27:14.366852Z"
    },
    "papermill": {
     "duration": 9.660877,
     "end_time": "2022-07-06T07:27:30.377649",
     "exception": false,
     "start_time": "2022-07-06T07:27:20.716772",
     "status": "completed"
    },
    "tags": []
   },
   "outputs": [
    {
     "data": {
      "text/plain": [
       "{'Black-grass': 0,\n",
       " 'Charlock': 1,\n",
       " 'Cleavers': 2,\n",
       " 'Common Chickweed': 3,\n",
       " 'Common wheat': 4,\n",
       " 'Fat Hen': 5,\n",
       " 'Loose Silky-bent': 6,\n",
       " 'Maize': 7,\n",
       " 'Scentless Mayweed': 8,\n",
       " 'Shepherds Purse': 9,\n",
       " 'Small-flowered Cranesbill': 10,\n",
       " 'Sugar beet': 11}"
      ]
     },
     "execution_count": 23,
     "metadata": {},
     "output_type": "execute_result"
    }
   ],
   "source": [
    "class_name_labels"
   ]
  },
  {
   "cell_type": "code",
   "execution_count": 24,
   "metadata": {
    "execution": {
     "iopub.execute_input": "2022-07-06T07:27:50.970861Z",
     "iopub.status.busy": "2022-07-06T07:27:50.969596Z",
     "iopub.status.idle": "2022-07-06T07:27:50.976149Z",
     "shell.execute_reply": "2022-07-06T07:27:50.975626Z",
     "shell.execute_reply.started": "2022-07-06T06:27:14.376082Z"
    },
    "papermill": {
     "duration": 10.878159,
     "end_time": "2022-07-06T07:27:50.976298",
     "exception": false,
     "start_time": "2022-07-06T07:27:40.098139",
     "status": "completed"
    },
    "tags": []
   },
   "outputs": [
    {
     "data": {
      "text/plain": [
       "((1425,), 1425)"
      ]
     },
     "execution_count": 24,
     "metadata": {},
     "output_type": "execute_result"
    }
   ],
   "source": [
    "y_test = np.argmax(y_val,axis=1)\n",
    "y_test.shape,validation_generator.n"
   ]
  },
  {
   "cell_type": "code",
   "execution_count": 25,
   "metadata": {
    "execution": {
     "iopub.execute_input": "2022-07-06T07:28:10.358560Z",
     "iopub.status.busy": "2022-07-06T07:28:10.357580Z",
     "iopub.status.idle": "2022-07-06T07:28:17.326073Z",
     "shell.execute_reply": "2022-07-06T07:28:17.325475Z",
     "shell.execute_reply.started": "2022-07-06T06:27:14.385871Z"
    },
    "papermill": {
     "duration": 16.675369,
     "end_time": "2022-07-06T07:28:17.326217",
     "exception": false,
     "start_time": "2022-07-06T07:28:00.650848",
     "status": "completed"
    },
    "tags": []
   },
   "outputs": [
    {
     "name": "stderr",
     "output_type": "stream",
     "text": [
      "/home/soumil/anaconda3/envs/tf/lib/python3.7/site-packages/ipykernel_launcher.py:1: UserWarning: `Model.predict_generator` is deprecated and will be removed in a future version. Please use `Model.predict`, which supports generators.\n",
      "  \"\"\"Entry point for launching an IPython kernel.\n"
     ]
    }
   ],
   "source": [
    "val_pred = model.predict_generator(generator=validation_generator)\n",
    "y_pred = [np.argmax(probas) for probas in val_pred]"
   ]
  },
  {
   "cell_type": "code",
   "execution_count": 26,
   "metadata": {
    "execution": {
     "iopub.execute_input": "2022-07-06T07:28:37.601951Z",
     "iopub.status.busy": "2022-07-06T07:28:37.600790Z",
     "iopub.status.idle": "2022-07-06T07:28:37.605173Z",
     "shell.execute_reply": "2022-07-06T07:28:37.605873Z",
     "shell.execute_reply.started": "2022-07-06T06:27:20.586554Z"
    },
    "papermill": {
     "duration": 9.82824,
     "end_time": "2022-07-06T07:28:37.606042",
     "exception": false,
     "start_time": "2022-07-06T07:28:27.777802",
     "status": "completed"
    },
    "tags": []
   },
   "outputs": [
    {
     "data": {
      "text/plain": [
       "(1425,)"
      ]
     },
     "execution_count": 26,
     "metadata": {},
     "output_type": "execute_result"
    }
   ],
   "source": [
    "y_pred = np.argmax(val_pred,axis=1)\n",
    "y_pred.shape"
   ]
  },
  {
   "cell_type": "code",
   "execution_count": 27,
   "metadata": {
    "execution": {
     "iopub.execute_input": "2022-07-06T07:28:58.031028Z",
     "iopub.status.busy": "2022-07-06T07:28:58.029925Z",
     "iopub.status.idle": "2022-07-06T07:28:58.983533Z",
     "shell.execute_reply": "2022-07-06T07:28:58.982816Z",
     "shell.execute_reply.started": "2022-07-06T06:27:20.594919Z"
    },
    "papermill": {
     "duration": 11.318235,
     "end_time": "2022-07-06T07:28:58.983652",
     "exception": false,
     "start_time": "2022-07-06T07:28:47.665417",
     "status": "completed"
    },
    "tags": []
   },
   "outputs": [
    {
     "data": {
      "text/plain": [
       "<Figure size 640x480 with 0 Axes>"
      ]
     },
     "metadata": {},
     "output_type": "display_data"
    },
    {
     "data": {
      "image/png": "[encoded data removed]",
      "text/plain": [
       "<Figure size 1000x1000 with 2 Axes>"
      ]
     },
     "metadata": {},
     "output_type": "display_data"
    }
   ],
   "source": [
    "import itertools\n",
    "\n",
    "def plot_confusion_matrix(cm,classes,title='Confusion Matrix',cmap=plt.cm.Blues):\n",
    "    \n",
    "    cm = cm.astype('float')/cm.sum(axis=1)[:,np.newaxis]\n",
    "    plt.figure(figsize=(10,10))\n",
    "    plt.imshow(cm,interpolation='nearest',cmap=cmap)\n",
    "    plt.title(title)\n",
    "    plt.colorbar()\n",
    "    tick_marks = np.arange(len(classes))\n",
    "    plt.xticks(tick_marks, classes,rotation=90)\n",
    "    plt.yticks(tick_marks, classes)\n",
    "    \n",
    "    fmt = '.2f'\n",
    "    thresh = cm.max()/2.\n",
    "    for i,j in itertools.product(range(cm.shape[0]),range(cm.shape[1])):\n",
    "        plt.text(j,i,format(cm[i,j],fmt),\n",
    "                horizontalalignment=\"center\",\n",
    "                color=\"white\" if cm[i,j] > thresh else \"black\")\n",
    "        pass\n",
    "    \n",
    "    plt.ylabel('True Label')\n",
    "    plt.xlabel('Predicted Label')\n",
    "    pass\n",
    "\n",
    "cnf_mat = confusion_matrix(y_test,y_pred)\n",
    "np.set_printoptions(precision=2)\n",
    "\n",
    "\n",
    "plt.figure()\n",
    "plot_confusion_matrix(cnf_mat,classes=class_names)\n",
    "plt.show()"
   ]
  },
  {
   "cell_type": "markdown",
   "metadata": {
    "papermill": {
     "duration": 9.586674,
     "end_time": "2022-07-06T07:29:18.306112",
     "exception": false,
     "start_time": "2022-07-06T07:29:08.719438",
     "status": "completed"
    },
    "tags": []
   },
   "source": [
    "The model is biased towards *Loose Silky Bent*"
   ]
  },
  {
   "cell_type": "markdown",
   "metadata": {
    "papermill": {
     "duration": 9.733089,
     "end_time": "2022-07-06T07:29:38.294036",
     "exception": false,
     "start_time": "2022-07-06T07:29:28.560947",
     "status": "completed"
    },
    "tags": []
   },
   "source": [
    "# Predicting the Test Images and making a submission\n",
    "\n",
    "The test images are preprocessed via ImageDataGenerator and passed to the predict_generator function of the model for prediction. "
   ]
  },
  {
   "cell_type": "code",
   "execution_count": 28,
   "metadata": {
    "execution": {
     "iopub.execute_input": "2022-07-06T07:29:57.168654Z",
     "iopub.status.busy": "2022-07-06T07:29:57.167774Z",
     "iopub.status.idle": "2022-07-06T07:29:57.171760Z",
     "shell.execute_reply": "2022-07-06T07:29:57.171180Z",
     "shell.execute_reply.started": "2022-07-06T06:27:21.380511Z"
    },
    "papermill": {
     "duration": 9.301486,
     "end_time": "2022-07-06T07:29:57.171869",
     "exception": false,
     "start_time": "2022-07-06T07:29:47.870383",
     "status": "completed"
    },
    "tags": []
   },
   "outputs": [],
   "source": [
    "test_dir = [\"./data/plant-seedlings-classification/test\"]\n",
    "\n",
    "def load_test():\n",
    "    \n",
    "    images,names = [],[]\n",
    "    for dataset in test_dir:\n",
    "\n",
    "        for file in tqdm(os.listdir(dataset)):\n",
    "            \n",
    "            img_path = os.path.join(dataset,file)\n",
    "            img = cv2.imread(img_path)\n",
    "            img = cv2.cvtColor(img,cv2.COLOR_BGR2RGB)\n",
    "            img = cv2.resize(img,(150,150))\n",
    "\n",
    "            images.append(img)\n",
    "            names.append(file)\n",
    "            pass\n",
    "        \n",
    "        images = np.array(images,dtype=np.float32)\n",
    "        pass\n",
    "    \n",
    "    return images,names\n",
    "    pass"
   ]
  },
  {
   "cell_type": "code",
   "execution_count": 29,
   "metadata": {
    "execution": {
     "iopub.execute_input": "2022-07-06T07:30:17.749560Z",
     "iopub.status.busy": "2022-07-06T07:30:17.748881Z",
     "iopub.status.idle": "2022-07-06T07:30:28.829946Z",
     "shell.execute_reply": "2022-07-06T07:30:28.829205Z"
    },
    "papermill": {
     "duration": 20.751985,
     "end_time": "2022-07-06T07:30:28.830115",
     "exception": false,
     "start_time": "2022-07-06T07:30:08.078130",
     "status": "completed"
    },
    "tags": []
   },
   "outputs": [
    {
     "name": "stderr",
     "output_type": "stream",
     "text": [
      "100%|████████████████████████████████████████| 794/794 [00:02<00:00, 363.85it/s]\n"
     ]
    }
   ],
   "source": [
    "(test_images),(test_names) = load_test()"
   ]
  },
  {
   "cell_type": "code",
   "execution_count": 30,
   "metadata": {
    "execution": {
     "iopub.execute_input": "2022-07-06T07:30:49.355118Z",
     "iopub.status.busy": "2022-07-06T07:30:49.353746Z",
     "iopub.status.idle": "2022-07-06T07:30:49.363211Z",
     "shell.execute_reply": "2022-07-06T07:30:49.362274Z"
    },
    "papermill": {
     "duration": 10.037823,
     "end_time": "2022-07-06T07:30:49.363350",
     "exception": false,
     "start_time": "2022-07-06T07:30:39.325527",
     "status": "completed"
    },
    "tags": []
   },
   "outputs": [
    {
     "name": "stdout",
     "output_type": "stream",
     "text": [
      "Black-grass 0\n",
      "Charlock 1\n",
      "Cleavers 2\n",
      "Common Chickweed 3\n",
      "Common wheat 4\n",
      "Fat Hen 5\n",
      "Loose Silky-bent 6\n",
      "Maize 7\n",
      "Scentless Mayweed 8\n",
      "Shepherds Purse 9\n",
      "Small-flowered Cranesbill 10\n",
      "Sugar beet 11\n"
     ]
    }
   ],
   "source": [
    "for (label),(i) in class_name_labels.items():\n",
    "    print(label,i)"
   ]
  },
  {
   "cell_type": "code",
   "execution_count": 31,
   "metadata": {
    "execution": {
     "iopub.execute_input": "2022-07-06T07:31:08.954524Z",
     "iopub.status.busy": "2022-07-06T07:31:08.953327Z",
     "iopub.status.idle": "2022-07-06T07:31:08.962382Z",
     "shell.execute_reply": "2022-07-06T07:31:08.963265Z"
    },
    "papermill": {
     "duration": 9.895993,
     "end_time": "2022-07-06T07:31:08.963494",
     "exception": false,
     "start_time": "2022-07-06T07:30:59.067501",
     "status": "completed"
    },
    "tags": []
   },
   "outputs": [
    {
     "data": {
      "text/plain": [
       "(150, 150, 3)"
      ]
     },
     "execution_count": 31,
     "metadata": {},
     "output_type": "execute_result"
    }
   ],
   "source": [
    "test_images[0].shape"
   ]
  },
  {
   "cell_type": "code",
   "execution_count": 32,
   "metadata": {
    "execution": {
     "iopub.execute_input": "2022-07-06T07:31:28.994042Z",
     "iopub.status.busy": "2022-07-06T07:31:28.992967Z",
     "iopub.status.idle": "2022-07-06T07:31:53.780526Z",
     "shell.execute_reply": "2022-07-06T07:31:53.779942Z"
    },
    "papermill": {
     "duration": 34.500409,
     "end_time": "2022-07-06T07:31:53.780647",
     "exception": false,
     "start_time": "2022-07-06T07:31:19.280238",
     "status": "completed"
    },
    "tags": []
   },
   "outputs": [
    {
     "name": "stderr",
     "output_type": "stream",
     "text": [
      "\r",
      "  0%|                                                   | 0/794 [00:00<?, ?it/s]"
     ]
    },
    {
     "name": "stdout",
     "output_type": "stream",
     "text": [
      "1/1 [==============================] - 0s 128ms/step\n"
     ]
    },
    {
     "name": "stderr",
     "output_type": "stream",
     "text": [
      "\r",
      "  0%|                                           | 1/794 [00:00<02:17,  5.78it/s]"
     ]
    },
    {
     "name": "stdout",
     "output_type": "stream",
     "text": [
      "1/1 [==============================] - 0s 15ms/step\n",
      "1/1 [==============================] - 0s 16ms/step\n",
      "1/1 [==============================] - 0s 20ms/step\n"
     ]
    },
    {
     "name": "stderr",
     "output_type": "stream",
     "text": [
      "\r",
      "  1%|▏                                          | 4/794 [00:00<00:57, 13.65it/s]"
     ]
    },
    {
     "name": "stdout",
     "output_type": "stream",
     "text": [
      "1/1 [==============================] - 0s 20ms/step\n",
      "1/1 [==============================] - 0s 20ms/step\n"
     ]
    },
    {
     "name": "stderr",
     "output_type": "stream",
     "text": [
      "\r",
      "  1%|▎                                          | 6/794 [00:00<00:51, 15.28it/s]"
     ]
    },
    {
     "name": "stdout",
     "output_type": "stream",
     "text": [
      "1/1 [==============================] - 0s 18ms/step\n",
      "1/1 [==============================] - 0s 18ms/step\n",
      "1/1 [==============================] - 0s 18ms/step\n"
     ]
    },
    {
     "name": "stderr",
     "output_type": "stream",
     "text": [
      "\r",
      "  1%|▍                                          | 9/794 [00:00<00:45, 17.22it/s]"
     ]
    },
    {
     "name": "stdout",
     "output_type": "stream",
     "text": [
      "1/1 [==============================] - 0s 18ms/step\n",
      "1/1 [==============================] - 0s 17ms/step\n",
      "1/1 [==============================] - 0s 15ms/step\n"
     ]
    },
    {
     "name": "stderr",
     "output_type": "stream",
     "text": [
      "\r",
      "  2%|▋                                         | 12/794 [00:00<00:43, 18.02it/s]"
     ]
    },
    {
     "name": "stdout",
     "output_type": "stream",
     "text": [
      "1/1 [==============================] - 0s 16ms/step\n",
      "1/1 [==============================] - 0s 17ms/step\n",
      "1/1 [==============================] - 0s 16ms/step\n"
     ]
    },
    {
     "name": "stderr",
     "output_type": "stream",
     "text": [
      "\r",
      "  2%|▊                                         | 15/794 [00:00<00:40, 19.12it/s]"
     ]
    },
    {
     "name": "stdout",
     "output_type": "stream",
     "text": [
      "1/1 [==============================] - 0s 18ms/step\n",
      "1/1 [==============================] - 0s 17ms/step\n"
     ]
    },
    {
     "name": "stderr",
     "output_type": "stream",
     "text": [
      "\r",
      "  2%|▉                                         | 17/794 [00:00<00:40, 19.07it/s]"
     ]
    },
    {
     "name": "stdout",
     "output_type": "stream",
     "text": [
      "1/1 [==============================] - 0s 19ms/step\n",
      "1/1 [==============================] - 0s 15ms/step\n"
     ]
    },
    {
     "name": "stderr",
     "output_type": "stream",
     "text": [
      "\r",
      "  2%|█                                         | 19/794 [00:01<00:40, 19.19it/s]"
     ]
    },
    {
     "name": "stdout",
     "output_type": "stream",
     "text": [
      "1/1 [==============================] - 0s 20ms/step\n",
      "1/1 [==============================] - 0s 20ms/step\n"
     ]
    },
    {
     "name": "stderr",
     "output_type": "stream",
     "text": [
      "\r",
      "  3%|█                                         | 21/794 [00:01<00:42, 18.36it/s]"
     ]
    },
    {
     "name": "stdout",
     "output_type": "stream",
     "text": [
      "1/1 [==============================] - 0s 21ms/step\n",
      "1/1 [==============================] - 0s 22ms/step\n"
     ]
    },
    {
     "name": "stderr",
     "output_type": "stream",
     "text": [
      "\r",
      "  3%|█▏                                        | 23/794 [00:01<00:43, 17.88it/s]"
     ]
    },
    {
     "name": "stdout",
     "output_type": "stream",
     "text": [
      "1/1 [==============================] - 0s 22ms/step\n",
      "1/1 [==============================] - 0s 17ms/step\n"
     ]
    },
    {
     "name": "stderr",
     "output_type": "stream",
     "text": [
      "\r",
      "  3%|█▎                                        | 25/794 [00:01<00:42, 17.97it/s]"
     ]
    },
    {
     "name": "stdout",
     "output_type": "stream",
     "text": [
      "1/1 [==============================] - 0s 16ms/step\n",
      "1/1 [==============================] - 0s 16ms/step\n",
      "1/1 [==============================] - 0s 17ms/step\n"
     ]
    },
    {
     "name": "stderr",
     "output_type": "stream",
     "text": [
      "\r",
      "  4%|█▍                                        | 28/794 [00:01<00:40, 18.72it/s]"
     ]
    },
    {
     "name": "stdout",
     "output_type": "stream",
     "text": [
      "1/1 [==============================] - 0s 18ms/step\n",
      "1/1 [==============================] - 0s 17ms/step\n",
      "1/1 [==============================] - 0s 17ms/step\n"
     ]
    },
    {
     "name": "stderr",
     "output_type": "stream",
     "text": [
      "\r",
      "  4%|█▋                                        | 31/794 [00:01<00:39, 19.22it/s]"
     ]
    },
    {
     "name": "stdout",
     "output_type": "stream",
     "text": [
      "1/1 [==============================] - 0s 18ms/step\n",
      "1/1 [==============================] - 0s 17ms/step\n"
     ]
    },
    {
     "name": "stderr",
     "output_type": "stream",
     "text": [
      "\r",
      "  4%|█▋                                        | 33/794 [00:01<00:40, 19.02it/s]"
     ]
    },
    {
     "name": "stdout",
     "output_type": "stream",
     "text": [
      "1/1 [==============================] - 0s 18ms/step\n",
      "1/1 [==============================] - 0s 15ms/step\n"
     ]
    },
    {
     "name": "stderr",
     "output_type": "stream",
     "text": [
      "\r",
      "  4%|█▊                                        | 35/794 [00:01<00:39, 19.25it/s]"
     ]
    },
    {
     "name": "stdout",
     "output_type": "stream",
     "text": [
      "1/1 [==============================] - 0s 19ms/step\n",
      "1/1 [==============================] - 0s 16ms/step\n",
      "1/1 [==============================] - 0s 15ms/step\n"
     ]
    },
    {
     "name": "stderr",
     "output_type": "stream",
     "text": [
      "\r",
      "  5%|██                                        | 38/794 [00:02<00:38, 19.82it/s]"
     ]
    },
    {
     "name": "stdout",
     "output_type": "stream",
     "text": [
      "1/1 [==============================] - 0s 16ms/step\n",
      "1/1 [==============================] - 0s 17ms/step\n"
     ]
    },
    {
     "name": "stderr",
     "output_type": "stream",
     "text": [
      "\r",
      "  5%|██                                        | 40/794 [00:02<00:38, 19.81it/s]"
     ]
    },
    {
     "name": "stdout",
     "output_type": "stream",
     "text": [
      "1/1 [==============================] - 0s 17ms/step\n",
      "1/1 [==============================] - 0s 17ms/step\n"
     ]
    },
    {
     "name": "stderr",
     "output_type": "stream",
     "text": [
      "\r",
      "  5%|██▏                                       | 42/794 [00:02<00:38, 19.58it/s]"
     ]
    },
    {
     "name": "stdout",
     "output_type": "stream",
     "text": [
      "1/1 [==============================] - 0s 18ms/step\n",
      "1/1 [==============================] - 0s 17ms/step\n"
     ]
    },
    {
     "name": "stderr",
     "output_type": "stream",
     "text": [
      "\r",
      "  6%|██▎                                       | 44/794 [00:02<00:38, 19.66it/s]"
     ]
    },
    {
     "name": "stdout",
     "output_type": "stream",
     "text": [
      "1/1 [==============================] - 0s 19ms/step\n",
      "1/1 [==============================] - 0s 18ms/step\n"
     ]
    },
    {
     "name": "stderr",
     "output_type": "stream",
     "text": [
      "\r",
      "  6%|██▍                                       | 46/794 [00:02<00:38, 19.35it/s]"
     ]
    },
    {
     "name": "stdout",
     "output_type": "stream",
     "text": [
      "1/1 [==============================] - 0s 19ms/step\n",
      "1/1 [==============================] - 0s 17ms/step\n",
      "1/1 [==============================] - 0s 17ms/step\n"
     ]
    },
    {
     "name": "stderr",
     "output_type": "stream",
     "text": [
      "\r",
      "  6%|██▌                                       | 49/794 [00:02<00:37, 19.70it/s]"
     ]
    },
    {
     "name": "stdout",
     "output_type": "stream",
     "text": [
      "1/1 [==============================] - 0s 16ms/step\n",
      "1/1 [==============================] - 0s 17ms/step\n"
     ]
    },
    {
     "name": "stderr",
     "output_type": "stream",
     "text": [
      "\r",
      "  6%|██▋                                       | 51/794 [00:02<00:38, 19.33it/s]"
     ]
    },
    {
     "name": "stdout",
     "output_type": "stream",
     "text": [
      "1/1 [==============================] - 0s 17ms/step\n",
      "1/1 [==============================] - 0s 18ms/step\n"
     ]
    },
    {
     "name": "stderr",
     "output_type": "stream",
     "text": [
      "\r",
      "  7%|██▊                                       | 53/794 [00:02<00:38, 19.39it/s]"
     ]
    },
    {
     "name": "stdout",
     "output_type": "stream",
     "text": [
      "1/1 [==============================] - 0s 16ms/step\n",
      "1/1 [==============================] - 0s 17ms/step\n"
     ]
    },
    {
     "name": "stderr",
     "output_type": "stream",
     "text": [
      "\r",
      "  7%|██▉                                       | 55/794 [00:02<00:37, 19.45it/s]"
     ]
    },
    {
     "name": "stdout",
     "output_type": "stream",
     "text": [
      "1/1 [==============================] - 0s 17ms/step\n",
      "1/1 [==============================] - 0s 18ms/step\n"
     ]
    },
    {
     "name": "stderr",
     "output_type": "stream",
     "text": [
      "\r",
      "  7%|███                                       | 57/794 [00:03<00:37, 19.48it/s]"
     ]
    },
    {
     "name": "stdout",
     "output_type": "stream",
     "text": [
      "1/1 [==============================] - 0s 17ms/step\n",
      "1/1 [==============================] - 0s 16ms/step\n",
      "1/1 [==============================] - 0s 17ms/step\n"
     ]
    },
    {
     "name": "stderr",
     "output_type": "stream",
     "text": [
      "\r",
      "  8%|███▏                                      | 60/794 [00:03<00:37, 19.80it/s]"
     ]
    },
    {
     "name": "stdout",
     "output_type": "stream",
     "text": [
      "1/1 [==============================] - 0s 18ms/step\n",
      "1/1 [==============================] - 0s 18ms/step\n",
      "1/1 [==============================] - 0s 17ms/step\n"
     ]
    },
    {
     "name": "stderr",
     "output_type": "stream",
     "text": [
      "\r",
      "  8%|███▎                                      | 63/794 [00:03<00:36, 19.90it/s]"
     ]
    },
    {
     "name": "stdout",
     "output_type": "stream",
     "text": [
      "1/1 [==============================] - 0s 19ms/step\n",
      "1/1 [==============================] - 0s 19ms/step\n"
     ]
    },
    {
     "name": "stderr",
     "output_type": "stream",
     "text": [
      "\r",
      "  8%|███▍                                      | 65/794 [00:03<00:38, 19.00it/s]"
     ]
    },
    {
     "name": "stdout",
     "output_type": "stream",
     "text": [
      "1/1 [==============================] - 0s 19ms/step\n",
      "1/1 [==============================] - 0s 20ms/step\n"
     ]
    },
    {
     "name": "stderr",
     "output_type": "stream",
     "text": [
      "\r",
      "  8%|███▌                                      | 67/794 [00:03<00:39, 18.54it/s]"
     ]
    },
    {
     "name": "stdout",
     "output_type": "stream",
     "text": [
      "1/1 [==============================] - 0s 20ms/step\n",
      "1/1 [==============================] - 0s 19ms/step\n"
     ]
    },
    {
     "name": "stderr",
     "output_type": "stream",
     "text": [
      "\r",
      "  9%|███▋                                      | 69/794 [00:03<00:39, 18.29it/s]"
     ]
    },
    {
     "name": "stdout",
     "output_type": "stream",
     "text": [
      "1/1 [==============================] - 0s 23ms/step\n",
      "1/1 [==============================] - 0s 19ms/step\n"
     ]
    },
    {
     "name": "stderr",
     "output_type": "stream",
     "text": [
      "\r",
      "  9%|███▊                                      | 71/794 [00:03<00:40, 17.99it/s]"
     ]
    },
    {
     "name": "stdout",
     "output_type": "stream",
     "text": [
      "1/1 [==============================] - 0s 19ms/step\n",
      "1/1 [==============================] - 0s 19ms/step\n"
     ]
    },
    {
     "name": "stderr",
     "output_type": "stream",
     "text": [
      "\r",
      "  9%|███▊                                      | 73/794 [00:03<00:39, 18.23it/s]"
     ]
    },
    {
     "name": "stdout",
     "output_type": "stream",
     "text": [
      "1/1 [==============================] - 0s 16ms/step\n",
      "1/1 [==============================] - 0s 18ms/step\n"
     ]
    },
    {
     "name": "stderr",
     "output_type": "stream",
     "text": [
      "\r",
      "  9%|███▉                                      | 75/794 [00:04<00:38, 18.62it/s]"
     ]
    },
    {
     "name": "stdout",
     "output_type": "stream",
     "text": [
      "1/1 [==============================] - 0s 16ms/step\n",
      "1/1 [==============================] - 0s 16ms/step\n",
      "1/1 [==============================] - 0s 15ms/step\n"
     ]
    },
    {
     "name": "stderr",
     "output_type": "stream",
     "text": [
      "\r",
      " 10%|████▏                                     | 78/794 [00:04<00:36, 19.76it/s]"
     ]
    },
    {
     "name": "stdout",
     "output_type": "stream",
     "text": [
      "1/1 [==============================] - 0s 15ms/step\n",
      "1/1 [==============================] - 0s 17ms/step\n",
      "1/1 [==============================] - 0s 18ms/step\n"
     ]
    },
    {
     "name": "stderr",
     "output_type": "stream",
     "text": [
      "\r",
      " 10%|████▎                                     | 81/794 [00:04<00:35, 20.37it/s]"
     ]
    },
    {
     "name": "stdout",
     "output_type": "stream",
     "text": [
      "1/1 [==============================] - 0s 16ms/step\n",
      "1/1 [==============================] - 0s 15ms/step\n",
      "1/1 [==============================] - 0s 17ms/step\n"
     ]
    },
    {
     "name": "stderr",
     "output_type": "stream",
     "text": [
      "\r",
      " 11%|████▍                                     | 84/794 [00:04<00:34, 20.57it/s]"
     ]
    },
    {
     "name": "stdout",
     "output_type": "stream",
     "text": [
      "1/1 [==============================] - 0s 20ms/step\n",
      "1/1 [==============================] - 0s 19ms/step\n",
      "1/1 [==============================] - 0s 21ms/step\n"
     ]
    },
    {
     "name": "stderr",
     "output_type": "stream",
     "text": [
      "\r",
      " 11%|████▌                                     | 87/794 [00:04<00:35, 19.75it/s]"
     ]
    },
    {
     "name": "stdout",
     "output_type": "stream",
     "text": [
      "1/1 [==============================] - 0s 19ms/step\n",
      "1/1 [==============================] - 0s 20ms/step\n"
     ]
    },
    {
     "name": "stderr",
     "output_type": "stream",
     "text": [
      "\r",
      " 11%|████▋                                     | 89/794 [00:04<00:36, 19.29it/s]"
     ]
    },
    {
     "name": "stdout",
     "output_type": "stream",
     "text": [
      "1/1 [==============================] - 0s 18ms/step\n",
      "1/1 [==============================] - 0s 19ms/step\n"
     ]
    },
    {
     "name": "stderr",
     "output_type": "stream",
     "text": [
      "\r",
      " 11%|████▊                                     | 91/794 [00:04<00:36, 19.23it/s]"
     ]
    },
    {
     "name": "stdout",
     "output_type": "stream",
     "text": [
      "1/1 [==============================] - 0s 19ms/step\n",
      "1/1 [==============================] - 0s 16ms/step\n"
     ]
    },
    {
     "name": "stderr",
     "output_type": "stream",
     "text": [
      "\r",
      " 12%|████▉                                     | 93/794 [00:04<00:36, 19.34it/s]"
     ]
    },
    {
     "name": "stdout",
     "output_type": "stream",
     "text": [
      "1/1 [==============================] - 0s 15ms/step\n",
      "1/1 [==============================] - 0s 15ms/step\n",
      "1/1 [==============================] - 0s 19ms/step\n"
     ]
    },
    {
     "name": "stderr",
     "output_type": "stream",
     "text": [
      "\r",
      " 12%|█████                                     | 96/794 [00:05<00:35, 19.78it/s]"
     ]
    },
    {
     "name": "stdout",
     "output_type": "stream",
     "text": [
      "1/1 [==============================] - 0s 19ms/step\n",
      "1/1 [==============================] - 0s 19ms/step\n"
     ]
    },
    {
     "name": "stderr",
     "output_type": "stream",
     "text": [
      "\r",
      " 12%|█████▏                                    | 98/794 [00:05<00:36, 19.31it/s]"
     ]
    },
    {
     "name": "stdout",
     "output_type": "stream",
     "text": [
      "1/1 [==============================] - 0s 18ms/step\n",
      "1/1 [==============================] - 0s 21ms/step\n"
     ]
    },
    {
     "name": "stderr",
     "output_type": "stream",
     "text": [
      "\r",
      " 13%|█████▏                                   | 100/794 [00:05<00:36, 18.91it/s]"
     ]
    },
    {
     "name": "stdout",
     "output_type": "stream",
     "text": [
      "1/1 [==============================] - 0s 20ms/step\n",
      "1/1 [==============================] - 0s 17ms/step\n"
     ]
    },
    {
     "name": "stderr",
     "output_type": "stream",
     "text": [
      "\r",
      " 13%|█████▎                                   | 102/794 [00:05<00:36, 18.80it/s]"
     ]
    },
    {
     "name": "stdout",
     "output_type": "stream",
     "text": [
      "1/1 [==============================] - 0s 20ms/step\n",
      "1/1 [==============================] - 0s 17ms/step\n"
     ]
    },
    {
     "name": "stderr",
     "output_type": "stream",
     "text": [
      "\r",
      " 13%|█████▎                                   | 104/794 [00:05<00:37, 18.61it/s]"
     ]
    },
    {
     "name": "stdout",
     "output_type": "stream",
     "text": [
      "1/1 [==============================] - 0s 17ms/step\n",
      "1/1 [==============================] - 0s 17ms/step\n",
      "1/1 [==============================] - 0s 17ms/step\n"
     ]
    },
    {
     "name": "stderr",
     "output_type": "stream",
     "text": [
      "\r",
      " 13%|█████▌                                   | 107/794 [00:05<00:35, 19.18it/s]"
     ]
    },
    {
     "name": "stdout",
     "output_type": "stream",
     "text": [
      "1/1 [==============================] - 0s 17ms/step\n",
      "1/1 [==============================] - 0s 14ms/step\n",
      "1/1 [==============================] - 0s 15ms/step\n"
     ]
    },
    {
     "name": "stderr",
     "output_type": "stream",
     "text": [
      "\r",
      " 14%|█████▋                                   | 110/794 [00:05<00:34, 19.78it/s]"
     ]
    },
    {
     "name": "stdout",
     "output_type": "stream",
     "text": [
      "1/1 [==============================] - 0s 15ms/step\n",
      "1/1 [==============================] - 0s 14ms/step\n",
      "1/1 [==============================] - 0s 17ms/step\n"
     ]
    },
    {
     "name": "stderr",
     "output_type": "stream",
     "text": [
      "\r",
      " 14%|█████▊                                   | 113/794 [00:05<00:33, 20.27it/s]"
     ]
    },
    {
     "name": "stdout",
     "output_type": "stream",
     "text": [
      "1/1 [==============================] - 0s 15ms/step\n",
      "1/1 [==============================] - 0s 16ms/step\n",
      "1/1 [==============================] - 0s 17ms/step\n"
     ]
    },
    {
     "name": "stderr",
     "output_type": "stream",
     "text": [
      "\r",
      " 15%|█████▉                                   | 116/794 [00:06<00:32, 20.56it/s]"
     ]
    },
    {
     "name": "stdout",
     "output_type": "stream",
     "text": [
      "1/1 [==============================] - 0s 16ms/step\n",
      "1/1 [==============================] - 0s 14ms/step\n",
      "1/1 [==============================] - 0s 15ms/step\n"
     ]
    },
    {
     "name": "stderr",
     "output_type": "stream",
     "text": [
      "\r",
      " 15%|██████▏                                  | 119/794 [00:06<00:31, 21.14it/s]"
     ]
    },
    {
     "name": "stdout",
     "output_type": "stream",
     "text": [
      "1/1 [==============================] - 0s 16ms/step\n",
      "1/1 [==============================] - 0s 16ms/step\n",
      "1/1 [==============================] - 0s 16ms/step\n"
     ]
    },
    {
     "name": "stderr",
     "output_type": "stream",
     "text": [
      "\r",
      " 15%|██████▎                                  | 122/794 [00:06<00:31, 21.35it/s]"
     ]
    },
    {
     "name": "stdout",
     "output_type": "stream",
     "text": [
      "1/1 [==============================] - 0s 16ms/step\n",
      "1/1 [==============================] - 0s 16ms/step\n",
      "1/1 [==============================] - 0s 18ms/step\n"
     ]
    },
    {
     "name": "stderr",
     "output_type": "stream",
     "text": [
      "\r",
      " 16%|██████▍                                  | 125/794 [00:06<00:32, 20.84it/s]"
     ]
    },
    {
     "name": "stdout",
     "output_type": "stream",
     "text": [
      "1/1 [==============================] - 0s 15ms/step\n",
      "1/1 [==============================] - 0s 17ms/step\n",
      "1/1 [==============================] - 0s 16ms/step\n"
     ]
    },
    {
     "name": "stderr",
     "output_type": "stream",
     "text": [
      "\r",
      " 16%|██████▌                                  | 128/794 [00:06<00:31, 21.16it/s]"
     ]
    },
    {
     "name": "stdout",
     "output_type": "stream",
     "text": [
      "1/1 [==============================] - 0s 16ms/step\n",
      "1/1 [==============================] - 0s 16ms/step\n",
      "1/1 [==============================] - 0s 16ms/step\n"
     ]
    },
    {
     "name": "stderr",
     "output_type": "stream",
     "text": [
      "\r",
      " 16%|██████▊                                  | 131/794 [00:06<00:30, 21.40it/s]"
     ]
    },
    {
     "name": "stdout",
     "output_type": "stream",
     "text": [
      "1/1 [==============================] - 0s 19ms/step\n",
      "1/1 [==============================] - 0s 20ms/step\n",
      "1/1 [==============================] - 0s 20ms/step\n"
     ]
    },
    {
     "name": "stderr",
     "output_type": "stream",
     "text": [
      "\r",
      " 17%|██████▉                                  | 134/794 [00:06<00:32, 20.47it/s]"
     ]
    },
    {
     "name": "stdout",
     "output_type": "stream",
     "text": [
      "1/1 [==============================] - 0s 19ms/step\n",
      "1/1 [==============================] - 0s 16ms/step\n",
      "1/1 [==============================] - 0s 16ms/step\n"
     ]
    },
    {
     "name": "stderr",
     "output_type": "stream",
     "text": [
      "\r",
      " 17%|███████                                  | 137/794 [00:07<00:32, 20.46it/s]"
     ]
    },
    {
     "name": "stdout",
     "output_type": "stream",
     "text": [
      "1/1 [==============================] - 0s 15ms/step\n",
      "1/1 [==============================] - 0s 16ms/step\n",
      "1/1 [==============================] - 0s 16ms/step\n"
     ]
    },
    {
     "name": "stderr",
     "output_type": "stream",
     "text": [
      "\r",
      " 18%|███████▏                                 | 140/794 [00:07<00:31, 20.94it/s]"
     ]
    },
    {
     "name": "stdout",
     "output_type": "stream",
     "text": [
      "1/1 [==============================] - 0s 17ms/step\n",
      "1/1 [==============================] - 0s 15ms/step\n",
      "1/1 [==============================] - 0s 15ms/step\n"
     ]
    },
    {
     "name": "stderr",
     "output_type": "stream",
     "text": [
      "\r",
      " 18%|███████▍                                 | 143/794 [00:07<00:31, 20.68it/s]"
     ]
    },
    {
     "name": "stdout",
     "output_type": "stream",
     "text": [
      "1/1 [==============================] - 0s 15ms/step\n",
      "1/1 [==============================] - 0s 16ms/step\n",
      "1/1 [==============================] - 0s 16ms/step\n"
     ]
    },
    {
     "name": "stderr",
     "output_type": "stream",
     "text": [
      "\r",
      " 18%|███████▌                                 | 146/794 [00:07<00:30, 21.19it/s]"
     ]
    },
    {
     "name": "stdout",
     "output_type": "stream",
     "text": [
      "1/1 [==============================] - 0s 16ms/step\n",
      "1/1 [==============================] - 0s 16ms/step\n",
      "1/1 [==============================] - 0s 14ms/step\n"
     ]
    },
    {
     "name": "stderr",
     "output_type": "stream",
     "text": [
      "\r",
      " 19%|███████▋                                 | 149/794 [00:07<00:29, 21.56it/s]"
     ]
    },
    {
     "name": "stdout",
     "output_type": "stream",
     "text": [
      "1/1 [==============================] - 0s 15ms/step\n",
      "1/1 [==============================] - 0s 16ms/step\n",
      "1/1 [==============================] - 0s 16ms/step\n"
     ]
    },
    {
     "name": "stderr",
     "output_type": "stream",
     "text": [
      "\r",
      " 19%|███████▊                                 | 152/794 [00:07<00:29, 21.64it/s]"
     ]
    },
    {
     "name": "stdout",
     "output_type": "stream",
     "text": [
      "1/1 [==============================] - 0s 16ms/step\n",
      "1/1 [==============================] - 0s 15ms/step\n",
      "1/1 [==============================] - 0s 15ms/step\n"
     ]
    },
    {
     "name": "stderr",
     "output_type": "stream",
     "text": [
      "\r",
      " 20%|████████                                 | 155/794 [00:07<00:29, 21.77it/s]"
     ]
    },
    {
     "name": "stdout",
     "output_type": "stream",
     "text": [
      "1/1 [==============================] - 0s 15ms/step\n",
      "1/1 [==============================] - 0s 15ms/step\n",
      "1/1 [==============================] - 0s 16ms/step\n"
     ]
    },
    {
     "name": "stderr",
     "output_type": "stream",
     "text": [
      "\r",
      " 20%|████████▏                                | 158/794 [00:08<00:28, 22.10it/s]"
     ]
    },
    {
     "name": "stdout",
     "output_type": "stream",
     "text": [
      "1/1 [==============================] - 0s 16ms/step\n",
      "1/1 [==============================] - 0s 15ms/step\n",
      "1/1 [==============================] - 0s 15ms/step\n"
     ]
    },
    {
     "name": "stderr",
     "output_type": "stream",
     "text": [
      "\r",
      " 20%|████████▎                                | 161/794 [00:08<00:28, 22.18it/s]"
     ]
    },
    {
     "name": "stdout",
     "output_type": "stream",
     "text": [
      "1/1 [==============================] - 0s 17ms/step\n",
      "1/1 [==============================] - 0s 17ms/step\n",
      "1/1 [==============================] - 0s 17ms/step\n"
     ]
    },
    {
     "name": "stderr",
     "output_type": "stream",
     "text": [
      "\r",
      " 21%|████████▍                                | 164/794 [00:08<00:29, 21.68it/s]"
     ]
    },
    {
     "name": "stdout",
     "output_type": "stream",
     "text": [
      "1/1 [==============================] - 0s 18ms/step\n",
      "1/1 [==============================] - 0s 18ms/step\n",
      "1/1 [==============================] - 0s 18ms/step\n"
     ]
    },
    {
     "name": "stderr",
     "output_type": "stream",
     "text": [
      "\r",
      " 21%|████████▌                                | 167/794 [00:08<00:29, 21.08it/s]"
     ]
    },
    {
     "name": "stdout",
     "output_type": "stream",
     "text": [
      "1/1 [==============================] - 0s 18ms/step\n",
      "1/1 [==============================] - 0s 17ms/step\n",
      "1/1 [==============================] - 0s 17ms/step\n"
     ]
    },
    {
     "name": "stderr",
     "output_type": "stream",
     "text": [
      "\r",
      " 21%|████████▊                                | 170/794 [00:08<00:30, 20.63it/s]"
     ]
    },
    {
     "name": "stdout",
     "output_type": "stream",
     "text": [
      "1/1 [==============================] - 0s 15ms/step\n",
      "1/1 [==============================] - 0s 15ms/step\n",
      "1/1 [==============================] - 0s 15ms/step\n"
     ]
    },
    {
     "name": "stderr",
     "output_type": "stream",
     "text": [
      "\r",
      " 22%|████████▉                                | 173/794 [00:08<00:29, 20.86it/s]"
     ]
    },
    {
     "name": "stdout",
     "output_type": "stream",
     "text": [
      "1/1 [==============================] - 0s 16ms/step\n",
      "1/1 [==============================] - 0s 19ms/step\n",
      "1/1 [==============================] - 0s 19ms/step\n"
     ]
    },
    {
     "name": "stderr",
     "output_type": "stream",
     "text": [
      "\r",
      " 22%|█████████                                | 176/794 [00:08<00:29, 20.73it/s]"
     ]
    },
    {
     "name": "stdout",
     "output_type": "stream",
     "text": [
      "1/1 [==============================] - 0s 20ms/step\n",
      "1/1 [==============================] - 0s 18ms/step\n",
      "1/1 [==============================] - 0s 22ms/step\n"
     ]
    },
    {
     "name": "stderr",
     "output_type": "stream",
     "text": [
      "\r",
      " 23%|█████████▏                               | 179/794 [00:09<00:31, 19.84it/s]"
     ]
    },
    {
     "name": "stdout",
     "output_type": "stream",
     "text": [
      "1/1 [==============================] - 0s 22ms/step\n",
      "1/1 [==============================] - 0s 17ms/step\n"
     ]
    },
    {
     "name": "stderr",
     "output_type": "stream",
     "text": [
      "\r",
      " 23%|█████████▎                               | 181/794 [00:09<00:32, 18.83it/s]"
     ]
    },
    {
     "name": "stdout",
     "output_type": "stream",
     "text": [
      "1/1 [==============================] - 0s 17ms/step\n",
      "1/1 [==============================] - 0s 16ms/step\n",
      "1/1 [==============================] - 0s 15ms/step\n"
     ]
    },
    {
     "name": "stderr",
     "output_type": "stream",
     "text": [
      "\r",
      " 23%|█████████▌                               | 184/794 [00:09<00:31, 19.43it/s]"
     ]
    },
    {
     "name": "stdout",
     "output_type": "stream",
     "text": [
      "1/1 [==============================] - 0s 16ms/step\n",
      "1/1 [==============================] - 0s 16ms/step\n",
      "1/1 [==============================] - 0s 15ms/step\n"
     ]
    },
    {
     "name": "stderr",
     "output_type": "stream",
     "text": [
      "\r",
      " 24%|█████████▋                               | 187/794 [00:09<00:29, 20.36it/s]"
     ]
    },
    {
     "name": "stdout",
     "output_type": "stream",
     "text": [
      "1/1 [==============================] - 0s 15ms/step\n",
      "1/1 [==============================] - 0s 15ms/step\n",
      "1/1 [==============================] - 0s 17ms/step\n"
     ]
    },
    {
     "name": "stderr",
     "output_type": "stream",
     "text": [
      "\r",
      " 24%|█████████▊                               | 190/794 [00:09<00:28, 20.93it/s]"
     ]
    },
    {
     "name": "stdout",
     "output_type": "stream",
     "text": [
      "1/1 [==============================] - 0s 18ms/step\n",
      "1/1 [==============================] - 0s 20ms/step\n",
      "1/1 [==============================] - 0s 18ms/step\n"
     ]
    },
    {
     "name": "stderr",
     "output_type": "stream",
     "text": [
      "\r",
      " 24%|█████████▉                               | 193/794 [00:09<00:29, 20.21it/s]"
     ]
    },
    {
     "name": "stdout",
     "output_type": "stream",
     "text": [
      "1/1 [==============================] - 0s 18ms/step\n",
      "1/1 [==============================] - 0s 18ms/step\n",
      "1/1 [==============================] - 0s 18ms/step\n"
     ]
    },
    {
     "name": "stderr",
     "output_type": "stream",
     "text": [
      "\r",
      " 25%|██████████                               | 196/794 [00:09<00:29, 20.18it/s]"
     ]
    },
    {
     "name": "stdout",
     "output_type": "stream",
     "text": [
      "1/1 [==============================] - 0s 16ms/step\n",
      "1/1 [==============================] - 0s 15ms/step\n",
      "1/1 [==============================] - 0s 16ms/step\n"
     ]
    },
    {
     "name": "stderr",
     "output_type": "stream",
     "text": [
      "\r",
      " 25%|██████████▎                              | 199/794 [00:10<00:28, 20.70it/s]"
     ]
    },
    {
     "name": "stdout",
     "output_type": "stream",
     "text": [
      "1/1 [==============================] - 0s 15ms/step\n",
      "1/1 [==============================] - 0s 15ms/step\n",
      "1/1 [==============================] - 0s 16ms/step\n"
     ]
    },
    {
     "name": "stderr",
     "output_type": "stream",
     "text": [
      "\r",
      " 25%|██████████▍                              | 202/794 [00:10<00:28, 20.93it/s]"
     ]
    },
    {
     "name": "stdout",
     "output_type": "stream",
     "text": [
      "1/1 [==============================] - 0s 18ms/step\n",
      "1/1 [==============================] - 0s 21ms/step\n",
      "1/1 [==============================] - 0s 20ms/step\n"
     ]
    },
    {
     "name": "stderr",
     "output_type": "stream",
     "text": [
      "\r",
      " 26%|██████████▌                              | 205/794 [00:10<00:29, 20.11it/s]"
     ]
    },
    {
     "name": "stdout",
     "output_type": "stream",
     "text": [
      "1/1 [==============================] - 0s 17ms/step\n",
      "1/1 [==============================] - 0s 18ms/step\n",
      "1/1 [==============================] - 0s 16ms/step\n"
     ]
    },
    {
     "name": "stderr",
     "output_type": "stream",
     "text": [
      "\r",
      " 26%|██████████▋                              | 208/794 [00:10<00:29, 20.19it/s]"
     ]
    },
    {
     "name": "stdout",
     "output_type": "stream",
     "text": [
      "1/1 [==============================] - 0s 15ms/step\n",
      "1/1 [==============================] - 0s 15ms/step\n",
      "1/1 [==============================] - 0s 16ms/step\n"
     ]
    },
    {
     "name": "stderr",
     "output_type": "stream",
     "text": [
      "\r",
      " 27%|██████████▉                              | 211/794 [00:10<00:27, 20.84it/s]"
     ]
    },
    {
     "name": "stdout",
     "output_type": "stream",
     "text": [
      "1/1 [==============================] - 0s 15ms/step\n",
      "1/1 [==============================] - 0s 17ms/step\n",
      "1/1 [==============================] - 0s 17ms/step\n"
     ]
    },
    {
     "name": "stderr",
     "output_type": "stream",
     "text": [
      "\r",
      " 27%|███████████                              | 214/794 [00:10<00:27, 20.81it/s]"
     ]
    },
    {
     "name": "stdout",
     "output_type": "stream",
     "text": [
      "1/1 [==============================] - 0s 19ms/step\n",
      "1/1 [==============================] - 0s 18ms/step\n",
      "1/1 [==============================] - 0s 20ms/step\n"
     ]
    },
    {
     "name": "stderr",
     "output_type": "stream",
     "text": [
      "\r",
      " 27%|███████████▏                             | 217/794 [00:10<00:28, 20.17it/s]"
     ]
    },
    {
     "name": "stdout",
     "output_type": "stream",
     "text": [
      "1/1 [==============================] - 0s 19ms/step\n",
      "1/1 [==============================] - 0s 17ms/step\n",
      "1/1 [==============================] - 0s 16ms/step\n"
     ]
    },
    {
     "name": "stderr",
     "output_type": "stream",
     "text": [
      "\r",
      " 28%|███████████▎                             | 220/794 [00:11<00:28, 19.88it/s]"
     ]
    },
    {
     "name": "stdout",
     "output_type": "stream",
     "text": [
      "1/1 [==============================] - 0s 15ms/step\n",
      "1/1 [==============================] - 0s 16ms/step\n",
      "1/1 [==============================] - 0s 15ms/step\n"
     ]
    },
    {
     "name": "stderr",
     "output_type": "stream",
     "text": [
      "\r",
      " 28%|███████████▌                             | 223/794 [00:11<00:27, 20.66it/s]"
     ]
    },
    {
     "name": "stdout",
     "output_type": "stream",
     "text": [
      "1/1 [==============================] - 0s 14ms/step\n",
      "1/1 [==============================] - 0s 17ms/step\n",
      "1/1 [==============================] - 0s 16ms/step\n"
     ]
    },
    {
     "name": "stderr",
     "output_type": "stream",
     "text": [
      "\r",
      " 28%|███████████▋                             | 226/794 [00:11<00:26, 21.08it/s]"
     ]
    },
    {
     "name": "stdout",
     "output_type": "stream",
     "text": [
      "1/1 [==============================] - 0s 16ms/step\n",
      "1/1 [==============================] - 0s 16ms/step\n",
      "1/1 [==============================] - 0s 16ms/step\n"
     ]
    },
    {
     "name": "stderr",
     "output_type": "stream",
     "text": [
      "\r",
      " 29%|███████████▊                             | 229/794 [00:11<00:26, 21.03it/s]"
     ]
    },
    {
     "name": "stdout",
     "output_type": "stream",
     "text": [
      "1/1 [==============================] - 0s 17ms/step\n",
      "1/1 [==============================] - 0s 15ms/step\n",
      "1/1 [==============================] - 0s 15ms/step\n"
     ]
    },
    {
     "name": "stderr",
     "output_type": "stream",
     "text": [
      "\r",
      " 29%|███████████▉                             | 232/794 [00:11<00:26, 20.90it/s]"
     ]
    },
    {
     "name": "stdout",
     "output_type": "stream",
     "text": [
      "1/1 [==============================] - 0s 15ms/step\n",
      "1/1 [==============================] - 0s 15ms/step\n",
      "1/1 [==============================] - 0s 16ms/step\n"
     ]
    },
    {
     "name": "stderr",
     "output_type": "stream",
     "text": [
      "\r",
      " 30%|████████████▏                            | 235/794 [00:11<00:26, 21.39it/s]"
     ]
    },
    {
     "name": "stdout",
     "output_type": "stream",
     "text": [
      "1/1 [==============================] - 0s 15ms/step\n",
      "1/1 [==============================] - 0s 16ms/step\n",
      "1/1 [==============================] - 0s 18ms/step\n"
     ]
    },
    {
     "name": "stderr",
     "output_type": "stream",
     "text": [
      "\r",
      " 30%|████████████▎                            | 238/794 [00:11<00:25, 21.59it/s]"
     ]
    },
    {
     "name": "stdout",
     "output_type": "stream",
     "text": [
      "1/1 [==============================] - 0s 16ms/step\n",
      "1/1 [==============================] - 0s 20ms/step\n",
      "1/1 [==============================] - 0s 19ms/step\n"
     ]
    },
    {
     "name": "stderr",
     "output_type": "stream",
     "text": [
      "\r",
      " 30%|████████████▍                            | 241/794 [00:12<00:26, 20.53it/s]"
     ]
    },
    {
     "name": "stdout",
     "output_type": "stream",
     "text": [
      "1/1 [==============================] - 0s 21ms/step\n",
      "1/1 [==============================] - 0s 16ms/step\n",
      "1/1 [==============================] - 0s 18ms/step\n"
     ]
    },
    {
     "name": "stderr",
     "output_type": "stream",
     "text": [
      "\r",
      " 31%|████████████▌                            | 244/794 [00:12<00:27, 20.08it/s]"
     ]
    },
    {
     "name": "stdout",
     "output_type": "stream",
     "text": [
      "1/1 [==============================] - 0s 15ms/step\n",
      "1/1 [==============================] - 0s 17ms/step\n",
      "1/1 [==============================] - 0s 15ms/step\n"
     ]
    },
    {
     "name": "stderr",
     "output_type": "stream",
     "text": [
      "\r",
      " 31%|████████████▊                            | 247/794 [00:12<00:26, 20.56it/s]"
     ]
    },
    {
     "name": "stdout",
     "output_type": "stream",
     "text": [
      "1/1 [==============================] - 0s 15ms/step\n",
      "1/1 [==============================] - 0s 16ms/step\n",
      "1/1 [==============================] - 0s 16ms/step\n"
     ]
    },
    {
     "name": "stderr",
     "output_type": "stream",
     "text": [
      "\r",
      " 31%|████████████▉                            | 250/794 [00:12<00:26, 20.82it/s]"
     ]
    },
    {
     "name": "stdout",
     "output_type": "stream",
     "text": [
      "1/1 [==============================] - 0s 16ms/step\n",
      "1/1 [==============================] - 0s 17ms/step\n",
      "1/1 [==============================] - 0s 16ms/step\n"
     ]
    },
    {
     "name": "stderr",
     "output_type": "stream",
     "text": [
      "\r",
      " 32%|█████████████                            | 253/794 [00:12<00:26, 20.80it/s]"
     ]
    },
    {
     "name": "stdout",
     "output_type": "stream",
     "text": [
      "1/1 [==============================] - 0s 16ms/step\n",
      "1/1 [==============================] - 0s 15ms/step\n",
      "1/1 [==============================] - 0s 16ms/step\n"
     ]
    },
    {
     "name": "stderr",
     "output_type": "stream",
     "text": [
      "\r",
      " 32%|█████████████▏                           | 256/794 [00:12<00:25, 21.08it/s]"
     ]
    },
    {
     "name": "stdout",
     "output_type": "stream",
     "text": [
      "1/1 [==============================] - 0s 16ms/step\n",
      "1/1 [==============================] - 0s 15ms/step\n",
      "1/1 [==============================] - 0s 15ms/step\n"
     ]
    },
    {
     "name": "stderr",
     "output_type": "stream",
     "text": [
      "\r",
      " 33%|█████████████▎                           | 259/794 [00:12<00:25, 21.29it/s]"
     ]
    },
    {
     "name": "stdout",
     "output_type": "stream",
     "text": [
      "1/1 [==============================] - 0s 16ms/step\n",
      "1/1 [==============================] - 0s 16ms/step\n",
      "1/1 [==============================] - 0s 15ms/step\n"
     ]
    },
    {
     "name": "stderr",
     "output_type": "stream",
     "text": [
      "\r",
      " 33%|█████████████▌                           | 262/794 [00:13<00:24, 21.68it/s]"
     ]
    },
    {
     "name": "stdout",
     "output_type": "stream",
     "text": [
      "1/1 [==============================] - 0s 17ms/step\n",
      "1/1 [==============================] - 0s 16ms/step\n",
      "1/1 [==============================] - 0s 19ms/step\n"
     ]
    },
    {
     "name": "stderr",
     "output_type": "stream",
     "text": [
      "\r",
      " 33%|█████████████▋                           | 265/794 [00:13<00:24, 21.41it/s]"
     ]
    },
    {
     "name": "stdout",
     "output_type": "stream",
     "text": [
      "1/1 [==============================] - 0s 19ms/step\n",
      "1/1 [==============================] - 0s 18ms/step\n",
      "1/1 [==============================] - 0s 18ms/step\n"
     ]
    },
    {
     "name": "stderr",
     "output_type": "stream",
     "text": [
      "\r",
      " 34%|█████████████▊                           | 268/794 [00:13<00:25, 20.95it/s]"
     ]
    },
    {
     "name": "stdout",
     "output_type": "stream",
     "text": [
      "1/1 [==============================] - 0s 16ms/step\n",
      "1/1 [==============================] - 0s 16ms/step\n",
      "1/1 [==============================] - 0s 16ms/step\n"
     ]
    },
    {
     "name": "stderr",
     "output_type": "stream",
     "text": [
      "\r",
      " 34%|█████████████▉                           | 271/794 [00:13<00:24, 20.92it/s]"
     ]
    },
    {
     "name": "stdout",
     "output_type": "stream",
     "text": [
      "1/1 [==============================] - 0s 16ms/step\n",
      "1/1 [==============================] - 0s 16ms/step\n",
      "1/1 [==============================] - 0s 15ms/step\n"
     ]
    },
    {
     "name": "stderr",
     "output_type": "stream",
     "text": [
      "\r",
      " 35%|██████████████▏                          | 274/794 [00:13<00:24, 21.45it/s]"
     ]
    },
    {
     "name": "stdout",
     "output_type": "stream",
     "text": [
      "1/1 [==============================] - 0s 15ms/step\n",
      "1/1 [==============================] - 0s 17ms/step\n",
      "1/1 [==============================] - 0s 16ms/step\n"
     ]
    },
    {
     "name": "stderr",
     "output_type": "stream",
     "text": [
      "\r",
      " 35%|██████████████▎                          | 277/794 [00:13<00:23, 21.63it/s]"
     ]
    },
    {
     "name": "stdout",
     "output_type": "stream",
     "text": [
      "1/1 [==============================] - 0s 16ms/step\n",
      "1/1 [==============================] - 0s 20ms/step\n",
      "1/1 [==============================] - 0s 20ms/step\n"
     ]
    },
    {
     "name": "stderr",
     "output_type": "stream",
     "text": [
      "\r",
      " 35%|██████████████▍                          | 280/794 [00:13<00:25, 20.41it/s]"
     ]
    },
    {
     "name": "stdout",
     "output_type": "stream",
     "text": [
      "1/1 [==============================] - 0s 17ms/step\n",
      "1/1 [==============================] - 0s 16ms/step\n",
      "1/1 [==============================] - 0s 16ms/step\n"
     ]
    },
    {
     "name": "stderr",
     "output_type": "stream",
     "text": [
      "\r",
      " 36%|██████████████▌                          | 283/794 [00:14<00:24, 20.72it/s]"
     ]
    },
    {
     "name": "stdout",
     "output_type": "stream",
     "text": [
      "1/1 [==============================] - 0s 16ms/step\n",
      "1/1 [==============================] - 0s 15ms/step\n",
      "1/1 [==============================] - 0s 16ms/step\n"
     ]
    },
    {
     "name": "stderr",
     "output_type": "stream",
     "text": [
      "\r",
      " 36%|██████████████▊                          | 286/794 [00:14<00:24, 21.02it/s]"
     ]
    },
    {
     "name": "stdout",
     "output_type": "stream",
     "text": [
      "1/1 [==============================] - 0s 16ms/step\n",
      "1/1 [==============================] - 0s 16ms/step\n",
      "1/1 [==============================] - 0s 18ms/step\n"
     ]
    },
    {
     "name": "stderr",
     "output_type": "stream",
     "text": [
      "\r",
      " 36%|██████████████▉                          | 289/794 [00:14<00:24, 20.92it/s]"
     ]
    },
    {
     "name": "stdout",
     "output_type": "stream",
     "text": [
      "1/1 [==============================] - 0s 17ms/step\n",
      "1/1 [==============================] - 0s 17ms/step\n",
      "1/1 [==============================] - 0s 16ms/step\n"
     ]
    },
    {
     "name": "stderr",
     "output_type": "stream",
     "text": [
      "\r",
      " 37%|███████████████                          | 292/794 [00:14<00:23, 21.02it/s]"
     ]
    },
    {
     "name": "stdout",
     "output_type": "stream",
     "text": [
      "1/1 [==============================] - 0s 15ms/step\n",
      "1/1 [==============================] - 0s 16ms/step\n",
      "1/1 [==============================] - 0s 14ms/step\n"
     ]
    },
    {
     "name": "stderr",
     "output_type": "stream",
     "text": [
      "\r",
      " 37%|███████████████▏                         | 295/794 [00:14<00:23, 21.47it/s]"
     ]
    },
    {
     "name": "stdout",
     "output_type": "stream",
     "text": [
      "1/1 [==============================] - 0s 15ms/step\n",
      "1/1 [==============================] - 0s 16ms/step\n",
      "1/1 [==============================] - 0s 16ms/step\n"
     ]
    },
    {
     "name": "stderr",
     "output_type": "stream",
     "text": [
      "\r",
      " 38%|███████████████▍                         | 298/794 [00:14<00:23, 21.53it/s]"
     ]
    },
    {
     "name": "stdout",
     "output_type": "stream",
     "text": [
      "1/1 [==============================] - 0s 17ms/step\n",
      "1/1 [==============================] - 0s 18ms/step\n",
      "1/1 [==============================] - 0s 17ms/step\n"
     ]
    },
    {
     "name": "stderr",
     "output_type": "stream",
     "text": [
      "\r",
      " 38%|███████████████▌                         | 301/794 [00:14<00:23, 21.11it/s]"
     ]
    },
    {
     "name": "stdout",
     "output_type": "stream",
     "text": [
      "1/1 [==============================] - 0s 17ms/step\n",
      "1/1 [==============================] - 0s 17ms/step\n",
      "1/1 [==============================] - 0s 15ms/step\n"
     ]
    },
    {
     "name": "stderr",
     "output_type": "stream",
     "text": [
      "\r",
      " 38%|███████████████▋                         | 304/794 [00:15<00:23, 21.00it/s]"
     ]
    },
    {
     "name": "stdout",
     "output_type": "stream",
     "text": [
      "1/1 [==============================] - 0s 15ms/step\n",
      "1/1 [==============================] - 0s 14ms/step\n",
      "1/1 [==============================] - 0s 15ms/step\n"
     ]
    },
    {
     "name": "stderr",
     "output_type": "stream",
     "text": [
      "\r",
      " 39%|███████████████▊                         | 307/794 [00:15<00:22, 21.53it/s]"
     ]
    },
    {
     "name": "stdout",
     "output_type": "stream",
     "text": [
      "1/1 [==============================] - 0s 16ms/step\n",
      "1/1 [==============================] - 0s 16ms/step\n",
      "1/1 [==============================] - 0s 16ms/step\n"
     ]
    },
    {
     "name": "stderr",
     "output_type": "stream",
     "text": [
      "\r",
      " 39%|████████████████                         | 310/794 [00:15<00:22, 21.49it/s]"
     ]
    },
    {
     "name": "stdout",
     "output_type": "stream",
     "text": [
      "1/1 [==============================] - 0s 17ms/step\n",
      "1/1 [==============================] - 0s 15ms/step\n",
      "1/1 [==============================] - 0s 19ms/step\n"
     ]
    },
    {
     "name": "stderr",
     "output_type": "stream",
     "text": [
      "\r",
      " 39%|████████████████▏                        | 313/794 [00:15<00:22, 21.10it/s]"
     ]
    },
    {
     "name": "stdout",
     "output_type": "stream",
     "text": [
      "1/1 [==============================] - 0s 17ms/step\n",
      "1/1 [==============================] - 0s 20ms/step\n",
      "1/1 [==============================] - 0s 17ms/step\n"
     ]
    },
    {
     "name": "stderr",
     "output_type": "stream",
     "text": [
      "\r",
      " 40%|████████████████▎                        | 316/794 [00:15<00:23, 20.65it/s]"
     ]
    },
    {
     "name": "stdout",
     "output_type": "stream",
     "text": [
      "1/1 [==============================] - 0s 17ms/step\n",
      "1/1 [==============================] - 0s 15ms/step\n",
      "1/1 [==============================] - 0s 15ms/step\n"
     ]
    },
    {
     "name": "stderr",
     "output_type": "stream",
     "text": [
      "\r",
      " 40%|████████████████▍                        | 319/794 [00:15<00:23, 20.55it/s]"
     ]
    },
    {
     "name": "stdout",
     "output_type": "stream",
     "text": [
      "1/1 [==============================] - 0s 15ms/step\n",
      "1/1 [==============================] - 0s 15ms/step\n",
      "1/1 [==============================] - 0s 15ms/step\n"
     ]
    },
    {
     "name": "stderr",
     "output_type": "stream",
     "text": [
      "\r",
      " 41%|████████████████▋                        | 322/794 [00:15<00:22, 21.21it/s]"
     ]
    },
    {
     "name": "stdout",
     "output_type": "stream",
     "text": [
      "1/1 [==============================] - 0s 15ms/step\n",
      "1/1 [==============================] - 0s 17ms/step\n",
      "1/1 [==============================] - 0s 15ms/step\n"
     ]
    },
    {
     "name": "stderr",
     "output_type": "stream",
     "text": [
      "\r",
      " 41%|████████████████▊                        | 325/794 [00:16<00:21, 21.46it/s]"
     ]
    },
    {
     "name": "stdout",
     "output_type": "stream",
     "text": [
      "1/1 [==============================] - 0s 17ms/step\n",
      "1/1 [==============================] - 0s 17ms/step\n",
      "1/1 [==============================] - 0s 17ms/step\n"
     ]
    },
    {
     "name": "stderr",
     "output_type": "stream",
     "text": [
      "\r",
      " 41%|████████████████▉                        | 328/794 [00:16<00:22, 21.00it/s]"
     ]
    },
    {
     "name": "stdout",
     "output_type": "stream",
     "text": [
      "1/1 [==============================] - 0s 17ms/step\n",
      "1/1 [==============================] - 0s 16ms/step\n",
      "1/1 [==============================] - 0s 15ms/step\n"
     ]
    },
    {
     "name": "stderr",
     "output_type": "stream",
     "text": [
      "\r",
      " 42%|█████████████████                        | 331/794 [00:16<00:21, 21.10it/s]"
     ]
    },
    {
     "name": "stdout",
     "output_type": "stream",
     "text": [
      "1/1 [==============================] - 0s 15ms/step\n",
      "1/1 [==============================] - 0s 15ms/step\n",
      "1/1 [==============================] - 0s 16ms/step\n"
     ]
    },
    {
     "name": "stderr",
     "output_type": "stream",
     "text": [
      "\r",
      " 42%|█████████████████▏                       | 334/794 [00:16<00:21, 21.62it/s]"
     ]
    },
    {
     "name": "stdout",
     "output_type": "stream",
     "text": [
      "1/1 [==============================] - 0s 16ms/step\n",
      "1/1 [==============================] - 0s 16ms/step\n",
      "1/1 [==============================] - 0s 16ms/step\n"
     ]
    },
    {
     "name": "stderr",
     "output_type": "stream",
     "text": [
      "\r",
      " 42%|█████████████████▍                       | 337/794 [00:16<00:21, 21.51it/s]"
     ]
    },
    {
     "name": "stdout",
     "output_type": "stream",
     "text": [
      "1/1 [==============================] - 0s 16ms/step\n",
      "1/1 [==============================] - 0s 17ms/step\n",
      "1/1 [==============================] - 0s 17ms/step\n"
     ]
    },
    {
     "name": "stderr",
     "output_type": "stream",
     "text": [
      "\r",
      " 43%|█████████████████▌                       | 340/794 [00:16<00:21, 21.45it/s]"
     ]
    },
    {
     "name": "stdout",
     "output_type": "stream",
     "text": [
      "1/1 [==============================] - 0s 20ms/step\n",
      "1/1 [==============================] - 0s 17ms/step\n",
      "1/1 [==============================] - 0s 17ms/step\n"
     ]
    },
    {
     "name": "stderr",
     "output_type": "stream",
     "text": [
      "\r",
      " 43%|█████████████████▋                       | 343/794 [00:16<00:21, 20.92it/s]"
     ]
    },
    {
     "name": "stdout",
     "output_type": "stream",
     "text": [
      "1/1 [==============================] - 0s 16ms/step\n",
      "1/1 [==============================] - 0s 15ms/step\n",
      "1/1 [==============================] - 0s 16ms/step\n"
     ]
    },
    {
     "name": "stderr",
     "output_type": "stream",
     "text": [
      "\r",
      " 44%|█████████████████▊                       | 346/794 [00:17<00:21, 21.27it/s]"
     ]
    },
    {
     "name": "stdout",
     "output_type": "stream",
     "text": [
      "1/1 [==============================] - 0s 17ms/step\n",
      "1/1 [==============================] - 0s 16ms/step\n",
      "1/1 [==============================] - 0s 16ms/step\n"
     ]
    },
    {
     "name": "stderr",
     "output_type": "stream",
     "text": [
      "\r",
      " 44%|██████████████████                       | 349/794 [00:17<00:21, 21.14it/s]"
     ]
    },
    {
     "name": "stdout",
     "output_type": "stream",
     "text": [
      "1/1 [==============================] - 0s 17ms/step\n",
      "1/1 [==============================] - 0s 15ms/step\n",
      "1/1 [==============================] - 0s 17ms/step\n"
     ]
    },
    {
     "name": "stderr",
     "output_type": "stream",
     "text": [
      "\r",
      " 44%|██████████████████▏                      | 352/794 [00:17<00:21, 21.03it/s]"
     ]
    },
    {
     "name": "stdout",
     "output_type": "stream",
     "text": [
      "1/1 [==============================] - 0s 16ms/step\n",
      "1/1 [==============================] - 0s 17ms/step\n",
      "1/1 [==============================] - 0s 19ms/step\n"
     ]
    },
    {
     "name": "stderr",
     "output_type": "stream",
     "text": [
      "\r",
      " 45%|██████████████████▎                      | 355/794 [00:17<00:21, 20.85it/s]"
     ]
    },
    {
     "name": "stdout",
     "output_type": "stream",
     "text": [
      "1/1 [==============================] - 0s 17ms/step\n",
      "1/1 [==============================] - 0s 16ms/step\n",
      "1/1 [==============================] - 0s 16ms/step\n"
     ]
    },
    {
     "name": "stderr",
     "output_type": "stream",
     "text": [
      "\r",
      " 45%|██████████████████▍                      | 358/794 [00:17<00:21, 20.64it/s]"
     ]
    },
    {
     "name": "stdout",
     "output_type": "stream",
     "text": [
      "1/1 [==============================] - 0s 16ms/step\n",
      "1/1 [==============================] - 0s 14ms/step\n",
      "1/1 [==============================] - 0s 16ms/step\n"
     ]
    },
    {
     "name": "stderr",
     "output_type": "stream",
     "text": [
      "\r",
      " 45%|██████████████████▋                      | 361/794 [00:17<00:20, 21.22it/s]"
     ]
    },
    {
     "name": "stdout",
     "output_type": "stream",
     "text": [
      "1/1 [==============================] - 0s 16ms/step\n",
      "1/1 [==============================] - 0s 15ms/step\n",
      "1/1 [==============================] - 0s 18ms/step\n"
     ]
    },
    {
     "name": "stderr",
     "output_type": "stream",
     "text": [
      "\r",
      " 46%|██████████████████▊                      | 364/794 [00:17<00:20, 21.44it/s]"
     ]
    },
    {
     "name": "stdout",
     "output_type": "stream",
     "text": [
      "1/1 [==============================] - 0s 15ms/step\n",
      "1/1 [==============================] - 0s 20ms/step\n",
      "1/1 [==============================] - 0s 20ms/step\n"
     ]
    },
    {
     "name": "stderr",
     "output_type": "stream",
     "text": [
      "\r",
      " 46%|██████████████████▉                      | 367/794 [00:18<00:20, 20.59it/s]"
     ]
    },
    {
     "name": "stdout",
     "output_type": "stream",
     "text": [
      "1/1 [==============================] - 0s 17ms/step\n",
      "1/1 [==============================] - 0s 17ms/step\n",
      "1/1 [==============================] - 0s 16ms/step\n"
     ]
    },
    {
     "name": "stderr",
     "output_type": "stream",
     "text": [
      "\r",
      " 47%|███████████████████                      | 370/794 [00:18<00:20, 20.52it/s]"
     ]
    },
    {
     "name": "stdout",
     "output_type": "stream",
     "text": [
      "1/1 [==============================] - 0s 16ms/step\n",
      "1/1 [==============================] - 0s 16ms/step\n",
      "1/1 [==============================] - 0s 17ms/step\n"
     ]
    },
    {
     "name": "stderr",
     "output_type": "stream",
     "text": [
      "\r",
      " 47%|███████████████████▎                     | 373/794 [00:18<00:20, 20.81it/s]"
     ]
    },
    {
     "name": "stdout",
     "output_type": "stream",
     "text": [
      "1/1 [==============================] - 0s 16ms/step\n",
      "1/1 [==============================] - 0s 15ms/step\n",
      "1/1 [==============================] - 0s 16ms/step\n"
     ]
    },
    {
     "name": "stderr",
     "output_type": "stream",
     "text": [
      "\r",
      " 47%|███████████████████▍                     | 376/794 [00:18<00:19, 20.90it/s]"
     ]
    },
    {
     "name": "stdout",
     "output_type": "stream",
     "text": [
      "1/1 [==============================] - 0s 18ms/step\n",
      "1/1 [==============================] - 0s 21ms/step\n",
      "1/1 [==============================] - 0s 21ms/step\n"
     ]
    },
    {
     "name": "stderr",
     "output_type": "stream",
     "text": [
      "\r",
      " 48%|███████████████████▌                     | 379/794 [00:18<00:20, 20.01it/s]"
     ]
    },
    {
     "name": "stdout",
     "output_type": "stream",
     "text": [
      "1/1 [==============================] - 0s 20ms/step\n",
      "1/1 [==============================] - 0s 17ms/step\n",
      "1/1 [==============================] - 0s 17ms/step\n"
     ]
    },
    {
     "name": "stderr",
     "output_type": "stream",
     "text": [
      "\r",
      " 48%|███████████████████▋                     | 382/794 [00:18<00:20, 19.88it/s]"
     ]
    },
    {
     "name": "stdout",
     "output_type": "stream",
     "text": [
      "1/1 [==============================] - 0s 16ms/step\n",
      "1/1 [==============================] - 0s 15ms/step\n",
      "1/1 [==============================] - 0s 16ms/step\n"
     ]
    },
    {
     "name": "stderr",
     "output_type": "stream",
     "text": [
      "\r",
      " 48%|███████████████████▉                     | 385/794 [00:18<00:20, 20.25it/s]"
     ]
    },
    {
     "name": "stdout",
     "output_type": "stream",
     "text": [
      "1/1 [==============================] - 0s 16ms/step\n",
      "1/1 [==============================] - 0s 15ms/step\n",
      "1/1 [==============================] - 0s 15ms/step\n"
     ]
    },
    {
     "name": "stderr",
     "output_type": "stream",
     "text": [
      "\r",
      " 49%|████████████████████                     | 388/794 [00:19<00:19, 20.89it/s]"
     ]
    },
    {
     "name": "stdout",
     "output_type": "stream",
     "text": [
      "1/1 [==============================] - 0s 15ms/step\n",
      "1/1 [==============================] - 0s 16ms/step\n",
      "1/1 [==============================] - 0s 18ms/step\n"
     ]
    },
    {
     "name": "stderr",
     "output_type": "stream",
     "text": [
      "\r",
      " 49%|████████████████████▏                    | 391/794 [00:19<00:19, 20.94it/s]"
     ]
    },
    {
     "name": "stdout",
     "output_type": "stream",
     "text": [
      "1/1 [==============================] - 0s 20ms/step\n",
      "1/1 [==============================] - 0s 19ms/step\n",
      "1/1 [==============================] - 0s 16ms/step\n"
     ]
    },
    {
     "name": "stderr",
     "output_type": "stream",
     "text": [
      "\r",
      " 50%|████████████████████▎                    | 394/794 [00:19<00:19, 20.27it/s]"
     ]
    },
    {
     "name": "stdout",
     "output_type": "stream",
     "text": [
      "1/1 [==============================] - 0s 17ms/step\n",
      "1/1 [==============================] - 0s 16ms/step\n",
      "1/1 [==============================] - 0s 16ms/step\n"
     ]
    },
    {
     "name": "stderr",
     "output_type": "stream",
     "text": [
      "\r",
      " 50%|████████████████████▌                    | 397/794 [00:19<00:19, 20.53it/s]"
     ]
    },
    {
     "name": "stdout",
     "output_type": "stream",
     "text": [
      "1/1 [==============================] - 0s 15ms/step\n",
      "1/1 [==============================] - 0s 16ms/step\n",
      "1/1 [==============================] - 0s 17ms/step\n"
     ]
    },
    {
     "name": "stderr",
     "output_type": "stream",
     "text": [
      "\r",
      " 50%|████████████████████▋                    | 400/794 [00:19<00:18, 20.89it/s]"
     ]
    },
    {
     "name": "stdout",
     "output_type": "stream",
     "text": [
      "1/1 [==============================] - 0s 19ms/step\n",
      "1/1 [==============================] - 0s 17ms/step\n",
      "1/1 [==============================] - 0s 20ms/step\n"
     ]
    },
    {
     "name": "stderr",
     "output_type": "stream",
     "text": [
      "\r",
      " 51%|████████████████████▊                    | 403/794 [00:19<00:19, 20.47it/s]"
     ]
    },
    {
     "name": "stdout",
     "output_type": "stream",
     "text": [
      "1/1 [==============================] - 0s 20ms/step\n",
      "1/1 [==============================] - 0s 17ms/step\n",
      "1/1 [==============================] - 0s 16ms/step\n"
     ]
    },
    {
     "name": "stderr",
     "output_type": "stream",
     "text": [
      "\r",
      " 51%|████████████████████▉                    | 406/794 [00:19<00:19, 19.87it/s]"
     ]
    },
    {
     "name": "stdout",
     "output_type": "stream",
     "text": [
      "1/1 [==============================] - 0s 16ms/step\n",
      "1/1 [==============================] - 0s 15ms/step\n",
      "1/1 [==============================] - 0s 15ms/step\n"
     ]
    },
    {
     "name": "stderr",
     "output_type": "stream",
     "text": [
      "\r",
      " 52%|█████████████████████                    | 409/794 [00:20<00:18, 20.51it/s]"
     ]
    },
    {
     "name": "stdout",
     "output_type": "stream",
     "text": [
      "1/1 [==============================] - 0s 15ms/step\n",
      "1/1 [==============================] - 0s 15ms/step\n",
      "1/1 [==============================] - 0s 15ms/step\n"
     ]
    },
    {
     "name": "stderr",
     "output_type": "stream",
     "text": [
      "\r",
      " 52%|█████████████████████▎                   | 412/794 [00:20<00:18, 21.05it/s]"
     ]
    },
    {
     "name": "stdout",
     "output_type": "stream",
     "text": [
      "1/1 [==============================] - 0s 17ms/step\n",
      "1/1 [==============================] - 0s 18ms/step\n",
      "1/1 [==============================] - 0s 18ms/step\n"
     ]
    },
    {
     "name": "stderr",
     "output_type": "stream",
     "text": [
      "\r",
      " 52%|█████████████████████▍                   | 415/794 [00:20<00:18, 20.73it/s]"
     ]
    },
    {
     "name": "stdout",
     "output_type": "stream",
     "text": [
      "1/1 [==============================] - 0s 17ms/step\n",
      "1/1 [==============================] - 0s 20ms/step\n",
      "1/1 [==============================] - 0s 19ms/step\n"
     ]
    },
    {
     "name": "stderr",
     "output_type": "stream",
     "text": [
      "\r",
      " 53%|█████████████████████▌                   | 418/794 [00:20<00:18, 20.06it/s]"
     ]
    },
    {
     "name": "stdout",
     "output_type": "stream",
     "text": [
      "1/1 [==============================] - 0s 16ms/step\n",
      "1/1 [==============================] - 0s 15ms/step\n",
      "1/1 [==============================] - 0s 16ms/step\n"
     ]
    },
    {
     "name": "stderr",
     "output_type": "stream",
     "text": [
      "\r",
      " 53%|█████████████████████▋                   | 421/794 [00:20<00:18, 20.60it/s]"
     ]
    },
    {
     "name": "stdout",
     "output_type": "stream",
     "text": [
      "1/1 [==============================] - 0s 16ms/step\n",
      "1/1 [==============================] - 0s 19ms/step\n",
      "1/1 [==============================] - 0s 19ms/step\n"
     ]
    },
    {
     "name": "stderr",
     "output_type": "stream",
     "text": [
      "\r",
      " 53%|█████████████████████▉                   | 424/794 [00:20<00:18, 20.29it/s]"
     ]
    },
    {
     "name": "stdout",
     "output_type": "stream",
     "text": [
      "1/1 [==============================] - 0s 19ms/step\n",
      "1/1 [==============================] - 0s 18ms/step\n",
      "1/1 [==============================] - 0s 19ms/step\n"
     ]
    },
    {
     "name": "stderr",
     "output_type": "stream",
     "text": [
      "\r",
      " 54%|██████████████████████                   | 427/794 [00:21<00:18, 19.86it/s]"
     ]
    },
    {
     "name": "stdout",
     "output_type": "stream",
     "text": [
      "1/1 [==============================] - 0s 18ms/step\n",
      "1/1 [==============================] - 0s 16ms/step\n"
     ]
    },
    {
     "name": "stderr",
     "output_type": "stream",
     "text": [
      "\r",
      " 54%|██████████████████████▏                  | 429/794 [00:21<00:18, 19.86it/s]"
     ]
    },
    {
     "name": "stdout",
     "output_type": "stream",
     "text": [
      "1/1 [==============================] - 0s 16ms/step\n",
      "1/1 [==============================] - 0s 15ms/step\n",
      "1/1 [==============================] - 0s 15ms/step\n"
     ]
    },
    {
     "name": "stderr",
     "output_type": "stream",
     "text": [
      "\r",
      " 54%|██████████████████████▎                  | 432/794 [00:21<00:17, 20.40it/s]"
     ]
    },
    {
     "name": "stdout",
     "output_type": "stream",
     "text": [
      "1/1 [==============================] - 0s 16ms/step\n",
      "1/1 [==============================] - 0s 16ms/step\n",
      "1/1 [==============================] - 0s 16ms/step\n"
     ]
    },
    {
     "name": "stderr",
     "output_type": "stream",
     "text": [
      "\r",
      " 55%|██████████████████████▍                  | 435/794 [00:21<00:17, 20.63it/s]"
     ]
    },
    {
     "name": "stdout",
     "output_type": "stream",
     "text": [
      "1/1 [==============================] - 0s 19ms/step\n",
      "1/1 [==============================] - 0s 19ms/step\n",
      "1/1 [==============================] - 0s 20ms/step\n"
     ]
    },
    {
     "name": "stderr",
     "output_type": "stream",
     "text": [
      "\r",
      " 55%|██████████████████████▌                  | 438/794 [00:21<00:17, 19.92it/s]"
     ]
    },
    {
     "name": "stdout",
     "output_type": "stream",
     "text": [
      "1/1 [==============================] - 0s 19ms/step\n",
      "1/1 [==============================] - 0s 20ms/step\n",
      "1/1 [==============================] - 0s 17ms/step\n"
     ]
    },
    {
     "name": "stderr",
     "output_type": "stream",
     "text": [
      "\r",
      " 56%|██████████████████████▊                  | 441/794 [00:21<00:17, 19.83it/s]"
     ]
    },
    {
     "name": "stdout",
     "output_type": "stream",
     "text": [
      "1/1 [==============================] - 0s 16ms/step\n",
      "1/1 [==============================] - 0s 17ms/step\n",
      "1/1 [==============================] - 0s 19ms/step\n"
     ]
    },
    {
     "name": "stderr",
     "output_type": "stream",
     "text": [
      "\r",
      " 56%|██████████████████████▉                  | 444/794 [00:21<00:17, 19.87it/s]"
     ]
    },
    {
     "name": "stdout",
     "output_type": "stream",
     "text": [
      "1/1 [==============================] - 0s 20ms/step\n",
      "1/1 [==============================] - 0s 18ms/step\n"
     ]
    },
    {
     "name": "stderr",
     "output_type": "stream",
     "text": [
      "\r",
      " 56%|███████████████████████                  | 446/794 [00:21<00:17, 19.59it/s]"
     ]
    },
    {
     "name": "stdout",
     "output_type": "stream",
     "text": [
      "1/1 [==============================] - 0s 20ms/step\n",
      "1/1 [==============================] - 0s 16ms/step\n"
     ]
    },
    {
     "name": "stderr",
     "output_type": "stream",
     "text": [
      "\r",
      " 56%|███████████████████████▏                 | 448/794 [00:22<00:17, 19.58it/s]"
     ]
    },
    {
     "name": "stdout",
     "output_type": "stream",
     "text": [
      "1/1 [==============================] - 0s 16ms/step\n",
      "1/1 [==============================] - 0s 16ms/step\n",
      "1/1 [==============================] - 0s 16ms/step\n"
     ]
    },
    {
     "name": "stderr",
     "output_type": "stream",
     "text": [
      "\r",
      " 57%|███████████████████████▎                 | 451/794 [00:22<00:16, 20.26it/s]"
     ]
    },
    {
     "name": "stdout",
     "output_type": "stream",
     "text": [
      "1/1 [==============================] - 0s 16ms/step\n",
      "1/1 [==============================] - 0s 18ms/step\n",
      "1/1 [==============================] - 0s 16ms/step\n"
     ]
    },
    {
     "name": "stderr",
     "output_type": "stream",
     "text": [
      "\r",
      " 57%|███████████████████████▍                 | 454/794 [00:22<00:16, 20.01it/s]"
     ]
    },
    {
     "name": "stdout",
     "output_type": "stream",
     "text": [
      "1/1 [==============================] - 0s 20ms/step\n",
      "1/1 [==============================] - 0s 18ms/step\n"
     ]
    },
    {
     "name": "stderr",
     "output_type": "stream",
     "text": [
      "\r",
      " 57%|███████████████████████▌                 | 456/794 [00:22<00:17, 19.53it/s]"
     ]
    },
    {
     "name": "stdout",
     "output_type": "stream",
     "text": [
      "1/1 [==============================] - 0s 17ms/step\n",
      "1/1 [==============================] - 0s 19ms/step\n"
     ]
    },
    {
     "name": "stderr",
     "output_type": "stream",
     "text": [
      "\r",
      " 58%|███████████████████████▋                 | 458/794 [00:22<00:17, 19.53it/s]"
     ]
    },
    {
     "name": "stdout",
     "output_type": "stream",
     "text": [
      "1/1 [==============================] - 0s 20ms/step\n",
      "1/1 [==============================] - 0s 17ms/step\n"
     ]
    },
    {
     "name": "stderr",
     "output_type": "stream",
     "text": [
      "\r",
      " 58%|███████████████████████▊                 | 460/794 [00:22<00:17, 19.40it/s]"
     ]
    },
    {
     "name": "stdout",
     "output_type": "stream",
     "text": [
      "1/1 [==============================] - 0s 17ms/step\n",
      "1/1 [==============================] - 0s 15ms/step\n",
      "1/1 [==============================] - 0s 16ms/step\n"
     ]
    },
    {
     "name": "stderr",
     "output_type": "stream",
     "text": [
      "\r",
      " 58%|███████████████████████▉                 | 463/794 [00:22<00:16, 19.91it/s]"
     ]
    },
    {
     "name": "stdout",
     "output_type": "stream",
     "text": [
      "1/1 [==============================] - 0s 16ms/step\n",
      "1/1 [==============================] - 0s 19ms/step\n",
      "1/1 [==============================] - 0s 20ms/step\n"
     ]
    },
    {
     "name": "stderr",
     "output_type": "stream",
     "text": [
      "\r",
      " 59%|████████████████████████                 | 466/794 [00:22<00:16, 19.80it/s]"
     ]
    },
    {
     "name": "stdout",
     "output_type": "stream",
     "text": [
      "1/1 [==============================] - 0s 20ms/step\n",
      "1/1 [==============================] - 0s 18ms/step\n"
     ]
    },
    {
     "name": "stderr",
     "output_type": "stream",
     "text": [
      "\r",
      " 59%|████████████████████████▏                | 468/794 [00:23<00:16, 19.35it/s]"
     ]
    },
    {
     "name": "stdout",
     "output_type": "stream",
     "text": [
      "1/1 [==============================] - 0s 19ms/step\n",
      "1/1 [==============================] - 0s 18ms/step\n"
     ]
    },
    {
     "name": "stderr",
     "output_type": "stream",
     "text": [
      "\r",
      " 59%|████████████████████████▎                | 470/794 [00:23<00:16, 19.31it/s]"
     ]
    },
    {
     "name": "stdout",
     "output_type": "stream",
     "text": [
      "1/1 [==============================] - 0s 15ms/step\n",
      "1/1 [==============================] - 0s 15ms/step\n",
      "1/1 [==============================] - 0s 16ms/step\n"
     ]
    },
    {
     "name": "stderr",
     "output_type": "stream",
     "text": [
      "\r",
      " 60%|████████████████████████▍                | 473/794 [00:23<00:15, 20.11it/s]"
     ]
    },
    {
     "name": "stdout",
     "output_type": "stream",
     "text": [
      "1/1 [==============================] - 0s 17ms/step\n",
      "1/1 [==============================] - 0s 16ms/step\n",
      "1/1 [==============================] - 0s 16ms/step\n"
     ]
    },
    {
     "name": "stderr",
     "output_type": "stream",
     "text": [
      "\r",
      " 60%|████████████████████████▌                | 476/794 [00:23<00:15, 20.53it/s]"
     ]
    },
    {
     "name": "stdout",
     "output_type": "stream",
     "text": [
      "1/1 [==============================] - 0s 15ms/step\n",
      "1/1 [==============================] - 0s 16ms/step\n",
      "1/1 [==============================] - 0s 19ms/step\n"
     ]
    },
    {
     "name": "stderr",
     "output_type": "stream",
     "text": [
      "\r",
      " 60%|████████████████████████▋                | 479/794 [00:23<00:15, 20.64it/s]"
     ]
    },
    {
     "name": "stdout",
     "output_type": "stream",
     "text": [
      "1/1 [==============================] - 0s 21ms/step\n",
      "1/1 [==============================] - 0s 19ms/step\n",
      "1/1 [==============================] - 0s 19ms/step\n"
     ]
    },
    {
     "name": "stderr",
     "output_type": "stream",
     "text": [
      "\r",
      " 61%|████████████████████████▉                | 482/794 [00:23<00:15, 19.54it/s]"
     ]
    },
    {
     "name": "stdout",
     "output_type": "stream",
     "text": [
      "1/1 [==============================] - 0s 16ms/step\n",
      "1/1 [==============================] - 0s 17ms/step\n",
      "1/1 [==============================] - 0s 15ms/step\n"
     ]
    },
    {
     "name": "stderr",
     "output_type": "stream",
     "text": [
      "\r",
      " 61%|█████████████████████████                | 485/794 [00:23<00:15, 20.09it/s]"
     ]
    },
    {
     "name": "stdout",
     "output_type": "stream",
     "text": [
      "1/1 [==============================] - 0s 16ms/step\n",
      "1/1 [==============================] - 0s 17ms/step\n",
      "1/1 [==============================] - 0s 15ms/step\n"
     ]
    },
    {
     "name": "stderr",
     "output_type": "stream",
     "text": [
      "\r",
      " 61%|█████████████████████████▏               | 488/794 [00:24<00:14, 20.71it/s]"
     ]
    },
    {
     "name": "stdout",
     "output_type": "stream",
     "text": [
      "1/1 [==============================] - 0s 19ms/step\n",
      "1/1 [==============================] - 0s 20ms/step\n",
      "1/1 [==============================] - 0s 20ms/step\n"
     ]
    },
    {
     "name": "stderr",
     "output_type": "stream",
     "text": [
      "\r",
      " 62%|█████████████████████████▎               | 491/794 [00:24<00:15, 20.03it/s]"
     ]
    },
    {
     "name": "stdout",
     "output_type": "stream",
     "text": [
      "1/1 [==============================] - 0s 18ms/step\n",
      "1/1 [==============================] - 0s 16ms/step\n",
      "1/1 [==============================] - 0s 17ms/step\n"
     ]
    },
    {
     "name": "stderr",
     "output_type": "stream",
     "text": [
      "\r",
      " 62%|█████████████████████████▌               | 494/794 [00:24<00:14, 20.08it/s]"
     ]
    },
    {
     "name": "stdout",
     "output_type": "stream",
     "text": [
      "1/1 [==============================] - 0s 16ms/step\n",
      "1/1 [==============================] - 0s 16ms/step\n",
      "1/1 [==============================] - 0s 15ms/step\n"
     ]
    },
    {
     "name": "stderr",
     "output_type": "stream",
     "text": [
      "\r",
      " 63%|█████████████████████████▋               | 497/794 [00:24<00:14, 20.62it/s]"
     ]
    },
    {
     "name": "stdout",
     "output_type": "stream",
     "text": [
      "1/1 [==============================] - 0s 16ms/step\n",
      "1/1 [==============================] - 0s 15ms/step\n",
      "1/1 [==============================] - 0s 15ms/step\n"
     ]
    },
    {
     "name": "stderr",
     "output_type": "stream",
     "text": [
      "\r",
      " 63%|█████████████████████████▊               | 500/794 [00:24<00:13, 21.21it/s]"
     ]
    },
    {
     "name": "stdout",
     "output_type": "stream",
     "text": [
      "1/1 [==============================] - 0s 17ms/step\n",
      "1/1 [==============================] - 0s 20ms/step\n",
      "1/1 [==============================] - 0s 20ms/step\n"
     ]
    },
    {
     "name": "stderr",
     "output_type": "stream",
     "text": [
      "\r",
      " 63%|█████████████████████████▉               | 503/794 [00:24<00:14, 20.24it/s]"
     ]
    },
    {
     "name": "stdout",
     "output_type": "stream",
     "text": [
      "1/1 [==============================] - 0s 16ms/step\n",
      "1/1 [==============================] - 0s 17ms/step\n",
      "1/1 [==============================] - 0s 17ms/step\n"
     ]
    },
    {
     "name": "stderr",
     "output_type": "stream",
     "text": [
      "\r",
      " 64%|██████████████████████████▏              | 506/794 [00:24<00:14, 20.25it/s]"
     ]
    },
    {
     "name": "stdout",
     "output_type": "stream",
     "text": [
      "1/1 [==============================] - 0s 17ms/step\n",
      "1/1 [==============================] - 0s 15ms/step\n",
      "1/1 [==============================] - 0s 15ms/step\n"
     ]
    },
    {
     "name": "stderr",
     "output_type": "stream",
     "text": [
      "\r",
      " 64%|██████████████████████████▎              | 509/794 [00:25<00:13, 20.81it/s]"
     ]
    },
    {
     "name": "stdout",
     "output_type": "stream",
     "text": [
      "1/1 [==============================] - 0s 16ms/step\n",
      "1/1 [==============================] - 0s 15ms/step\n",
      "1/1 [==============================] - 0s 18ms/step\n"
     ]
    },
    {
     "name": "stderr",
     "output_type": "stream",
     "text": [
      "\r",
      " 64%|██████████████████████████▍              | 512/794 [00:25<00:13, 20.64it/s]"
     ]
    },
    {
     "name": "stdout",
     "output_type": "stream",
     "text": [
      "1/1 [==============================] - 0s 18ms/step\n",
      "1/1 [==============================] - 0s 19ms/step\n",
      "1/1 [==============================] - 0s 16ms/step\n"
     ]
    },
    {
     "name": "stderr",
     "output_type": "stream",
     "text": [
      "\r",
      " 65%|██████████████████████████▌              | 515/794 [00:25<00:13, 20.50it/s]"
     ]
    },
    {
     "name": "stdout",
     "output_type": "stream",
     "text": [
      "1/1 [==============================] - 0s 17ms/step\n",
      "1/1 [==============================] - 0s 16ms/step\n",
      "1/1 [==============================] - 0s 16ms/step\n"
     ]
    },
    {
     "name": "stderr",
     "output_type": "stream",
     "text": [
      "\r",
      " 65%|██████████████████████████▋              | 518/794 [00:25<00:13, 20.71it/s]"
     ]
    },
    {
     "name": "stdout",
     "output_type": "stream",
     "text": [
      "1/1 [==============================] - 0s 15ms/step\n",
      "1/1 [==============================] - 0s 16ms/step\n",
      "1/1 [==============================] - 0s 16ms/step\n"
     ]
    },
    {
     "name": "stderr",
     "output_type": "stream",
     "text": [
      "\r",
      " 66%|██████████████████████████▉              | 521/794 [00:25<00:13, 20.89it/s]"
     ]
    },
    {
     "name": "stdout",
     "output_type": "stream",
     "text": [
      "1/1 [==============================] - 0s 17ms/step\n",
      "1/1 [==============================] - 0s 17ms/step\n",
      "1/1 [==============================] - 0s 17ms/step\n"
     ]
    },
    {
     "name": "stderr",
     "output_type": "stream",
     "text": [
      "\r",
      " 66%|███████████████████████████              | 524/794 [00:25<00:12, 20.83it/s]"
     ]
    },
    {
     "name": "stdout",
     "output_type": "stream",
     "text": [
      "1/1 [==============================] - 0s 20ms/step\n",
      "1/1 [==============================] - 0s 19ms/step\n",
      "1/1 [==============================] - 0s 18ms/step\n"
     ]
    },
    {
     "name": "stderr",
     "output_type": "stream",
     "text": [
      "\r",
      " 66%|███████████████████████████▏             | 527/794 [00:25<00:13, 20.18it/s]"
     ]
    },
    {
     "name": "stdout",
     "output_type": "stream",
     "text": [
      "1/1 [==============================] - 0s 17ms/step\n",
      "1/1 [==============================] - 0s 16ms/step\n",
      "1/1 [==============================] - 0s 16ms/step\n"
     ]
    },
    {
     "name": "stderr",
     "output_type": "stream",
     "text": [
      "\r",
      " 67%|███████████████████████████▎             | 530/794 [00:26<00:12, 20.71it/s]"
     ]
    },
    {
     "name": "stdout",
     "output_type": "stream",
     "text": [
      "1/1 [==============================] - 0s 16ms/step\n",
      "1/1 [==============================] - 0s 16ms/step\n",
      "1/1 [==============================] - 0s 16ms/step\n"
     ]
    },
    {
     "name": "stderr",
     "output_type": "stream",
     "text": [
      "\r",
      " 67%|███████████████████████████▌             | 533/794 [00:26<00:12, 20.94it/s]"
     ]
    },
    {
     "name": "stdout",
     "output_type": "stream",
     "text": [
      "1/1 [==============================] - 0s 18ms/step\n",
      "1/1 [==============================] - 0s 15ms/step\n",
      "1/1 [==============================] - 0s 16ms/step\n"
     ]
    },
    {
     "name": "stderr",
     "output_type": "stream",
     "text": [
      "\r",
      " 68%|███████████████████████████▋             | 536/794 [00:26<00:12, 21.00it/s]"
     ]
    },
    {
     "name": "stdout",
     "output_type": "stream",
     "text": [
      "1/1 [==============================] - 0s 16ms/step\n",
      "1/1 [==============================] - 0s 18ms/step\n",
      "1/1 [==============================] - 0s 19ms/step\n"
     ]
    },
    {
     "name": "stderr",
     "output_type": "stream",
     "text": [
      "\r",
      " 68%|███████████████████████████▊             | 539/794 [00:26<00:12, 20.85it/s]"
     ]
    },
    {
     "name": "stdout",
     "output_type": "stream",
     "text": [
      "1/1 [==============================] - 0s 19ms/step\n",
      "1/1 [==============================] - 0s 16ms/step\n",
      "1/1 [==============================] - 0s 16ms/step\n"
     ]
    },
    {
     "name": "stderr",
     "output_type": "stream",
     "text": [
      "\r",
      " 68%|███████████████████████████▉             | 542/794 [00:26<00:12, 20.54it/s]"
     ]
    },
    {
     "name": "stdout",
     "output_type": "stream",
     "text": [
      "1/1 [==============================] - 0s 17ms/step\n",
      "1/1 [==============================] - 0s 18ms/step\n",
      "1/1 [==============================] - 0s 17ms/step\n"
     ]
    },
    {
     "name": "stderr",
     "output_type": "stream",
     "text": [
      "\r",
      " 69%|████████████████████████████▏            | 545/794 [00:26<00:12, 20.60it/s]"
     ]
    },
    {
     "name": "stdout",
     "output_type": "stream",
     "text": [
      "1/1 [==============================] - 0s 18ms/step\n",
      "1/1 [==============================] - 0s 18ms/step\n",
      "1/1 [==============================] - 0s 16ms/step\n"
     ]
    },
    {
     "name": "stderr",
     "output_type": "stream",
     "text": [
      "\r",
      " 69%|████████████████████████████▎            | 548/794 [00:26<00:12, 20.41it/s]"
     ]
    },
    {
     "name": "stdout",
     "output_type": "stream",
     "text": [
      "1/1 [==============================] - 0s 16ms/step\n",
      "1/1 [==============================] - 0s 17ms/step\n",
      "1/1 [==============================] - 0s 17ms/step\n"
     ]
    },
    {
     "name": "stderr",
     "output_type": "stream",
     "text": [
      "\r",
      " 69%|████████████████████████████▍            | 551/794 [00:27<00:12, 20.24it/s]"
     ]
    },
    {
     "name": "stdout",
     "output_type": "stream",
     "text": [
      "1/1 [==============================] - 0s 20ms/step\n",
      "1/1 [==============================] - 0s 18ms/step\n",
      "1/1 [==============================] - 0s 17ms/step\n"
     ]
    },
    {
     "name": "stderr",
     "output_type": "stream",
     "text": [
      "\r",
      " 70%|████████████████████████████▌            | 554/794 [00:27<00:11, 20.15it/s]"
     ]
    },
    {
     "name": "stdout",
     "output_type": "stream",
     "text": [
      "1/1 [==============================] - 0s 16ms/step\n",
      "1/1 [==============================] - 0s 17ms/step\n",
      "1/1 [==============================] - 0s 18ms/step\n"
     ]
    },
    {
     "name": "stderr",
     "output_type": "stream",
     "text": [
      "\r",
      " 70%|████████████████████████████▊            | 557/794 [00:27<00:11, 20.32it/s]"
     ]
    },
    {
     "name": "stdout",
     "output_type": "stream",
     "text": [
      "1/1 [==============================] - 0s 17ms/step\n",
      "1/1 [==============================] - 0s 17ms/step\n",
      "1/1 [==============================] - 0s 18ms/step\n"
     ]
    },
    {
     "name": "stderr",
     "output_type": "stream",
     "text": [
      "\r",
      " 71%|████████████████████████████▉            | 560/794 [00:27<00:11, 20.17it/s]"
     ]
    },
    {
     "name": "stdout",
     "output_type": "stream",
     "text": [
      "1/1 [==============================] - 0s 18ms/step\n",
      "1/1 [==============================] - 0s 18ms/step\n",
      "1/1 [==============================] - 0s 18ms/step\n"
     ]
    },
    {
     "name": "stderr",
     "output_type": "stream",
     "text": [
      "\r",
      " 71%|█████████████████████████████            | 563/794 [00:27<00:11, 19.93it/s]"
     ]
    },
    {
     "name": "stdout",
     "output_type": "stream",
     "text": [
      "1/1 [==============================] - 0s 16ms/step\n",
      "1/1 [==============================] - 0s 15ms/step\n",
      "1/1 [==============================] - 0s 16ms/step\n"
     ]
    },
    {
     "name": "stderr",
     "output_type": "stream",
     "text": [
      "\r",
      " 71%|█████████████████████████████▏           | 566/794 [00:27<00:11, 20.43it/s]"
     ]
    },
    {
     "name": "stdout",
     "output_type": "stream",
     "text": [
      "1/1 [==============================] - 0s 19ms/step\n",
      "1/1 [==============================] - 0s 16ms/step\n",
      "1/1 [==============================] - 0s 17ms/step\n"
     ]
    },
    {
     "name": "stderr",
     "output_type": "stream",
     "text": [
      "\r",
      " 72%|█████████████████████████████▍           | 569/794 [00:28<00:11, 20.41it/s]"
     ]
    },
    {
     "name": "stdout",
     "output_type": "stream",
     "text": [
      "1/1 [==============================] - 0s 17ms/step\n",
      "1/1 [==============================] - 0s 17ms/step\n",
      "1/1 [==============================] - 0s 17ms/step\n"
     ]
    },
    {
     "name": "stderr",
     "output_type": "stream",
     "text": [
      "\r",
      " 72%|█████████████████████████████▌           | 572/794 [00:28<00:10, 20.31it/s]"
     ]
    },
    {
     "name": "stdout",
     "output_type": "stream",
     "text": [
      "1/1 [==============================] - 0s 17ms/step\n",
      "1/1 [==============================] - 0s 17ms/step\n",
      "1/1 [==============================] - 0s 17ms/step\n"
     ]
    },
    {
     "name": "stderr",
     "output_type": "stream",
     "text": [
      "\r",
      " 72%|█████████████████████████████▋           | 575/794 [00:28<00:10, 20.44it/s]"
     ]
    },
    {
     "name": "stdout",
     "output_type": "stream",
     "text": [
      "1/1 [==============================] - 0s 16ms/step\n",
      "1/1 [==============================] - 0s 15ms/step\n",
      "1/1 [==============================] - 0s 15ms/step\n"
     ]
    },
    {
     "name": "stderr",
     "output_type": "stream",
     "text": [
      "\r",
      " 73%|█████████████████████████████▊           | 578/794 [00:28<00:10, 20.73it/s]"
     ]
    },
    {
     "name": "stdout",
     "output_type": "stream",
     "text": [
      "1/1 [==============================] - 0s 17ms/step\n",
      "1/1 [==============================] - 0s 19ms/step\n",
      "1/1 [==============================] - 0s 20ms/step\n"
     ]
    },
    {
     "name": "stderr",
     "output_type": "stream",
     "text": [
      "\r",
      " 73%|██████████████████████████████           | 581/794 [00:28<00:10, 20.08it/s]"
     ]
    },
    {
     "name": "stdout",
     "output_type": "stream",
     "text": [
      "1/1 [==============================] - 0s 18ms/step\n",
      "1/1 [==============================] - 0s 18ms/step\n",
      "1/1 [==============================] - 0s 17ms/step\n"
     ]
    },
    {
     "name": "stderr",
     "output_type": "stream",
     "text": [
      "\r",
      " 74%|██████████████████████████████▏          | 584/794 [00:28<00:10, 20.02it/s]"
     ]
    },
    {
     "name": "stdout",
     "output_type": "stream",
     "text": [
      "1/1 [==============================] - 0s 17ms/step\n",
      "1/1 [==============================] - 0s 18ms/step\n",
      "1/1 [==============================] - 0s 18ms/step\n"
     ]
    },
    {
     "name": "stderr",
     "output_type": "stream",
     "text": [
      "\r",
      " 74%|██████████████████████████████▎          | 587/794 [00:28<00:10, 20.10it/s]"
     ]
    },
    {
     "name": "stdout",
     "output_type": "stream",
     "text": [
      "1/1 [==============================] - 0s 17ms/step\n",
      "1/1 [==============================] - 0s 16ms/step\n",
      "1/1 [==============================] - 0s 16ms/step\n"
     ]
    },
    {
     "name": "stderr",
     "output_type": "stream",
     "text": [
      "\r",
      " 74%|██████████████████████████████▍          | 590/794 [00:29<00:10, 20.29it/s]"
     ]
    },
    {
     "name": "stdout",
     "output_type": "stream",
     "text": [
      "1/1 [==============================] - 0s 16ms/step\n",
      "1/1 [==============================] - 0s 18ms/step\n",
      "1/1 [==============================] - 0s 16ms/step\n"
     ]
    },
    {
     "name": "stderr",
     "output_type": "stream",
     "text": [
      "\r",
      " 75%|██████████████████████████████▌          | 593/794 [00:29<00:09, 20.64it/s]"
     ]
    },
    {
     "name": "stdout",
     "output_type": "stream",
     "text": [
      "1/1 [==============================] - 0s 16ms/step\n",
      "1/1 [==============================] - 0s 16ms/step\n",
      "1/1 [==============================] - 0s 17ms/step\n"
     ]
    },
    {
     "name": "stderr",
     "output_type": "stream",
     "text": [
      "\r",
      " 75%|██████████████████████████████▊          | 596/794 [00:29<00:09, 20.80it/s]"
     ]
    },
    {
     "name": "stdout",
     "output_type": "stream",
     "text": [
      "1/1 [==============================] - 0s 19ms/step\n",
      "1/1 [==============================] - 0s 18ms/step\n",
      "1/1 [==============================] - 0s 18ms/step\n"
     ]
    },
    {
     "name": "stderr",
     "output_type": "stream",
     "text": [
      "\r",
      " 75%|██████████████████████████████▉          | 599/794 [00:29<00:09, 20.18it/s]"
     ]
    },
    {
     "name": "stdout",
     "output_type": "stream",
     "text": [
      "1/1 [==============================] - 0s 19ms/step\n",
      "1/1 [==============================] - 0s 18ms/step\n",
      "1/1 [==============================] - 0s 17ms/step\n"
     ]
    },
    {
     "name": "stderr",
     "output_type": "stream",
     "text": [
      "\r",
      " 76%|███████████████████████████████          | 602/794 [00:29<00:09, 20.21it/s]"
     ]
    },
    {
     "name": "stdout",
     "output_type": "stream",
     "text": [
      "1/1 [==============================] - 0s 17ms/step\n",
      "1/1 [==============================] - 0s 16ms/step\n",
      "1/1 [==============================] - 0s 17ms/step\n"
     ]
    },
    {
     "name": "stderr",
     "output_type": "stream",
     "text": [
      "\r",
      " 76%|███████████████████████████████▏         | 605/794 [00:29<00:09, 20.29it/s]"
     ]
    },
    {
     "name": "stdout",
     "output_type": "stream",
     "text": [
      "1/1 [==============================] - 0s 17ms/step\n",
      "1/1 [==============================] - 0s 20ms/step\n",
      "1/1 [==============================] - 0s 15ms/step\n"
     ]
    },
    {
     "name": "stderr",
     "output_type": "stream",
     "text": [
      "\r",
      " 77%|███████████████████████████████▍         | 608/794 [00:29<00:09, 20.27it/s]"
     ]
    },
    {
     "name": "stdout",
     "output_type": "stream",
     "text": [
      "1/1 [==============================] - 0s 17ms/step\n",
      "1/1 [==============================] - 0s 15ms/step\n",
      "1/1 [==============================] - 0s 15ms/step\n"
     ]
    },
    {
     "name": "stderr",
     "output_type": "stream",
     "text": [
      "\r",
      " 77%|███████████████████████████████▌         | 611/794 [00:30<00:09, 20.29it/s]"
     ]
    },
    {
     "name": "stdout",
     "output_type": "stream",
     "text": [
      "1/1 [==============================] - 0s 18ms/step\n",
      "1/1 [==============================] - 0s 15ms/step\n",
      "1/1 [==============================] - 0s 15ms/step\n"
     ]
    },
    {
     "name": "stderr",
     "output_type": "stream",
     "text": [
      "\r",
      " 77%|███████████████████████████████▋         | 614/794 [00:30<00:08, 20.72it/s]"
     ]
    },
    {
     "name": "stdout",
     "output_type": "stream",
     "text": [
      "1/1 [==============================] - 0s 16ms/step\n",
      "1/1 [==============================] - 0s 17ms/step\n",
      "1/1 [==============================] - 0s 16ms/step\n"
     ]
    },
    {
     "name": "stderr",
     "output_type": "stream",
     "text": [
      "\r",
      " 78%|███████████████████████████████▊         | 617/794 [00:30<00:08, 20.99it/s]"
     ]
    },
    {
     "name": "stdout",
     "output_type": "stream",
     "text": [
      "1/1 [==============================] - 0s 19ms/step\n",
      "1/1 [==============================] - 0s 17ms/step\n",
      "1/1 [==============================] - 0s 16ms/step\n"
     ]
    },
    {
     "name": "stderr",
     "output_type": "stream",
     "text": [
      "\r",
      " 78%|████████████████████████████████         | 620/794 [00:30<00:08, 20.49it/s]"
     ]
    },
    {
     "name": "stdout",
     "output_type": "stream",
     "text": [
      "1/1 [==============================] - 0s 17ms/step\n",
      "1/1 [==============================] - 0s 16ms/step\n",
      "1/1 [==============================] - 0s 16ms/step\n"
     ]
    },
    {
     "name": "stderr",
     "output_type": "stream",
     "text": [
      "\r",
      " 78%|████████████████████████████████▏        | 623/794 [00:30<00:08, 20.69it/s]"
     ]
    },
    {
     "name": "stdout",
     "output_type": "stream",
     "text": [
      "1/1 [==============================] - 0s 17ms/step\n",
      "1/1 [==============================] - 0s 18ms/step\n",
      "1/1 [==============================] - 0s 20ms/step\n"
     ]
    },
    {
     "name": "stderr",
     "output_type": "stream",
     "text": [
      "\r",
      " 79%|████████████████████████████████▎        | 626/794 [00:30<00:08, 20.21it/s]"
     ]
    },
    {
     "name": "stdout",
     "output_type": "stream",
     "text": [
      "1/1 [==============================] - 0s 17ms/step\n",
      "1/1 [==============================] - 0s 16ms/step\n",
      "1/1 [==============================] - 0s 19ms/step\n"
     ]
    },
    {
     "name": "stderr",
     "output_type": "stream",
     "text": [
      "\r",
      " 79%|████████████████████████████████▍        | 629/794 [00:30<00:08, 20.17it/s]"
     ]
    },
    {
     "name": "stdout",
     "output_type": "stream",
     "text": [
      "1/1 [==============================] - 0s 16ms/step\n",
      "1/1 [==============================] - 0s 17ms/step\n",
      "1/1 [==============================] - 0s 17ms/step\n"
     ]
    },
    {
     "name": "stderr",
     "output_type": "stream",
     "text": [
      "\r",
      " 80%|████████████████████████████████▋        | 632/794 [00:31<00:07, 20.30it/s]"
     ]
    },
    {
     "name": "stdout",
     "output_type": "stream",
     "text": [
      "1/1 [==============================] - 0s 16ms/step\n",
      "1/1 [==============================] - 0s 22ms/step\n",
      "1/1 [==============================] - 0s 16ms/step\n"
     ]
    },
    {
     "name": "stderr",
     "output_type": "stream",
     "text": [
      "\r",
      " 80%|████████████████████████████████▊        | 635/794 [00:31<00:07, 20.02it/s]"
     ]
    },
    {
     "name": "stdout",
     "output_type": "stream",
     "text": [
      "1/1 [==============================] - 0s 16ms/step\n",
      "1/1 [==============================] - 0s 16ms/step\n",
      "1/1 [==============================] - 0s 17ms/step\n"
     ]
    },
    {
     "name": "stderr",
     "output_type": "stream",
     "text": [
      "\r",
      " 80%|████████████████████████████████▉        | 638/794 [00:31<00:07, 20.30it/s]"
     ]
    },
    {
     "name": "stdout",
     "output_type": "stream",
     "text": [
      "1/1 [==============================] - 0s 16ms/step\n",
      "1/1 [==============================] - 0s 16ms/step\n",
      "1/1 [==============================] - 0s 17ms/step\n"
     ]
    },
    {
     "name": "stderr",
     "output_type": "stream",
     "text": [
      "\r",
      " 81%|█████████████████████████████████        | 641/794 [00:31<00:07, 20.58it/s]"
     ]
    },
    {
     "name": "stdout",
     "output_type": "stream",
     "text": [
      "1/1 [==============================] - 0s 17ms/step\n",
      "1/1 [==============================] - 0s 16ms/step\n",
      "1/1 [==============================] - 0s 15ms/step\n"
     ]
    },
    {
     "name": "stderr",
     "output_type": "stream",
     "text": [
      "\r",
      " 81%|█████████████████████████████████▎       | 644/794 [00:31<00:07, 20.96it/s]"
     ]
    },
    {
     "name": "stdout",
     "output_type": "stream",
     "text": [
      "1/1 [==============================] - 0s 15ms/step\n",
      "1/1 [==============================] - 0s 16ms/step\n",
      "1/1 [==============================] - 0s 15ms/step\n"
     ]
    },
    {
     "name": "stderr",
     "output_type": "stream",
     "text": [
      "\r",
      " 81%|█████████████████████████████████▍       | 647/794 [00:31<00:06, 21.30it/s]"
     ]
    },
    {
     "name": "stdout",
     "output_type": "stream",
     "text": [
      "1/1 [==============================] - 0s 17ms/step\n",
      "1/1 [==============================] - 0s 16ms/step\n",
      "1/1 [==============================] - 0s 15ms/step\n"
     ]
    },
    {
     "name": "stderr",
     "output_type": "stream",
     "text": [
      "\r",
      " 82%|█████████████████████████████████▌       | 650/794 [00:31<00:06, 21.08it/s]"
     ]
    },
    {
     "name": "stdout",
     "output_type": "stream",
     "text": [
      "1/1 [==============================] - 0s 16ms/step\n",
      "1/1 [==============================] - 0s 16ms/step\n",
      "1/1 [==============================] - 0s 17ms/step\n"
     ]
    },
    {
     "name": "stderr",
     "output_type": "stream",
     "text": [
      "\r",
      " 82%|█████████████████████████████████▋       | 653/794 [00:32<00:06, 21.25it/s]"
     ]
    },
    {
     "name": "stdout",
     "output_type": "stream",
     "text": [
      "1/1 [==============================] - 0s 17ms/step\n",
      "1/1 [==============================] - 0s 16ms/step\n",
      "1/1 [==============================] - 0s 16ms/step\n"
     ]
    },
    {
     "name": "stderr",
     "output_type": "stream",
     "text": [
      "\r",
      " 83%|█████████████████████████████████▊       | 656/794 [00:32<00:06, 21.23it/s]"
     ]
    },
    {
     "name": "stdout",
     "output_type": "stream",
     "text": [
      "1/1 [==============================] - 0s 17ms/step\n",
      "1/1 [==============================] - 0s 19ms/step\n",
      "1/1 [==============================] - 0s 17ms/step\n"
     ]
    },
    {
     "name": "stderr",
     "output_type": "stream",
     "text": [
      "\r",
      " 83%|██████████████████████████████████       | 659/794 [00:32<00:06, 20.91it/s]"
     ]
    },
    {
     "name": "stdout",
     "output_type": "stream",
     "text": [
      "1/1 [==============================] - 0s 17ms/step\n",
      "1/1 [==============================] - 0s 16ms/step\n",
      "1/1 [==============================] - 0s 18ms/step\n"
     ]
    },
    {
     "name": "stderr",
     "output_type": "stream",
     "text": [
      "\r",
      " 83%|██████████████████████████████████▏      | 662/794 [00:32<00:06, 20.73it/s]"
     ]
    },
    {
     "name": "stdout",
     "output_type": "stream",
     "text": [
      "1/1 [==============================] - 0s 16ms/step\n",
      "1/1 [==============================] - 0s 16ms/step\n",
      "1/1 [==============================] - 0s 17ms/step\n"
     ]
    },
    {
     "name": "stderr",
     "output_type": "stream",
     "text": [
      "\r",
      " 84%|██████████████████████████████████▎      | 665/794 [00:32<00:06, 20.91it/s]"
     ]
    },
    {
     "name": "stdout",
     "output_type": "stream",
     "text": [
      "1/1 [==============================] - 0s 19ms/step\n",
      "1/1 [==============================] - 0s 19ms/step\n",
      "1/1 [==============================] - 0s 17ms/step\n"
     ]
    },
    {
     "name": "stderr",
     "output_type": "stream",
     "text": [
      "\r",
      " 84%|██████████████████████████████████▍      | 668/794 [00:32<00:06, 20.26it/s]"
     ]
    },
    {
     "name": "stdout",
     "output_type": "stream",
     "text": [
      "1/1 [==============================] - 0s 17ms/step\n",
      "1/1 [==============================] - 0s 17ms/step\n",
      "1/1 [==============================] - 0s 15ms/step\n"
     ]
    },
    {
     "name": "stderr",
     "output_type": "stream",
     "text": [
      "\r",
      " 85%|██████████████████████████████████▋      | 671/794 [00:32<00:05, 20.54it/s]"
     ]
    },
    {
     "name": "stdout",
     "output_type": "stream",
     "text": [
      "1/1 [==============================] - 0s 17ms/step\n",
      "1/1 [==============================] - 0s 16ms/step\n",
      "1/1 [==============================] - 0s 16ms/step\n"
     ]
    },
    {
     "name": "stderr",
     "output_type": "stream",
     "text": [
      "\r",
      " 85%|██████████████████████████████████▊      | 674/794 [00:33<00:05, 20.94it/s]"
     ]
    },
    {
     "name": "stdout",
     "output_type": "stream",
     "text": [
      "1/1 [==============================] - 0s 17ms/step\n",
      "1/1 [==============================] - 0s 15ms/step\n",
      "1/1 [==============================] - 0s 17ms/step\n"
     ]
    },
    {
     "name": "stderr",
     "output_type": "stream",
     "text": [
      "\r",
      " 85%|██████████████████████████████████▉      | 677/794 [00:33<00:05, 20.55it/s]"
     ]
    },
    {
     "name": "stdout",
     "output_type": "stream",
     "text": [
      "1/1 [==============================] - 0s 17ms/step\n",
      "1/1 [==============================] - 0s 17ms/step\n",
      "1/1 [==============================] - 0s 17ms/step\n"
     ]
    },
    {
     "name": "stderr",
     "output_type": "stream",
     "text": [
      "\r",
      " 86%|███████████████████████████████████      | 680/794 [00:33<00:05, 20.54it/s]"
     ]
    },
    {
     "name": "stdout",
     "output_type": "stream",
     "text": [
      "1/1 [==============================] - 0s 16ms/step\n",
      "1/1 [==============================] - 0s 16ms/step\n",
      "1/1 [==============================] - 0s 16ms/step\n"
     ]
    },
    {
     "name": "stderr",
     "output_type": "stream",
     "text": [
      "\r",
      " 86%|███████████████████████████████████▎     | 683/794 [00:33<00:05, 20.68it/s]"
     ]
    },
    {
     "name": "stdout",
     "output_type": "stream",
     "text": [
      "1/1 [==============================] - 0s 17ms/step\n",
      "1/1 [==============================] - 0s 16ms/step\n",
      "1/1 [==============================] - 0s 16ms/step\n"
     ]
    },
    {
     "name": "stderr",
     "output_type": "stream",
     "text": [
      "\r",
      " 86%|███████████████████████████████████▍     | 686/794 [00:33<00:05, 20.78it/s]"
     ]
    },
    {
     "name": "stdout",
     "output_type": "stream",
     "text": [
      "1/1 [==============================] - 0s 17ms/step\n",
      "1/1 [==============================] - 0s 17ms/step\n",
      "1/1 [==============================] - 0s 16ms/step\n"
     ]
    },
    {
     "name": "stderr",
     "output_type": "stream",
     "text": [
      "\r",
      " 87%|███████████████████████████████████▌     | 689/794 [00:33<00:05, 20.48it/s]"
     ]
    },
    {
     "name": "stdout",
     "output_type": "stream",
     "text": [
      "1/1 [==============================] - 0s 16ms/step\n",
      "1/1 [==============================] - 0s 15ms/step\n",
      "1/1 [==============================] - 0s 15ms/step\n"
     ]
    },
    {
     "name": "stderr",
     "output_type": "stream",
     "text": [
      "\r",
      " 87%|███████████████████████████████████▋     | 692/794 [00:34<00:04, 20.82it/s]"
     ]
    },
    {
     "name": "stdout",
     "output_type": "stream",
     "text": [
      "1/1 [==============================] - 0s 17ms/step\n",
      "1/1 [==============================] - 0s 16ms/step\n",
      "1/1 [==============================] - 0s 18ms/step\n"
     ]
    },
    {
     "name": "stderr",
     "output_type": "stream",
     "text": [
      "\r",
      " 88%|███████████████████████████████████▉     | 695/794 [00:34<00:04, 20.84it/s]"
     ]
    },
    {
     "name": "stdout",
     "output_type": "stream",
     "text": [
      "1/1 [==============================] - 0s 17ms/step\n",
      "1/1 [==============================] - 0s 19ms/step\n",
      "1/1 [==============================] - 0s 19ms/step\n"
     ]
    },
    {
     "name": "stderr",
     "output_type": "stream",
     "text": [
      "\r",
      " 88%|████████████████████████████████████     | 698/794 [00:34<00:04, 20.25it/s]"
     ]
    },
    {
     "name": "stdout",
     "output_type": "stream",
     "text": [
      "1/1 [==============================] - 0s 16ms/step\n",
      "1/1 [==============================] - 0s 17ms/step\n",
      "1/1 [==============================] - 0s 16ms/step\n"
     ]
    },
    {
     "name": "stderr",
     "output_type": "stream",
     "text": [
      "\r",
      " 88%|████████████████████████████████████▏    | 701/794 [00:34<00:04, 20.42it/s]"
     ]
    },
    {
     "name": "stdout",
     "output_type": "stream",
     "text": [
      "1/1 [==============================] - 0s 19ms/step\n",
      "1/1 [==============================] - 0s 19ms/step\n",
      "1/1 [==============================] - 0s 18ms/step\n"
     ]
    },
    {
     "name": "stderr",
     "output_type": "stream",
     "text": [
      "\r",
      " 89%|████████████████████████████████████▎    | 704/794 [00:34<00:04, 20.09it/s]"
     ]
    },
    {
     "name": "stdout",
     "output_type": "stream",
     "text": [
      "1/1 [==============================] - 0s 18ms/step\n",
      "1/1 [==============================] - 0s 17ms/step\n",
      "1/1 [==============================] - 0s 18ms/step\n"
     ]
    },
    {
     "name": "stderr",
     "output_type": "stream",
     "text": [
      "\r",
      " 89%|████████████████████████████████████▌    | 707/794 [00:34<00:04, 19.72it/s]"
     ]
    },
    {
     "name": "stdout",
     "output_type": "stream",
     "text": [
      "1/1 [==============================] - 0s 15ms/step\n",
      "1/1 [==============================] - 0s 16ms/step\n",
      "1/1 [==============================] - 0s 16ms/step\n"
     ]
    },
    {
     "name": "stderr",
     "output_type": "stream",
     "text": [
      "\r",
      " 89%|████████████████████████████████████▋    | 710/794 [00:34<00:04, 20.30it/s]"
     ]
    },
    {
     "name": "stdout",
     "output_type": "stream",
     "text": [
      "1/1 [==============================] - 0s 16ms/step\n",
      "1/1 [==============================] - 0s 16ms/step\n",
      "1/1 [==============================] - 0s 17ms/step\n"
     ]
    },
    {
     "name": "stderr",
     "output_type": "stream",
     "text": [
      "\r",
      " 90%|████████████████████████████████████▊    | 713/794 [00:35<00:03, 20.56it/s]"
     ]
    },
    {
     "name": "stdout",
     "output_type": "stream",
     "text": [
      "1/1 [==============================] - 0s 17ms/step\n",
      "1/1 [==============================] - 0s 17ms/step\n",
      "1/1 [==============================] - 0s 17ms/step\n"
     ]
    },
    {
     "name": "stderr",
     "output_type": "stream",
     "text": [
      "\r",
      " 90%|████████████████████████████████████▉    | 716/794 [00:35<00:03, 20.25it/s]"
     ]
    },
    {
     "name": "stdout",
     "output_type": "stream",
     "text": [
      "1/1 [==============================] - 0s 16ms/step\n",
      "1/1 [==============================] - 0s 16ms/step\n",
      "1/1 [==============================] - 0s 17ms/step\n"
     ]
    },
    {
     "name": "stderr",
     "output_type": "stream",
     "text": [
      "\r",
      " 91%|█████████████████████████████████████▏   | 719/794 [00:35<00:03, 20.60it/s]"
     ]
    },
    {
     "name": "stdout",
     "output_type": "stream",
     "text": [
      "1/1 [==============================] - 0s 18ms/step\n",
      "1/1 [==============================] - 0s 16ms/step\n",
      "1/1 [==============================] - 0s 17ms/step\n"
     ]
    },
    {
     "name": "stderr",
     "output_type": "stream",
     "text": [
      "\r",
      " 91%|█████████████████████████████████████▎   | 722/794 [00:35<00:03, 20.66it/s]"
     ]
    },
    {
     "name": "stdout",
     "output_type": "stream",
     "text": [
      "1/1 [==============================] - 0s 18ms/step\n",
      "1/1 [==============================] - 0s 17ms/step\n",
      "1/1 [==============================] - 0s 15ms/step\n"
     ]
    },
    {
     "name": "stderr",
     "output_type": "stream",
     "text": [
      "\r",
      " 91%|█████████████████████████████████████▍   | 725/794 [00:35<00:03, 20.59it/s]"
     ]
    },
    {
     "name": "stdout",
     "output_type": "stream",
     "text": [
      "1/1 [==============================] - 0s 16ms/step\n",
      "1/1 [==============================] - 0s 15ms/step\n",
      "1/1 [==============================] - 0s 17ms/step\n"
     ]
    },
    {
     "name": "stderr",
     "output_type": "stream",
     "text": [
      "\r",
      " 92%|█████████████████████████████████████▌   | 728/794 [00:35<00:03, 20.63it/s]"
     ]
    },
    {
     "name": "stdout",
     "output_type": "stream",
     "text": [
      "1/1 [==============================] - 0s 17ms/step\n",
      "1/1 [==============================] - 0s 16ms/step\n",
      "1/1 [==============================] - 0s 16ms/step\n"
     ]
    },
    {
     "name": "stderr",
     "output_type": "stream",
     "text": [
      "\r",
      " 92%|█████████████████████████████████████▋   | 731/794 [00:35<00:03, 20.80it/s]"
     ]
    },
    {
     "name": "stdout",
     "output_type": "stream",
     "text": [
      "1/1 [==============================] - 0s 16ms/step\n",
      "1/1 [==============================] - 0s 16ms/step\n",
      "1/1 [==============================] - 0s 15ms/step\n"
     ]
    },
    {
     "name": "stderr",
     "output_type": "stream",
     "text": [
      "\r",
      " 92%|█████████████████████████████████████▉   | 734/794 [00:36<00:02, 20.85it/s]"
     ]
    },
    {
     "name": "stdout",
     "output_type": "stream",
     "text": [
      "1/1 [==============================] - 0s 16ms/step\n",
      "1/1 [==============================] - 0s 18ms/step\n",
      "1/1 [==============================] - 0s 17ms/step\n"
     ]
    },
    {
     "name": "stderr",
     "output_type": "stream",
     "text": [
      "\r",
      " 93%|██████████████████████████████████████   | 737/794 [00:36<00:02, 20.75it/s]"
     ]
    },
    {
     "name": "stdout",
     "output_type": "stream",
     "text": [
      "1/1 [==============================] - 0s 16ms/step\n",
      "1/1 [==============================] - 0s 15ms/step\n",
      "1/1 [==============================] - 0s 16ms/step\n"
     ]
    },
    {
     "name": "stderr",
     "output_type": "stream",
     "text": [
      "\r",
      " 93%|██████████████████████████████████████▏  | 740/794 [00:36<00:02, 21.04it/s]"
     ]
    },
    {
     "name": "stdout",
     "output_type": "stream",
     "text": [
      "1/1 [==============================] - 0s 16ms/step\n",
      "1/1 [==============================] - 0s 17ms/step\n",
      "1/1 [==============================] - 0s 16ms/step\n"
     ]
    },
    {
     "name": "stderr",
     "output_type": "stream",
     "text": [
      "\r",
      " 94%|██████████████████████████████████████▎  | 743/794 [00:36<00:02, 21.04it/s]"
     ]
    },
    {
     "name": "stdout",
     "output_type": "stream",
     "text": [
      "1/1 [==============================] - 0s 16ms/step\n",
      "1/1 [==============================] - 0s 18ms/step\n",
      "1/1 [==============================] - 0s 16ms/step\n"
     ]
    },
    {
     "name": "stderr",
     "output_type": "stream",
     "text": [
      "\r",
      " 94%|██████████████████████████████████████▌  | 746/794 [00:36<00:02, 20.85it/s]"
     ]
    },
    {
     "name": "stdout",
     "output_type": "stream",
     "text": [
      "1/1 [==============================] - 0s 16ms/step\n",
      "1/1 [==============================] - 0s 15ms/step\n",
      "1/1 [==============================] - 0s 16ms/step\n"
     ]
    },
    {
     "name": "stderr",
     "output_type": "stream",
     "text": [
      "\r",
      " 94%|██████████████████████████████████████▋  | 749/794 [00:36<00:02, 21.08it/s]"
     ]
    },
    {
     "name": "stdout",
     "output_type": "stream",
     "text": [
      "1/1 [==============================] - 0s 16ms/step\n",
      "1/1 [==============================] - 0s 15ms/step\n",
      "1/1 [==============================] - 0s 16ms/step\n"
     ]
    },
    {
     "name": "stderr",
     "output_type": "stream",
     "text": [
      "\r",
      " 95%|██████████████████████████████████████▊  | 752/794 [00:36<00:01, 21.36it/s]"
     ]
    },
    {
     "name": "stdout",
     "output_type": "stream",
     "text": [
      "1/1 [==============================] - 0s 16ms/step\n",
      "1/1 [==============================] - 0s 16ms/step\n",
      "1/1 [==============================] - 0s 17ms/step\n"
     ]
    },
    {
     "name": "stderr",
     "output_type": "stream",
     "text": [
      "\r",
      " 95%|██████████████████████████████████████▉  | 755/794 [00:37<00:01, 21.21it/s]"
     ]
    },
    {
     "name": "stdout",
     "output_type": "stream",
     "text": [
      "1/1 [==============================] - 0s 17ms/step\n",
      "1/1 [==============================] - 0s 16ms/step\n",
      "1/1 [==============================] - 0s 17ms/step\n"
     ]
    },
    {
     "name": "stderr",
     "output_type": "stream",
     "text": [
      "\r",
      " 95%|███████████████████████████████████████▏ | 758/794 [00:37<00:01, 21.25it/s]"
     ]
    },
    {
     "name": "stdout",
     "output_type": "stream",
     "text": [
      "1/1 [==============================] - 0s 16ms/step\n",
      "1/1 [==============================] - 0s 17ms/step\n",
      "1/1 [==============================] - 0s 18ms/step\n"
     ]
    },
    {
     "name": "stderr",
     "output_type": "stream",
     "text": [
      "\r",
      " 96%|███████████████████████████████████████▎ | 761/794 [00:37<00:01, 21.22it/s]"
     ]
    },
    {
     "name": "stdout",
     "output_type": "stream",
     "text": [
      "1/1 [==============================] - 0s 16ms/step\n",
      "1/1 [==============================] - 0s 15ms/step\n",
      "1/1 [==============================] - 0s 16ms/step\n"
     ]
    },
    {
     "name": "stderr",
     "output_type": "stream",
     "text": [
      "\r",
      " 96%|███████████████████████████████████████▍ | 764/794 [00:37<00:01, 21.38it/s]"
     ]
    },
    {
     "name": "stdout",
     "output_type": "stream",
     "text": [
      "1/1 [==============================] - 0s 19ms/step\n",
      "1/1 [==============================] - 0s 18ms/step\n",
      "1/1 [==============================] - 0s 19ms/step\n"
     ]
    },
    {
     "name": "stderr",
     "output_type": "stream",
     "text": [
      "\r",
      " 97%|███████████████████████████████████████▌ | 767/794 [00:37<00:01, 20.42it/s]"
     ]
    },
    {
     "name": "stdout",
     "output_type": "stream",
     "text": [
      "1/1 [==============================] - 0s 19ms/step\n",
      "1/1 [==============================] - 0s 16ms/step\n",
      "1/1 [==============================] - 0s 17ms/step\n"
     ]
    },
    {
     "name": "stderr",
     "output_type": "stream",
     "text": [
      "\r",
      " 97%|███████████████████████████████████████▊ | 770/794 [00:37<00:01, 20.34it/s]"
     ]
    },
    {
     "name": "stdout",
     "output_type": "stream",
     "text": [
      "1/1 [==============================] - 0s 16ms/step\n",
      "1/1 [==============================] - 0s 17ms/step\n",
      "1/1 [==============================] - 0s 16ms/step\n"
     ]
    },
    {
     "name": "stderr",
     "output_type": "stream",
     "text": [
      "\r",
      " 97%|███████████████████████████████████████▉ | 773/794 [00:37<00:01, 20.56it/s]"
     ]
    },
    {
     "name": "stdout",
     "output_type": "stream",
     "text": [
      "1/1 [==============================] - 0s 19ms/step\n",
      "1/1 [==============================] - 0s 18ms/step\n",
      "1/1 [==============================] - 0s 17ms/step\n"
     ]
    },
    {
     "name": "stderr",
     "output_type": "stream",
     "text": [
      "\r",
      " 98%|████████████████████████████████████████ | 776/794 [00:38<00:00, 20.12it/s]"
     ]
    },
    {
     "name": "stdout",
     "output_type": "stream",
     "text": [
      "1/1 [==============================] - 0s 16ms/step\n",
      "1/1 [==============================] - 0s 15ms/step\n",
      "1/1 [==============================] - 0s 16ms/step\n"
     ]
    },
    {
     "name": "stderr",
     "output_type": "stream",
     "text": [
      "\r",
      " 98%|████████████████████████████████████████▏| 779/794 [00:38<00:00, 20.81it/s]"
     ]
    },
    {
     "name": "stdout",
     "output_type": "stream",
     "text": [
      "1/1 [==============================] - 0s 16ms/step\n",
      "1/1 [==============================] - 0s 16ms/step\n",
      "1/1 [==============================] - 0s 16ms/step\n"
     ]
    },
    {
     "name": "stderr",
     "output_type": "stream",
     "text": [
      "\r",
      " 98%|████████████████████████████████████████▍| 782/794 [00:38<00:00, 21.14it/s]"
     ]
    },
    {
     "name": "stdout",
     "output_type": "stream",
     "text": [
      "1/1 [==============================] - 0s 16ms/step\n",
      "1/1 [==============================] - 0s 16ms/step\n",
      "1/1 [==============================] - 0s 16ms/step\n"
     ]
    },
    {
     "name": "stderr",
     "output_type": "stream",
     "text": [
      "\r",
      " 99%|████████████████████████████████████████▌| 785/794 [00:38<00:00, 21.18it/s]"
     ]
    },
    {
     "name": "stdout",
     "output_type": "stream",
     "text": [
      "1/1 [==============================] - 0s 15ms/step\n",
      "1/1 [==============================] - 0s 17ms/step\n",
      "1/1 [==============================] - 0s 16ms/step\n"
     ]
    },
    {
     "name": "stderr",
     "output_type": "stream",
     "text": [
      "\r",
      " 99%|████████████████████████████████████████▋| 788/794 [00:38<00:00, 21.39it/s]"
     ]
    },
    {
     "name": "stdout",
     "output_type": "stream",
     "text": [
      "1/1 [==============================] - 0s 17ms/step\n",
      "1/1 [==============================] - 0s 16ms/step\n",
      "1/1 [==============================] - 0s 17ms/step\n"
     ]
    },
    {
     "name": "stderr",
     "output_type": "stream",
     "text": [
      "\r",
      "100%|████████████████████████████████████████▊| 791/794 [00:38<00:00, 21.38it/s]"
     ]
    },
    {
     "name": "stdout",
     "output_type": "stream",
     "text": [
      "1/1 [==============================] - 0s 17ms/step\n",
      "1/1 [==============================] - 0s 17ms/step\n",
      "1/1 [==============================] - 0s 17ms/step\n"
     ]
    },
    {
     "name": "stderr",
     "output_type": "stream",
     "text": [
      "100%|█████████████████████████████████████████| 794/794 [00:38<00:00, 20.40it/s]\n"
     ]
    }
   ],
   "source": [
    "from tensorflow.keras.utils import img_to_array\n",
    "\n",
    "predicted_class = []\n",
    "class_labels = dict((i,label) for label,i in class_name_labels.items())\n",
    "for image in tqdm(test_images):\n",
    "    \n",
    "    image = np.expand_dims(image, axis=0)\n",
    "    test_result = model.predict(image)\n",
    "    pred_class = np.argmax(test_result,axis=1)\n",
    "    prediction = [class_labels[k] for k in pred_class][0]\n",
    "    predicted_class.append(prediction)\n",
    "    pass\n",
    "\n",
    "results = pd.DataFrame({\"file\":test_names,\n",
    "                        \"species\":predicted_class})"
   ]
  },
  {
   "cell_type": "code",
   "execution_count": 33,
   "metadata": {
    "execution": {
     "iopub.execute_input": "2022-07-06T07:32:13.353769Z",
     "iopub.status.busy": "2022-07-06T07:32:13.352567Z",
     "iopub.status.idle": "2022-07-06T07:32:13.358359Z",
     "shell.execute_reply": "2022-07-06T07:32:13.357806Z"
    },
    "papermill": {
     "duration": 9.843612,
     "end_time": "2022-07-06T07:32:13.358479",
     "exception": false,
     "start_time": "2022-07-06T07:32:03.514867",
     "status": "completed"
    },
    "tags": []
   },
   "outputs": [
    {
     "data": {
      "text/html": [
       "<div>\n",
       "<style scoped>\n",
       "    .dataframe tbody tr th:only-of-type {\n",
       "        vertical-align: middle;\n",
       "    }\n",
       "\n",
       "    .dataframe tbody tr th {\n",
       "        vertical-align: top;\n",
       "    }\n",
       "\n",
       "    .dataframe thead th {\n",
       "        text-align: right;\n",
       "    }\n",
       "</style>\n",
       "<table border=\"1\" class=\"dataframe\">\n",
       "  <thead>\n",
       "    <tr style=\"text-align: right;\">\n",
       "      <th></th>\n",
       "      <th>file</th>\n",
       "      <th>species</th>\n",
       "    </tr>\n",
       "  </thead>\n",
       "  <tbody>\n",
       "    <tr>\n",
       "      <th>0</th>\n",
       "      <td>647689543.png</td>\n",
       "      <td>Charlock</td>\n",
       "    </tr>\n",
       "    <tr>\n",
       "      <th>1</th>\n",
       "      <td>bea23d9f8.png</td>\n",
       "      <td>Maize</td>\n",
       "    </tr>\n",
       "    <tr>\n",
       "      <th>2</th>\n",
       "      <td>0086a6340.png</td>\n",
       "      <td>Maize</td>\n",
       "    </tr>\n",
       "    <tr>\n",
       "      <th>3</th>\n",
       "      <td>ac3193f78.png</td>\n",
       "      <td>Maize</td>\n",
       "    </tr>\n",
       "    <tr>\n",
       "      <th>4</th>\n",
       "      <td>b4c3df835.png</td>\n",
       "      <td>Maize</td>\n",
       "    </tr>\n",
       "  </tbody>\n",
       "</table>\n",
       "</div>"
      ],
      "text/plain": [
       "            file   species\n",
       "0  647689543.png  Charlock\n",
       "1  bea23d9f8.png     Maize\n",
       "2  0086a6340.png     Maize\n",
       "3  ac3193f78.png     Maize\n",
       "4  b4c3df835.png     Maize"
      ]
     },
     "execution_count": 33,
     "metadata": {},
     "output_type": "execute_result"
    }
   ],
   "source": [
    "results.head()"
   ]
  },
  {
   "cell_type": "code",
   "execution_count": 34,
   "metadata": {
    "execution": {
     "iopub.execute_input": "2022-07-06T07:32:34.250433Z",
     "iopub.status.busy": "2022-07-06T07:32:34.249320Z",
     "iopub.status.idle": "2022-07-06T07:32:34.321702Z",
     "shell.execute_reply": "2022-07-06T07:32:34.320868Z"
    },
    "papermill": {
     "duration": 9.834425,
     "end_time": "2022-07-06T07:32:34.321841",
     "exception": false,
     "start_time": "2022-07-06T07:32:24.487416",
     "status": "completed"
    },
    "tags": []
   },
   "outputs": [],
   "source": [
    "results.to_csv(\"submission.csv\",index=False)"
   ]
  },
  {
   "cell_type": "code",
   "execution_count": 35,
   "metadata": {
    "execution": {
     "iopub.execute_input": "2022-07-06T07:32:54.618968Z",
     "iopub.status.busy": "2022-07-06T07:32:54.616571Z",
     "iopub.status.idle": "2022-07-06T07:32:54.619939Z",
     "shell.execute_reply": "2022-07-06T07:32:54.620516Z"
    },
    "papermill": {
     "duration": 10.465123,
     "end_time": "2022-07-06T07:32:54.620662",
     "exception": false,
     "start_time": "2022-07-06T07:32:44.155539",
     "status": "completed"
    },
    "tags": []
   },
   "outputs": [],
   "source": [
    "model_json = model.to_json()\n",
    "with open(\"model.json\",\"w\") as json_file:\n",
    "    json_file.write(model_json)\n",
    "    pass"
   ]
  },
  {
   "cell_type": "code",
   "execution_count": null,
   "metadata": {},
   "outputs": [],
   "source": []
  },
  {
   "cell_type": "code",
   "execution_count": null,
   "metadata": {},
   "outputs": [],
   "source": []
  }
 ],
 "metadata": {
  "kernelspec": {
   "display_name": "Python 3 (ipykernel)",
   "language": "python",
   "name": "python3"
  },
  "language_info": {
   "codemirror_mode": {
    "name": "ipython",
    "version": 3
   },
   "file_extension": ".py",
   "mimetype": "text/x-python",
   "name": "python",
   "nbconvert_exporter": "python",
   "pygments_lexer": "ipython3",
   "version": "3.9.12"
  },
  "papermill": {
   "duration": 3924.615556,
   "end_time": "2022-07-06T07:33:04.578999",
   "environment_variables": {},
   "exception": null,
   "input_path": "__notebook__.ipynb",
   "output_path": "__notebook__.ipynb",
   "parameters": {},
   "start_time": "2022-07-06T06:27:39.963443",
   "version": "2.1.0"
  }
 },
 "nbformat": 4,
 "nbformat_minor": 4
}
